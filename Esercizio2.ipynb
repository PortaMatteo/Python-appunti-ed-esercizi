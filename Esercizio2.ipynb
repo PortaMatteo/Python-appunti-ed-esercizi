{
  "nbformat": 4,
  "nbformat_minor": 0,
  "metadata": {
    "colab": {
      "name": "Esercizio2.ipynb",
      "provenance": []
    },
    "kernelspec": {
      "name": "python3",
      "display_name": "Python 3"
    },
    "language_info": {
      "name": "python"
    }
  },
  "cells": [
    {
      "cell_type": "markdown",
      "metadata": {
        "id": "emJR4Rf9WNAC"
      },
      "source": [
        "1. Scrivere un programma che crei una lista contenente i nomi dei capoluoghi delle regioni italiane e\n",
        "che visualizzi la lista. Chiamare la lista capoluoghiRegione"
      ]
    },
    {
      "cell_type": "code",
      "metadata": {
        "colab": {
          "base_uri": "https://localhost:8080/"
        },
        "id": "VC6TjXN5WQC9",
        "outputId": "e6a696bf-f8c6-430d-9c69-c05c6432aa5d"
      },
      "source": [
        "capoluoghiRegione = ['Milano','Roma','Firenze','Aquila', 'Ancona', 'Bari', 'Torino', 'Napoli', 'Bologna', 'Potenza', 'Catanzaro', 'Genova', 'Campobasso','Cagliari', 'Palermo', 'Trento','Venezia','Perugia','Aosta','Trieste' ]\n",
        "print(capoluoghiRegione)"
      ],
      "execution_count": null,
      "outputs": [
        {
          "output_type": "stream",
          "name": "stdout",
          "text": [
            "['Milano', 'Roma', 'Firenze', 'Aquila', 'Ancona', 'Bari', 'Torino', 'Napoli', 'Bologna', 'Potenza', 'Catanzaro', 'Genova', 'Campobasso', 'Cagliari', 'Palermo', 'Trento', 'Venezia', 'Perugia', 'Aosta', 'Trieste']\n"
          ]
        }
      ]
    },
    {
      "cell_type": "markdown",
      "metadata": {
        "id": "VRajGae_YMMA"
      },
      "source": [
        "2. Scrivere un programma che visualizzi i primi 6 capoluoghi di regione presenti in\n",
        "capoluoghiRegione"
      ]
    },
    {
      "cell_type": "code",
      "metadata": {
        "colab": {
          "base_uri": "https://localhost:8080/"
        },
        "id": "sm6OmCBUYP6b",
        "outputId": "f7557f7e-01cd-4f23-bfe4-27841c854d01"
      },
      "source": [
        "print(capoluoghiRegione[0:6])"
      ],
      "execution_count": null,
      "outputs": [
        {
          "output_type": "stream",
          "name": "stdout",
          "text": [
            "['Milano', 'Roma', 'Firenze', 'Aquila', 'Ancona', 'Bari']\n"
          ]
        }
      ]
    },
    {
      "cell_type": "markdown",
      "metadata": {
        "id": "8GxyKRQzYgUb"
      },
      "source": [
        "3. Scrivere un programma che visualizzi gli ultimi 6 capoluoghi di regione presenti in\n",
        "capoluoghiRegione"
      ]
    },
    {
      "cell_type": "code",
      "metadata": {
        "colab": {
          "base_uri": "https://localhost:8080/"
        },
        "id": "dhFluKyoYiWU",
        "outputId": "316a16dd-f564-4c4a-c965-4a32b6c82736"
      },
      "source": [
        "print(capoluoghiRegione[14:21])"
      ],
      "execution_count": null,
      "outputs": [
        {
          "output_type": "stream",
          "name": "stdout",
          "text": [
            "['Palermo', 'Trento', 'Venezia', 'Perugia', 'Aosta', 'Trieste']\n"
          ]
        }
      ]
    },
    {
      "cell_type": "markdown",
      "metadata": {
        "id": "8BNt_USPY6CS"
      },
      "source": [
        "4. Scrivere un programma che visualizzi i 6 capoluoghi di regione presenti nella parte centrale di\n",
        "capoluoghiRegione"
      ]
    },
    {
      "cell_type": "code",
      "metadata": {
        "colab": {
          "base_uri": "https://localhost:8080/"
        },
        "id": "1fpgtrFVY8Lq",
        "outputId": "9bca9942-b1f6-4feb-94da-4f2298705d6c"
      },
      "source": [
        "print(capoluoghiRegione[7:13])"
      ],
      "execution_count": null,
      "outputs": [
        {
          "output_type": "stream",
          "name": "stdout",
          "text": [
            "['Napoli', 'Bologna', 'Potenza', 'Catanzaro', 'Genova', 'Campobasso']\n"
          ]
        }
      ]
    },
    {
      "cell_type": "markdown",
      "metadata": {
        "id": "zRByQHG2ZdUF"
      },
      "source": [
        "5. Scrivere un programma che visualizzi i capoluoghi di regione presenti in capoluoghiRegione\n",
        "nelle posizioni pari."
      ]
    },
    {
      "cell_type": "code",
      "metadata": {
        "colab": {
          "base_uri": "https://localhost:8080/"
        },
        "id": "0zz1b3vWZgRA",
        "outputId": "f99f7ddf-deb3-487c-b848-07dc5fa2657a"
      },
      "source": [
        "print(capoluoghiRegione[ : :2])"
      ],
      "execution_count": null,
      "outputs": [
        {
          "output_type": "stream",
          "name": "stdout",
          "text": [
            "['Milano', 'Firenze', 'Ancona', 'Torino', 'Bologna', 'Catanzaro', 'Campobasso', 'Palermo', 'Venezia', 'Aosta']\n"
          ]
        }
      ]
    },
    {
      "cell_type": "markdown",
      "metadata": {
        "id": "Iv0YMnmPZ1e8"
      },
      "source": [
        "6. Scrivere un programma che visualizzi i capoluoghi di regione presenti in capoluoghiRegione\n",
        "nelle posizioni dispari."
      ]
    },
    {
      "cell_type": "code",
      "metadata": {
        "colab": {
          "base_uri": "https://localhost:8080/"
        },
        "id": "gbGKtJCFZ30x",
        "outputId": "49627ac5-355b-41b3-a79d-c496480bc2bf"
      },
      "source": [
        "print(capoluoghiRegione[1 : :2])"
      ],
      "execution_count": null,
      "outputs": [
        {
          "output_type": "stream",
          "name": "stdout",
          "text": [
            "['Bari', 'Trento', 'Napoli', 'Genova', 'Ancona', 'Trieste', 'Perugia', 'Firenze', 'Cagliari', 'Campobasso']\n"
          ]
        }
      ]
    },
    {
      "cell_type": "markdown",
      "metadata": {
        "id": "WRm1hwYsaUR0"
      },
      "source": [
        "7. Scrivere un programma che visualizzi il primo capoluogo di regione in ordine alfabetico"
      ]
    },
    {
      "cell_type": "code",
      "metadata": {
        "colab": {
          "base_uri": "https://localhost:8080/"
        },
        "id": "CG9y1qGMaYJ5",
        "outputId": "ef90ae50-4cec-44f2-e39a-f3cd0c4b84c6"
      },
      "source": [
        "capoluoghiRegione.sort()\n",
        "print(capoluoghiRegione[0])"
      ],
      "execution_count": null,
      "outputs": [
        {
          "output_type": "stream",
          "name": "stdout",
          "text": [
            "Ancona\n"
          ]
        }
      ]
    },
    {
      "cell_type": "markdown",
      "metadata": {
        "id": "ypcii2vwbbCs"
      },
      "source": [
        "8. Scrivere un programma che permetta ad un utente di inserire il nome di una città è risponda True\n",
        "se quella città è un capoluogo di regione, False altrimenti."
      ]
    },
    {
      "cell_type": "code",
      "metadata": {
        "colab": {
          "base_uri": "https://localhost:8080/"
        },
        "id": "C6DPrAmabdBu",
        "outputId": "e34737a3-d045-4d7d-c73f-36b58e2e404e"
      },
      "source": [
        "citta = (input('Inserire il nome della città '))\n",
        "citta in capoluoghiRegione"
      ],
      "execution_count": null,
      "outputs": [
        {
          "name": "stdout",
          "output_type": "stream",
          "text": [
            "Inserire il nome della città Milano\n"
          ]
        },
        {
          "output_type": "execute_result",
          "data": {
            "text/plain": [
              "True"
            ]
          },
          "metadata": {},
          "execution_count": 20
        }
      ]
    },
    {
      "cell_type": "markdown",
      "metadata": {
        "id": "yAQR02rLch1g"
      },
      "source": [
        "9. Scrivere un programma che visualizzi i capoluoghi in ordine alfabetico"
      ]
    },
    {
      "cell_type": "code",
      "metadata": {
        "colab": {
          "base_uri": "https://localhost:8080/"
        },
        "id": "zqQsyJ2wclR4",
        "outputId": "063ae773-4593-4fd8-cdd3-27257c58d49d"
      },
      "source": [
        "print(sorted(capoluoghiRegione))"
      ],
      "execution_count": null,
      "outputs": [
        {
          "output_type": "stream",
          "name": "stdout",
          "text": [
            "['Ancona', 'Aosta', 'Aquila', 'Bari', 'Bologna', 'Cagliari', 'Campobasso', 'Catanzaro', 'Firenze', 'Genova', 'Milano', 'Napoli', 'Palermo', 'Perugia', 'Potenza', 'Roma', 'Torino', 'Trento', 'Trieste', 'Venezia']\n"
          ]
        }
      ]
    },
    {
      "cell_type": "markdown",
      "metadata": {
        "id": "NootIEg_cp9Z"
      },
      "source": [
        "10. Scrivere un programma che visualizzi i capoluoghi in ordine alfabetico inverso (dalla Z alla A)"
      ]
    },
    {
      "cell_type": "code",
      "metadata": {
        "colab": {
          "base_uri": "https://localhost:8080/"
        },
        "id": "4prwlEXOcsvm",
        "outputId": "f1431794-5a85-4f81-ab86-62aa44f7a1b0"
      },
      "source": [
        "print(sorted(capoluoghiRegione,reverse=True))"
      ],
      "execution_count": null,
      "outputs": [
        {
          "output_type": "stream",
          "name": "stdout",
          "text": [
            "['Venezia', 'Trieste', 'Trento', 'Torino', 'Roma', 'Potenza', 'Perugia', 'Palermo', 'Napoli', 'Milano', 'Genova', 'Firenze', 'Catanzaro', 'Campobasso', 'Cagliari', 'Bologna', 'Bari', 'Aquila', 'Aosta', 'Ancona']\n"
          ]
        }
      ]
    },
    {
      "cell_type": "markdown",
      "metadata": {
        "id": "-heAQ2oidEje"
      },
      "source": [
        "11. Scrivere un programma che visualizzi i capoluoghi in ordine sulla base della lunghezza del nome (da\n",
        "quello più corto a quello più lungo)"
      ]
    },
    {
      "cell_type": "code",
      "metadata": {
        "colab": {
          "base_uri": "https://localhost:8080/"
        },
        "id": "fwRJrrhjdHVZ",
        "outputId": "dc406889-fcce-4191-efaa-3482611bb04e"
      },
      "source": [
        "print(sorted(capoluoghiRegione,key= len))"
      ],
      "execution_count": null,
      "outputs": [
        {
          "output_type": "stream",
          "name": "stdout",
          "text": [
            "['Bari', 'Roma', 'Aosta', 'Ancona', 'Aquila', 'Genova', 'Milano', 'Napoli', 'Torino', 'Trento', 'Bologna', 'Firenze', 'Palermo', 'Perugia', 'Potenza', 'Trieste', 'Venezia', 'Cagliari', 'Catanzaro', 'Campobasso']\n"
          ]
        }
      ]
    },
    {
      "cell_type": "markdown",
      "metadata": {
        "id": "eL-oAiWUdgdY"
      },
      "source": [
        "12. Scrivere un programma che copi la lista capoluoghiRegione nella lista\n",
        "capoluoghiRegione2 e che elimini dalla prima lista il primo e l’ultimo elemento. Al termine,\n",
        "visualizzare le due liste una sotto l’altra per verificare che effettivamente siano stati eliminati gli\n",
        "elementi della lista originale."
      ]
    },
    {
      "cell_type": "code",
      "metadata": {
        "colab": {
          "base_uri": "https://localhost:8080/"
        },
        "id": "blaBP9pTdln7",
        "outputId": "410f93e4-b519-4956-dedd-04af59523d38"
      },
      "source": [
        "capoluoghiRegione = ['Milano','Roma','Firenze','Aquila', 'Ancona', 'Bari', 'Torino', 'Napoli', 'Bologna', 'Potenza', 'Catanzaro', 'Genova', 'Campobasso','Cagliari', 'Palermo', 'Trento','Venezia','Perugia','Aosta','Trieste' ]\n",
        "capoluoghiRegione2 = capoluoghiRegione[:]\n",
        "capoluoghiRegione.pop()\n",
        "capoluoghiRegione.pop(0)\n",
        "print(capoluoghiRegione)\n",
        "print(capoluoghiRegione2)"
      ],
      "execution_count": null,
      "outputs": [
        {
          "output_type": "stream",
          "name": "stdout",
          "text": [
            "['Roma', 'Firenze', 'Aquila', 'Ancona', 'Bari', 'Torino', 'Napoli', 'Bologna', 'Potenza', 'Catanzaro', 'Genova', 'Campobasso', 'Cagliari', 'Palermo', 'Trento', 'Venezia', 'Perugia', 'Aosta']\n",
            "['Milano', 'Roma', 'Firenze', 'Aquila', 'Ancona', 'Bari', 'Torino', 'Napoli', 'Bologna', 'Potenza', 'Catanzaro', 'Genova', 'Campobasso', 'Cagliari', 'Palermo', 'Trento', 'Venezia', 'Perugia', 'Aosta', 'Trieste']\n"
          ]
        }
      ]
    },
    {
      "cell_type": "markdown",
      "metadata": {
        "id": "1kqj_AXXjgXz"
      },
      "source": [
        "13. Scrivere un programma che, con una sola istruzione, carichi una lista con i primi 100 numeri interi.\n",
        "Chiamare la lista numeriInteri. Al termine, visualizzare la lista."
      ]
    },
    {
      "cell_type": "code",
      "metadata": {
        "colab": {
          "base_uri": "https://localhost:8080/"
        },
        "id": "QzE0GrtijuU0",
        "outputId": "2ba1e2c6-07ad-445c-d45d-20dc3a7a16ee"
      },
      "source": [
        "numeriInteri = [i for i in range(0,100)]\n",
        "print(numeriInteri)"
      ],
      "execution_count": null,
      "outputs": [
        {
          "output_type": "stream",
          "name": "stdout",
          "text": [
            "[0, 1, 2, 3, 4, 5, 6, 7, 8, 9, 10, 11, 12, 13, 14, 15, 16, 17, 18, 19, 20, 21, 22, 23, 24, 25, 26, 27, 28, 29, 30, 31, 32, 33, 34, 35, 36, 37, 38, 39, 40, 41, 42, 43, 44, 45, 46, 47, 48, 49, 50, 51, 52, 53, 54, 55, 56, 57, 58, 59, 60, 61, 62, 63, 64, 65, 66, 67, 68, 69, 70, 71, 72, 73, 74, 75, 76, 77, 78, 79, 80, 81, 82, 83, 84, 85, 86, 87, 88, 89, 90, 91, 92, 93, 94, 95, 96, 97, 98, 99]\n"
          ]
        }
      ]
    },
    {
      "cell_type": "markdown",
      "metadata": {
        "id": "WxCK5YrtkLJT"
      },
      "source": [
        "14. Scrivere un programma che permetta all’utente di inserire in una lista 10 numeri interi, elimini i\n",
        "duplicati e visualizzi la lista senza duplicati. Chiamare la lista numeriInteri."
      ]
    },
    {
      "cell_type": "code",
      "metadata": {
        "colab": {
          "base_uri": "https://localhost:8080/"
        },
        "id": "_jORocw_7s4D",
        "outputId": "9125a780-b766-446d-bc19-8dcc40847add"
      },
      "source": [
        "numeriInteri = []\n",
        "for i in range(10):\n",
        " numeriInteri.append(input(\"Inserire il numero intero \"))\n",
        "print(set(numeriInteri))"
      ],
      "execution_count": 178,
      "outputs": [
        {
          "output_type": "stream",
          "name": "stdout",
          "text": [
            "Inserire il numero intero 1\n",
            "Inserire il numero intero 2\n",
            "Inserire il numero intero 3\n",
            "Inserire il numero intero 4\n",
            "Inserire il numero intero 5\n",
            "Inserire il numero intero 6\n",
            "Inserire il numero intero 7\n",
            "Inserire il numero intero 8\n",
            "Inserire il numero intero 9\n",
            "Inserire il numero intero 10\n",
            "{'5', '6', '2', '10', '7', '4', '9', '8', '1', '3'}\n"
          ]
        }
      ]
    }
  ]
}