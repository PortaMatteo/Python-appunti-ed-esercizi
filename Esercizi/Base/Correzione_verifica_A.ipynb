{
  "nbformat": 4,
  "nbformat_minor": 0,
  "metadata": {
    "colab": {
      "name": "Correzione verifica A.ipynb",
      "provenance": []
    },
    "kernelspec": {
      "name": "python3",
      "display_name": "Python 3"
    },
    "language_info": {
      "name": "python"
    }
  },
  "cells": [
    {
      "cell_type": "markdown",
      "metadata": {
        "id": "dGT19BGSztRJ"
      },
      "source": [
        "1 scrivere un programma che calcoli la somma di due frazioni. L’utente deve inserire il numeratore e il denominatore della prima frazione e poi numeratore e denominatore della seconda frazione e il programma calcola la somma.\n",
        "\n"
      ]
    },
    {
      "cell_type": "code",
      "metadata": {
        "colab": {
          "base_uri": "https://localhost:8080/"
        },
        "id": "7oOJiqVnzu9Y",
        "outputId": "d25443aa-f490-4139-eab0-fda08bb32690"
      },
      "source": [
        "n1 = int(input(\"Scrivi il primo numeratore \"))\n",
        "d1 = int(input(\"scrivi il primo denominatore \"))\n",
        "n2 = int(input(\"Scrivi il secondo numeratore \"))\n",
        "d2 = int(input(\"scrivi il secondo denominatore \"))\n",
        "\n",
        "print(str(n1*d2 + n2*d1) + \"/\" + (str(d1*d2)))\n"
      ],
      "execution_count": null,
      "outputs": [
        {
          "output_type": "stream",
          "name": "stdout",
          "text": [
            "Scrivi il primo numeratore 1\n",
            "scrivi il primo denominatore 2\n",
            "Scrivi il secondo numeratore 2\n",
            "scrivi il secondo denominatore 3\n",
            "7/6\n"
          ]
        }
      ]
    },
    {
      "cell_type": "markdown",
      "metadata": {
        "id": "ZYCiVOsD187x"
      },
      "source": [
        "2 scrivere un programma che permetta di verificare se un orario è scritto correttamente. Un orario è scritto correttamente se è formato da 5 caratteri di cui il terzo è il carattere : . Ad esempio 13:45 è scritto correttamente 123:4 non è scritto correttamente.\n"
      ]
    },
    {
      "cell_type": "code",
      "metadata": {
        "colab": {
          "base_uri": "https://localhost:8080/"
        },
        "id": "Ke1aEshg2D_B",
        "outputId": "8ba36ea9-0b9d-41fc-cc77-5d2e9e5816ca"
      },
      "source": [
        "orario = input(\"Scrivi l'orario \")\n",
        "if len(orario) == 5 and \":\" in orario[2]:\n",
        "  print(\"Orario corretto\")\n",
        "else: \n",
        "  print(\"Problemi\")\n",
        "\n",
        "if len(orario) == 5:\n",
        "  if \":\" in orario[2] == \":\":\n",
        "    print(\"Orario corretto\")\n",
        "  else:\n",
        "    print(\"Problemi\")\n",
        "else:\n",
        "  print(\"Problemi\")\n",
        "\n"
      ],
      "execution_count": null,
      "outputs": [
        {
          "output_type": "stream",
          "name": "stdout",
          "text": [
            "Scrivi l'orario 12:12\n",
            "Orario corretto\n",
            "Orario corretto\n"
          ]
        }
      ]
    },
    {
      "cell_type": "markdown",
      "metadata": {
        "id": "dG8pbhzJ5sOR"
      },
      "source": [
        "3 scrivere un programma che visualizzi le prime dieci potenze di un numero inserito dall’utente. Ad esempio se l’utente inserisse 2 il programma dovrebbe visualizzare i valori 1, 2, 4, 8, 16, 32, 64, 128, 256 e 512. Separare i valori con il trattino -\n"
      ]
    },
    {
      "cell_type": "code",
      "metadata": {
        "colab": {
          "base_uri": "https://localhost:8080/"
        },
        "id": "jI7EwjNO5v6I",
        "outputId": "67ebbf23-bb89-4648-ff85-7ff55e89e878"
      },
      "source": [
        "numero = int(input(\"Inserire il numero \"))\n",
        "lst = []\n",
        "for i in range(0,10):\n",
        "  lst.append(str(numero**i))\n",
        "\n",
        "print(\"-\".join(lst))"
      ],
      "execution_count": null,
      "outputs": [
        {
          "output_type": "stream",
          "name": "stdout",
          "text": [
            "Inserire il numero 2\n",
            "1-2-4-8-16-32-64-128-256-512\n"
          ]
        }
      ]
    },
    {
      "cell_type": "markdown",
      "metadata": {
        "id": "jP90M6Ui67kS"
      },
      "source": [
        "4 scrivere un programma che carichi in una lista le prime venti potenze di un numero inserito dall’utente. Al termine visualizzare gli ultimi tre elementi della lista.\n"
      ]
    },
    {
      "cell_type": "code",
      "metadata": {
        "colab": {
          "base_uri": "https://localhost:8080/"
        },
        "id": "vIY5yh5_7BTp",
        "outputId": "6f2044ed-6598-4d87-e7ea-960a73ddcdc5"
      },
      "source": [
        "potenze = []\n",
        "numero = int(input(\"Inserire il numero \"))\n",
        "for i in range(0,20):\n",
        "  potenze.append(numero**i)\n",
        "\n",
        "print(potenze[-3:])"
      ],
      "execution_count": null,
      "outputs": [
        {
          "output_type": "stream",
          "name": "stdout",
          "text": [
            "Inserire il numero 2\n",
            "[131072, 262144, 524288]\n"
          ]
        }
      ]
    },
    {
      "cell_type": "code",
      "metadata": {
        "colab": {
          "base_uri": "https://localhost:8080/"
        },
        "id": "hJq21ZYZ8Rqi",
        "outputId": "d1dc24b5-9ba0-4eaa-a68f-207ff0728a12"
      },
      "source": [
        "numero = int(input(\"Inserire il numero \"))\n",
        "potenze = [numero**i for i in range(0,20)]\n",
        "print(potenze[-3:])"
      ],
      "execution_count": null,
      "outputs": [
        {
          "output_type": "stream",
          "name": "stdout",
          "text": [
            "Inserire il numero 2\n",
            "[131072, 262144, 524288]\n"
          ]
        }
      ]
    },
    {
      "cell_type": "markdown",
      "metadata": {
        "id": "FuFxIflc_9sp"
      },
      "source": [
        "5 scrivere un programma che elimini dalla lista precedente tutti i numeri compresi tra due estremi inseriti dall’utente. Visualizzare al termine la lista modificata\n"
      ]
    },
    {
      "cell_type": "code",
      "metadata": {
        "colab": {
          "base_uri": "https://localhost:8080/"
        },
        "id": "rHIbIntIABm5",
        "outputId": "62f03d35-5d1c-481e-b46a-311b40cc0ddf"
      },
      "source": [
        "e1 = int(input(\"Scrivi il primo estremo \"))\n",
        "e2 = int(input(\"Scrivi il secondo estremo \"))\n",
        "print(potenze)\n",
        "for i in range(0,10):\n",
        "  if e1 < potenze[i] < e2:\n",
        "    potenze.remove(potenze[i])\n",
        "   \n",
        "\n",
        "print(potenze)"
      ],
      "execution_count": null,
      "outputs": [
        {
          "output_type": "stream",
          "name": "stdout",
          "text": [
            "Scrivi il primo estremo 0\n",
            "Scrivi il secondo estremo 100\n",
            "[1, 2, 4, 8, 16, 32, 64, 128, 256, 512, 1024, 2048, 4096, 8192, 16384, 32768, 65536, 131072, 262144, 524288]\n",
            "[2, 8, 32, 128, 256, 512, 1024, 2048, 4096, 8192, 16384, 32768, 65536, 131072, 262144, 524288]\n"
          ]
        }
      ]
    },
    {
      "cell_type": "markdown",
      "metadata": {
        "id": "rhnKXCsTEQx4"
      },
      "source": [
        "6 scrivere una funzione chiamata prodotto che data una lista di numeri interi restituisca il prodotto di tutti i suoi elementi. Ad esempio se la lista fosse [2, 5, 3] la funzione restituirebbe 30\n"
      ]
    },
    {
      "cell_type": "code",
      "metadata": {
        "colab": {
          "base_uri": "https://localhost:8080/"
        },
        "id": "qNT4YEcLESnS",
        "outputId": "7dc5a074-ddaa-4b77-a3c7-25e12c591d20"
      },
      "source": [
        "def prodotto(l):\n",
        "  totale = 1\n",
        "  for e in l:\n",
        "    totale = totale * e \n",
        "  return totale\n",
        "\n",
        "lista = [int(s) for s in input(\"\").split()]\n",
        "prodotto(lista)"
      ],
      "execution_count": null,
      "outputs": [
        {
          "name": "stdout",
          "output_type": "stream",
          "text": [
            "7 5 4\n"
          ]
        },
        {
          "output_type": "execute_result",
          "data": {
            "text/plain": [
              "140"
            ]
          },
          "metadata": {},
          "execution_count": 105
        }
      ]
    },
    {
      "cell_type": "markdown",
      "metadata": {
        "id": "UkhB3P6tHnT0"
      },
      "source": [
        "7 scrivere un programma che permetta di caricare in una struttura dati opportuna i nomi delle nazioni che compongono l’Unione Europea, le loro capitali e la popolazione (inserire solo tre nazioni). Visualizzare poi i dati di una nazione inserita dall’utente\n"
      ]
    },
    {
      "cell_type": "code",
      "metadata": {
        "id": "6jsOboh-HtmR"
      },
      "source": [
        "unioneEuropea = [{\"nome\" : \"Italia\", \"capitale\" : \"Roma\", \"popolazione\" : 60},{\"nome\" : \"Francia\", \"capitale\" : \"RomParigi\", \"popolazione\" : 58},{\"nome\" : \"Germania\", \"capitale\" : \"Berlino\", \"popolazione\" : 80}]\n",
        "\n",
        "nazione = input(\"Scrivi nome nazione\")\n"
      ],
      "execution_count": null,
      "outputs": []
    },
    {
      "cell_type": "markdown",
      "metadata": {
        "id": "TitE2al6JZbC"
      },
      "source": [
        "8 scrivere un programma che, utilizzando una lambda function e la funzione map, elevi alla terza tutti gli elementi della lista. La lista deve essere caricata dall’utente.\n"
      ]
    },
    {
      "cell_type": "code",
      "metadata": {
        "colab": {
          "base_uri": "https://localhost:8080/"
        },
        "id": "RZSbVEJTJa4c",
        "outputId": "4f809d17-ba1a-453e-cefc-20fe04fb2799"
      },
      "source": [
        "lista = [int(s) for s in input(\"\").split()]\n",
        "listaFinale = list(map(lambda x: x**3,lista))\n",
        "print(listaFinale)"
      ],
      "execution_count": null,
      "outputs": [
        {
          "output_type": "stream",
          "name": "stdout",
          "text": [
            "1 7 12 4 \n",
            "[1, 343, 1728, 64]\n"
          ]
        }
      ]
    },
    {
      "cell_type": "markdown",
      "metadata": {
        "id": "PEQCeaAhKB3S"
      },
      "source": [
        "9 scrivere una funzione che calcoli in modo ricorsivo il prodotto tra due numeri.\n"
      ]
    },
    {
      "cell_type": "code",
      "metadata": {
        "colab": {
          "base_uri": "https://localhost:8080/"
        },
        "id": "OtUVfBXjKFs6",
        "outputId": "4460bdb3-15dc-4167-e06a-7b4e5c7127bd"
      },
      "source": [
        "def prodotto2(f1,f2):\n",
        "  if f2 == 1:\n",
        "    return f1 \n",
        "  else:\n",
        "    return f1 + prodotto2(f1,f2-1)\n",
        "\n",
        "prodotto2(5,4)"
      ],
      "execution_count": null,
      "outputs": [
        {
          "output_type": "execute_result",
          "data": {
            "text/plain": [
              "20"
            ]
          },
          "metadata": {},
          "execution_count": 112
        }
      ]
    }
  ]
}