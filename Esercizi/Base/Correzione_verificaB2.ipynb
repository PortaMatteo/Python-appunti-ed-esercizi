{
  "nbformat": 4,
  "nbformat_minor": 0,
  "metadata": {
    "colab": {
      "name": "Correzione_verificaB2.ipynb",
      "provenance": []
    },
    "kernelspec": {
      "name": "python3",
      "display_name": "Python 3"
    },
    "language_info": {
      "name": "python"
    }
  },
  "cells": [
    {
      "cell_type": "markdown",
      "metadata": {
        "id": "X35i4tPyxatF"
      },
      "source": [
        "1. scrivere un programma che calcoli le radici (dette anche zeri) di una equazione di secondo grado. L’utente inserisce i valori dei coefficienti  a. b e c e il programma calcola gli zeri."
      ]
    },
    {
      "cell_type": "code",
      "metadata": {
        "colab": {
          "base_uri": "https://localhost:8080/"
        },
        "id": "_vs9VPFIxptE",
        "outputId": "e903b2b7-8902-4096-fc04-ff49d53015d1"
      },
      "source": [
        "import math\n",
        "a = int(input(\"Inserie valore \"))\n",
        "b = int(input(\"Inserie valore \"))\n",
        "c = int(input(\"Inserie valore \"))\n",
        "x1 = (-b + math.sqrt(b**2 -4*a*c))/(2*a)\n",
        "x2 = (-b - math.sqrt(b**2 -4*a*c))/(2*a)\n",
        "print(x1)\n",
        "print(x2)"
      ],
      "execution_count": 63,
      "outputs": [
        {
          "output_type": "stream",
          "name": "stdout",
          "text": [
            "Inserie valore 3\n",
            "Inserie valore -8\n",
            "Inserie valore -3\n",
            "3.0\n",
            "-0.3333333333333333\n"
          ]
        }
      ]
    },
    {
      "cell_type": "markdown",
      "metadata": {
        "id": "xHehJpau194Q"
      },
      "source": [
        "2. modificare il programma precedente in modo che prima di effettuare il calcolo controlli che i valori inseriti dall’utente siano accettabili. Visualizzare gli opportuni messaggi di errore a seconda del verificarsi delle diverse condizioni"
      ]
    },
    {
      "cell_type": "code",
      "metadata": {
        "colab": {
          "base_uri": "https://localhost:8080/"
        },
        "id": "40h2Knh02A-M",
        "outputId": "0672d545-754a-4e1f-f4af-55b2ab3a71c1"
      },
      "source": [
        "import math\n",
        "x1 = 0\n",
        "x2 = 0\n",
        "a = int(input(\"Inserie valore \"))\n",
        "if a == 0:\n",
        "  print(\"a non può essere 0\")\n",
        "else:\n",
        "  b = int(input(\"Inserie valore \"))\n",
        "  c = int(input(\"Inserie valore \"))\n",
        "  if b**2 -4*a*c < 0:\n",
        "    print(\"Non si può fare la radice di un numero negativo\")\n",
        "  else:\n",
        "    x1 = (-b + math.sqrt(b**2 -4*a*c))/(2*a)\n",
        "    x2 = (-b - math.sqrt(b**2 -4*a*c))/(2*a)\n",
        "    print(x1)\n",
        "    print(x2)\n",
        "\n",
        "\n"
      ],
      "execution_count": 71,
      "outputs": [
        {
          "output_type": "stream",
          "name": "stdout",
          "text": [
            "Inserie valore 3\n",
            "Inserie valore -8\n",
            "Inserie valore 10\n",
            "Non si può fare la radice di un numero negativo\n"
          ]
        }
      ]
    },
    {
      "cell_type": "markdown",
      "metadata": {
        "id": "zOMdhahJ2Ndw"
      },
      "source": [
        "3. scrivere un programma che permetta di visualizzare tutti i multipli di 10 minori di un numero inserito dall’utente."
      ]
    },
    {
      "cell_type": "code",
      "metadata": {
        "colab": {
          "base_uri": "https://localhost:8080/"
        },
        "id": "9biUSEHr2QH-",
        "outputId": "476c5aec-66b6-4219-9d0f-8325c9a81242"
      },
      "source": [
        "num = int(input(\"\"))\n",
        "lst = []\n",
        "for i in range(0,num):\n",
        "  if i%10 == 0:\n",
        "    lst.append(i)\n",
        "print(lst)"
      ],
      "execution_count": 20,
      "outputs": [
        {
          "output_type": "stream",
          "name": "stdout",
          "text": [
            "77\n",
            "[0, 10, 20, 30, 40, 50, 60, 70]\n"
          ]
        }
      ]
    },
    {
      "cell_type": "markdown",
      "metadata": {
        "id": "lKflhmEZ3e3w"
      },
      "source": [
        "4. scrivere un programma che inserisca in una lista tutti i numeri interi pari minori di un numero inserito dall’utente. Al termine, visualizzare la lista dei numeri e la lista al contrario"
      ]
    },
    {
      "cell_type": "code",
      "metadata": {
        "colab": {
          "base_uri": "https://localhost:8080/"
        },
        "id": "L38TYZvj3kCC",
        "outputId": "dfcdbc7f-877d-4f65-8c71-443952070739"
      },
      "source": [
        "num = int(input(\"\"))\n",
        "lista = [elemento for elemento in range(0,num) if elemento%2 == 0 ]\n",
        "print(sorted(lista,reverse = True))"
      ],
      "execution_count": 24,
      "outputs": [
        {
          "output_type": "stream",
          "name": "stdout",
          "text": [
            "16\n",
            "[14, 12, 10, 8, 6, 4, 2, 0]\n"
          ]
        }
      ]
    },
    {
      "cell_type": "markdown",
      "metadata": {
        "id": "o31PdYHQ4d6l"
      },
      "source": [
        "5. scrivere un programma che carichi in una lista chiamata “tutti” i numeri dispari compresi tra 0 e 90. Usando poi lo slicing, caricare in una lista chiamata “bassi” gli elementi della prima metà della lista “tutti” e in una lista chiamata “alti” gli elementi della seconda metà della  lista. Al termine visualizzare le tre liste.."
      ]
    },
    {
      "cell_type": "code",
      "metadata": {
        "colab": {
          "base_uri": "https://localhost:8080/"
        },
        "id": "a5tIvUHf4hhz",
        "outputId": "f334abf2-5c18-478b-e5da-5e00681042bd"
      },
      "source": [
        "tutti = [elemento for elemento in range(0,90) if elemento%2!=0]\n",
        "print(tutti)\n",
        "print(bassi)\n",
        "print(alti)"
      ],
      "execution_count": 48,
      "outputs": [
        {
          "output_type": "stream",
          "name": "stdout",
          "text": [
            "[1, 3, 5, 7, 9, 11, 13, 15, 17, 19, 21, 23, 25, 27, 29, 31, 33, 35, 37, 39, 41, 43, 45, 47, 49, 51, 53, 55, 57, 59, 61, 63, 65, 67, 69, 71, 73, 75, 77, 79, 81, 83, 85, 87, 89]\n",
            "[1, 3, 5, 7, 9, 11, 13, 15, 17, 19, 21, 23, 25, 27, 29, 31, 33, 35, 37, 39, 41, 43, 45]\n",
            "[47, 49, 51, 53, 55, 57, 59, 61, 63, 65, 67, 69, 71, 73, 75, 77, 79, 81, 83, 85, 87, 89]\n"
          ]
        }
      ]
    },
    {
      "cell_type": "markdown",
      "metadata": {
        "id": "Twm77MRz55PW"
      },
      "source": [
        "6. scrivere una funzione chiamata volumeCubo che dato il lato in metri di un cubo calcoli il suo volume. Utilizzare poi quella funzione per scrivere un’altra funzione chiamata pesoCubo che permetta di calcolare il peso in kg di un cubo dato il suo lato in metri e la sua densità, espressa in grammi al centimetro cubo. Infine, scrivere un programma che calcoli il peso di un cubo di alluminio avente il lato di un metro (la densità dell’alluminio è di 2.7 g/cm3)"
      ]
    },
    {
      "cell_type": "code",
      "metadata": {
        "colab": {
          "base_uri": "https://localhost:8080/"
        },
        "id": "JvS2_YOJ59VU",
        "outputId": "c955c829-fe2f-431a-8bd9-3c2561af54cb"
      },
      "source": [
        "def volumeCubo(x):\n",
        "  return x**3\n",
        "\n",
        "def pesoCubo(l,d):\n",
        "  return volumeCubo(l) * d \n",
        "\n",
        "print(pesoCubo(1,2.7*1000),\"kg\")"
      ],
      "execution_count": 35,
      "outputs": [
        {
          "output_type": "stream",
          "name": "stdout",
          "text": [
            "2700.0 kg\n"
          ]
        }
      ]
    },
    {
      "cell_type": "markdown",
      "metadata": {
        "id": "5lRdnb8M9uAG"
      },
      "source": [
        "7. data una lista di 100 numeri pari casuali caricata tramite una list comprehension, sostituire con uno zero tutti gli elementi della lista che sono multipli di 6"
      ]
    },
    {
      "cell_type": "code",
      "metadata": {
        "colab": {
          "base_uri": "https://localhost:8080/"
        },
        "id": "VfdvNJya9xxZ",
        "outputId": "414f4683-d8ce-4a3c-8f8b-d26e139f0e56"
      },
      "source": [
        "import random\n",
        "lst1 = [x + (x % 2) for _ in range(100) for x in [random.randint(1, 100)]]\n",
        "lst1 = list(map(lambda x: 0 if x%6 == 0 else x , lst1))\n",
        "print(lst1)"
      ],
      "execution_count": 43,
      "outputs": [
        {
          "output_type": "stream",
          "name": "stdout",
          "text": [
            "[98, 34, 0, 0, 20, 70, 64, 68, 2, 0, 50, 34, 26, 34, 44, 98, 0, 80, 26, 86, 56, 0, 0, 32, 56, 22, 2, 44, 100, 62, 10, 44, 52, 0, 20, 82, 68, 0, 0, 86, 16, 0, 80, 0, 0, 0, 0, 8, 80, 62, 92, 62, 68, 26, 44, 20, 0, 8, 86, 0, 32, 0, 40, 58, 68, 50, 8, 16, 46, 0, 20, 98, 56, 0, 80, 28, 0, 92, 52, 0, 50, 32, 62, 0, 52, 76, 4, 0, 82, 0, 0, 98, 20, 52, 98, 4, 0, 38, 68, 0]\n"
          ]
        }
      ]
    },
    {
      "cell_type": "markdown",
      "metadata": {
        "id": "2kol_etEAIyA"
      },
      "source": [
        "8. data una lista di 100 numeri pari casuali caricata tramite una list comprehension, eliminare tutti gli elementi della lista minori di un valore intero inserito dall’utente"
      ]
    },
    {
      "cell_type": "code",
      "metadata": {
        "colab": {
          "base_uri": "https://localhost:8080/"
        },
        "id": "Agf0X6n6ALmy",
        "outputId": "471e221b-3253-421c-e162-d9ee6fe837bd"
      },
      "source": [
        "import random\n",
        "val = int(input(\"\"))\n",
        "lst1 = [x + (x % 2) for _ in range(100) for x in [random.randint(1, 100)]]\n",
        "print(lst1)\n",
        "lst1 = list(filter(lambda x: x >  val,lst1))\n",
        "print(lst1)"
      ],
      "execution_count": 47,
      "outputs": [
        {
          "output_type": "stream",
          "name": "stdout",
          "text": [
            "30\n",
            "[32, 64, 4, 30, 50, 6, 60, 76, 54, 46, 44, 22, 98, 88, 4, 48, 86, 78, 12, 46, 88, 2, 66, 80, 74, 8, 36, 40, 84, 50, 68, 22, 88, 76, 74, 60, 78, 60, 50, 30, 68, 78, 40, 16, 92, 64, 56, 26, 22, 80, 64, 98, 54, 30, 14, 18, 100, 92, 82, 58, 36, 98, 4, 76, 94, 40, 58, 78, 96, 14, 30, 2, 68, 90, 72, 94, 86, 96, 76, 88, 82, 98, 52, 18, 72, 100, 24, 38, 8, 40, 76, 18, 64, 70, 96, 100, 32, 38, 68, 72]\n",
            "[32, 64, 50, 60, 76, 54, 46, 44, 98, 88, 48, 86, 78, 46, 88, 66, 80, 74, 36, 40, 84, 50, 68, 88, 76, 74, 60, 78, 60, 50, 68, 78, 40, 92, 64, 56, 80, 64, 98, 54, 100, 92, 82, 58, 36, 98, 76, 94, 40, 58, 78, 96, 68, 90, 72, 94, 86, 96, 76, 88, 82, 98, 52, 72, 100, 38, 40, 76, 64, 70, 96, 100, 32, 38, 68, 72]\n"
          ]
        }
      ]
    },
    {
      "cell_type": "markdown",
      "metadata": {
        "id": "-nKvLBDQBnW6"
      },
      "source": [
        "9. progettare una struttura dati che permetta di memorizzare l’orario di partenza e di arrivo dei treni della tratta Milano Roma dell’alta velocità. Ad esempio il treno 9645 parte alle 16.00 e arriva alle 19.10, il treno 9647 parte alle 16.30 e arriva alle 19.40 a Roma. Memorizzare nella struttura dati progettata queste informazioni e scrivere il codice necessario per cercare un treno ed avere l’ora di partenza e l’ora di arrivo. Se non c’è il treno che l’utente inserisce, dare un opportuno messaggio di errore."
      ]
    },
    {
      "cell_type": "code",
      "metadata": {
        "colab": {
          "base_uri": "https://localhost:8080/"
        },
        "id": "TqLX8Ug8Bqgv",
        "outputId": "01520fe1-c1a7-46b8-e16e-944b0cb90724"
      },
      "source": [
        "treni = [{\"nome\":\"9645\",\"partenza\":\"16.00\",\"arrivo\":\"19.10\"},{\"nome\":\"9647\",\"partenza\":\"16.30\",\"arrivo\":\"19.40\"}]\n",
        "\n",
        "treno = input(\"Scrivi nome del treno \")\n",
        "controllo = False\n",
        "for i in treni:\n",
        "  if i[\"nome\"] == treno:\n",
        "    print(i[\"partenza\"],i[\"arrivo\"])\n",
        "    controllo = True\n",
        "\n",
        "if controllo == False:\n",
        "  print(\"il treno non esiste\")"
      ],
      "execution_count": 65,
      "outputs": [
        {
          "output_type": "stream",
          "name": "stdout",
          "text": [
            "Scrivi nome del treno 9645\n",
            "16.00 19.10\n"
          ]
        }
      ]
    }
  ]
}