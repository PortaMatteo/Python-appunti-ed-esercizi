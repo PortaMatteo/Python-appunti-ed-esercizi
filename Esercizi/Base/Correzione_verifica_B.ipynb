{
  "nbformat": 4,
  "nbformat_minor": 0,
  "metadata": {
    "colab": {
      "name": "Correzione_verifica_B.ipynb",
      "provenance": []
    },
    "kernelspec": {
      "name": "python3",
      "display_name": "Python 3"
    },
    "language_info": {
      "name": "python"
    }
  },
  "cells": [
    {
      "cell_type": "markdown",
      "metadata": {
        "id": "e4NAO3EoPLjZ"
      },
      "source": [
        "1 Scrivere un programma che permetta di convertire un peso da kg in libbre. L’utente inserisce il peso in kg e il programma calcola il peso corrispondente nell’altra unità di misura.\n"
      ]
    },
    {
      "cell_type": "code",
      "metadata": {
        "colab": {
          "base_uri": "https://localhost:8080/"
        },
        "id": "TXSRpW3VPVIX",
        "outputId": "a12b64de-9ea8-4424-97ce-ce86afd527b3"
      },
      "source": [
        "kg = float(input(\"Scrivi il peso in kg \"))\n",
        "libbre = kg * 2.20462\n",
        "print(libbre)"
      ],
      "execution_count": null,
      "outputs": [
        {
          "output_type": "stream",
          "name": "stdout",
          "text": [
            "Scrivi il peso in kg 54\n",
            "119.04947999999999\n"
          ]
        }
      ]
    },
    {
      "cell_type": "markdown",
      "metadata": {
        "id": "lWw02pzcQsjB"
      },
      "source": [
        "2 Scrivere un programma che permetta di verificare se un indirizzo mail contiene il carattere @. L’utente inserisce l’indirizzo e il programma restituisce il messaggio “indirizzo corretto” se il carattere è presente” o “indirizzo errato” se il carattere non è presente. Il carattere @ non può essere presente in prima o ultima posizione.\n"
      ]
    },
    {
      "cell_type": "code",
      "metadata": {
        "colab": {
          "base_uri": "https://localhost:8080/"
        },
        "id": "gY6gPaFvQ1py",
        "outputId": "236704af-66d4-44cc-b7c6-0402b94c26f3"
      },
      "source": [
        "email = input(\"Inserisci l'indirizzo email \")\n",
        "if \"@\" in email[1:-1]:\n",
        "  print(\"Email corretta\")\n",
        "else:\n",
        "  print(\"Email sbagliata\")\n"
      ],
      "execution_count": null,
      "outputs": [
        {
          "output_type": "stream",
          "name": "stdout",
          "text": [
            "Inserisci l'indirizzo email matteo@ok\n",
            "Email corretta\n"
          ]
        }
      ]
    },
    {
      "cell_type": "markdown",
      "metadata": {
        "id": "8uD0x5bUSPWh"
      },
      "source": [
        "3 Scrivere un programma che visualizzi l’inverso dei primi n numeri interi con n inserito dall’utente. Per esempio, se l’utente inserisse il valore 4 il programma dovrebbe visualizzare i valori 1 (1:1), 0,5 (1:2), 0,33333 (1:3) e 0.25 (1:4). Separare i valori visualizzati con una virgola.\n"
      ]
    },
    {
      "cell_type": "code",
      "metadata": {
        "colab": {
          "base_uri": "https://localhost:8080/"
        },
        "id": "9hLOKY0lSWjx",
        "outputId": "925fe255-8de6-435d-8d8e-37ec02673a90"
      },
      "source": [
        "n = int(input(\"\"))\n",
        "lst = []\n",
        "for i in range(1,n+1): \n",
        "  lst.append(1/i)\n",
        "print(lst)"
      ],
      "execution_count": null,
      "outputs": [
        {
          "output_type": "stream",
          "name": "stdout",
          "text": [
            "5\n",
            "[1.0, 0.5, 0.3333333333333333, 0.25, 0.2]\n"
          ]
        }
      ]
    },
    {
      "cell_type": "markdown",
      "metadata": {
        "id": "LtxZj8H5Ty7K"
      },
      "source": [
        "4 scrivere un programma che carichi in una lista i primi 100 numeri interi dispari. Al termine visualizzare gli ultimi 10 numeri della lista.\n"
      ]
    },
    {
      "cell_type": "code",
      "metadata": {
        "colab": {
          "base_uri": "https://localhost:8080/"
        },
        "id": "x8RzVqr8T1_J",
        "outputId": "b7933b0b-0fe6-4ce5-a5a3-d6991e95675f"
      },
      "source": [
        "lst = [i for i in range(0,200) if i%2 != 0 ]\n",
        "print(lst[-10:])"
      ],
      "execution_count": null,
      "outputs": [
        {
          "output_type": "stream",
          "name": "stdout",
          "text": [
            "[181, 183, 185, 187, 189, 191, 193, 195, 197, 199]\n"
          ]
        }
      ]
    },
    {
      "cell_type": "markdown",
      "metadata": {
        "id": "n40gmAsMUbFy"
      },
      "source": [
        "5 scrivere un programma che elimini dalla lista precedente gli ultimi 10 elementi. Visualizzare al termine la lista modificata.\n"
      ]
    },
    {
      "cell_type": "code",
      "metadata": {
        "colab": {
          "base_uri": "https://localhost:8080/"
        },
        "id": "i0fnSBckUeJq",
        "outputId": "21d50980-8d12-49b6-fb50-57c8dde2740a"
      },
      "source": [
        "\n",
        "del lst[-10:]\n",
        "print(lst)"
      ],
      "execution_count": null,
      "outputs": [
        {
          "output_type": "stream",
          "name": "stdout",
          "text": [
            "[1, 3, 5, 7, 9, 11, 13, 15, 17, 19, 21, 23, 25, 27, 29, 31, 33, 35, 37, 39, 41, 43, 45, 47, 49, 51, 53, 55, 57, 59, 61, 63, 65, 67, 69, 71, 73, 75, 77, 79, 81, 83, 85, 87, 89, 91, 93, 95, 97, 99, 101, 103, 105, 107, 109, 111, 113, 115, 117, 119, 121, 123, 125, 127, 129, 131, 133, 135, 137, 139, 141, 143, 145, 147, 149, 151, 153, 155, 157, 159, 161, 163, 165, 167, 169, 171, 173, 175, 177, 179]\n"
          ]
        }
      ]
    },
    {
      "cell_type": "markdown",
      "metadata": {
        "id": "xW5kFhDBVmSh"
      },
      "source": [
        "6 scrivere una funzione che data una lista formata da un numero pari di elementi restituisca la lista con gli elementi scambiati a due a due. Ad esempio se la lista di partenza fosse [1, 2, 3, 4, 5, 6] la lista da restituire sarebbe [2, 1, 4, 3, 6, 5]\n"
      ]
    },
    {
      "cell_type": "code",
      "metadata": {
        "colab": {
          "base_uri": "https://localhost:8080/"
        },
        "id": "BbBK3PzUVpqp",
        "outputId": "3d8940ac-c3c1-4468-8daa-3731d645dff2"
      },
      "source": [
        "lst = [0,2,4,6,8,10]\n",
        "\n",
        "def scambio(lista):\n",
        "  x = lista[:]\n",
        "  for i in range(0,len(lst),2):\n",
        "    x[i] = lista[i+1]\n",
        "    x[i+1] = lista[i]\n",
        "\n",
        "  return x\n",
        "  \n",
        "print(lst)\n",
        "scambio(lst)"
      ],
      "execution_count": null,
      "outputs": [
        {
          "output_type": "stream",
          "name": "stdout",
          "text": [
            "[0, 2, 4, 6, 8, 10]\n"
          ]
        },
        {
          "output_type": "execute_result",
          "data": {
            "text/plain": [
              "[2, 0, 6, 4, 10, 8]"
            ]
          },
          "metadata": {},
          "execution_count": 29
        }
      ]
    },
    {
      "cell_type": "markdown",
      "metadata": {
        "id": "y2tNzIcYYxgS"
      },
      "source": [
        "7 scrivere un programma che permetta di caricare in una struttura dati opportuna i nomi delle regioni italiane, i loro capoluoghi e la popolazione (inserire solo tre regioni). Visualizzare poi i dati di una regione inserita dall’utente\n"
      ]
    },
    {
      "cell_type": "code",
      "metadata": {
        "colab": {
          "base_uri": "https://localhost:8080/"
        },
        "id": "kDyQlHwFY2Jx",
        "outputId": "5a45076c-9011-4439-d902-336357181da3"
      },
      "source": [
        "regioni = [{\"nome\" : \"Lombardia\", \"capoluogo\" : \"Milano\", \"popolazione\" : 10},{\"nome\" : \"Lazio\", \"capoluogo\" : \"Roma\", \"popolazione\" : 8},{\"nome\" : \"Toscana\", \"capluogo\" : \"Firenze\", \"popolazione\" : 3}]\n",
        "nome = input(\"Scrivi nome regione \")\n",
        "\n",
        "for i in regioni:\n",
        "  if i[\"nome\"] == nome:\n",
        "    print(i[\"capoluogo\"],i[\"popolazione\"])\n"
      ],
      "execution_count": null,
      "outputs": [
        {
          "output_type": "stream",
          "name": "stdout",
          "text": [
            "Scrivi nome regione Lombardia\n",
            "Milano 10\n"
          ]
        }
      ]
    },
    {
      "cell_type": "markdown",
      "metadata": {
        "id": "3RGibix4b7K2"
      },
      "source": [
        "8 scrivere un programma che, utilizzando una lambda function e la funzione filter, elimini da una lista inserita dall’utente tutti gli elementi dispari. Al termine, visualizzare la lista modificata\n"
      ]
    },
    {
      "cell_type": "code",
      "metadata": {
        "colab": {
          "base_uri": "https://localhost:8080/"
        },
        "id": "NucJiTJUcAnm",
        "outputId": "71134b56-811f-4a95-ae76-312e92fc4a81"
      },
      "source": [
        "lista = [int(s) for s in input(\"\").split()]\n",
        "print(lista)\n",
        "lista = list(filter(lambda x: x%2 == 0, lista))\n",
        "print(lista)"
      ],
      "execution_count": null,
      "outputs": [
        {
          "output_type": "stream",
          "name": "stdout",
          "text": [
            "1 2 3 4 5 6 7 8 9\n",
            "[1, 2, 3, 4, 5, 6, 7, 8, 9]\n",
            "[2, 4, 6, 8]\n"
          ]
        }
      ]
    },
    {
      "cell_type": "markdown",
      "metadata": {
        "id": "WlZ4H35ydQ0k"
      },
      "source": [
        "9 scrivere una funzione che, in modo ricorsivo, calcoli la somma dei primi n numeri interi, con n inserito dall’utente. Ad esempio se l’utente inserisse 5 il programma dovrebbe restituire il valore 15 (5+4+3+2+1=15)\n"
      ]
    },
    {
      "cell_type": "code",
      "metadata": {
        "colab": {
          "base_uri": "https://localhost:8080/"
        },
        "id": "IfnaZfltdUfl",
        "outputId": "38c7c6cc-357f-486d-f681-e41fea7f8f9c"
      },
      "source": [
        "def somma(n):\n",
        "  if n == 1:\n",
        "    return 1 \n",
        "  else:\n",
        "    return n + somma(n-1)\n",
        "somma(int(input(\"\")))"
      ],
      "execution_count": null,
      "outputs": [
        {
          "name": "stdout",
          "output_type": "stream",
          "text": [
            "5\n"
          ]
        },
        {
          "output_type": "execute_result",
          "data": {
            "text/plain": [
              "15"
            ]
          },
          "metadata": {},
          "execution_count": 32
        }
      ]
    }
  ]
}