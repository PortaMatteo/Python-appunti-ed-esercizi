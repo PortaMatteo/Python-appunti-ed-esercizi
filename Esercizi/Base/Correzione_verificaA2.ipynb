{
  "nbformat": 4,
  "nbformat_minor": 0,
  "metadata": {
    "colab": {
      "name": "Correzione_verificaA2.ipynb",
      "provenance": []
    },
    "kernelspec": {
      "name": "python3",
      "display_name": "Python 3"
    },
    "language_info": {
      "name": "python"
    }
  },
  "cells": [
    {
      "cell_type": "markdown",
      "metadata": {
        "id": "Xtv4W4hymxGI"
      },
      "source": [
        "1. scrivere un programma che calcoli il volume di un parallelepipedo data la base, l’altezza e la profondità. I valori inseriti possono essere decimali e il risultato deve essere fornito con due cifre decimali. I valori della base, dell’altezza e della profondità devono essere inseriti dall’utente"
      ]
    },
    {
      "cell_type": "code",
      "metadata": {
        "colab": {
          "base_uri": "https://localhost:8080/"
        },
        "id": "qsGF-e5m29GQ",
        "outputId": "6ee641f3-0d6e-4eed-9b08-74380e59ec50"
      },
      "source": [
        "base = float(input('Inserire la base '))\n",
        "altezza = float(input('Inserire altezza '))\n",
        "profondità = float(input('Inserire la profondità '))\n",
        "volume = base * altezza * profondità\n",
        "\n",
        "print(round(volume,2))\n"
      ],
      "execution_count": 2,
      "outputs": [
        {
          "output_type": "stream",
          "name": "stdout",
          "text": [
            "Inserire la base 10\n",
            "Inserire altezza 30\n",
            "Inserire la profondità 14\n",
            "4200.0\n"
          ]
        }
      ]
    },
    {
      "cell_type": "markdown",
      "metadata": {
        "id": "zlbNFyHMm4_E"
      },
      "source": [
        "2. modificare il programma precedente in modo che prima di effettuare il calcolo controlli che i valori inseriti dall’utente siano positivi. Visualizzare gli opportuni messaggi di errore a seconda del verificarsi delle diverse condizioni"
      ]
    },
    {
      "cell_type": "code",
      "metadata": {
        "colab": {
          "base_uri": "https://localhost:8080/"
        },
        "id": "o6AHiG7r5Fju",
        "outputId": "4a17e18a-624f-4616-c75d-68c8be5ac026"
      },
      "source": [
        "base = float(input('Inserire la base '))\n",
        "if base< 0:\n",
        "  print(\"la base non può essere negativa \")\n",
        "else:\n",
        "  altezza = float(input('Inserire altezza '))\n",
        "  if altezza< 0:\n",
        "     print(\"l altezza non può essere negativa \")\n",
        "  else:\n",
        "     profondità = float(input('Inserire la profondità '))\n",
        "     if profondità< 0:\n",
        "       print(\"la profondità non può essere negativa \")\n",
        "     else:\n",
        "         volume = base * altezza * profondità\n",
        "         print(round(volume,2))"
      ],
      "execution_count": 3,
      "outputs": [
        {
          "output_type": "stream",
          "name": "stdout",
          "text": [
            "Inserire la base -5\n",
            "la base non può essere negativa \n"
          ]
        }
      ]
    },
    {
      "cell_type": "markdown",
      "metadata": {
        "id": "NjE1Dm5qnOF8"
      },
      "source": [
        "3. scrivere un programma che permetta di visualizzare tutti i quadrati perfetti minori di un numero intero inserito dall’utente. I quadrati perfetti sono numeri interi che possono essere espressi come il quadrato di un numero intero. Ad esempio 9 è un quadrato perfetto perché è il quadrato del numero intero 3 mentre 8 non è un quadrato perfetto perché non è il quadrato di nessun numero intero)"
      ]
    },
    {
      "cell_type": "code",
      "metadata": {
        "colab": {
          "base_uri": "https://localhost:8080/"
        },
        "id": "sKE7RB0E7cZH",
        "outputId": "96bc660a-865d-42c3-fda2-62ca82ea2911"
      },
      "source": [
        "num = int(input(\"inserire numero \"))\n",
        "quadratiPerfetti = []\n",
        "i = 1\n",
        "while i**2 < num:\n",
        "  print(i**2)\n",
        "  i += 1"
      ],
      "execution_count": 5,
      "outputs": [
        {
          "output_type": "stream",
          "name": "stdout",
          "text": [
            "inserire numero 8\n",
            "1\n",
            "4\n"
          ]
        }
      ]
    },
    {
      "cell_type": "markdown",
      "metadata": {
        "id": "_J3t14ZUnWCm"
      },
      "source": [
        "4. scrivere un programma che inserisca in una lista tutti i numeri interi compresi tra due estremi forniti dall’utente. Al termine, visualizzare la lista dei numeri e la lista al contrario"
      ]
    },
    {
      "cell_type": "code",
      "metadata": {
        "colab": {
          "base_uri": "https://localhost:8080/"
        },
        "id": "_m1zAbWw8Z1G",
        "outputId": "53648868-8886-4094-df41-6e032fe88b43"
      },
      "source": [
        "val1 = int(input(\"inserire estremo inferiore \"))\n",
        "val2 = int(input(\"inserire estremo superiore \"))\n",
        "lista = [elemento for elemento in range(val1,val2+1)]\n",
        "print(lista)\n",
        "print(sorted(lista,reverse=True))"
      ],
      "execution_count": 6,
      "outputs": [
        {
          "output_type": "stream",
          "name": "stdout",
          "text": [
            "inserire estremo inferiore 3\n",
            "inserire estremo superiore 15\n",
            "[3, 4, 5, 6, 7, 8, 9, 10, 11, 12, 13, 14, 15]\n",
            "[15, 14, 13, 12, 11, 10, 9, 8, 7, 6, 5, 4, 3]\n"
          ]
        }
      ]
    },
    {
      "cell_type": "markdown",
      "metadata": {
        "id": "8yjiaavJnvfg"
      },
      "source": [
        "5. scrivere un programma che carichi in una lista chiamata “tutti” i numeri pari compresi tra -30 e +30. Usando poi lo slicing, caricare in una lista chiamata “negativi” gli elementi della lista “tutti” minori di 0 e in una chiamata “positivi” gli elementi della lista “tutti” maggiori di zero. Al termine visualizzare le tre liste.."
      ]
    },
    {
      "cell_type": "code",
      "metadata": {
        "colab": {
          "base_uri": "https://localhost:8080/"
        },
        "id": "D1jyRY6g_HDn",
        "outputId": "36299df5-8181-47e0-97f8-cb70a0516de6"
      },
      "source": [
        "tutti = [elemento for elemento in range(-30,30) if elemento%2==0]\n",
        "negativi = tutti[:15]\n",
        "positivi = tutti[15:]\n",
        "\n",
        "print(tutti)\n",
        "print(negativi)\n",
        "print(positivi)"
      ],
      "execution_count": 7,
      "outputs": [
        {
          "output_type": "stream",
          "name": "stdout",
          "text": [
            "[-30, -28, -26, -24, -22, -20, -18, -16, -14, -12, -10, -8, -6, -4, -2, 0, 2, 4, 6, 8, 10, 12, 14, 16, 18, 20, 22, 24, 26, 28]\n",
            "[-30, -28, -26, -24, -22, -20, -18, -16, -14, -12, -10, -8, -6, -4, -2]\n",
            "[0, 2, 4, 6, 8, 10, 12, 14, 16, 18, 20, 22, 24, 26, 28]\n"
          ]
        }
      ]
    },
    {
      "cell_type": "markdown",
      "metadata": {
        "id": "2xrHeZM_oGpZ"
      },
      "source": [
        "6. scrivere una funzione chiamata volumeSfera che dato il raggio in metri di una sfera calcoli il suo volume. Utilizzare poi quella funzione per scrivere un’altra funzione chiamata pesoSfera che permetta di calcolare il peso di una sfera dato il suo raggio in metri e la sua densità, espressa in grammi al centimetro cubo. Infine, scrivere un programma che calcoli il peso di una sfera di piombo del raggio di un metro (la densità del piombo è di 11.34 g/cm3)"
      ]
    },
    {
      "cell_type": "code",
      "metadata": {
        "colab": {
          "base_uri": "https://localhost:8080/"
        },
        "id": "4BMm3WDCBdR4",
        "outputId": "2cabdef6-796b-4e8c-af9a-141ae4a373fa"
      },
      "source": [
        "import math\n",
        "def volumeSfera(x):\n",
        "  return 4/3 * math.pi *  x**3\n",
        "\n",
        "def pesoSfera(r,d):\n",
        "  return volumeSfera(r) * d \n",
        "print(pesoSfera(1,11.34*1000),\"kg\")"
      ],
      "execution_count": 8,
      "outputs": [
        {
          "output_type": "stream",
          "name": "stdout",
          "text": [
            "47500.88092227767 kg\n"
          ]
        }
      ]
    },
    {
      "cell_type": "markdown",
      "metadata": {
        "id": "F1qzT0NXoJc1"
      },
      "source": [
        "7. data una lista di 100 numeri pari casuali caricata tramite una list comprehension, sostituire ogni elemento con il suo quadrato "
      ]
    },
    {
      "cell_type": "code",
      "metadata": {
        "colab": {
          "base_uri": "https://localhost:8080/"
        },
        "id": "yKsdMRRZDzOZ",
        "outputId": "5b846941-4c9b-4a34-a8ea-38820dc09049"
      },
      "source": [
        "import random\n",
        "lst1 = [x + (x % 2) for _ in range(100) for x in [random.randint(1, 100)]]\n",
        "lst1 = list(map(lambda x: x**2, lst1))\n",
        "print(lst1)\n"
      ],
      "execution_count": 38,
      "outputs": [
        {
          "output_type": "stream",
          "name": "stdout",
          "text": [
            "[5776, 9604, 1600, 576, 4, 2500, 7056, 3136, 2116, 100, 900, 676, 7056, 784, 9216, 36, 6400, 8464, 6724, 2500, 2304, 676, 7744, 16, 1024, 324, 196, 576, 676, 5184, 676, 2304, 1600, 1296, 144, 1936, 8100, 4, 9604, 1024, 3600, 400, 36, 1764, 2304, 1600, 484, 3136, 8836, 7744, 196, 4900, 6084, 2304, 4096, 4096, 256, 10000, 400, 1936, 900, 8100, 1024, 3364, 5776, 3600, 6084, 3844, 10000, 100, 324, 3844, 256, 1024, 6400, 6724, 8464, 3600, 2704, 8100, 4096, 64, 9604, 4096, 400, 36, 900, 2304, 8100, 5184, 2916, 324, 2704, 4096, 1764, 100, 6084, 8100, 1024, 4, 676, 7056, 5184, 400, 36, 576, 2916, 2704, 8836, 1764, 36, 676, 2916, 8100, 6724, 4624, 3364, 1156, 10000, 900, 8836, 10000, 2704, 1296, 1296, 256, 8836, 2116, 4900, 4096, 324, 324, 5184, 2304, 3600, 3364, 4356, 1156, 1156, 9216, 2916, 5476, 4900, 2500, 1444, 2116, 6400, 3136, 3600, 16, 16, 5476, 5184, 16, 10000, 1156, 8100, 4356, 6400, 16, 1024, 324, 900, 36, 6084, 1936, 4, 4624, 1444, 1600, 9216, 9604, 4900, 4096, 5184, 2116, 9216, 4096, 5184, 36, 2304, 484, 4, 2704, 5476, 7396, 3364, 1024, 1296, 16, 5776, 676, 1764, 2304, 2500, 4624, 9216, 484, 2916, 16, 1296, 3136, 6084, 900, 484, 196, 8100, 8464, 4624, 2916, 4900, 2704, 256, 3136, 1600, 6724, 196, 3600, 1600, 5776, 784, 1156, 8100, 196, 8100, 2704, 6400, 1024, 1296, 196, 3844, 2916, 2704, 4624, 6084, 1936, 1936, 400, 7396, 1156, 144, 9216, 576, 8836, 1936, 3844, 7744, 1156, 1600, 1600, 3600, 2500, 2500, 1444, 324, 8836, 2704, 144, 4900, 2116, 3600, 1936, 5776, 64, 64, 9604, 9604, 2116, 3136, 576, 3844, 9216, 324, 64, 3600, 1024, 8464, 4356, 1936, 576, 196, 6724, 900, 5184, 3364, 900, 7396, 576, 3136, 36, 6724, 100, 3136, 4900, 100, 2704, 256, 2304, 1296, 2916, 484, 2704, 324, 1296, 576, 144, 2304, 7056, 576, 400, 36, 6084, 400, 196, 5184, 4624, 3364, 100, 784, 4900, 576, 256, 4356, 2304, 900, 2116, 3364, 5184, 2116, 900, 4356, 8100, 10000, 7744, 5476, 1156, 2116, 2916, 1936, 7396, 6084, 900, 16, 1764, 5476, 7396, 1024, 3600, 4096, 6724, 7396, 900, 2704, 3600, 676, 7744, 16, 676, 2304, 4900, 1156, 2500, 100, 324, 8836, 3136, 6400, 1936, 7744, 8100, 4096, 4900, 10000, 2116, 7396, 4356, 196, 1156, 2704, 100, 2916, 3136, 9604, 3600, 8100, 5776, 16, 4624, 6084, 256, 1936, 196, 3136, 484, 8836, 676, 5476, 676, 144, 4, 2116, 196, 5476, 1764, 8464, 196, 900, 7056, 5184, 2916, 3600, 8836, 8100, 6084, 3600, 4096, 7744, 8464, 64, 324, 484, 7056, 4900, 6400, 6084, 144, 400, 5776, 2704, 1024, 3136, 5184, 144, 8836, 1444, 8100, 3600, 3136, 1936, 16, 3600, 4096, 5184, 8100, 8836, 16, 2500, 400, 256, 4096, 576, 5184, 1936, 1296, 1296, 36, 6084, 1296, 7396, 9604, 10000, 256, 2304, 3600, 5776, 8464, 5184, 5476, 2916, 1296, 3600, 2704, 324, 7396, 576, 400, 5184, 6084, 64, 3136, 2916, 4096, 6084, 4624, 256, 3364, 9604, 2500, 4900, 2500, 3364, 484, 900, 4900, 400, 324, 5476, 3844, 3364, 36, 6084, 4356, 36, 4900, 196, 3364, 9216, 8100, 5476, 4624, 8100, 676, 6724, 400, 3364, 484, 1296, 2500, 5184, 144, 5776, 484, 256, 4, 2704, 16, 6724, 7396, 400, 784, 5184, 6724, 4096, 676, 7396, 3364, 8836, 3844, 7744, 2304, 8836, 144, 576, 1764, 16, 10000, 36, 1936, 6084, 9216, 256, 6084, 3844, 5776, 3364, 900, 3600, 7056, 324, 3600, 1600, 1296, 2500, 4624, 4624, 3364, 784, 2704, 1024, 900, 256, 3364, 100, 484, 1156, 10000, 1296, 4, 1600, 2304, 36, 8100, 196, 3844, 4624, 2704, 3136, 4356, 576, 784, 1764, 4356, 2116, 4, 576, 784, 2304, 1936, 8100, 576, 1024, 4900, 36, 6724, 100, 36, 8836, 4356, 6084, 9216, 7744, 144, 2500, 4624, 2704, 6084, 1936, 4624, 5184, 7744, 324, 4, 4096, 7744, 1296, 2116, 8464, 484, 2704, 576, 2304, 4356, 3844, 6084, 196, 6724, 2704, 4356, 1936, 7056, 1764, 484, 1156, 6724, 2916, 900, 100, 4900, 1600, 6724, 4096, 1936, 9216, 144, 64, 676, 9604, 576, 5476, 8836, 1600, 5476, 2704, 9604, 6084, 2304, 1936, 4900, 3136, 9604, 3136, 324, 10000, 8464, 100, 6400, 1024, 3844, 676, 196, 8100, 900, 400, 3364, 16, 256, 2916, 2500, 36, 324, 9604, 484, 10000, 2304, 5184, 1600, 1156, 7396, 2304, 100, 1936, 8836, 900, 2304, 7056, 16, 4, 676, 7056, 1936, 3844, 2116, 16, 8464, 3136, 3600, 7744, 7056, 1024, 3844, 1764, 400, 576, 576, 144, 2116, 7056, 6084, 1600, 256, 5184, 7744, 6084, 4900, 4, 676, 2916, 3844, 2500, 144, 2704, 4900, 10000, 4900, 3844, 6400, 1600, 4900, 4096, 7056, 9604, 3364, 6400, 2704, 1764, 1936, 9216, 1156, 8100, 6724, 6724, 2116, 1936, 8100, 2116, 2116, 7396, 5776, 9216, 1024, 2500, 9604, 36, 5476, 1024, 9216, 1936, 64, 2916, 8464, 484, 900, 900, 5776, 6724, 900, 5476, 1156, 256, 2916, 7396, 1156, 64, 9216, 6400, 2304, 1600, 4624, 2304, 3844, 16, 1600, 10000, 8836, 2304, 6400, 3136, 8464, 7056, 2916, 400, 1600, 5184, 2116, 9604, 4, 676, 5476, 1936, 196, 676, 4900, 64, 1444, 6724, 3844, 1156, 676, 1600, 6084, 4624, 1156, 6400, 1600, 9604, 1600, 196, 900, 4096, 36, 196, 1936, 3844, 10000, 1600, 1444, 2916, 1156, 5776, 5184, 9216, 2116, 4624, 2704, 3600, 3136, 7744, 9604, 9216, 5476, 5476, 5476, 1936, 7056, 10000, 3844, 9216, 6400, 576, 256, 3600, 1156, 784, 6724, 4, 900, 10000, 256, 1600, 2916, 7396, 3600, 3364, 1024, 4, 6724, 5776, 7396, 144, 1024, 6400, 7056, 7396, 6400, 9604, 4624, 4624, 1024, 9604, 5184, 3136, 1024, 1764, 16, 4356, 400, 1024, 6400, 7396, 4096, 196, 900, 576, 6400, 144, 36, 1600, 900, 36, 400, 784, 16, 1600, 8464, 10000, 6084, 2116, 1444, 6084, 2704, 4, 1444, 4096, 1936, 8464, 900, 1296, 324, 1296, 5476, 64, 2116, 6400, 8100, 196, 3600, 1936, 1936, 4356, 1296, 36, 16, 10000, 144, 1764, 4624, 256, 6400, 576, 484, 5776, 3844, 9604, 3364, 144, 4356, 9604, 196, 64, 8464, 1764, 5476, 324, 324, 5476, 1156, 900, 196, 64, 64, 2500, 2916, 64, 5184, 3600, 676, 1444, 4, 6400, 4096, 6400, 4624, 6724, 7396, 6084, 4096, 1936, 2116, 8464, 8464]\n"
          ]
        }
      ]
    },
    {
      "cell_type": "markdown",
      "metadata": {
        "id": "fxTGzOPwpEgW"
      },
      "source": [
        "8. data una lista di 100 numeri pari casuali caricata tramite una list comprehension, eliminare tutti gli elementi della lista che sono multipli di 6"
      ]
    },
    {
      "cell_type": "code",
      "metadata": {
        "colab": {
          "base_uri": "https://localhost:8080/"
        },
        "id": "Vrx268LEpIb-",
        "outputId": "62e1c320-3892-4b4c-928d-8286f9e9c409"
      },
      "source": [
        "import random\n",
        "lst1 = [x + (x % 2) for _ in range(100) for x in [random.randint(1, 100)]]\n",
        "lst1 = list(filter(lambda x: x%6 != 0, lst1))\n",
        "print(lst1)"
      ],
      "execution_count": 45,
      "outputs": [
        {
          "output_type": "stream",
          "name": "stdout",
          "text": [
            "[22, 98, 94, 88, 8, 62, 100, 50, 64, 64, 38, 8, 26, 50, 58, 62, 50, 22, 86, 82, 4, 82, 8, 20, 8, 32, 44, 28, 34, 92, 62, 92, 46, 64, 44, 56, 50, 10, 34, 70, 14, 22, 86, 4, 62, 94, 22, 52, 32, 28, 86, 80, 32, 62, 26, 16, 50, 76, 76, 52, 64, 40, 14, 2, 20]\n"
          ]
        }
      ]
    },
    {
      "cell_type": "markdown",
      "metadata": {
        "id": "4H8vWyRlqTiw"
      },
      "source": [
        "9. progettare una struttura dati che permetta di memorizzare l’orario di partenza e di arrivo dei treni della tratta Milano Roma dell’alta velocità. Ad esempio il treno 9645 parte alle 16.00 e arriva alle 19.10, il treno 9647 parte alle 16.30 e arriva alle 19.40 a Roma. Memorizzare nella struttura dati progettata queste informazioni e scrivere il codice necessario per cercare un treno ed avere l’ora di partenza e l’ora di arrivo. Se non c’è il treno che l’utente inserisce, dare un opportuno messaggio di errore.\n"
      ]
    },
    {
      "cell_type": "code",
      "metadata": {
        "colab": {
          "base_uri": "https://localhost:8080/"
        },
        "id": "vqqagREAMTKi",
        "outputId": "65fb2e47-af2f-4977-e96a-0eb686bf9c16"
      },
      "source": [
        "treni = [{\"nome\":\"9645\",\"partenza\":\"16.00\",\"arrivo\":\"19.10\"},{\"nome\":\"9647\",\"partenza\":\"16.30\",\"arrivo\":\"19.40\"}]\n",
        "\n",
        "treno = input(\"Scrivi nome del treno \")\n",
        "controllo = False\n",
        "for i in treni:\n",
        "  if i[\"nome\"] == treno:\n",
        "    print(i[\"partenza\"],i[\"arrivo\"])\n",
        "    controllo = True\n",
        "\n",
        "if controllo == False:\n",
        "  print(\"il treno non esiste\")  "
      ],
      "execution_count": 48,
      "outputs": [
        {
          "output_type": "stream",
          "name": "stdout",
          "text": [
            "Scrivi nome del treno 9647\n",
            "16.30 19.40\n"
          ]
        }
      ]
    }
  ]
}