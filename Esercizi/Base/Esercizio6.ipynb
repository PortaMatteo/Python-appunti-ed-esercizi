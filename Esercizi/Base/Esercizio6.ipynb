{
  "nbformat": 4,
  "nbformat_minor": 0,
  "metadata": {
    "colab": {
      "name": "Esercizio6.ipynb",
      "provenance": [],
      "collapsed_sections": []
    },
    "kernelspec": {
      "name": "python3",
      "display_name": "Python 3"
    },
    "language_info": {
      "name": "python"
    }
  },
  "cells": [
    {
      "cell_type": "markdown",
      "metadata": {
        "id": "tNbbyv1l-s_L"
      },
      "source": [
        "1. scrivere una funzione chiamata sommaTutti che permetta di sommare un numero arbitrario di valori interi passati come parametri. Scrivere poi un programma che permetta all'utente di inserire un numero variabile di interi e visualizzi la somma."
      ]
    },
    {
      "cell_type": "code",
      "metadata": {
        "colab": {
          "base_uri": "https://localhost:8080/"
        },
        "id": "U90-39-N-4Gs",
        "outputId": "d6483265-a6b6-44a2-9c2a-924f5372ad75"
      },
      "source": [
        "def sommaTutti(x):\n",
        "\n",
        "  return sum(x)\n",
        "\n",
        "num = [int(s)for s in input('Inserisci i valori: ').split()]\n",
        "sommaTutti(num)"
      ],
      "execution_count": null,
      "outputs": [
        {
          "name": "stdout",
          "output_type": "stream",
          "text": [
            "Inserisci i valori: 1 4 5\n"
          ]
        },
        {
          "output_type": "execute_result",
          "data": {
            "text/plain": [
              "10"
            ]
          },
          "metadata": {},
          "execution_count": 2
        }
      ]
    },
    {
      "cell_type": "markdown",
      "metadata": {
        "id": "ixwFQrW4_9ly"
      },
      "source": [
        "2. scrivere una lambda function che calcoli la lunghezza della circonferenza di un cerchio dato il raggio. Utilizzarla poi in un programma che chieda all'utente il valore del raggio e visualizzi la lunghezza della circonferenza\n"
      ]
    },
    {
      "cell_type": "code",
      "metadata": {
        "colab": {
          "base_uri": "https://localhost:8080/"
        },
        "id": "z42-cLlNAAFK",
        "outputId": "2ee0224e-1f4c-4c14-da7e-149a5f053354"
      },
      "source": [
        "circonferenza = lambda r: 2*r*3.14\n",
        "raggio = int(input('Scrivi il valore del raggio '))\n",
        "circonferenza(raggio)"
      ],
      "execution_count": null,
      "outputs": [
        {
          "name": "stdout",
          "output_type": "stream",
          "text": [
            "Scrivi il valore del raggio 3\n"
          ]
        },
        {
          "output_type": "execute_result",
          "data": {
            "text/plain": [
              "18.84"
            ]
          },
          "metadata": {},
          "execution_count": 6
        }
      ]
    },
    {
      "cell_type": "markdown",
      "metadata": {
        "id": "3-c1IoQ2BUrL"
      },
      "source": [
        "3. scrivere una funzione che calcoli il quadrato di un numero. Scrivere poi una funzione che calcoli la radice quadrata della somma di due numeri. Scrivere poi una lambda function che date le lunghezze di due cateti di un triangolo calcoli l'ipotenusa utilizzando le funzioni definite precedentemente. Utilizzare quest'ultima funzione in un programma che permetta all'utente di inserire le lunghezze dei cateti e di avere in risposta la lunghezza dell'ipotenusa di un triangolo rettangolo"
      ]
    },
    {
      "cell_type": "code",
      "metadata": {
        "colab": {
          "base_uri": "https://localhost:8080/"
        },
        "id": "fLKVIjQgBXfj",
        "outputId": "76d8b078-7bdc-4bc5-ebad-1ada1198f77a"
      },
      "source": [
        "def quadrato(x):\n",
        "  return x**2\n",
        "\n",
        "def radice(y,z):\n",
        "  return (y+z)**(1/2)\n",
        "\n",
        "ipotenusa = lambda c1,c2: radice(quadrato(c1) , quadrato(c2))\n",
        "\n",
        "C1 = float(input('Scrivi il primo cateto '))\n",
        "C2 = float(input('Scrivere il secondo cateto '))\n",
        "\n",
        "ipotenusa(C1,C2)\n"
      ],
      "execution_count": 62,
      "outputs": [
        {
          "name": "stdout",
          "output_type": "stream",
          "text": [
            "Scrivi il primo cateto4\n",
            "Scrivere il secondo cateto5\n"
          ]
        },
        {
          "output_type": "execute_result",
          "data": {
            "text/plain": [
              "6.4031242374328485"
            ]
          },
          "metadata": {},
          "execution_count": 62
        }
      ]
    },
    {
      "cell_type": "markdown",
      "metadata": {
        "id": "byFbKS9P0xVe"
      },
      "source": [
        "4. Scrivere le funzioni quadrato, cubo e radiceQuadrata che calcolano il quadrato, il cubo e la radice quadrata di un numero intero. Scrivere poi un programma che, utilizzando un ciclo for, richiami le tre funzioni su un valore intero inserito dall'utente e visualizzi i tre risultati."
      ]
    },
    {
      "cell_type": "code",
      "metadata": {
        "colab": {
          "base_uri": "https://localhost:8080/"
        },
        "id": "5deGFXWN00NY",
        "outputId": "1fd08b31-e6af-4958-f7e1-23d5da7b4a66"
      },
      "source": [
        "def quadrato(x):\n",
        "  return x**2\n",
        "\n",
        "def cubo(y):\n",
        "  return y**3\n",
        "\n",
        "\n",
        "def radiceQuadrata(z):\n",
        "  return z**(1/2)\n",
        "\n",
        "numero = int(input('Scegli un numero '))\n",
        "\n",
        "for i in range(0,3):\n",
        "  if i == 0:\n",
        "    print(quadrato(numero))\n",
        "  elif i ==1:\n",
        "    print(cubo(numero))\n",
        "  else:\n",
        "    print(radiceQuadrata(numero))\n",
        "\n"
      ],
      "execution_count": 97,
      "outputs": [
        {
          "output_type": "stream",
          "name": "stdout",
          "text": [
            "Scegli un numero 3\n",
            "9\n",
            "27\n",
            "1.7320508075688772\n"
          ]
        }
      ]
    },
    {
      "cell_type": "markdown",
      "metadata": {
        "id": "4-U7V89X3VsJ"
      },
      "source": [
        "5. Utilizzando una lambda function, scrivere un programma che data una lista di numeri interi inserita dall'utente carichi in altre due liste i quadrati e i cubi dei numeri presenti nella lista inserita. Al termine, visualizzare le due liste."
      ]
    },
    {
      "cell_type": "code",
      "metadata": {
        "colab": {
          "base_uri": "https://localhost:8080/"
        },
        "id": "qwZ7ZZ4W3X_F",
        "outputId": "073b2488-ce80-4ebf-a5f6-0ecf5b623efa"
      },
      "source": [
        "lst1 = [int(s)for s in input('Inserisci i valori: ').split()]\n",
        "\n",
        "print(list(map(lambda x: x**2, lst1)))\n",
        "print(list(map(lambda x: x**3, lst1)))\n",
        "\n"
      ],
      "execution_count": 69,
      "outputs": [
        {
          "output_type": "stream",
          "name": "stdout",
          "text": [
            "Inserisci i valori: 4\n",
            "[16]\n",
            "[64]\n"
          ]
        }
      ]
    },
    {
      "cell_type": "markdown",
      "metadata": {
        "id": "0NMXGN456otx"
      },
      "source": [
        "6. Utilizzando una lambda function, scrivere un programma che data una lista di numeri interi inserita dall'utente carichi in altre due liste i numeri pari e i numeri dispari presenti nella lista inserita. Al termine, visualizzare le due liste."
      ]
    },
    {
      "cell_type": "code",
      "metadata": {
        "colab": {
          "base_uri": "https://localhost:8080/"
        },
        "id": "W9y8W2Zy6sLG",
        "outputId": "6c17cfa9-fba6-4233-bde1-3a3392eb3c29"
      },
      "source": [
        "lst1 = [int(s)for s in input('Inserisci i valori: ').split()]\n",
        "print(list(filter(lambda x: x%2 == 0,lst1)))\n",
        "print(list(filter(lambda x: x%2 != 0,lst1)))"
      ],
      "execution_count": 15,
      "outputs": [
        {
          "output_type": "stream",
          "name": "stdout",
          "text": [
            "Inserisci i valori: 1 2 3 4 5 6 7 \n",
            "[2, 4, 6]\n",
            "[1, 3, 5, 7]\n"
          ]
        }
      ]
    },
    {
      "cell_type": "markdown",
      "metadata": {
        "id": "19rrJNx579fU"
      },
      "source": [
        "7. Scrivere poi una funzione ricorsiva che calcoli il fattoriale di un numero. Utilizzare poi la funzione creata per scrivere un programma che permetta all'utente di inserire un numero intero e che visualizzi il fattoriale di quel numero."
      ]
    },
    {
      "cell_type": "code",
      "metadata": {
        "colab": {
          "base_uri": "https://localhost:8080/"
        },
        "id": "TIrV5jSO8EDV",
        "outputId": "8545040b-89ff-4b4c-a446-f721da3a79a0"
      },
      "source": [
        "fattoriale = lambda n: 1 if n == 0 else n * fattoriale(n-1)\n",
        "\n",
        "fattoriale(int(input('Scrivere il numero ')))"
      ],
      "execution_count": 81,
      "outputs": [
        {
          "name": "stdout",
          "output_type": "stream",
          "text": [
            "Scrivere il numero 5\n"
          ]
        },
        {
          "output_type": "execute_result",
          "data": {
            "text/plain": [
              "120"
            ]
          },
          "metadata": {},
          "execution_count": 81
        }
      ]
    },
    {
      "cell_type": "markdown",
      "metadata": {
        "id": "nYjrcqpf883b"
      },
      "source": [
        "8. Svolgere l'esercizio 7, senza ricorsione"
      ]
    },
    {
      "cell_type": "code",
      "metadata": {
        "colab": {
          "base_uri": "https://localhost:8080/"
        },
        "id": "8n4WaKsH8-wU",
        "outputId": "99e0cb9d-b1c8-4f70-f648-fa9a38327a4a"
      },
      "source": [
        "def fattoriale(n):\n",
        "  x = 1 \n",
        "  for i in range(1,n+1):\n",
        "\n",
        "     x = x * i\n",
        "  return x\n",
        "\n",
        "\n",
        "fattoriale(int(input('Scrivere il numero ')))\n",
        "\n"
      ],
      "execution_count": 130,
      "outputs": [
        {
          "name": "stdout",
          "output_type": "stream",
          "text": [
            "Scrivere il numero 5\n"
          ]
        },
        {
          "output_type": "execute_result",
          "data": {
            "text/plain": [
              "120"
            ]
          },
          "metadata": {},
          "execution_count": 130
        }
      ]
    },
    {
      "cell_type": "markdown",
      "metadata": {
        "id": "xb4CL3fN8_Jx"
      },
      "source": [
        "9. Cercare su internet che cosa sono i numeri di Fibonacci. Scrivere poi una funzione ricorsiva che calcoli l'n-esimo numero della sequenza di Fibonacci. Utilizzare poi la funzione creata per scrivere un programma che permetta all'utente di inserire un numero intero e che visualizzi il numero della sequenza di Fibonacci corrispondente."
      ]
    },
    {
      "cell_type": "code",
      "metadata": {
        "colab": {
          "base_uri": "https://localhost:8080/"
        },
        "id": "HfW26enzPuT4",
        "outputId": "c07e6404-7909-44c0-d42e-c74960a54e88"
      },
      "source": [
        "def fib(n):\n",
        "  if n == 0:\n",
        "    return 0\n",
        "  elif n == 1:\n",
        "    return 1\n",
        "  else:\n",
        "    return fib(n-1) + fib(n-2)\n",
        "\n",
        "numero = int(input('Inserisci il numero '))\n",
        "print(fib(numero))"
      ],
      "execution_count": 128,
      "outputs": [
        {
          "output_type": "stream",
          "name": "stdout",
          "text": [
            "Inserisci il numero 6\n",
            "8\n"
          ]
        }
      ]
    }
  ]
}
