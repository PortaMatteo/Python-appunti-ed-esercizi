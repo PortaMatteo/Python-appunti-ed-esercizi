{
  "nbformat": 4,
  "nbformat_minor": 0,
  "metadata": {
    "colab": {
      "name": "Esercizio_Pandas_Merge_BikeStores (1).ipynb",
      "provenance": [],
      "collapsed_sections": []
    },
    "kernelspec": {
      "name": "python3",
      "display_name": "Python 3"
    },
    "language_info": {
      "name": "python"
    }
  },
  "cells": [
    {
      "cell_type": "code",
      "source": [
        "!pip install --upgrade --force-reinstall xlrd"
      ],
      "metadata": {
        "colab": {
          "base_uri": "https://localhost:8080/"
        },
        "id": "fzopew6I4cwa",
        "outputId": "68112fce-ea69-468a-95c4-c9d42d9f9b79"
      },
      "execution_count": null,
      "outputs": [
        {
          "output_type": "stream",
          "name": "stdout",
          "text": [
            "Collecting xlrd\n",
            "  Using cached xlrd-2.0.1-py2.py3-none-any.whl (96 kB)\n",
            "Installing collected packages: xlrd\n",
            "  Attempting uninstall: xlrd\n",
            "    Found existing installation: xlrd 2.0.1\n",
            "    Uninstalling xlrd-2.0.1:\n",
            "      Successfully uninstalled xlrd-2.0.1\n",
            "Successfully installed xlrd-2.0.1\n"
          ]
        }
      ]
    },
    {
      "cell_type": "code",
      "execution_count": null,
      "metadata": {
        "id": "FOWfp-xI3rEh"
      },
      "outputs": [],
      "source": [
        "import pandas as pd \n",
        "import matplotlib.pyplot as plt"
      ]
    },
    {
      "cell_type": "markdown",
      "source": [
        "1. il catalogo complessivo dei prodotti. Visualizzare il nome del prodotto, il nome della marca e la categoria"
      ],
      "metadata": {
        "id": "JpJSqpy15Osi"
      }
    },
    {
      "cell_type": "code",
      "source": [
        "brands = pd.read_excel(\"https://github.com/wtitze/3E/blob/main/BikeStores.xls?raw=true\", sheet_name = \"brands\")\n",
        "categories = pd.read_excel(\"https://github.com/wtitze/3E/blob/main/BikeStores.xls?raw=true\", sheet_name = \"categories\")\n",
        "products = pd.read_excel(\"https://github.com/wtitze/3E/blob/main/BikeStores.xls?raw=true\", sheet_name = \"products\")"
      ],
      "metadata": {
        "id": "CkYDnUJb38TL"
      },
      "execution_count": null,
      "outputs": []
    },
    {
      "cell_type": "code",
      "source": [
        "df_products_brands = pd.merge(products,brands, how=\"inner\",on=\"brand_id\")\n",
        "df_products_brands_categories = pd.merge(df_products_brands,categories,how=\"inner\",on=\"category_id\")\n",
        "df_products_brands_categories[[\"product_name\",\"brand_name\",\"category_name\"]]"
      ],
      "metadata": {
        "colab": {
          "base_uri": "https://localhost:8080/",
          "height": 424
        },
        "id": "b4BpfQb55X_6",
        "outputId": "81c92334-8b06-4a3c-b89f-b2798109dd7b"
      },
      "execution_count": null,
      "outputs": [
        {
          "output_type": "execute_result",
          "data": {
            "text/html": [
              "\n",
              "  <div id=\"df-24cd4b3b-36c7-475e-964c-2d302ee74958\">\n",
              "    <div class=\"colab-df-container\">\n",
              "      <div>\n",
              "<style scoped>\n",
              "    .dataframe tbody tr th:only-of-type {\n",
              "        vertical-align: middle;\n",
              "    }\n",
              "\n",
              "    .dataframe tbody tr th {\n",
              "        vertical-align: top;\n",
              "    }\n",
              "\n",
              "    .dataframe thead th {\n",
              "        text-align: right;\n",
              "    }\n",
              "</style>\n",
              "<table border=\"1\" class=\"dataframe\">\n",
              "  <thead>\n",
              "    <tr style=\"text-align: right;\">\n",
              "      <th></th>\n",
              "      <th>product_name</th>\n",
              "      <th>brand_name</th>\n",
              "      <th>category_name</th>\n",
              "    </tr>\n",
              "  </thead>\n",
              "  <tbody>\n",
              "    <tr>\n",
              "      <th>0</th>\n",
              "      <td>Trek 820 - 2016</td>\n",
              "      <td>Trek</td>\n",
              "      <td>Mountain Bikes</td>\n",
              "    </tr>\n",
              "    <tr>\n",
              "      <th>1</th>\n",
              "      <td>Trek Fuel EX 8 29 - 2016</td>\n",
              "      <td>Trek</td>\n",
              "      <td>Mountain Bikes</td>\n",
              "    </tr>\n",
              "    <tr>\n",
              "      <th>2</th>\n",
              "      <td>Trek Slash 8 27.5 - 2016</td>\n",
              "      <td>Trek</td>\n",
              "      <td>Mountain Bikes</td>\n",
              "    </tr>\n",
              "    <tr>\n",
              "      <th>3</th>\n",
              "      <td>Trek Remedy 29 Carbon Frameset - 2016</td>\n",
              "      <td>Trek</td>\n",
              "      <td>Mountain Bikes</td>\n",
              "    </tr>\n",
              "    <tr>\n",
              "      <th>4</th>\n",
              "      <td>Trek X-Caliber 8 - 2017</td>\n",
              "      <td>Trek</td>\n",
              "      <td>Mountain Bikes</td>\n",
              "    </tr>\n",
              "    <tr>\n",
              "      <th>...</th>\n",
              "      <td>...</td>\n",
              "      <td>...</td>\n",
              "      <td>...</td>\n",
              "    </tr>\n",
              "    <tr>\n",
              "      <th>316</th>\n",
              "      <td>Sun Bicycles Cruz 7 - 2017</td>\n",
              "      <td>Sun Bicycles</td>\n",
              "      <td>Comfort Bicycles</td>\n",
              "    </tr>\n",
              "    <tr>\n",
              "      <th>317</th>\n",
              "      <td>Sun Bicycles Cruz 3 - Women's - 2017</td>\n",
              "      <td>Sun Bicycles</td>\n",
              "      <td>Comfort Bicycles</td>\n",
              "    </tr>\n",
              "    <tr>\n",
              "      <th>318</th>\n",
              "      <td>Sun Bicycles Cruz 7 - Women's - 2017</td>\n",
              "      <td>Sun Bicycles</td>\n",
              "      <td>Comfort Bicycles</td>\n",
              "    </tr>\n",
              "    <tr>\n",
              "      <th>319</th>\n",
              "      <td>Sun Bicycles Drifter 7 - 2017</td>\n",
              "      <td>Sun Bicycles</td>\n",
              "      <td>Comfort Bicycles</td>\n",
              "    </tr>\n",
              "    <tr>\n",
              "      <th>320</th>\n",
              "      <td>Sun Bicycles Drifter 7 - Women's - 2017</td>\n",
              "      <td>Sun Bicycles</td>\n",
              "      <td>Comfort Bicycles</td>\n",
              "    </tr>\n",
              "  </tbody>\n",
              "</table>\n",
              "<p>321 rows × 3 columns</p>\n",
              "</div>\n",
              "      <button class=\"colab-df-convert\" onclick=\"convertToInteractive('df-24cd4b3b-36c7-475e-964c-2d302ee74958')\"\n",
              "              title=\"Convert this dataframe to an interactive table.\"\n",
              "              style=\"display:none;\">\n",
              "        \n",
              "  <svg xmlns=\"http://www.w3.org/2000/svg\" height=\"24px\"viewBox=\"0 0 24 24\"\n",
              "       width=\"24px\">\n",
              "    <path d=\"M0 0h24v24H0V0z\" fill=\"none\"/>\n",
              "    <path d=\"M18.56 5.44l.94 2.06.94-2.06 2.06-.94-2.06-.94-.94-2.06-.94 2.06-2.06.94zm-11 1L8.5 8.5l.94-2.06 2.06-.94-2.06-.94L8.5 2.5l-.94 2.06-2.06.94zm10 10l.94 2.06.94-2.06 2.06-.94-2.06-.94-.94-2.06-.94 2.06-2.06.94z\"/><path d=\"M17.41 7.96l-1.37-1.37c-.4-.4-.92-.59-1.43-.59-.52 0-1.04.2-1.43.59L10.3 9.45l-7.72 7.72c-.78.78-.78 2.05 0 2.83L4 21.41c.39.39.9.59 1.41.59.51 0 1.02-.2 1.41-.59l7.78-7.78 2.81-2.81c.8-.78.8-2.07 0-2.86zM5.41 20L4 18.59l7.72-7.72 1.47 1.35L5.41 20z\"/>\n",
              "  </svg>\n",
              "      </button>\n",
              "      \n",
              "  <style>\n",
              "    .colab-df-container {\n",
              "      display:flex;\n",
              "      flex-wrap:wrap;\n",
              "      gap: 12px;\n",
              "    }\n",
              "\n",
              "    .colab-df-convert {\n",
              "      background-color: #E8F0FE;\n",
              "      border: none;\n",
              "      border-radius: 50%;\n",
              "      cursor: pointer;\n",
              "      display: none;\n",
              "      fill: #1967D2;\n",
              "      height: 32px;\n",
              "      padding: 0 0 0 0;\n",
              "      width: 32px;\n",
              "    }\n",
              "\n",
              "    .colab-df-convert:hover {\n",
              "      background-color: #E2EBFA;\n",
              "      box-shadow: 0px 1px 2px rgba(60, 64, 67, 0.3), 0px 1px 3px 1px rgba(60, 64, 67, 0.15);\n",
              "      fill: #174EA6;\n",
              "    }\n",
              "\n",
              "    [theme=dark] .colab-df-convert {\n",
              "      background-color: #3B4455;\n",
              "      fill: #D2E3FC;\n",
              "    }\n",
              "\n",
              "    [theme=dark] .colab-df-convert:hover {\n",
              "      background-color: #434B5C;\n",
              "      box-shadow: 0px 1px 3px 1px rgba(0, 0, 0, 0.15);\n",
              "      filter: drop-shadow(0px 1px 2px rgba(0, 0, 0, 0.3));\n",
              "      fill: #FFFFFF;\n",
              "    }\n",
              "  </style>\n",
              "\n",
              "      <script>\n",
              "        const buttonEl =\n",
              "          document.querySelector('#df-24cd4b3b-36c7-475e-964c-2d302ee74958 button.colab-df-convert');\n",
              "        buttonEl.style.display =\n",
              "          google.colab.kernel.accessAllowed ? 'block' : 'none';\n",
              "\n",
              "        async function convertToInteractive(key) {\n",
              "          const element = document.querySelector('#df-24cd4b3b-36c7-475e-964c-2d302ee74958');\n",
              "          const dataTable =\n",
              "            await google.colab.kernel.invokeFunction('convertToInteractive',\n",
              "                                                     [key], {});\n",
              "          if (!dataTable) return;\n",
              "\n",
              "          const docLinkHtml = 'Like what you see? Visit the ' +\n",
              "            '<a target=\"_blank\" href=https://colab.research.google.com/notebooks/data_table.ipynb>data table notebook</a>'\n",
              "            + ' to learn more about interactive tables.';\n",
              "          element.innerHTML = '';\n",
              "          dataTable['output_type'] = 'display_data';\n",
              "          await google.colab.output.renderOutput(dataTable, element);\n",
              "          const docLink = document.createElement('div');\n",
              "          docLink.innerHTML = docLinkHtml;\n",
              "          element.appendChild(docLink);\n",
              "        }\n",
              "      </script>\n",
              "    </div>\n",
              "  </div>\n",
              "  "
            ],
            "text/plain": [
              "                                product_name    brand_name     category_name\n",
              "0                            Trek 820 - 2016          Trek    Mountain Bikes\n",
              "1                   Trek Fuel EX 8 29 - 2016          Trek    Mountain Bikes\n",
              "2                   Trek Slash 8 27.5 - 2016          Trek    Mountain Bikes\n",
              "3      Trek Remedy 29 Carbon Frameset - 2016          Trek    Mountain Bikes\n",
              "4                    Trek X-Caliber 8 - 2017          Trek    Mountain Bikes\n",
              "..                                       ...           ...               ...\n",
              "316               Sun Bicycles Cruz 7 - 2017  Sun Bicycles  Comfort Bicycles\n",
              "317     Sun Bicycles Cruz 3 - Women's - 2017  Sun Bicycles  Comfort Bicycles\n",
              "318     Sun Bicycles Cruz 7 - Women's - 2017  Sun Bicycles  Comfort Bicycles\n",
              "319            Sun Bicycles Drifter 7 - 2017  Sun Bicycles  Comfort Bicycles\n",
              "320  Sun Bicycles Drifter 7 - Women's - 2017  Sun Bicycles  Comfort Bicycles\n",
              "\n",
              "[321 rows x 3 columns]"
            ]
          },
          "metadata": {},
          "execution_count": 20
        }
      ]
    },
    {
      "cell_type": "markdown",
      "source": [
        "2. il numero di prodotti per ogni categoria. Visualizzare i nomi delle categorie e il numero dei prodotti"
      ],
      "metadata": {
        "id": "wy1dUc2D6gna"
      }
    },
    {
      "cell_type": "code",
      "source": [
        "df_products_brands_categories.groupby(\"category_name\").count()[\"product_name\"]"
      ],
      "metadata": {
        "colab": {
          "base_uri": "https://localhost:8080/"
        },
        "id": "XTwvhb_A6jpy",
        "outputId": "78b5e03e-6d25-4ff8-be2b-7e0f82a8213a"
      },
      "execution_count": null,
      "outputs": [
        {
          "output_type": "execute_result",
          "data": {
            "text/plain": [
              "category_name\n",
              "Children Bicycles      59\n",
              "Comfort Bicycles       30\n",
              "Cruisers Bicycles      78\n",
              "Cyclocross Bicycles    10\n",
              "Electric Bikes         24\n",
              "Mountain Bikes         60\n",
              "Road Bikes             60\n",
              "Name: product_name, dtype: int64"
            ]
          },
          "metadata": {},
          "execution_count": 22
        }
      ]
    },
    {
      "cell_type": "markdown",
      "source": [
        "3. il numero di prodotti per ogni marca (brand). Visualizzare i nomi dei brand e il numero di prodotti"
      ],
      "metadata": {
        "id": "ZGXrW3zL6zq6"
      }
    },
    {
      "cell_type": "code",
      "source": [
        "df_products_brands_categories.groupby(\"brand_name\").count()[\"product_name\"]"
      ],
      "metadata": {
        "colab": {
          "base_uri": "https://localhost:8080/"
        },
        "id": "JH-OtXD762ay",
        "outputId": "9ba280a3-6729-4008-c0e3-1c0f23df9f0b"
      },
      "execution_count": null,
      "outputs": [
        {
          "output_type": "execute_result",
          "data": {
            "text/plain": [
              "brand_name\n",
              "Electra         118\n",
              "Haro             10\n",
              "Heller            3\n",
              "Pure Cycles       3\n",
              "Ritchey           1\n",
              "Strider           3\n",
              "Sun Bicycles     23\n",
              "Surly            25\n",
              "Trek            135\n",
              "Name: product_name, dtype: int64"
            ]
          },
          "metadata": {},
          "execution_count": 23
        }
      ]
    },
    {
      "cell_type": "markdown",
      "source": [
        "4. i nomi dei prodotti della marca Trek"
      ],
      "metadata": {
        "id": "QDYUljGx7Bv0"
      }
    },
    {
      "cell_type": "code",
      "source": [
        "df_products_brands_categories[df_products_brands_categories.brand_name == \"Trek\"][\"product_name\"]"
      ],
      "metadata": {
        "colab": {
          "base_uri": "https://localhost:8080/"
        },
        "id": "8g6e1dsY7EUT",
        "outputId": "af846b5a-e05c-4550-c826-3e9d4ed8cdb0"
      },
      "execution_count": null,
      "outputs": [
        {
          "output_type": "execute_result",
          "data": {
            "text/plain": [
              "0                                 Trek 820 - 2016\n",
              "1                        Trek Fuel EX 8 29 - 2016\n",
              "2                        Trek Slash 8 27.5 - 2016\n",
              "3           Trek Remedy 29 Carbon Frameset - 2016\n",
              "4                         Trek X-Caliber 8 - 2017\n",
              "                          ...                    \n",
              "172    Trek Precaliber 24 (7-Speed) - Boys - 2018\n",
              "173      Trek Precaliber 24 21-speed Boy's - 2018\n",
              "174     Trek Precaliber 24 21-speed Girl's - 2018\n",
              "175      Trek Precaliber 24 7-speed Girl's - 2018\n",
              "176                  Trek Superfly 24 - 2017/2018\n",
              "Name: product_name, Length: 135, dtype: object"
            ]
          },
          "metadata": {},
          "execution_count": 40
        }
      ]
    },
    {
      "cell_type": "markdown",
      "source": [
        "5. i prodotti delle categorie che hanno la parola 'Bikes' nel nome"
      ],
      "metadata": {
        "id": "EOvKh-eO7pVy"
      }
    },
    {
      "cell_type": "code",
      "source": [
        "df_products_brands_categories[df_products_brands_categories.category_name.str.contains(\"Bikes\")][\"product_name\"]"
      ],
      "metadata": {
        "colab": {
          "base_uri": "https://localhost:8080/"
        },
        "id": "vuo3Rk-q7sjq",
        "outputId": "44dc6f08-a2d4-4810-b839-00a6f9d491b6"
      },
      "execution_count": null,
      "outputs": [
        {
          "output_type": "execute_result",
          "data": {
            "text/plain": [
              "0                            Trek 820 - 2016\n",
              "1                   Trek Fuel EX 8 29 - 2016\n",
              "2                   Trek Slash 8 27.5 - 2016\n",
              "3      Trek Remedy 29 Carbon Frameset - 2016\n",
              "4                    Trek X-Caliber 8 - 2017\n",
              "                       ...                  \n",
              "139                         Surly ECR - 2018\n",
              "140                    Surly Pack Rat - 2018\n",
              "141              Surly Straggler 650b - 2018\n",
              "142                Surly ECR Frameset - 2018\n",
              "143                   Surly Straggler - 2018\n",
              "Name: product_name, Length: 144, dtype: object"
            ]
          },
          "metadata": {},
          "execution_count": 39
        }
      ]
    },
    {
      "cell_type": "markdown",
      "source": [
        "6. la categoria che ha il prodotto che costa di più"
      ],
      "metadata": {
        "id": "RmCC-_CA8S-y"
      }
    },
    {
      "cell_type": "code",
      "source": [
        "df_products_brands_categories"
      ],
      "metadata": {
        "colab": {
          "base_uri": "https://localhost:8080/",
          "height": 424
        },
        "id": "Fl_QLfXV9B4L",
        "outputId": "ce8ea9fd-0953-4508-daa6-63fc22b2d743"
      },
      "execution_count": null,
      "outputs": [
        {
          "output_type": "execute_result",
          "data": {
            "text/html": [
              "\n",
              "  <div id=\"df-0d8142dd-9e71-4a9d-93d7-a929ad5c1994\">\n",
              "    <div class=\"colab-df-container\">\n",
              "      <div>\n",
              "<style scoped>\n",
              "    .dataframe tbody tr th:only-of-type {\n",
              "        vertical-align: middle;\n",
              "    }\n",
              "\n",
              "    .dataframe tbody tr th {\n",
              "        vertical-align: top;\n",
              "    }\n",
              "\n",
              "    .dataframe thead th {\n",
              "        text-align: right;\n",
              "    }\n",
              "</style>\n",
              "<table border=\"1\" class=\"dataframe\">\n",
              "  <thead>\n",
              "    <tr style=\"text-align: right;\">\n",
              "      <th></th>\n",
              "      <th>product_id</th>\n",
              "      <th>product_name</th>\n",
              "      <th>brand_id</th>\n",
              "      <th>category_id</th>\n",
              "      <th>model_year</th>\n",
              "      <th>list_price</th>\n",
              "      <th>brand_name</th>\n",
              "      <th>category_name</th>\n",
              "    </tr>\n",
              "  </thead>\n",
              "  <tbody>\n",
              "    <tr>\n",
              "      <th>0</th>\n",
              "      <td>1</td>\n",
              "      <td>Trek 820 - 2016</td>\n",
              "      <td>9</td>\n",
              "      <td>6</td>\n",
              "      <td>2016.0</td>\n",
              "      <td>379.99</td>\n",
              "      <td>Trek</td>\n",
              "      <td>Mountain Bikes</td>\n",
              "    </tr>\n",
              "    <tr>\n",
              "      <th>1</th>\n",
              "      <td>4</td>\n",
              "      <td>Trek Fuel EX 8 29 - 2016</td>\n",
              "      <td>9</td>\n",
              "      <td>6</td>\n",
              "      <td>2016.0</td>\n",
              "      <td>2899.99</td>\n",
              "      <td>Trek</td>\n",
              "      <td>Mountain Bikes</td>\n",
              "    </tr>\n",
              "    <tr>\n",
              "      <th>2</th>\n",
              "      <td>7</td>\n",
              "      <td>Trek Slash 8 27.5 - 2016</td>\n",
              "      <td>9</td>\n",
              "      <td>6</td>\n",
              "      <td>2016.0</td>\n",
              "      <td>3999.99</td>\n",
              "      <td>Trek</td>\n",
              "      <td>Mountain Bikes</td>\n",
              "    </tr>\n",
              "    <tr>\n",
              "      <th>3</th>\n",
              "      <td>8</td>\n",
              "      <td>Trek Remedy 29 Carbon Frameset - 2016</td>\n",
              "      <td>9</td>\n",
              "      <td>6</td>\n",
              "      <td>2016.0</td>\n",
              "      <td>1799.99</td>\n",
              "      <td>Trek</td>\n",
              "      <td>Mountain Bikes</td>\n",
              "    </tr>\n",
              "    <tr>\n",
              "      <th>4</th>\n",
              "      <td>29</td>\n",
              "      <td>Trek X-Caliber 8 - 2017</td>\n",
              "      <td>9</td>\n",
              "      <td>6</td>\n",
              "      <td>2017.0</td>\n",
              "      <td>999.99</td>\n",
              "      <td>Trek</td>\n",
              "      <td>Mountain Bikes</td>\n",
              "    </tr>\n",
              "    <tr>\n",
              "      <th>...</th>\n",
              "      <td>...</td>\n",
              "      <td>...</td>\n",
              "      <td>...</td>\n",
              "      <td>...</td>\n",
              "      <td>...</td>\n",
              "      <td>...</td>\n",
              "      <td>...</td>\n",
              "      <td>...</td>\n",
              "    </tr>\n",
              "    <tr>\n",
              "      <th>316</th>\n",
              "      <td>107</td>\n",
              "      <td>Sun Bicycles Cruz 7 - 2017</td>\n",
              "      <td>7</td>\n",
              "      <td>2</td>\n",
              "      <td>2017.0</td>\n",
              "      <td>416.99</td>\n",
              "      <td>Sun Bicycles</td>\n",
              "      <td>Comfort Bicycles</td>\n",
              "    </tr>\n",
              "    <tr>\n",
              "      <th>317</th>\n",
              "      <td>108</td>\n",
              "      <td>Sun Bicycles Cruz 3 - Women's - 2017</td>\n",
              "      <td>7</td>\n",
              "      <td>2</td>\n",
              "      <td>2017.0</td>\n",
              "      <td>449.99</td>\n",
              "      <td>Sun Bicycles</td>\n",
              "      <td>Comfort Bicycles</td>\n",
              "    </tr>\n",
              "    <tr>\n",
              "      <th>318</th>\n",
              "      <td>109</td>\n",
              "      <td>Sun Bicycles Cruz 7 - Women's - 2017</td>\n",
              "      <td>7</td>\n",
              "      <td>2</td>\n",
              "      <td>2017.0</td>\n",
              "      <td>416.99</td>\n",
              "      <td>Sun Bicycles</td>\n",
              "      <td>Comfort Bicycles</td>\n",
              "    </tr>\n",
              "    <tr>\n",
              "      <th>319</th>\n",
              "      <td>110</td>\n",
              "      <td>Sun Bicycles Drifter 7 - 2017</td>\n",
              "      <td>7</td>\n",
              "      <td>2</td>\n",
              "      <td>2017.0</td>\n",
              "      <td>470.99</td>\n",
              "      <td>Sun Bicycles</td>\n",
              "      <td>Comfort Bicycles</td>\n",
              "    </tr>\n",
              "    <tr>\n",
              "      <th>320</th>\n",
              "      <td>111</td>\n",
              "      <td>Sun Bicycles Drifter 7 - Women's - 2017</td>\n",
              "      <td>7</td>\n",
              "      <td>2</td>\n",
              "      <td>2017.0</td>\n",
              "      <td>470.99</td>\n",
              "      <td>Sun Bicycles</td>\n",
              "      <td>Comfort Bicycles</td>\n",
              "    </tr>\n",
              "  </tbody>\n",
              "</table>\n",
              "<p>321 rows × 8 columns</p>\n",
              "</div>\n",
              "      <button class=\"colab-df-convert\" onclick=\"convertToInteractive('df-0d8142dd-9e71-4a9d-93d7-a929ad5c1994')\"\n",
              "              title=\"Convert this dataframe to an interactive table.\"\n",
              "              style=\"display:none;\">\n",
              "        \n",
              "  <svg xmlns=\"http://www.w3.org/2000/svg\" height=\"24px\"viewBox=\"0 0 24 24\"\n",
              "       width=\"24px\">\n",
              "    <path d=\"M0 0h24v24H0V0z\" fill=\"none\"/>\n",
              "    <path d=\"M18.56 5.44l.94 2.06.94-2.06 2.06-.94-2.06-.94-.94-2.06-.94 2.06-2.06.94zm-11 1L8.5 8.5l.94-2.06 2.06-.94-2.06-.94L8.5 2.5l-.94 2.06-2.06.94zm10 10l.94 2.06.94-2.06 2.06-.94-2.06-.94-.94-2.06-.94 2.06-2.06.94z\"/><path d=\"M17.41 7.96l-1.37-1.37c-.4-.4-.92-.59-1.43-.59-.52 0-1.04.2-1.43.59L10.3 9.45l-7.72 7.72c-.78.78-.78 2.05 0 2.83L4 21.41c.39.39.9.59 1.41.59.51 0 1.02-.2 1.41-.59l7.78-7.78 2.81-2.81c.8-.78.8-2.07 0-2.86zM5.41 20L4 18.59l7.72-7.72 1.47 1.35L5.41 20z\"/>\n",
              "  </svg>\n",
              "      </button>\n",
              "      \n",
              "  <style>\n",
              "    .colab-df-container {\n",
              "      display:flex;\n",
              "      flex-wrap:wrap;\n",
              "      gap: 12px;\n",
              "    }\n",
              "\n",
              "    .colab-df-convert {\n",
              "      background-color: #E8F0FE;\n",
              "      border: none;\n",
              "      border-radius: 50%;\n",
              "      cursor: pointer;\n",
              "      display: none;\n",
              "      fill: #1967D2;\n",
              "      height: 32px;\n",
              "      padding: 0 0 0 0;\n",
              "      width: 32px;\n",
              "    }\n",
              "\n",
              "    .colab-df-convert:hover {\n",
              "      background-color: #E2EBFA;\n",
              "      box-shadow: 0px 1px 2px rgba(60, 64, 67, 0.3), 0px 1px 3px 1px rgba(60, 64, 67, 0.15);\n",
              "      fill: #174EA6;\n",
              "    }\n",
              "\n",
              "    [theme=dark] .colab-df-convert {\n",
              "      background-color: #3B4455;\n",
              "      fill: #D2E3FC;\n",
              "    }\n",
              "\n",
              "    [theme=dark] .colab-df-convert:hover {\n",
              "      background-color: #434B5C;\n",
              "      box-shadow: 0px 1px 3px 1px rgba(0, 0, 0, 0.15);\n",
              "      filter: drop-shadow(0px 1px 2px rgba(0, 0, 0, 0.3));\n",
              "      fill: #FFFFFF;\n",
              "    }\n",
              "  </style>\n",
              "\n",
              "      <script>\n",
              "        const buttonEl =\n",
              "          document.querySelector('#df-0d8142dd-9e71-4a9d-93d7-a929ad5c1994 button.colab-df-convert');\n",
              "        buttonEl.style.display =\n",
              "          google.colab.kernel.accessAllowed ? 'block' : 'none';\n",
              "\n",
              "        async function convertToInteractive(key) {\n",
              "          const element = document.querySelector('#df-0d8142dd-9e71-4a9d-93d7-a929ad5c1994');\n",
              "          const dataTable =\n",
              "            await google.colab.kernel.invokeFunction('convertToInteractive',\n",
              "                                                     [key], {});\n",
              "          if (!dataTable) return;\n",
              "\n",
              "          const docLinkHtml = 'Like what you see? Visit the ' +\n",
              "            '<a target=\"_blank\" href=https://colab.research.google.com/notebooks/data_table.ipynb>data table notebook</a>'\n",
              "            + ' to learn more about interactive tables.';\n",
              "          element.innerHTML = '';\n",
              "          dataTable['output_type'] = 'display_data';\n",
              "          await google.colab.output.renderOutput(dataTable, element);\n",
              "          const docLink = document.createElement('div');\n",
              "          docLink.innerHTML = docLinkHtml;\n",
              "          element.appendChild(docLink);\n",
              "        }\n",
              "      </script>\n",
              "    </div>\n",
              "  </div>\n",
              "  "
            ],
            "text/plain": [
              "     product_id  ...     category_name\n",
              "0             1  ...    Mountain Bikes\n",
              "1             4  ...    Mountain Bikes\n",
              "2             7  ...    Mountain Bikes\n",
              "3             8  ...    Mountain Bikes\n",
              "4            29  ...    Mountain Bikes\n",
              "..          ...  ...               ...\n",
              "316         107  ...  Comfort Bicycles\n",
              "317         108  ...  Comfort Bicycles\n",
              "318         109  ...  Comfort Bicycles\n",
              "319         110  ...  Comfort Bicycles\n",
              "320         111  ...  Comfort Bicycles\n",
              "\n",
              "[321 rows x 8 columns]"
            ]
          },
          "metadata": {},
          "execution_count": 26
        }
      ]
    },
    {
      "cell_type": "code",
      "source": [
        "df_products_brands_categories[df_products_brands_categories.list_price == df_products_brands_categories.list_price.max()][\"category_name\"]"
      ],
      "metadata": {
        "colab": {
          "base_uri": "https://localhost:8080/"
        },
        "id": "U04GULe88W3h",
        "outputId": "bbbc4511-8650-417d-9d4c-d1cf986ecbe4"
      },
      "execution_count": null,
      "outputs": [
        {
          "output_type": "execute_result",
          "data": {
            "text/plain": [
              "106    Road Bikes\n",
              "Name: category_name, dtype: object"
            ]
          },
          "metadata": {},
          "execution_count": 37
        }
      ]
    },
    {
      "cell_type": "markdown",
      "source": [
        "7. i brand con almeno 100 prodotti. Viaulizzare il nome del brand e il numero di prodotti"
      ],
      "metadata": {
        "id": "3LZsZvHH_PoN"
      }
    },
    {
      "cell_type": "code",
      "source": [
        "df_products_brands_categories.groupby(\"brand_name\").count()[\"product_name\"][df_products_brands_categories.groupby(\"brand_name\").count()[\"product_name\"] > 100]"
      ],
      "metadata": {
        "colab": {
          "base_uri": "https://localhost:8080/"
        },
        "id": "fPp9K0dw_ZXb",
        "outputId": "deded1ad-dd06-47c6-d574-8ee18761607f"
      },
      "execution_count": null,
      "outputs": [
        {
          "output_type": "execute_result",
          "data": {
            "text/plain": [
              "brand_name\n",
              "Electra    118\n",
              "Trek       135\n",
              "Name: product_name, dtype: int64"
            ]
          },
          "metadata": {},
          "execution_count": 54
        }
      ]
    },
    {
      "cell_type": "markdown",
      "source": [
        "8. la marca del prodotto 'Electra Townie Original 21D - 2016'\n"
      ],
      "metadata": {
        "id": "ifET1lcoAgEj"
      }
    },
    {
      "cell_type": "code",
      "source": [
        "df_products_brands_categories[df_products_brands_categories.product_name == \"Electra Townie Original 21D - 2016\"][\"brand_name\"]"
      ],
      "metadata": {
        "colab": {
          "base_uri": "https://localhost:8080/"
        },
        "id": "LwZvw0zpAkjz",
        "outputId": "64ac2c79-5d2b-4e0e-df95-af7945422da9"
      },
      "execution_count": null,
      "outputs": [
        {
          "output_type": "execute_result",
          "data": {
            "text/plain": [
              "213    Electra\n",
              "291    Electra\n",
              "Name: brand_name, dtype: object"
            ]
          },
          "metadata": {},
          "execution_count": 56
        }
      ]
    },
    {
      "cell_type": "markdown",
      "source": [
        "9. il numero di prodotti per ogni anno. Visualizzare l'anno e il numero di prodotti"
      ],
      "metadata": {
        "id": "vLw4LTQmA9NM"
      }
    },
    {
      "cell_type": "code",
      "source": [
        "df_products_brands_categories.groupby(\"model_year\").count()[\"product_name\"]"
      ],
      "metadata": {
        "colab": {
          "base_uri": "https://localhost:8080/"
        },
        "id": "ybFzEwyABIC7",
        "outputId": "1e32c3ed-df85-4c71-e5b5-7422f1ab5a6f"
      },
      "execution_count": null,
      "outputs": [
        {
          "output_type": "execute_result",
          "data": {
            "text/plain": [
              "model_year\n",
              "2016.0     25\n",
              "2017.0     85\n",
              "2018.0    195\n",
              "2019.0      6\n",
              "Name: product_name, dtype: int64"
            ]
          },
          "metadata": {},
          "execution_count": 57
        }
      ]
    },
    {
      "cell_type": "markdown",
      "source": [
        "Visualizzare i grafici più adatti per le richieste 2, 3, 7 e 9"
      ],
      "metadata": {
        "id": "RJzLioGFBWy7"
      }
    },
    {
      "cell_type": "markdown",
      "source": [
        "2"
      ],
      "metadata": {
        "id": "pt0dPNzfCvRE"
      }
    },
    {
      "cell_type": "code",
      "source": [
        "df_products_brands_categories.groupby(\"category_name\").count()[\"product_name\"]"
      ],
      "metadata": {
        "colab": {
          "base_uri": "https://localhost:8080/"
        },
        "id": "rWJPJb3rB74E",
        "outputId": "537c8efa-1449-4249-87c9-eba103cb0167"
      },
      "execution_count": null,
      "outputs": [
        {
          "output_type": "execute_result",
          "data": {
            "text/plain": [
              "category_name\n",
              "Children Bicycles      59\n",
              "Comfort Bicycles       30\n",
              "Cruisers Bicycles      78\n",
              "Cyclocross Bicycles    10\n",
              "Electric Bikes         24\n",
              "Mountain Bikes         60\n",
              "Road Bikes             60\n",
              "Name: product_name, dtype: int64"
            ]
          },
          "metadata": {},
          "execution_count": 59
        }
      ]
    },
    {
      "cell_type": "code",
      "source": [
        "fig = plt.figure()\n",
        "ax = plt.axes()\n",
        "plt.xticks(rotation=90)\n",
        "ax.bar(df_products_brands_categories.groupby(\"category_name\").count()[\"product_name\"].index,df_products_brands_categories.groupby(\"category_name\").count()[\"product_name\"].values)"
      ],
      "metadata": {
        "colab": {
          "base_uri": "https://localhost:8080/",
          "height": 369
        },
        "id": "wLiQWKHwBajG",
        "outputId": "fec0b9d4-35a0-4f9e-d649-5755d513ff22"
      },
      "execution_count": null,
      "outputs": [
        {
          "output_type": "execute_result",
          "data": {
            "text/plain": [
              "<BarContainer object of 7 artists>"
            ]
          },
          "metadata": {},
          "execution_count": 61
        },
        {
          "output_type": "display_data",
          "data": {
            "image/png": "[encoded data removed]",
            "text/plain": [
              "<Figure size 432x288 with 1 Axes>"
            ]
          },
          "metadata": {
            "needs_background": "light"
          }
        }
      ]
    },
    {
      "cell_type": "markdown",
      "source": [
        "3"
      ],
      "metadata": {
        "id": "H0C5_eF6CuCc"
      }
    },
    {
      "cell_type": "code",
      "source": [
        "df_products_brands_categories.groupby(\"brand_name\").count()[\"product_name\"]"
      ],
      "metadata": {
        "colab": {
          "base_uri": "https://localhost:8080/"
        },
        "id": "QZfn_kNGCeX0",
        "outputId": "81de88c6-bcbf-47e5-bda9-ff101eebcf4c"
      },
      "execution_count": null,
      "outputs": [
        {
          "output_type": "execute_result",
          "data": {
            "text/plain": [
              "brand_name\n",
              "Electra         118\n",
              "Haro             10\n",
              "Heller            3\n",
              "Pure Cycles       3\n",
              "Ritchey           1\n",
              "Strider           3\n",
              "Sun Bicycles     23\n",
              "Surly            25\n",
              "Trek            135\n",
              "Name: product_name, dtype: int64"
            ]
          },
          "metadata": {},
          "execution_count": 62
        }
      ]
    },
    {
      "cell_type": "code",
      "source": [
        "fig = plt.figure()\n",
        "ax = plt.axes()\n",
        "plt.xticks(rotation=90)\n",
        "ax.bar(df_products_brands_categories.groupby(\"brand_name\").count()[\"product_name\"].index,df_products_brands_categories.groupby(\"brand_name\").count()[\"product_name\"].values)"
      ],
      "metadata": {
        "colab": {
          "base_uri": "https://localhost:8080/",
          "height": 337
        },
        "id": "Fb-Tz_ccCl6D",
        "outputId": "e4abbfcc-a45f-4d16-8659-6f68d85518cb"
      },
      "execution_count": null,
      "outputs": [
        {
          "output_type": "execute_result",
          "data": {
            "text/plain": [
              "<BarContainer object of 9 artists>"
            ]
          },
          "metadata": {},
          "execution_count": 63
        },
        {
          "output_type": "display_data",
          "data": {
            "image/png": "[encoded data removed]",
            "text/plain": [
              "<Figure size 432x288 with 1 Axes>"
            ]
          },
          "metadata": {
            "needs_background": "light"
          }
        }
      ]
    },
    {
      "cell_type": "markdown",
      "source": [
        "7"
      ],
      "metadata": {
        "id": "odh0kGE6Cw7T"
      }
    },
    {
      "cell_type": "code",
      "source": [
        "df_products_brands_categories.groupby(\"brand_name\").count()[\"product_name\"][df_products_brands_categories.groupby(\"brand_name\").count()[\"product_name\"] > 100]"
      ],
      "metadata": {
        "colab": {
          "base_uri": "https://localhost:8080/"
        },
        "id": "URyu4S24Cxej",
        "outputId": "49aba372-f6ff-423c-f2de-fb0121fe60a9"
      },
      "execution_count": null,
      "outputs": [
        {
          "output_type": "execute_result",
          "data": {
            "text/plain": [
              "brand_name\n",
              "Electra    118\n",
              "Trek       135\n",
              "Name: product_name, dtype: int64"
            ]
          },
          "metadata": {},
          "execution_count": 64
        }
      ]
    },
    {
      "cell_type": "code",
      "source": [
        "fig = plt.figure()\n",
        "ax = plt.axes()\n",
        "ax.bar(df_products_brands_categories.groupby(\"brand_name\").count()[\"product_name\"][df_products_brands_categories.groupby(\"brand_name\").count()[\"product_name\"] > 100].index,df_products_brands_categories.groupby(\"brand_name\").count()[\"product_name\"][df_products_brands_categories.groupby(\"brand_name\").count()[\"product_name\"] > 100].values)"
      ],
      "metadata": {
        "colab": {
          "base_uri": "https://localhost:8080/",
          "height": 284
        },
        "id": "kikmVMDKC9Ls",
        "outputId": "28113fe9-6958-43a8-c793-c1db49201357"
      },
      "execution_count": null,
      "outputs": [
        {
          "output_type": "execute_result",
          "data": {
            "text/plain": [
              "<BarContainer object of 2 artists>"
            ]
          },
          "metadata": {},
          "execution_count": 65
        },
        {
          "output_type": "display_data",
          "data": {
            "image/png": "[encoded data removed]",
            "text/plain": [
              "<Figure size 432x288 with 1 Axes>"
            ]
          },
          "metadata": {
            "needs_background": "light"
          }
        }
      ]
    },
    {
      "cell_type": "markdown",
      "source": [
        "9"
      ],
      "metadata": {
        "id": "OiWAKLgZDWV7"
      }
    },
    {
      "cell_type": "code",
      "source": [
        "df_products_brands_categories.groupby(\"model_year\").count()[\"product_name\"]"
      ],
      "metadata": {
        "colab": {
          "base_uri": "https://localhost:8080/"
        },
        "id": "k3H919ibDZO7",
        "outputId": "f53ed6b1-d1b8-4f64-f779-39bec5b46c9d"
      },
      "execution_count": null,
      "outputs": [
        {
          "output_type": "execute_result",
          "data": {
            "text/plain": [
              "model_year\n",
              "2016.0     25\n",
              "2017.0     85\n",
              "2018.0    195\n",
              "2019.0      6\n",
              "Name: product_name, dtype: int64"
            ]
          },
          "metadata": {},
          "execution_count": 66
        }
      ]
    },
    {
      "cell_type": "code",
      "source": [
        "fig = plt.figure()\n",
        "ax = plt.axes()\n",
        "ax.bar(df_products_brands_categories.groupby(\"model_year\").count()[\"product_name\"].index,df_products_brands_categories.groupby(\"model_year\").count()[\"product_name\"].values)"
      ],
      "metadata": {
        "colab": {
          "base_uri": "https://localhost:8080/",
          "height": 282
        },
        "id": "0Ou_IkvUDjWs",
        "outputId": "03cdcabb-2f7f-43ac-9bf7-a11dd1bd2549"
      },
      "execution_count": null,
      "outputs": [
        {
          "output_type": "execute_result",
          "data": {
            "text/plain": [
              "<BarContainer object of 4 artists>"
            ]
          },
          "metadata": {},
          "execution_count": 67
        },
        {
          "output_type": "display_data",
          "data": {
            "image/png": "[encoded data removed]",
            "text/plain": [
              "<Figure size 432x288 with 1 Axes>"
            ]
          },
          "metadata": {
            "needs_background": "light"
          }
        }
      ]
    },
    {
      "cell_type": "code",
      "source": [
        "fig = plt.figure(figsize=(10,10))\n",
        "ax = plt.axes()\n",
        "ax.pie(df_products_brands_categories.groupby(\"model_year\").count()[\"product_name\"].values,labels = df_products_brands_categories.groupby(\"model_year\").count()[\"product_name\"].index,autopct='%1.2f%%')\n",
        "plt.show()"
      ],
      "metadata": {
        "colab": {
          "base_uri": "https://localhost:8080/",
          "height": 575
        },
        "id": "QcPD1rcUEUHc",
        "outputId": "41af872c-965a-40b7-d830-4993c69b3275"
      },
      "execution_count": null,
      "outputs": [
        {
          "output_type": "display_data",
          "data": {
            "image/png": "[encoded data removed]",
            "text/plain": [
              "<Figure size 720x720 with 1 Axes>"
            ]
          },
          "metadata": {}
        }
      ]
    }
  ]
}