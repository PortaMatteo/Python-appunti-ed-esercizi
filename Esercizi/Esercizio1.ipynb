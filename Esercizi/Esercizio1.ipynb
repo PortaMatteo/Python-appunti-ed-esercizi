{
  "nbformat": 4,
  "nbformat_minor": 0,
  "metadata": {
    "colab": {
      "name": "Untitled1.ipynb",
      "provenance": [],
      "collapsed_sections": []
    },
    "kernelspec": {
      "name": "python3",
      "display_name": "Python 3"
    },
    "language_info": {
      "name": "python"
    }
  },
  "cells": [
    {
      "cell_type": "markdown",
      "metadata": {
        "id": "fGSgFqYahS58"
      },
      "source": [
        "a. far inserire all'utente due valori interi"
      ]
    },
    {
      "cell_type": "code",
      "metadata": {
        "colab": {
          "base_uri": "https://localhost:8080/"
        },
        "id": "0HtOe5j2hTeS",
        "outputId": "231e1aa7-d1f9-44dd-f20a-34d6471d442f"
      },
      "source": [
        "val1 = int(input(\"Inserire il primo valore = \"))\n",
        "val2 = int(input(\"Inserire il secondo valore valore = \"))"
      ],
      "execution_count": 72,
      "outputs": [
        {
          "name": "stdout",
          "output_type": "stream",
          "text": [
            "Inserire il primo valore = 10\n",
            "Inserire il secondo valore valore = 5\n"
          ]
        }
      ]
    },
    {
      "cell_type": "markdown",
      "metadata": {
        "id": "dug0sX1liOpO"
      },
      "source": [
        "b. effettuare le 4 operazioni aritmetiche tra i due numeri"
      ]
    },
    {
      "cell_type": "code",
      "metadata": {
        "colab": {
          "base_uri": "https://localhost:8080/"
        },
        "id": "-O1NJYdsiXfN",
        "outputId": "958baad7-d10e-485b-d802-efb951e9894b"
      },
      "source": [
        "print(val1, \"+\", val2, \"=\", val1 + val2)\n",
        "print(val1, \"-\", val2, \"=\", val1 - val2)\n",
        "print(val1, \"*\", val2, \"=\", val1 * val2)\n",
        "print(val1, \"/\", val2, \"=\", val1 / val2)"
      ],
      "execution_count": 73,
      "outputs": [
        {
          "output_type": "stream",
          "name": "stdout",
          "text": [
            "10 + 5 = 15\n",
            "10 - 5 = 5\n",
            "10 * 5 = 50\n",
            "10 / 5 = 2.0\n"
          ]
        }
      ]
    },
    {
      "cell_type": "markdown",
      "metadata": {
        "id": "LvZw9_RTji9l"
      },
      "source": [
        "c. effettuare l'elevamento a potenza del primo numero per il secondo"
      ]
    },
    {
      "cell_type": "code",
      "metadata": {
        "colab": {
          "base_uri": "https://localhost:8080/"
        },
        "id": "mwEJX6B6jlPn",
        "outputId": "62f6744c-920b-44de-eb98-0e450fc0a8f7"
      },
      "source": [
        "print(val1, \"**\", val2, \"=\", val1 ** val2)"
      ],
      "execution_count": 74,
      "outputs": [
        {
          "output_type": "stream",
          "name": "stdout",
          "text": [
            "10 ** 5 = 100000\n"
          ]
        }
      ]
    },
    {
      "cell_type": "markdown",
      "metadata": {
        "id": "RugLLCFdjyBs"
      },
      "source": [
        "d. effettuare il calcolo del resto della divisione tra il primo e il secondo numero"
      ]
    },
    {
      "cell_type": "code",
      "metadata": {
        "colab": {
          "base_uri": "https://localhost:8080/"
        },
        "id": "qDbvR2swj1Dt",
        "outputId": "6e81f84e-def5-4177-e980-05956c4c43c8"
      },
      "source": [
        "print(val1, \"%\", val2, \"=\", val1 % val2)"
      ],
      "execution_count": 75,
      "outputs": [
        {
          "output_type": "stream",
          "name": "stdout",
          "text": [
            "10 % 5 = 0\n"
          ]
        }
      ]
    },
    {
      "cell_type": "markdown",
      "metadata": {
        "id": "zC9pnV_IloG0"
      },
      "source": [
        "f. effettuare la divisione intera tra il primo e il secondo numero"
      ]
    },
    {
      "cell_type": "code",
      "metadata": {
        "colab": {
          "base_uri": "https://localhost:8080/"
        },
        "id": "Xc3rFMSbl3C8",
        "outputId": "c537ad6f-8c34-4ea0-fb5b-094196900a45"
      },
      "source": [
        "print(val1, \"//\", val2, \"=\", val1 // val2)"
      ],
      "execution_count": 76,
      "outputs": [
        {
          "output_type": "stream",
          "name": "stdout",
          "text": [
            "10 // 5 = 2\n"
          ]
        }
      ]
    },
    {
      "cell_type": "markdown",
      "metadata": {
        "id": "Rd5O7-l7mVNc"
      },
      "source": [
        "g. incrementare di una unità entrambi i numeri"
      ]
    },
    {
      "cell_type": "code",
      "metadata": {
        "colab": {
          "base_uri": "https://localhost:8080/"
        },
        "id": "4a4Oght2mViM",
        "outputId": "40c3e7bb-d73b-4dbb-e996-af4fe1a0e07c"
      },
      "source": [
        "print(val1,\"+\", 1, \"=\", val1+1)\n",
        "print(val2,\"+\", 1, \"=\", val2+1)"
      ],
      "execution_count": null,
      "outputs": [
        {
          "output_type": "stream",
          "name": "stdout",
          "text": [
            "10 + 1 = 11\n",
            "5 + 1 = 6\n"
          ]
        }
      ]
    },
    {
      "cell_type": "markdown",
      "metadata": {
        "id": "qz_uc3mDn9ak"
      },
      "source": [
        "h. far inserie all'utente due valori: il primo rappresenta la sua altezza (in metri) e il secondo rappresenta il suo peso (in kg). Visualizzare poi l'IMC (google it...)"
      ]
    },
    {
      "cell_type": "code",
      "metadata": {
        "colab": {
          "base_uri": "https://localhost:8080/"
        },
        "id": "fye4C3VqoBTj",
        "outputId": "a20ba277-b064-49d7-8451-16fa612cc6c3"
      },
      "source": [
        "altezza = float(input(\"Inserire la propria altezza (m) = \" ))\n",
        "peso = float(input(\"Inserire il proprio peso (kg) = \" ))\n",
        "IMC = peso/(altezza**2)\n",
        "print(IMC)"
      ],
      "execution_count": null,
      "outputs": [
        {
          "output_type": "stream",
          "name": "stdout",
          "text": [
            "Inserire la propria altezza (m) = 1.80\n",
            "Inserire il proprio peso (kg) = 75\n",
            "23.148148148148145\n"
          ]
        }
      ]
    },
    {
      "cell_type": "markdown",
      "metadata": {
        "id": "dk-ZmmQbsE2A"
      },
      "source": [
        "i. arrotondare l'IMC precedente"
      ]
    },
    {
      "cell_type": "code",
      "metadata": {
        "colab": {
          "base_uri": "https://localhost:8080/"
        },
        "id": "7hrPNlGRsFfw",
        "outputId": "fb978b9e-6de8-48e3-a121-d0b0804684b8"
      },
      "source": [
        "print(round(IMC))"
      ],
      "execution_count": null,
      "outputs": [
        {
          "output_type": "stream",
          "name": "stdout",
          "text": [
            "23\n"
          ]
        }
      ]
    },
    {
      "cell_type": "markdown",
      "metadata": {
        "id": "QC4e-zUxtCn6"
      },
      "source": [
        "j. visualizzare il proprio nome, cognome, data di nascita e città di nascita separando le informazioni con un trattino."
      ]
    },
    {
      "cell_type": "code",
      "metadata": {
        "colab": {
          "base_uri": "https://localhost:8080/"
        },
        "id": "JbpG2C9ztq57",
        "outputId": "cadbe09a-de57-4e43-c6d1-56d690d10694"
      },
      "source": [
        "print(\"Matteo-Porta-28/7/05-Milano\")"
      ],
      "execution_count": null,
      "outputs": [
        {
          "output_type": "stream",
          "name": "stdout",
          "text": [
            "Matteo-Porta-28/7/05-Cinisello Balsamo\n"
          ]
        }
      ]
    },
    {
      "cell_type": "markdown",
      "metadata": {
        "id": "1BKUtmy3vZLL"
      },
      "source": [
        "k. visualizzare le stesse informazioni per 10 volte di seguito"
      ]
    },
    {
      "cell_type": "code",
      "metadata": {
        "colab": {
          "base_uri": "https://localhost:8080/"
        },
        "id": "AO7hITx4vcT0",
        "outputId": "146da8c9-98ec-4d50-b299-7b34cf0ee4b5"
      },
      "source": [
        "print(\"Matteo-Porta-28/7/05-Milano \"*10)"
      ],
      "execution_count": null,
      "outputs": [
        {
          "output_type": "stream",
          "name": "stdout",
          "text": [
            "Matteo-Porta-28/7/05-Cinisello Balsamo Matteo-Porta-28/7/05-Cinisello Balsamo Matteo-Porta-28/7/05-Cinisello Balsamo Matteo-Porta-28/7/05-Cinisello Balsamo Matteo-Porta-28/7/05-Cinisello Balsamo Matteo-Porta-28/7/05-Cinisello Balsamo Matteo-Porta-28/7/05-Cinisello Balsamo Matteo-Porta-28/7/05-Cinisello Balsamo Matteo-Porta-28/7/05-Cinisello Balsamo Matteo-Porta-28/7/05-Cinisello Balsamo \n"
          ]
        }
      ]
    },
    {
      "cell_type": "markdown",
      "metadata": {
        "id": "C7S8Fppev1TT"
      },
      "source": [
        "l. assegnare il proprio nome e cognome ad una stringa e visualizzarla con tutte le lettere maiuscole"
      ]
    },
    {
      "cell_type": "code",
      "metadata": {
        "colab": {
          "base_uri": "https://localhost:8080/"
        },
        "id": "Z4x3NFR3v2Mz",
        "outputId": "0b4ff1d3-d684-4dff-b302-7d60bcb0d6f5"
      },
      "source": [
        "nomeCognome = \"matteo porta\"\n",
        "print(nomeCognome.upper())"
      ],
      "execution_count": null,
      "outputs": [
        {
          "output_type": "stream",
          "name": "stdout",
          "text": [
            "MATTEO PORTA\n"
          ]
        }
      ]
    },
    {
      "cell_type": "markdown",
      "metadata": {
        "id": "mc5Ci_6Uw_jE"
      },
      "source": [
        "m. assegnare il proprio nome e cognome ad una stringa e visualizzarla con le prime lettere maiuscole"
      ]
    },
    {
      "cell_type": "code",
      "metadata": {
        "colab": {
          "base_uri": "https://localhost:8080/"
        },
        "id": "MWgWMLS0xC-q",
        "outputId": "ad76a4f2-66f3-4735-a521-54e90ce102e2"
      },
      "source": [
        "nomeCognome = \"matteo porta\"\n",
        "print(nomeCognome.title())"
      ],
      "execution_count": 1,
      "outputs": [
        {
          "output_type": "stream",
          "name": "stdout",
          "text": [
            "Matteo Porta\n"
          ]
        }
      ]
    },
    {
      "cell_type": "markdown",
      "metadata": {
        "id": "zTCMdhyW1_zc"
      },
      "source": [
        "n. assegnare il proprio nome e cognome ad una stringa e visualizzarne la lunghezza\n"
      ]
    },
    {
      "cell_type": "code",
      "metadata": {
        "id": "45ackeVh2BL_",
        "colab": {
          "base_uri": "https://localhost:8080/"
        },
        "outputId": "19baf67f-0757-4402-d64d-3d85709d7755"
      },
      "source": [
        "nomeCognome = \"matteo porta\"\n",
        "print(nomeCognome,len(nomeCognome))"
      ],
      "execution_count": 4,
      "outputs": [
        {
          "output_type": "stream",
          "name": "stdout",
          "text": [
            "Matteo  Porta 13\n"
          ]
        }
      ]
    },
    {
      "cell_type": "markdown",
      "metadata": {
        "id": "wYd_TlNFlghh"
      },
      "source": [
        "o. assegnare il proprio nome e cognome ad una stringa e contate quante vocali contiene\n"
      ]
    },
    {
      "cell_type": "code",
      "metadata": {
        "colab": {
          "base_uri": "https://localhost:8080/"
        },
        "id": "y9h29bk4lgmt",
        "outputId": "d32474ca-6f1f-4ce7-e49e-62ecf8b2a6b6"
      },
      "source": [
        "nomeCognome = \"matteo porta\"\n",
        "print(nomeCognome.count(\"a\") + nomeCognome.count(\"e\") + nomeCognome.count(\"i\")+ nomeCognome.count(\"o\") + nomeCognome.count(\"u\") )"
      ],
      "execution_count": 16,
      "outputs": [
        {
          "output_type": "stream",
          "name": "stdout",
          "text": [
            "5\n"
          ]
        }
      ]
    },
    {
      "cell_type": "markdown",
      "metadata": {
        "id": "OWkvBCJnpXtR"
      },
      "source": [
        "p. assegnare il proprio nome e cognome ad una stringa e visualizzare i primi 5 caratteri"
      ]
    },
    {
      "cell_type": "code",
      "metadata": {
        "colab": {
          "base_uri": "https://localhost:8080/"
        },
        "id": "kHF8ib5CpeEA",
        "outputId": "0e3beb6b-62ec-4945-f93b-66dfd07fe4d5"
      },
      "source": [
        "nomeCognome = \"matteo porta\"\n",
        "print(nomeCognome[0:5])\n"
      ],
      "execution_count": 39,
      "outputs": [
        {
          "output_type": "stream",
          "name": "stdout",
          "text": [
            "matte\n"
          ]
        }
      ]
    },
    {
      "cell_type": "markdown",
      "metadata": {
        "id": "8w-ryUHpti50"
      },
      "source": [
        "q. assegnare il proprio nome e cognome ad una stringa e visualizzare gli ultimi 5 caratteri"
      ]
    },
    {
      "cell_type": "code",
      "metadata": {
        "colab": {
          "base_uri": "https://localhost:8080/"
        },
        "id": "jKwC50CftjjZ",
        "outputId": "7be4f66f-268d-4722-ab76-9f605329f1df"
      },
      "source": [
        "nomeCognome = \"matteo porta\"\n",
        "print(nomeCognome[7:12])"
      ],
      "execution_count": 46,
      "outputs": [
        {
          "output_type": "stream",
          "name": "stdout",
          "text": [
            "porta\n"
          ]
        }
      ]
    },
    {
      "cell_type": "markdown",
      "metadata": {
        "id": "zNYgC6QJuDbu"
      },
      "source": [
        "r.. assegnare il proprio nome e cognome ad una stringa e visualizzare i 5 caratteri centrali"
      ]
    },
    {
      "cell_type": "code",
      "metadata": {
        "colab": {
          "base_uri": "https://localhost:8080/"
        },
        "id": "-eJIaJ6PuDxA",
        "outputId": "2cbc49e8-a3b4-4d78-dbdd-e5e053f01cfc"
      },
      "source": [
        "nomeCognome = \"matteo porta\"\n",
        "print(nomeCognome[4:9])"
      ],
      "execution_count": 51,
      "outputs": [
        {
          "output_type": "stream",
          "name": "stdout",
          "text": [
            "eo po\n"
          ]
        }
      ]
    },
    {
      "cell_type": "markdown",
      "metadata": {
        "id": "cKhrFmz6wttv"
      },
      "source": [
        "s. assegnare il proprio nome e cognome ad una stringa e sostituire le vocali con una X"
      ]
    },
    {
      "cell_type": "code",
      "metadata": {
        "colab": {
          "base_uri": "https://localhost:8080/"
        },
        "id": "j5v8EJl8wuRE",
        "outputId": "36646018-913b-4468-f1be-ca27ab7c272b"
      },
      "source": [
        "nomeCognome = \"matteo porta\"\n",
        "print(nomeCognome.replace(\"a\" , \"X\").replace(\"e\",\"X\").replace(\"i\",\"X\").replace(\"o\",\"X\").replace(\"u\",\"X\") )"
      ],
      "execution_count": 67,
      "outputs": [
        {
          "output_type": "stream",
          "name": "stdout",
          "text": [
            "mXttXX pXrtX\n"
          ]
        }
      ]
    }
  ]
}
