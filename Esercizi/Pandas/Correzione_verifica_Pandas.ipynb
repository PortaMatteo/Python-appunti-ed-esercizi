{
  "nbformat": 4,
  "nbformat_minor": 0,
  "metadata": {
    "colab": {
      "name": "Correzione_verifica_Pandas.ipynb",
      "provenance": []
    },
    "kernelspec": {
      "name": "python3",
      "display_name": "Python 3"
    },
    "language_info": {
      "name": "python"
    }
  },
  "cells": [
    {
      "cell_type": "markdown",
      "metadata": {
        "id": "dYpu5S1aQHzA"
      },
      "source": [
        "VERIFICA 1"
      ]
    },
    {
      "cell_type": "code",
      "metadata": {
        "colab": {
          "base_uri": "https://localhost:8080/",
          "height": 419
        },
        "id": "6qOEcdfod7Ei",
        "outputId": "f8a9df5c-e0a6-4bc0-c331-0ba00d28b410"
      },
      "source": [
        "import pandas as pd\n",
        "url = \"https://raw.githubusercontent.com/wtitze/3E/main/Medals.xlsx\"\n",
        "medals = pd.read_excel(url)\n",
        "medals"
      ],
      "execution_count": null,
      "outputs": [
        {
          "output_type": "execute_result",
          "data": {
            "text/html": [
              "<div>\n",
              "<style scoped>\n",
              "    .dataframe tbody tr th:only-of-type {\n",
              "        vertical-align: middle;\n",
              "    }\n",
              "\n",
              "    .dataframe tbody tr th {\n",
              "        vertical-align: top;\n",
              "    }\n",
              "\n",
              "    .dataframe thead th {\n",
              "        text-align: right;\n",
              "    }\n",
              "</style>\n",
              "<table border=\"1\" class=\"dataframe\">\n",
              "  <thead>\n",
              "    <tr style=\"text-align: right;\">\n",
              "      <th></th>\n",
              "      <th>Rank</th>\n",
              "      <th>Team/NOC</th>\n",
              "      <th>Gold</th>\n",
              "      <th>Silver</th>\n",
              "      <th>Bronze</th>\n",
              "      <th>Total</th>\n",
              "      <th>Rank by Total</th>\n",
              "    </tr>\n",
              "  </thead>\n",
              "  <tbody>\n",
              "    <tr>\n",
              "      <th>0</th>\n",
              "      <td>1</td>\n",
              "      <td>United States of America</td>\n",
              "      <td>39</td>\n",
              "      <td>41</td>\n",
              "      <td>33</td>\n",
              "      <td>113</td>\n",
              "      <td>1</td>\n",
              "    </tr>\n",
              "    <tr>\n",
              "      <th>1</th>\n",
              "      <td>2</td>\n",
              "      <td>People's Republic of China</td>\n",
              "      <td>38</td>\n",
              "      <td>32</td>\n",
              "      <td>18</td>\n",
              "      <td>88</td>\n",
              "      <td>2</td>\n",
              "    </tr>\n",
              "    <tr>\n",
              "      <th>2</th>\n",
              "      <td>3</td>\n",
              "      <td>Japan</td>\n",
              "      <td>27</td>\n",
              "      <td>14</td>\n",
              "      <td>17</td>\n",
              "      <td>58</td>\n",
              "      <td>5</td>\n",
              "    </tr>\n",
              "    <tr>\n",
              "      <th>3</th>\n",
              "      <td>4</td>\n",
              "      <td>Great Britain</td>\n",
              "      <td>22</td>\n",
              "      <td>21</td>\n",
              "      <td>22</td>\n",
              "      <td>65</td>\n",
              "      <td>4</td>\n",
              "    </tr>\n",
              "    <tr>\n",
              "      <th>4</th>\n",
              "      <td>5</td>\n",
              "      <td>ROC</td>\n",
              "      <td>20</td>\n",
              "      <td>28</td>\n",
              "      <td>23</td>\n",
              "      <td>71</td>\n",
              "      <td>3</td>\n",
              "    </tr>\n",
              "    <tr>\n",
              "      <th>...</th>\n",
              "      <td>...</td>\n",
              "      <td>...</td>\n",
              "      <td>...</td>\n",
              "      <td>...</td>\n",
              "      <td>...</td>\n",
              "      <td>...</td>\n",
              "      <td>...</td>\n",
              "    </tr>\n",
              "    <tr>\n",
              "      <th>88</th>\n",
              "      <td>86</td>\n",
              "      <td>Ghana</td>\n",
              "      <td>0</td>\n",
              "      <td>0</td>\n",
              "      <td>1</td>\n",
              "      <td>1</td>\n",
              "      <td>77</td>\n",
              "    </tr>\n",
              "    <tr>\n",
              "      <th>89</th>\n",
              "      <td>86</td>\n",
              "      <td>Grenada</td>\n",
              "      <td>0</td>\n",
              "      <td>0</td>\n",
              "      <td>1</td>\n",
              "      <td>1</td>\n",
              "      <td>77</td>\n",
              "    </tr>\n",
              "    <tr>\n",
              "      <th>90</th>\n",
              "      <td>86</td>\n",
              "      <td>Kuwait</td>\n",
              "      <td>0</td>\n",
              "      <td>0</td>\n",
              "      <td>1</td>\n",
              "      <td>1</td>\n",
              "      <td>77</td>\n",
              "    </tr>\n",
              "    <tr>\n",
              "      <th>91</th>\n",
              "      <td>86</td>\n",
              "      <td>Republic of Moldova</td>\n",
              "      <td>0</td>\n",
              "      <td>0</td>\n",
              "      <td>1</td>\n",
              "      <td>1</td>\n",
              "      <td>77</td>\n",
              "    </tr>\n",
              "    <tr>\n",
              "      <th>92</th>\n",
              "      <td>86</td>\n",
              "      <td>Syrian Arab Republic</td>\n",
              "      <td>0</td>\n",
              "      <td>0</td>\n",
              "      <td>1</td>\n",
              "      <td>1</td>\n",
              "      <td>77</td>\n",
              "    </tr>\n",
              "  </tbody>\n",
              "</table>\n",
              "<p>93 rows × 7 columns</p>\n",
              "</div>"
            ],
            "text/plain": [
              "    Rank                    Team/NOC  Gold  ...  Bronze  Total  Rank by Total\n",
              "0      1    United States of America    39  ...      33    113              1\n",
              "1      2  People's Republic of China    38  ...      18     88              2\n",
              "2      3                       Japan    27  ...      17     58              5\n",
              "3      4               Great Britain    22  ...      22     65              4\n",
              "4      5                         ROC    20  ...      23     71              3\n",
              "..   ...                         ...   ...  ...     ...    ...            ...\n",
              "88    86                       Ghana     0  ...       1      1             77\n",
              "89    86                     Grenada     0  ...       1      1             77\n",
              "90    86                      Kuwait     0  ...       1      1             77\n",
              "91    86         Republic of Moldova     0  ...       1      1             77\n",
              "92    86        Syrian Arab Republic     0  ...       1      1             77\n",
              "\n",
              "[93 rows x 7 columns]"
            ]
          },
          "metadata": {},
          "execution_count": 1
        }
      ]
    },
    {
      "cell_type": "code",
      "metadata": {
        "colab": {
          "base_uri": "https://localhost:8080/",
          "height": 419
        },
        "id": "PdLP8hthepXx",
        "outputId": "9ade546c-2268-409d-f2ae-a50e82431cff"
      },
      "source": [
        "medals = medals.drop(columns=[\"Total\",\"Rank by Total\"])\n",
        "medals"
      ],
      "execution_count": null,
      "outputs": [
        {
          "output_type": "execute_result",
          "data": {
            "text/html": [
              "<div>\n",
              "<style scoped>\n",
              "    .dataframe tbody tr th:only-of-type {\n",
              "        vertical-align: middle;\n",
              "    }\n",
              "\n",
              "    .dataframe tbody tr th {\n",
              "        vertical-align: top;\n",
              "    }\n",
              "\n",
              "    .dataframe thead th {\n",
              "        text-align: right;\n",
              "    }\n",
              "</style>\n",
              "<table border=\"1\" class=\"dataframe\">\n",
              "  <thead>\n",
              "    <tr style=\"text-align: right;\">\n",
              "      <th></th>\n",
              "      <th>Rank</th>\n",
              "      <th>Team/NOC</th>\n",
              "      <th>Gold</th>\n",
              "      <th>Silver</th>\n",
              "      <th>Bronze</th>\n",
              "    </tr>\n",
              "  </thead>\n",
              "  <tbody>\n",
              "    <tr>\n",
              "      <th>0</th>\n",
              "      <td>1</td>\n",
              "      <td>United States of America</td>\n",
              "      <td>39</td>\n",
              "      <td>41</td>\n",
              "      <td>33</td>\n",
              "    </tr>\n",
              "    <tr>\n",
              "      <th>1</th>\n",
              "      <td>2</td>\n",
              "      <td>People's Republic of China</td>\n",
              "      <td>38</td>\n",
              "      <td>32</td>\n",
              "      <td>18</td>\n",
              "    </tr>\n",
              "    <tr>\n",
              "      <th>2</th>\n",
              "      <td>3</td>\n",
              "      <td>Japan</td>\n",
              "      <td>27</td>\n",
              "      <td>14</td>\n",
              "      <td>17</td>\n",
              "    </tr>\n",
              "    <tr>\n",
              "      <th>3</th>\n",
              "      <td>4</td>\n",
              "      <td>Great Britain</td>\n",
              "      <td>22</td>\n",
              "      <td>21</td>\n",
              "      <td>22</td>\n",
              "    </tr>\n",
              "    <tr>\n",
              "      <th>4</th>\n",
              "      <td>5</td>\n",
              "      <td>ROC</td>\n",
              "      <td>20</td>\n",
              "      <td>28</td>\n",
              "      <td>23</td>\n",
              "    </tr>\n",
              "    <tr>\n",
              "      <th>...</th>\n",
              "      <td>...</td>\n",
              "      <td>...</td>\n",
              "      <td>...</td>\n",
              "      <td>...</td>\n",
              "      <td>...</td>\n",
              "    </tr>\n",
              "    <tr>\n",
              "      <th>88</th>\n",
              "      <td>86</td>\n",
              "      <td>Ghana</td>\n",
              "      <td>0</td>\n",
              "      <td>0</td>\n",
              "      <td>1</td>\n",
              "    </tr>\n",
              "    <tr>\n",
              "      <th>89</th>\n",
              "      <td>86</td>\n",
              "      <td>Grenada</td>\n",
              "      <td>0</td>\n",
              "      <td>0</td>\n",
              "      <td>1</td>\n",
              "    </tr>\n",
              "    <tr>\n",
              "      <th>90</th>\n",
              "      <td>86</td>\n",
              "      <td>Kuwait</td>\n",
              "      <td>0</td>\n",
              "      <td>0</td>\n",
              "      <td>1</td>\n",
              "    </tr>\n",
              "    <tr>\n",
              "      <th>91</th>\n",
              "      <td>86</td>\n",
              "      <td>Republic of Moldova</td>\n",
              "      <td>0</td>\n",
              "      <td>0</td>\n",
              "      <td>1</td>\n",
              "    </tr>\n",
              "    <tr>\n",
              "      <th>92</th>\n",
              "      <td>86</td>\n",
              "      <td>Syrian Arab Republic</td>\n",
              "      <td>0</td>\n",
              "      <td>0</td>\n",
              "      <td>1</td>\n",
              "    </tr>\n",
              "  </tbody>\n",
              "</table>\n",
              "<p>93 rows × 5 columns</p>\n",
              "</div>"
            ],
            "text/plain": [
              "    Rank                    Team/NOC  Gold  Silver  Bronze\n",
              "0      1    United States of America    39      41      33\n",
              "1      2  People's Republic of China    38      32      18\n",
              "2      3                       Japan    27      14      17\n",
              "3      4               Great Britain    22      21      22\n",
              "4      5                         ROC    20      28      23\n",
              "..   ...                         ...   ...     ...     ...\n",
              "88    86                       Ghana     0       0       1\n",
              "89    86                     Grenada     0       0       1\n",
              "90    86                      Kuwait     0       0       1\n",
              "91    86         Republic of Moldova     0       0       1\n",
              "92    86        Syrian Arab Republic     0       0       1\n",
              "\n",
              "[93 rows x 5 columns]"
            ]
          },
          "metadata": {},
          "execution_count": 2
        }
      ]
    },
    {
      "cell_type": "code",
      "metadata": {
        "colab": {
          "base_uri": "https://localhost:8080/",
          "height": 419
        },
        "id": "xDSbq0PyfuwK",
        "outputId": "43da4573-1073-430a-d827-6e20b13142c1"
      },
      "source": [
        "medals = medals.drop(columns=[\"Rank\"])\n",
        "medals"
      ],
      "execution_count": null,
      "outputs": [
        {
          "output_type": "execute_result",
          "data": {
            "text/html": [
              "<div>\n",
              "<style scoped>\n",
              "    .dataframe tbody tr th:only-of-type {\n",
              "        vertical-align: middle;\n",
              "    }\n",
              "\n",
              "    .dataframe tbody tr th {\n",
              "        vertical-align: top;\n",
              "    }\n",
              "\n",
              "    .dataframe thead th {\n",
              "        text-align: right;\n",
              "    }\n",
              "</style>\n",
              "<table border=\"1\" class=\"dataframe\">\n",
              "  <thead>\n",
              "    <tr style=\"text-align: right;\">\n",
              "      <th></th>\n",
              "      <th>Team/NOC</th>\n",
              "      <th>Gold</th>\n",
              "      <th>Silver</th>\n",
              "      <th>Bronze</th>\n",
              "    </tr>\n",
              "  </thead>\n",
              "  <tbody>\n",
              "    <tr>\n",
              "      <th>0</th>\n",
              "      <td>United States of America</td>\n",
              "      <td>39</td>\n",
              "      <td>41</td>\n",
              "      <td>33</td>\n",
              "    </tr>\n",
              "    <tr>\n",
              "      <th>1</th>\n",
              "      <td>People's Republic of China</td>\n",
              "      <td>38</td>\n",
              "      <td>32</td>\n",
              "      <td>18</td>\n",
              "    </tr>\n",
              "    <tr>\n",
              "      <th>2</th>\n",
              "      <td>Japan</td>\n",
              "      <td>27</td>\n",
              "      <td>14</td>\n",
              "      <td>17</td>\n",
              "    </tr>\n",
              "    <tr>\n",
              "      <th>3</th>\n",
              "      <td>Great Britain</td>\n",
              "      <td>22</td>\n",
              "      <td>21</td>\n",
              "      <td>22</td>\n",
              "    </tr>\n",
              "    <tr>\n",
              "      <th>4</th>\n",
              "      <td>ROC</td>\n",
              "      <td>20</td>\n",
              "      <td>28</td>\n",
              "      <td>23</td>\n",
              "    </tr>\n",
              "    <tr>\n",
              "      <th>...</th>\n",
              "      <td>...</td>\n",
              "      <td>...</td>\n",
              "      <td>...</td>\n",
              "      <td>...</td>\n",
              "    </tr>\n",
              "    <tr>\n",
              "      <th>88</th>\n",
              "      <td>Ghana</td>\n",
              "      <td>0</td>\n",
              "      <td>0</td>\n",
              "      <td>1</td>\n",
              "    </tr>\n",
              "    <tr>\n",
              "      <th>89</th>\n",
              "      <td>Grenada</td>\n",
              "      <td>0</td>\n",
              "      <td>0</td>\n",
              "      <td>1</td>\n",
              "    </tr>\n",
              "    <tr>\n",
              "      <th>90</th>\n",
              "      <td>Kuwait</td>\n",
              "      <td>0</td>\n",
              "      <td>0</td>\n",
              "      <td>1</td>\n",
              "    </tr>\n",
              "    <tr>\n",
              "      <th>91</th>\n",
              "      <td>Republic of Moldova</td>\n",
              "      <td>0</td>\n",
              "      <td>0</td>\n",
              "      <td>1</td>\n",
              "    </tr>\n",
              "    <tr>\n",
              "      <th>92</th>\n",
              "      <td>Syrian Arab Republic</td>\n",
              "      <td>0</td>\n",
              "      <td>0</td>\n",
              "      <td>1</td>\n",
              "    </tr>\n",
              "  </tbody>\n",
              "</table>\n",
              "<p>93 rows × 4 columns</p>\n",
              "</div>"
            ],
            "text/plain": [
              "                      Team/NOC  Gold  Silver  Bronze\n",
              "0     United States of America    39      41      33\n",
              "1   People's Republic of China    38      32      18\n",
              "2                        Japan    27      14      17\n",
              "3                Great Britain    22      21      22\n",
              "4                          ROC    20      28      23\n",
              "..                         ...   ...     ...     ...\n",
              "88                       Ghana     0       0       1\n",
              "89                     Grenada     0       0       1\n",
              "90                      Kuwait     0       0       1\n",
              "91         Republic of Moldova     0       0       1\n",
              "92        Syrian Arab Republic     0       0       1\n",
              "\n",
              "[93 rows x 4 columns]"
            ]
          },
          "metadata": {},
          "execution_count": 3
        }
      ]
    },
    {
      "cell_type": "code",
      "metadata": {
        "colab": {
          "base_uri": "https://localhost:8080/",
          "height": 419
        },
        "id": "LZZuc3kFf1DA",
        "outputId": "9da1d320-cacf-48d3-8b34-d7baa67d0f80"
      },
      "source": [
        "medals.rename(columns={\"Team/NOC\":\"Team\"},inplace=True)\n",
        "medals"
      ],
      "execution_count": null,
      "outputs": [
        {
          "output_type": "execute_result",
          "data": {
            "text/html": [
              "<div>\n",
              "<style scoped>\n",
              "    .dataframe tbody tr th:only-of-type {\n",
              "        vertical-align: middle;\n",
              "    }\n",
              "\n",
              "    .dataframe tbody tr th {\n",
              "        vertical-align: top;\n",
              "    }\n",
              "\n",
              "    .dataframe thead th {\n",
              "        text-align: right;\n",
              "    }\n",
              "</style>\n",
              "<table border=\"1\" class=\"dataframe\">\n",
              "  <thead>\n",
              "    <tr style=\"text-align: right;\">\n",
              "      <th></th>\n",
              "      <th>Team</th>\n",
              "      <th>Gold</th>\n",
              "      <th>Silver</th>\n",
              "      <th>Bronze</th>\n",
              "    </tr>\n",
              "  </thead>\n",
              "  <tbody>\n",
              "    <tr>\n",
              "      <th>0</th>\n",
              "      <td>United States of America</td>\n",
              "      <td>39</td>\n",
              "      <td>41</td>\n",
              "      <td>33</td>\n",
              "    </tr>\n",
              "    <tr>\n",
              "      <th>1</th>\n",
              "      <td>People's Republic of China</td>\n",
              "      <td>38</td>\n",
              "      <td>32</td>\n",
              "      <td>18</td>\n",
              "    </tr>\n",
              "    <tr>\n",
              "      <th>2</th>\n",
              "      <td>Japan</td>\n",
              "      <td>27</td>\n",
              "      <td>14</td>\n",
              "      <td>17</td>\n",
              "    </tr>\n",
              "    <tr>\n",
              "      <th>3</th>\n",
              "      <td>Great Britain</td>\n",
              "      <td>22</td>\n",
              "      <td>21</td>\n",
              "      <td>22</td>\n",
              "    </tr>\n",
              "    <tr>\n",
              "      <th>4</th>\n",
              "      <td>ROC</td>\n",
              "      <td>20</td>\n",
              "      <td>28</td>\n",
              "      <td>23</td>\n",
              "    </tr>\n",
              "    <tr>\n",
              "      <th>...</th>\n",
              "      <td>...</td>\n",
              "      <td>...</td>\n",
              "      <td>...</td>\n",
              "      <td>...</td>\n",
              "    </tr>\n",
              "    <tr>\n",
              "      <th>88</th>\n",
              "      <td>Ghana</td>\n",
              "      <td>0</td>\n",
              "      <td>0</td>\n",
              "      <td>1</td>\n",
              "    </tr>\n",
              "    <tr>\n",
              "      <th>89</th>\n",
              "      <td>Grenada</td>\n",
              "      <td>0</td>\n",
              "      <td>0</td>\n",
              "      <td>1</td>\n",
              "    </tr>\n",
              "    <tr>\n",
              "      <th>90</th>\n",
              "      <td>Kuwait</td>\n",
              "      <td>0</td>\n",
              "      <td>0</td>\n",
              "      <td>1</td>\n",
              "    </tr>\n",
              "    <tr>\n",
              "      <th>91</th>\n",
              "      <td>Republic of Moldova</td>\n",
              "      <td>0</td>\n",
              "      <td>0</td>\n",
              "      <td>1</td>\n",
              "    </tr>\n",
              "    <tr>\n",
              "      <th>92</th>\n",
              "      <td>Syrian Arab Republic</td>\n",
              "      <td>0</td>\n",
              "      <td>0</td>\n",
              "      <td>1</td>\n",
              "    </tr>\n",
              "  </tbody>\n",
              "</table>\n",
              "<p>93 rows × 4 columns</p>\n",
              "</div>"
            ],
            "text/plain": [
              "                          Team  Gold  Silver  Bronze\n",
              "0     United States of America    39      41      33\n",
              "1   People's Republic of China    38      32      18\n",
              "2                        Japan    27      14      17\n",
              "3                Great Britain    22      21      22\n",
              "4                          ROC    20      28      23\n",
              "..                         ...   ...     ...     ...\n",
              "88                       Ghana     0       0       1\n",
              "89                     Grenada     0       0       1\n",
              "90                      Kuwait     0       0       1\n",
              "91         Republic of Moldova     0       0       1\n",
              "92        Syrian Arab Republic     0       0       1\n",
              "\n",
              "[93 rows x 4 columns]"
            ]
          },
          "metadata": {},
          "execution_count": 4
        }
      ]
    },
    {
      "cell_type": "markdown",
      "metadata": {
        "id": "Mr30_x4UhE5x"
      },
      "source": [
        "1. visualizzare il numero di medaglie d’oro vinte dall’Italia"
      ]
    },
    {
      "cell_type": "code",
      "metadata": {
        "colab": {
          "base_uri": "https://localhost:8080/"
        },
        "id": "z4xy7K6RghAc",
        "outputId": "4f831ac6-3903-4ac5-c1c3-c68afe1adfc2"
      },
      "source": [
        "medals.loc[medals[\"Team\"]==\"Italy\",\"Gold\"]"
      ],
      "execution_count": null,
      "outputs": [
        {
          "output_type": "execute_result",
          "data": {
            "text/plain": [
              "9    10\n",
              "Name: Gold, dtype: int64"
            ]
          },
          "metadata": {},
          "execution_count": 5
        }
      ]
    },
    {
      "cell_type": "markdown",
      "metadata": {
        "id": "yhAGvgz6lk_O"
      },
      "source": [
        "2. visualizzare il numero di medaglie d’oro delle nazioni che cominciano con la lettera F"
      ]
    },
    {
      "cell_type": "code",
      "metadata": {
        "colab": {
          "base_uri": "https://localhost:8080/",
          "height": 142
        },
        "id": "UT8O3JE5hDyj",
        "outputId": "e4ef7a8b-0d37-4227-e847-be04c620b362"
      },
      "source": [
        "medals[medals[\"Team\"].str.startswith(\"F\")][[\"Gold\",\"Team\"]]"
      ],
      "execution_count": null,
      "outputs": [
        {
          "output_type": "execute_result",
          "data": {
            "text/html": [
              "<div>\n",
              "<style scoped>\n",
              "    .dataframe tbody tr th:only-of-type {\n",
              "        vertical-align: middle;\n",
              "    }\n",
              "\n",
              "    .dataframe tbody tr th {\n",
              "        vertical-align: top;\n",
              "    }\n",
              "\n",
              "    .dataframe thead th {\n",
              "        text-align: right;\n",
              "    }\n",
              "</style>\n",
              "<table border=\"1\" class=\"dataframe\">\n",
              "  <thead>\n",
              "    <tr style=\"text-align: right;\">\n",
              "      <th></th>\n",
              "      <th>Gold</th>\n",
              "      <th>Team</th>\n",
              "    </tr>\n",
              "  </thead>\n",
              "  <tbody>\n",
              "    <tr>\n",
              "      <th>7</th>\n",
              "      <td>10</td>\n",
              "      <td>France</td>\n",
              "    </tr>\n",
              "    <tr>\n",
              "      <th>59</th>\n",
              "      <td>1</td>\n",
              "      <td>Fiji</td>\n",
              "    </tr>\n",
              "    <tr>\n",
              "      <th>84</th>\n",
              "      <td>0</td>\n",
              "      <td>Finland</td>\n",
              "    </tr>\n",
              "  </tbody>\n",
              "</table>\n",
              "</div>"
            ],
            "text/plain": [
              "    Gold     Team\n",
              "7     10   France\n",
              "59     1     Fiji\n",
              "84     0  Finland"
            ]
          },
          "metadata": {},
          "execution_count": 6
        }
      ]
    },
    {
      "cell_type": "code",
      "metadata": {
        "id": "lJLVSv2Fh7OO"
      },
      "source": [
        "import matplotlib.pyplot as plt\n"
      ],
      "execution_count": null,
      "outputs": []
    },
    {
      "cell_type": "markdown",
      "metadata": {
        "id": "6fUhPGL4iNML"
      },
      "source": [
        "visualizzare il grafico delle medaglie vinte dalle medaglie d'oro delle nazioni che iniziano con la lettera F"
      ]
    },
    {
      "cell_type": "code",
      "metadata": {
        "colab": {
          "base_uri": "https://localhost:8080/",
          "height": 717
        },
        "id": "GdM0wqmhiZfa",
        "outputId": "c91afda1-bb3a-4d2c-d153-5cc5e0508378"
      },
      "source": [
        "x = list(medals[medals[\"Team\"].str.startswith(\"F\")][\"Team\"])\n",
        "y = list(medals[medals[\"Team\"].str.startswith(\"F\")][\"Gold\"])\n",
        "fig = plt.figure(figsize=(10,12))\n",
        "ax = plt.axes()\n",
        "plt.rcParams.update({\"font.size\":30})\n",
        "ax.bar(x,y)"
      ],
      "execution_count": null,
      "outputs": [
        {
          "output_type": "execute_result",
          "data": {
            "text/plain": [
              "<BarContainer object of 3 artists>"
            ]
          },
          "metadata": {},
          "execution_count": 9
        },
        {
          "output_type": "display_data",
          "data": {
            "image/png": "[encoded data removed]",
            "text/plain": [
              "<Figure size 720x864 with 1 Axes>"
            ]
          },
          "metadata": {
            "needs_background": "light"
          }
        }
      ]
    },
    {
      "cell_type": "markdown",
      "metadata": {
        "id": "p9aGZhgdlpPk"
      },
      "source": [
        "3. aggiungere una colonna contenente il numero totale di medaglie di ogni nazione. Chiamare la colonna “Total”"
      ]
    },
    {
      "cell_type": "code",
      "metadata": {
        "colab": {
          "base_uri": "https://localhost:8080/",
          "height": 419
        },
        "id": "PlNQLioYlsMS",
        "outputId": "bea2c16d-51de-4043-a079-3bd86b7bf460"
      },
      "source": [
        "medals[\"Total\"] = medals[\"Gold\"] + medals[\"Silver\"] + medals[\"Bronze\"]\n",
        "medals"
      ],
      "execution_count": null,
      "outputs": [
        {
          "output_type": "execute_result",
          "data": {
            "text/html": [
              "<div>\n",
              "<style scoped>\n",
              "    .dataframe tbody tr th:only-of-type {\n",
              "        vertical-align: middle;\n",
              "    }\n",
              "\n",
              "    .dataframe tbody tr th {\n",
              "        vertical-align: top;\n",
              "    }\n",
              "\n",
              "    .dataframe thead th {\n",
              "        text-align: right;\n",
              "    }\n",
              "</style>\n",
              "<table border=\"1\" class=\"dataframe\">\n",
              "  <thead>\n",
              "    <tr style=\"text-align: right;\">\n",
              "      <th></th>\n",
              "      <th>Team</th>\n",
              "      <th>Gold</th>\n",
              "      <th>Silver</th>\n",
              "      <th>Bronze</th>\n",
              "      <th>Total</th>\n",
              "    </tr>\n",
              "  </thead>\n",
              "  <tbody>\n",
              "    <tr>\n",
              "      <th>0</th>\n",
              "      <td>United States of America</td>\n",
              "      <td>39</td>\n",
              "      <td>41</td>\n",
              "      <td>33</td>\n",
              "      <td>113</td>\n",
              "    </tr>\n",
              "    <tr>\n",
              "      <th>1</th>\n",
              "      <td>People's Republic of China</td>\n",
              "      <td>38</td>\n",
              "      <td>32</td>\n",
              "      <td>18</td>\n",
              "      <td>88</td>\n",
              "    </tr>\n",
              "    <tr>\n",
              "      <th>2</th>\n",
              "      <td>Japan</td>\n",
              "      <td>27</td>\n",
              "      <td>14</td>\n",
              "      <td>17</td>\n",
              "      <td>58</td>\n",
              "    </tr>\n",
              "    <tr>\n",
              "      <th>3</th>\n",
              "      <td>Great Britain</td>\n",
              "      <td>22</td>\n",
              "      <td>21</td>\n",
              "      <td>22</td>\n",
              "      <td>65</td>\n",
              "    </tr>\n",
              "    <tr>\n",
              "      <th>4</th>\n",
              "      <td>ROC</td>\n",
              "      <td>20</td>\n",
              "      <td>28</td>\n",
              "      <td>23</td>\n",
              "      <td>71</td>\n",
              "    </tr>\n",
              "    <tr>\n",
              "      <th>...</th>\n",
              "      <td>...</td>\n",
              "      <td>...</td>\n",
              "      <td>...</td>\n",
              "      <td>...</td>\n",
              "      <td>...</td>\n",
              "    </tr>\n",
              "    <tr>\n",
              "      <th>88</th>\n",
              "      <td>Ghana</td>\n",
              "      <td>0</td>\n",
              "      <td>0</td>\n",
              "      <td>1</td>\n",
              "      <td>1</td>\n",
              "    </tr>\n",
              "    <tr>\n",
              "      <th>89</th>\n",
              "      <td>Grenada</td>\n",
              "      <td>0</td>\n",
              "      <td>0</td>\n",
              "      <td>1</td>\n",
              "      <td>1</td>\n",
              "    </tr>\n",
              "    <tr>\n",
              "      <th>90</th>\n",
              "      <td>Kuwait</td>\n",
              "      <td>0</td>\n",
              "      <td>0</td>\n",
              "      <td>1</td>\n",
              "      <td>1</td>\n",
              "    </tr>\n",
              "    <tr>\n",
              "      <th>91</th>\n",
              "      <td>Republic of Moldova</td>\n",
              "      <td>0</td>\n",
              "      <td>0</td>\n",
              "      <td>1</td>\n",
              "      <td>1</td>\n",
              "    </tr>\n",
              "    <tr>\n",
              "      <th>92</th>\n",
              "      <td>Syrian Arab Republic</td>\n",
              "      <td>0</td>\n",
              "      <td>0</td>\n",
              "      <td>1</td>\n",
              "      <td>1</td>\n",
              "    </tr>\n",
              "  </tbody>\n",
              "</table>\n",
              "<p>93 rows × 5 columns</p>\n",
              "</div>"
            ],
            "text/plain": [
              "                          Team  Gold  Silver  Bronze  Total\n",
              "0     United States of America    39      41      33    113\n",
              "1   People's Republic of China    38      32      18     88\n",
              "2                        Japan    27      14      17     58\n",
              "3                Great Britain    22      21      22     65\n",
              "4                          ROC    20      28      23     71\n",
              "..                         ...   ...     ...     ...    ...\n",
              "88                       Ghana     0       0       1      1\n",
              "89                     Grenada     0       0       1      1\n",
              "90                      Kuwait     0       0       1      1\n",
              "91         Republic of Moldova     0       0       1      1\n",
              "92        Syrian Arab Republic     0       0       1      1\n",
              "\n",
              "[93 rows x 5 columns]"
            ]
          },
          "metadata": {},
          "execution_count": 10
        }
      ]
    },
    {
      "cell_type": "markdown",
      "metadata": {
        "id": "VC1xGvNkmLz6"
      },
      "source": [
        "4. visualizzare la nazione che ha vinto più medaglie (in totale)"
      ]
    },
    {
      "cell_type": "code",
      "metadata": {
        "colab": {
          "base_uri": "https://localhost:8080/",
          "height": 80
        },
        "id": "8Dv3fWMrmOqC",
        "outputId": "6f6d960e-67e2-4558-cfde-eecb725c3870"
      },
      "source": [
        "medals[medals['Total'] == medals['Total'].max()]"
      ],
      "execution_count": null,
      "outputs": [
        {
          "output_type": "execute_result",
          "data": {
            "text/html": [
              "<div>\n",
              "<style scoped>\n",
              "    .dataframe tbody tr th:only-of-type {\n",
              "        vertical-align: middle;\n",
              "    }\n",
              "\n",
              "    .dataframe tbody tr th {\n",
              "        vertical-align: top;\n",
              "    }\n",
              "\n",
              "    .dataframe thead th {\n",
              "        text-align: right;\n",
              "    }\n",
              "</style>\n",
              "<table border=\"1\" class=\"dataframe\">\n",
              "  <thead>\n",
              "    <tr style=\"text-align: right;\">\n",
              "      <th></th>\n",
              "      <th>Team</th>\n",
              "      <th>Gold</th>\n",
              "      <th>Silver</th>\n",
              "      <th>Bronze</th>\n",
              "      <th>Total</th>\n",
              "    </tr>\n",
              "  </thead>\n",
              "  <tbody>\n",
              "    <tr>\n",
              "      <th>0</th>\n",
              "      <td>United States of America</td>\n",
              "      <td>39</td>\n",
              "      <td>41</td>\n",
              "      <td>33</td>\n",
              "      <td>113</td>\n",
              "    </tr>\n",
              "  </tbody>\n",
              "</table>\n",
              "</div>"
            ],
            "text/plain": [
              "                       Team  Gold  Silver  Bronze  Total\n",
              "0  United States of America    39      41      33    113"
            ]
          },
          "metadata": {},
          "execution_count": 12
        }
      ]
    },
    {
      "cell_type": "markdown",
      "metadata": {
        "id": "NSeBBKCHnQRr"
      },
      "source": [
        "5. visualizzare il numero totale di medaglie vinte complessivamente da tutte le nazioni"
      ]
    },
    {
      "cell_type": "code",
      "metadata": {
        "colab": {
          "base_uri": "https://localhost:8080/"
        },
        "id": "-qlDdwytnToD",
        "outputId": "33a3df36-a848-4b0c-de47-8bb781fb23d1"
      },
      "source": [
        "medals[\"Total\"].sum()"
      ],
      "execution_count": null,
      "outputs": [
        {
          "output_type": "execute_result",
          "data": {
            "text/plain": [
              "1080"
            ]
          },
          "metadata": {},
          "execution_count": 13
        }
      ]
    },
    {
      "cell_type": "markdown",
      "metadata": {
        "id": "cjnRrI8yneCq"
      },
      "source": [
        "6. aggiungere una colonna contenente la percentuale di medaglie vinte da ogni nazione. Chiamare la colonna “Percentuale”\n"
      ]
    },
    {
      "cell_type": "code",
      "metadata": {
        "id": "VOOlnGSeng7M"
      },
      "source": [
        ""
      ],
      "execution_count": null,
      "outputs": []
    },
    {
      "cell_type": "code",
      "metadata": {
        "colab": {
          "base_uri": "https://localhost:8080/",
          "height": 419
        },
        "id": "zWyfAlN6QRN7",
        "outputId": "a5c88a72-11cb-4e9d-b02f-dfb0283fc40b"
      },
      "source": [
        "url2 = \"https://raw.githubusercontent.com/wtitze/3E/main/Teams.xlsx\"\n",
        "teams = pd.read_excel(url2)\n",
        "teams"
      ],
      "execution_count": null,
      "outputs": [
        {
          "output_type": "execute_result",
          "data": {
            "text/html": [
              "<div>\n",
              "<style scoped>\n",
              "    .dataframe tbody tr th:only-of-type {\n",
              "        vertical-align: middle;\n",
              "    }\n",
              "\n",
              "    .dataframe tbody tr th {\n",
              "        vertical-align: top;\n",
              "    }\n",
              "\n",
              "    .dataframe thead th {\n",
              "        text-align: right;\n",
              "    }\n",
              "</style>\n",
              "<table border=\"1\" class=\"dataframe\">\n",
              "  <thead>\n",
              "    <tr style=\"text-align: right;\">\n",
              "      <th></th>\n",
              "      <th>Name</th>\n",
              "      <th>Discipline</th>\n",
              "      <th>NOC</th>\n",
              "      <th>Event</th>\n",
              "    </tr>\n",
              "  </thead>\n",
              "  <tbody>\n",
              "    <tr>\n",
              "      <th>0</th>\n",
              "      <td>Belgium</td>\n",
              "      <td>3x3 Basketball</td>\n",
              "      <td>Belgium</td>\n",
              "      <td>Men</td>\n",
              "    </tr>\n",
              "    <tr>\n",
              "      <th>1</th>\n",
              "      <td>China</td>\n",
              "      <td>3x3 Basketball</td>\n",
              "      <td>People's Republic of China</td>\n",
              "      <td>Men</td>\n",
              "    </tr>\n",
              "    <tr>\n",
              "      <th>2</th>\n",
              "      <td>China</td>\n",
              "      <td>3x3 Basketball</td>\n",
              "      <td>People's Republic of China</td>\n",
              "      <td>Women</td>\n",
              "    </tr>\n",
              "    <tr>\n",
              "      <th>3</th>\n",
              "      <td>France</td>\n",
              "      <td>3x3 Basketball</td>\n",
              "      <td>France</td>\n",
              "      <td>Women</td>\n",
              "    </tr>\n",
              "    <tr>\n",
              "      <th>4</th>\n",
              "      <td>Italy</td>\n",
              "      <td>3x3 Basketball</td>\n",
              "      <td>Italy</td>\n",
              "      <td>Women</td>\n",
              "    </tr>\n",
              "    <tr>\n",
              "      <th>...</th>\n",
              "      <td>...</td>\n",
              "      <td>...</td>\n",
              "      <td>...</td>\n",
              "      <td>...</td>\n",
              "    </tr>\n",
              "    <tr>\n",
              "      <th>738</th>\n",
              "      <td>South Africa</td>\n",
              "      <td>Water Polo</td>\n",
              "      <td>South Africa</td>\n",
              "      <td>Women</td>\n",
              "    </tr>\n",
              "    <tr>\n",
              "      <th>739</th>\n",
              "      <td>Spain</td>\n",
              "      <td>Water Polo</td>\n",
              "      <td>Spain</td>\n",
              "      <td>Men</td>\n",
              "    </tr>\n",
              "    <tr>\n",
              "      <th>740</th>\n",
              "      <td>Spain</td>\n",
              "      <td>Water Polo</td>\n",
              "      <td>Spain</td>\n",
              "      <td>Women</td>\n",
              "    </tr>\n",
              "    <tr>\n",
              "      <th>741</th>\n",
              "      <td>United States</td>\n",
              "      <td>Water Polo</td>\n",
              "      <td>United States of America</td>\n",
              "      <td>Men</td>\n",
              "    </tr>\n",
              "    <tr>\n",
              "      <th>742</th>\n",
              "      <td>United States</td>\n",
              "      <td>Water Polo</td>\n",
              "      <td>United States of America</td>\n",
              "      <td>Women</td>\n",
              "    </tr>\n",
              "  </tbody>\n",
              "</table>\n",
              "<p>743 rows × 4 columns</p>\n",
              "</div>"
            ],
            "text/plain": [
              "              Name      Discipline                         NOC  Event\n",
              "0          Belgium  3x3 Basketball                     Belgium    Men\n",
              "1            China  3x3 Basketball  People's Republic of China    Men\n",
              "2            China  3x3 Basketball  People's Republic of China  Women\n",
              "3           France  3x3 Basketball                      France  Women\n",
              "4            Italy  3x3 Basketball                       Italy  Women\n",
              "..             ...             ...                         ...    ...\n",
              "738   South Africa      Water Polo                South Africa  Women\n",
              "739          Spain      Water Polo                       Spain    Men\n",
              "740          Spain      Water Polo                       Spain  Women\n",
              "741  United States      Water Polo    United States of America    Men\n",
              "742  United States      Water Polo    United States of America  Women\n",
              "\n",
              "[743 rows x 4 columns]"
            ]
          },
          "metadata": {},
          "execution_count": 99
        }
      ]
    },
    {
      "cell_type": "markdown",
      "metadata": {
        "id": "sns7HKgOQMc6"
      },
      "source": [
        "7. visualizzare il numero di squadre per ogni sesso"
      ]
    },
    {
      "cell_type": "code",
      "metadata": {
        "colab": {
          "base_uri": "https://localhost:8080/"
        },
        "id": "gBFrecWDRBce",
        "outputId": "0e12d21f-0106-4e5b-e7cb-708322a93a28"
      },
      "source": [
        "teams.groupby(\"Event\")[\"Discipline\"].count()"
      ],
      "execution_count": null,
      "outputs": [
        {
          "output_type": "execute_result",
          "data": {
            "text/plain": [
              "Event\n",
              "4 x 400m Relay Mixed                 15\n",
              "Baseball                              6\n",
              "Duet                                 22\n",
              "Group All-Around                     14\n",
              "Men                                 120\n",
              "Men's 4 x 100m Freestyle Relay       16\n",
              "Men's 4 x 100m Medley Relay          16\n",
              "Men's 4 x 100m Relay                 16\n",
              "Men's 4 x 200m Freestyle Relay       16\n",
              "Men's 4 x 400m Relay                 16\n",
              "Men's Foil Team                       9\n",
              "Men's Madison                        16\n",
              "Men's Sabre Team                      9\n",
              "Men's Team                           40\n",
              "Men's Team Pursuit                    8\n",
              "Men's Team Sprint                     8\n",
              "Men's Épée Team                       9\n",
              "Mixed 4 x 100m Medley Relay          16\n",
              "Mixed Doubles                        16\n",
              "Mixed Relay                          18\n",
              "Mixed Team                           29\n",
              "Softball                              6\n",
              "Team                                 10\n",
              "Women                               114\n",
              "Women's 4 x 100m Freestyle Relay     16\n",
              "Women's 4 x 100m Medley Relay        16\n",
              "Women's 4 x 100m Relay               16\n",
              "Women's 4 x 200m Freestyle Relay     17\n",
              "Women's 4 x 400m Relay               16\n",
              "Women's Foil Team                     8\n",
              "Women's Madison                      16\n",
              "Women's Sabre Team                    9\n",
              "Women's Team                         40\n",
              "Women's Team Pursuit                  8\n",
              "Women's Team Sprint                   8\n",
              "Women's Épée Team                     8\n",
              "Name: Discipline, dtype: int64"
            ]
          },
          "metadata": {},
          "execution_count": 100
        }
      ]
    },
    {
      "cell_type": "markdown",
      "metadata": {
        "id": "TRCZVgyuRnl-"
      },
      "source": [
        "8. visualizzare il numero di discipline a cui ha partecipato ogni nazione. Ordinare in ordine decrescente a partire dalla nazione che ha presentato più squadre. Contare insieme squadre maschili e femminili\n"
      ]
    },
    {
      "cell_type": "code",
      "metadata": {
        "colab": {
          "base_uri": "https://localhost:8080/"
        },
        "id": "IbSB8HHERsEV",
        "outputId": "773722be-9108-49f5-fd95-296bb849a474"
      },
      "source": [
        "teams.groupby(\"NOC\")[\"Discipline\"].count().sort_values(ascending = False)"
      ],
      "execution_count": null,
      "outputs": [
        {
          "output_type": "execute_result",
          "data": {
            "text/plain": [
              "NOC\n",
              "Japan                       48\n",
              "United States of America    47\n",
              "Italy                       37\n",
              "Germany                     36\n",
              "Australia                   35\n",
              "                            ..\n",
              "Vietnam                      1\n",
              "Honduras                     1\n",
              "Ghana                        1\n",
              "Estonia                      1\n",
              "Angola                       1\n",
              "Name: Discipline, Length: 84, dtype: int64"
            ]
          },
          "metadata": {},
          "execution_count": 101
        }
      ]
    },
    {
      "cell_type": "markdown",
      "metadata": {
        "id": "Prw35rSdSUFz"
      },
      "source": [
        "9. visualizzare il numero di nazioni che hanno partecipato alle varie discipline. Ordinare in ordine decrescente in base alla disciplina che ha avuto più squadre partecipanti"
      ]
    },
    {
      "cell_type": "code",
      "metadata": {
        "colab": {
          "base_uri": "https://localhost:8080/"
        },
        "id": "2n4sj434Sbg6",
        "outputId": "b4fb5206-73f0-4390-eb18-6a5016d6ca46"
      },
      "source": [
        "teams.groupby(\"Discipline\")[\"NOC\"].count().sort_values(ascending = False)"
      ],
      "execution_count": null,
      "outputs": [
        {
          "output_type": "execute_result",
          "data": {
            "text/plain": [
              "Discipline\n",
              "Swimming               113\n",
              "Athletics               79\n",
              "Cycling Track           64\n",
              "Archery                 53\n",
              "Fencing                 52\n",
              "Table Tennis            48\n",
              "Beach Volleyball        48\n",
              "Artistic Swimming       32\n",
              "Football                28\n",
              "Rugby Sevens            24\n",
              "Artistic Gymnastics     24\n",
              "Hockey                  24\n",
              "Handball                24\n",
              "Volleyball              24\n",
              "Basketball              24\n",
              "Water Polo              22\n",
              "Triathlon               18\n",
              "3x3 Basketball          16\n",
              "Rhythmic Gymnastics     14\n",
              "Baseball/Softball       12\n",
              "Name: NOC, dtype: int64"
            ]
          },
          "metadata": {},
          "execution_count": 102
        }
      ]
    },
    {
      "cell_type": "markdown",
      "metadata": {
        "id": "HndFwLSQSvDg"
      },
      "source": [
        "10. visualizzare il nome della nazione che ha portato più squadre"
      ]
    },
    {
      "cell_type": "code",
      "metadata": {
        "colab": {
          "base_uri": "https://localhost:8080/",
          "height": 111
        },
        "id": "ZxfD4xAiSyh1",
        "outputId": "1af950f1-1d0c-4d9e-b1bf-30bc9a5db3b7"
      },
      "source": [
        "teams2 = teams.groupby('Name').count()\n",
        "teams2[teams2['NOC'] == teams2['NOC'].max()]\n"
      ],
      "execution_count": null,
      "outputs": [
        {
          "output_type": "execute_result",
          "data": {
            "text/html": [
              "<div>\n",
              "<style scoped>\n",
              "    .dataframe tbody tr th:only-of-type {\n",
              "        vertical-align: middle;\n",
              "    }\n",
              "\n",
              "    .dataframe tbody tr th {\n",
              "        vertical-align: top;\n",
              "    }\n",
              "\n",
              "    .dataframe thead th {\n",
              "        text-align: right;\n",
              "    }\n",
              "</style>\n",
              "<table border=\"1\" class=\"dataframe\">\n",
              "  <thead>\n",
              "    <tr style=\"text-align: right;\">\n",
              "      <th></th>\n",
              "      <th>Discipline</th>\n",
              "      <th>NOC</th>\n",
              "      <th>Event</th>\n",
              "    </tr>\n",
              "    <tr>\n",
              "      <th>Name</th>\n",
              "      <th></th>\n",
              "      <th></th>\n",
              "      <th></th>\n",
              "    </tr>\n",
              "  </thead>\n",
              "  <tbody>\n",
              "    <tr>\n",
              "      <th>Japan</th>\n",
              "      <td>45</td>\n",
              "      <td>45</td>\n",
              "      <td>45</td>\n",
              "    </tr>\n",
              "  </tbody>\n",
              "</table>\n",
              "</div>"
            ],
            "text/plain": [
              "       Discipline  NOC  Event\n",
              "Name                         \n",
              "Japan          45   45     45"
            ]
          },
          "metadata": {},
          "execution_count": 103
        }
      ]
    },
    {
      "cell_type": "markdown",
      "metadata": {
        "id": "mkO_TZGTTuql"
      },
      "source": [
        "11. eliminare la colonna “Event”"
      ]
    },
    {
      "cell_type": "code",
      "metadata": {
        "colab": {
          "base_uri": "https://localhost:8080/",
          "height": 419
        },
        "id": "eKHXl_AzTyOh",
        "outputId": "be5156dd-51ac-4bc4-babe-43d8401e0d58"
      },
      "source": [
        "teams = teams.drop(columns = ['Event'])\n",
        "teams"
      ],
      "execution_count": null,
      "outputs": [
        {
          "output_type": "execute_result",
          "data": {
            "text/html": [
              "<div>\n",
              "<style scoped>\n",
              "    .dataframe tbody tr th:only-of-type {\n",
              "        vertical-align: middle;\n",
              "    }\n",
              "\n",
              "    .dataframe tbody tr th {\n",
              "        vertical-align: top;\n",
              "    }\n",
              "\n",
              "    .dataframe thead th {\n",
              "        text-align: right;\n",
              "    }\n",
              "</style>\n",
              "<table border=\"1\" class=\"dataframe\">\n",
              "  <thead>\n",
              "    <tr style=\"text-align: right;\">\n",
              "      <th></th>\n",
              "      <th>Name</th>\n",
              "      <th>Discipline</th>\n",
              "      <th>Name</th>\n",
              "    </tr>\n",
              "  </thead>\n",
              "  <tbody>\n",
              "    <tr>\n",
              "      <th>0</th>\n",
              "      <td>Belgium</td>\n",
              "      <td>3x3 Basketball</td>\n",
              "      <td>Belgium</td>\n",
              "    </tr>\n",
              "    <tr>\n",
              "      <th>1</th>\n",
              "      <td>China</td>\n",
              "      <td>3x3 Basketball</td>\n",
              "      <td>People's Republic of China</td>\n",
              "    </tr>\n",
              "    <tr>\n",
              "      <th>2</th>\n",
              "      <td>China</td>\n",
              "      <td>3x3 Basketball</td>\n",
              "      <td>People's Republic of China</td>\n",
              "    </tr>\n",
              "    <tr>\n",
              "      <th>3</th>\n",
              "      <td>France</td>\n",
              "      <td>3x3 Basketball</td>\n",
              "      <td>France</td>\n",
              "    </tr>\n",
              "    <tr>\n",
              "      <th>4</th>\n",
              "      <td>Italy</td>\n",
              "      <td>3x3 Basketball</td>\n",
              "      <td>Italy</td>\n",
              "    </tr>\n",
              "    <tr>\n",
              "      <th>...</th>\n",
              "      <td>...</td>\n",
              "      <td>...</td>\n",
              "      <td>...</td>\n",
              "    </tr>\n",
              "    <tr>\n",
              "      <th>738</th>\n",
              "      <td>South Africa</td>\n",
              "      <td>Water Polo</td>\n",
              "      <td>South Africa</td>\n",
              "    </tr>\n",
              "    <tr>\n",
              "      <th>739</th>\n",
              "      <td>Spain</td>\n",
              "      <td>Water Polo</td>\n",
              "      <td>Spain</td>\n",
              "    </tr>\n",
              "    <tr>\n",
              "      <th>740</th>\n",
              "      <td>Spain</td>\n",
              "      <td>Water Polo</td>\n",
              "      <td>Spain</td>\n",
              "    </tr>\n",
              "    <tr>\n",
              "      <th>741</th>\n",
              "      <td>United States</td>\n",
              "      <td>Water Polo</td>\n",
              "      <td>United States of America</td>\n",
              "    </tr>\n",
              "    <tr>\n",
              "      <th>742</th>\n",
              "      <td>United States</td>\n",
              "      <td>Water Polo</td>\n",
              "      <td>United States of America</td>\n",
              "    </tr>\n",
              "  </tbody>\n",
              "</table>\n",
              "<p>743 rows × 3 columns</p>\n",
              "</div>"
            ],
            "text/plain": [
              "              Name      Discipline                        Name\n",
              "0          Belgium  3x3 Basketball                     Belgium\n",
              "1            China  3x3 Basketball  People's Republic of China\n",
              "2            China  3x3 Basketball  People's Republic of China\n",
              "3           France  3x3 Basketball                      France\n",
              "4            Italy  3x3 Basketball                       Italy\n",
              "..             ...             ...                         ...\n",
              "738   South Africa      Water Polo                South Africa\n",
              "739          Spain      Water Polo                       Spain\n",
              "740          Spain      Water Polo                       Spain\n",
              "741  United States      Water Polo    United States of America\n",
              "742  United States      Water Polo    United States of America\n",
              "\n",
              "[743 rows x 3 columns]"
            ]
          },
          "metadata": {},
          "execution_count": 52
        }
      ]
    },
    {
      "cell_type": "markdown",
      "metadata": {
        "id": "DQ7H3lcnT18x"
      },
      "source": [
        "12. rinominare la colonna NOC in “Name”"
      ]
    },
    {
      "cell_type": "code",
      "metadata": {
        "colab": {
          "base_uri": "https://localhost:8080/",
          "height": 419
        },
        "id": "Id4RgnkVT38k",
        "outputId": "47fe70a9-8ab7-450e-a3f5-9c6251c47253"
      },
      "source": [
        "teams.rename(columns = {'NOC' : 'Name'}, inplace=True)\n",
        "teams"
      ],
      "execution_count": null,
      "outputs": [
        {
          "output_type": "execute_result",
          "data": {
            "text/html": [
              "<div>\n",
              "<style scoped>\n",
              "    .dataframe tbody tr th:only-of-type {\n",
              "        vertical-align: middle;\n",
              "    }\n",
              "\n",
              "    .dataframe tbody tr th {\n",
              "        vertical-align: top;\n",
              "    }\n",
              "\n",
              "    .dataframe thead th {\n",
              "        text-align: right;\n",
              "    }\n",
              "</style>\n",
              "<table border=\"1\" class=\"dataframe\">\n",
              "  <thead>\n",
              "    <tr style=\"text-align: right;\">\n",
              "      <th></th>\n",
              "      <th>Name</th>\n",
              "      <th>Discipline</th>\n",
              "      <th>Name</th>\n",
              "      <th>Event</th>\n",
              "    </tr>\n",
              "  </thead>\n",
              "  <tbody>\n",
              "    <tr>\n",
              "      <th>0</th>\n",
              "      <td>Belgium</td>\n",
              "      <td>3x3 Basketball</td>\n",
              "      <td>Belgium</td>\n",
              "      <td>Men</td>\n",
              "    </tr>\n",
              "    <tr>\n",
              "      <th>1</th>\n",
              "      <td>China</td>\n",
              "      <td>3x3 Basketball</td>\n",
              "      <td>People's Republic of China</td>\n",
              "      <td>Men</td>\n",
              "    </tr>\n",
              "    <tr>\n",
              "      <th>2</th>\n",
              "      <td>China</td>\n",
              "      <td>3x3 Basketball</td>\n",
              "      <td>People's Republic of China</td>\n",
              "      <td>Women</td>\n",
              "    </tr>\n",
              "    <tr>\n",
              "      <th>3</th>\n",
              "      <td>France</td>\n",
              "      <td>3x3 Basketball</td>\n",
              "      <td>France</td>\n",
              "      <td>Women</td>\n",
              "    </tr>\n",
              "    <tr>\n",
              "      <th>4</th>\n",
              "      <td>Italy</td>\n",
              "      <td>3x3 Basketball</td>\n",
              "      <td>Italy</td>\n",
              "      <td>Women</td>\n",
              "    </tr>\n",
              "    <tr>\n",
              "      <th>...</th>\n",
              "      <td>...</td>\n",
              "      <td>...</td>\n",
              "      <td>...</td>\n",
              "      <td>...</td>\n",
              "    </tr>\n",
              "    <tr>\n",
              "      <th>738</th>\n",
              "      <td>South Africa</td>\n",
              "      <td>Water Polo</td>\n",
              "      <td>South Africa</td>\n",
              "      <td>Women</td>\n",
              "    </tr>\n",
              "    <tr>\n",
              "      <th>739</th>\n",
              "      <td>Spain</td>\n",
              "      <td>Water Polo</td>\n",
              "      <td>Spain</td>\n",
              "      <td>Men</td>\n",
              "    </tr>\n",
              "    <tr>\n",
              "      <th>740</th>\n",
              "      <td>Spain</td>\n",
              "      <td>Water Polo</td>\n",
              "      <td>Spain</td>\n",
              "      <td>Women</td>\n",
              "    </tr>\n",
              "    <tr>\n",
              "      <th>741</th>\n",
              "      <td>United States</td>\n",
              "      <td>Water Polo</td>\n",
              "      <td>United States of America</td>\n",
              "      <td>Men</td>\n",
              "    </tr>\n",
              "    <tr>\n",
              "      <th>742</th>\n",
              "      <td>United States</td>\n",
              "      <td>Water Polo</td>\n",
              "      <td>United States of America</td>\n",
              "      <td>Women</td>\n",
              "    </tr>\n",
              "  </tbody>\n",
              "</table>\n",
              "<p>743 rows × 4 columns</p>\n",
              "</div>"
            ],
            "text/plain": [
              "              Name      Discipline                        Name  Event\n",
              "0          Belgium  3x3 Basketball                     Belgium    Men\n",
              "1            China  3x3 Basketball  People's Republic of China    Men\n",
              "2            China  3x3 Basketball  People's Republic of China  Women\n",
              "3           France  3x3 Basketball                      France  Women\n",
              "4            Italy  3x3 Basketball                       Italy  Women\n",
              "..             ...             ...                         ...    ...\n",
              "738   South Africa      Water Polo                South Africa  Women\n",
              "739          Spain      Water Polo                       Spain    Men\n",
              "740          Spain      Water Polo                       Spain  Women\n",
              "741  United States      Water Polo    United States of America    Men\n",
              "742  United States      Water Polo    United States of America  Women\n",
              "\n",
              "[743 rows x 4 columns]"
            ]
          },
          "metadata": {},
          "execution_count": 30
        }
      ]
    },
    {
      "cell_type": "markdown",
      "metadata": {
        "id": "vXZ9HGFfT9t-"
      },
      "source": [
        "VERIFICA 2 "
      ]
    },
    {
      "cell_type": "code",
      "metadata": {
        "colab": {
          "base_uri": "https://localhost:8080/",
          "height": 1000
        },
        "id": "0aL1y_49UDAZ",
        "outputId": "348371af-c7d3-4091-adc5-a92403e46af6"
      },
      "source": [
        "athlets = pd.read_excel('https://raw.githubusercontent.com/wtitze/3E/main/EntriesGender.xlsx')\n",
        "athlets"
      ],
      "execution_count": null,
      "outputs": [
        {
          "output_type": "execute_result",
          "data": {
            "text/html": [
              "<div>\n",
              "<style scoped>\n",
              "    .dataframe tbody tr th:only-of-type {\n",
              "        vertical-align: middle;\n",
              "    }\n",
              "\n",
              "    .dataframe tbody tr th {\n",
              "        vertical-align: top;\n",
              "    }\n",
              "\n",
              "    .dataframe thead th {\n",
              "        text-align: right;\n",
              "    }\n",
              "</style>\n",
              "<table border=\"1\" class=\"dataframe\">\n",
              "  <thead>\n",
              "    <tr style=\"text-align: right;\">\n",
              "      <th></th>\n",
              "      <th>Discipline</th>\n",
              "      <th>Female</th>\n",
              "      <th>Male</th>\n",
              "      <th>Total</th>\n",
              "    </tr>\n",
              "  </thead>\n",
              "  <tbody>\n",
              "    <tr>\n",
              "      <th>0</th>\n",
              "      <td>3x3 Basketball</td>\n",
              "      <td>32</td>\n",
              "      <td>32</td>\n",
              "      <td>64</td>\n",
              "    </tr>\n",
              "    <tr>\n",
              "      <th>1</th>\n",
              "      <td>Archery</td>\n",
              "      <td>64</td>\n",
              "      <td>64</td>\n",
              "      <td>128</td>\n",
              "    </tr>\n",
              "    <tr>\n",
              "      <th>2</th>\n",
              "      <td>Artistic Gymnastics</td>\n",
              "      <td>98</td>\n",
              "      <td>98</td>\n",
              "      <td>196</td>\n",
              "    </tr>\n",
              "    <tr>\n",
              "      <th>3</th>\n",
              "      <td>Artistic Swimming</td>\n",
              "      <td>105</td>\n",
              "      <td>0</td>\n",
              "      <td>105</td>\n",
              "    </tr>\n",
              "    <tr>\n",
              "      <th>4</th>\n",
              "      <td>Athletics</td>\n",
              "      <td>969</td>\n",
              "      <td>1072</td>\n",
              "      <td>2041</td>\n",
              "    </tr>\n",
              "    <tr>\n",
              "      <th>5</th>\n",
              "      <td>Badminton</td>\n",
              "      <td>86</td>\n",
              "      <td>87</td>\n",
              "      <td>173</td>\n",
              "    </tr>\n",
              "    <tr>\n",
              "      <th>6</th>\n",
              "      <td>Baseball/Softball</td>\n",
              "      <td>90</td>\n",
              "      <td>144</td>\n",
              "      <td>234</td>\n",
              "    </tr>\n",
              "    <tr>\n",
              "      <th>7</th>\n",
              "      <td>Basketball</td>\n",
              "      <td>144</td>\n",
              "      <td>144</td>\n",
              "      <td>288</td>\n",
              "    </tr>\n",
              "    <tr>\n",
              "      <th>8</th>\n",
              "      <td>Beach Volleyball</td>\n",
              "      <td>48</td>\n",
              "      <td>48</td>\n",
              "      <td>96</td>\n",
              "    </tr>\n",
              "    <tr>\n",
              "      <th>9</th>\n",
              "      <td>Boxing</td>\n",
              "      <td>102</td>\n",
              "      <td>187</td>\n",
              "      <td>289</td>\n",
              "    </tr>\n",
              "    <tr>\n",
              "      <th>10</th>\n",
              "      <td>Canoe Slalom</td>\n",
              "      <td>41</td>\n",
              "      <td>41</td>\n",
              "      <td>82</td>\n",
              "    </tr>\n",
              "    <tr>\n",
              "      <th>11</th>\n",
              "      <td>Canoe Sprint</td>\n",
              "      <td>123</td>\n",
              "      <td>126</td>\n",
              "      <td>249</td>\n",
              "    </tr>\n",
              "    <tr>\n",
              "      <th>12</th>\n",
              "      <td>Cycling BMX Freestyle</td>\n",
              "      <td>10</td>\n",
              "      <td>9</td>\n",
              "      <td>19</td>\n",
              "    </tr>\n",
              "    <tr>\n",
              "      <th>13</th>\n",
              "      <td>Cycling BMX Racing</td>\n",
              "      <td>24</td>\n",
              "      <td>24</td>\n",
              "      <td>48</td>\n",
              "    </tr>\n",
              "    <tr>\n",
              "      <th>14</th>\n",
              "      <td>Cycling Mountain Bike</td>\n",
              "      <td>38</td>\n",
              "      <td>38</td>\n",
              "      <td>76</td>\n",
              "    </tr>\n",
              "    <tr>\n",
              "      <th>15</th>\n",
              "      <td>Cycling Road</td>\n",
              "      <td>70</td>\n",
              "      <td>131</td>\n",
              "      <td>201</td>\n",
              "    </tr>\n",
              "    <tr>\n",
              "      <th>16</th>\n",
              "      <td>Cycling Track</td>\n",
              "      <td>90</td>\n",
              "      <td>99</td>\n",
              "      <td>189</td>\n",
              "    </tr>\n",
              "    <tr>\n",
              "      <th>17</th>\n",
              "      <td>Diving</td>\n",
              "      <td>72</td>\n",
              "      <td>71</td>\n",
              "      <td>143</td>\n",
              "    </tr>\n",
              "    <tr>\n",
              "      <th>18</th>\n",
              "      <td>Equestrian</td>\n",
              "      <td>73</td>\n",
              "      <td>125</td>\n",
              "      <td>198</td>\n",
              "    </tr>\n",
              "    <tr>\n",
              "      <th>19</th>\n",
              "      <td>Fencing</td>\n",
              "      <td>107</td>\n",
              "      <td>108</td>\n",
              "      <td>215</td>\n",
              "    </tr>\n",
              "    <tr>\n",
              "      <th>20</th>\n",
              "      <td>Football</td>\n",
              "      <td>264</td>\n",
              "      <td>344</td>\n",
              "      <td>608</td>\n",
              "    </tr>\n",
              "    <tr>\n",
              "      <th>21</th>\n",
              "      <td>Golf</td>\n",
              "      <td>60</td>\n",
              "      <td>60</td>\n",
              "      <td>120</td>\n",
              "    </tr>\n",
              "    <tr>\n",
              "      <th>22</th>\n",
              "      <td>Handball</td>\n",
              "      <td>168</td>\n",
              "      <td>168</td>\n",
              "      <td>336</td>\n",
              "    </tr>\n",
              "    <tr>\n",
              "      <th>23</th>\n",
              "      <td>Hockey</td>\n",
              "      <td>192</td>\n",
              "      <td>192</td>\n",
              "      <td>384</td>\n",
              "    </tr>\n",
              "    <tr>\n",
              "      <th>24</th>\n",
              "      <td>Judo</td>\n",
              "      <td>192</td>\n",
              "      <td>201</td>\n",
              "      <td>393</td>\n",
              "    </tr>\n",
              "    <tr>\n",
              "      <th>25</th>\n",
              "      <td>Karate</td>\n",
              "      <td>40</td>\n",
              "      <td>42</td>\n",
              "      <td>82</td>\n",
              "    </tr>\n",
              "    <tr>\n",
              "      <th>26</th>\n",
              "      <td>Marathon Swimming</td>\n",
              "      <td>25</td>\n",
              "      <td>25</td>\n",
              "      <td>50</td>\n",
              "    </tr>\n",
              "    <tr>\n",
              "      <th>27</th>\n",
              "      <td>Modern Pentathlon</td>\n",
              "      <td>36</td>\n",
              "      <td>36</td>\n",
              "      <td>72</td>\n",
              "    </tr>\n",
              "    <tr>\n",
              "      <th>28</th>\n",
              "      <td>Rhythmic Gymnastics</td>\n",
              "      <td>96</td>\n",
              "      <td>0</td>\n",
              "      <td>96</td>\n",
              "    </tr>\n",
              "    <tr>\n",
              "      <th>29</th>\n",
              "      <td>Rowing</td>\n",
              "      <td>257</td>\n",
              "      <td>265</td>\n",
              "      <td>522</td>\n",
              "    </tr>\n",
              "    <tr>\n",
              "      <th>30</th>\n",
              "      <td>Rugby Sevens</td>\n",
              "      <td>146</td>\n",
              "      <td>151</td>\n",
              "      <td>297</td>\n",
              "    </tr>\n",
              "    <tr>\n",
              "      <th>31</th>\n",
              "      <td>Sailing</td>\n",
              "      <td>175</td>\n",
              "      <td>175</td>\n",
              "      <td>350</td>\n",
              "    </tr>\n",
              "    <tr>\n",
              "      <th>32</th>\n",
              "      <td>Shooting</td>\n",
              "      <td>178</td>\n",
              "      <td>178</td>\n",
              "      <td>356</td>\n",
              "    </tr>\n",
              "    <tr>\n",
              "      <th>33</th>\n",
              "      <td>Skateboarding</td>\n",
              "      <td>40</td>\n",
              "      <td>40</td>\n",
              "      <td>80</td>\n",
              "    </tr>\n",
              "    <tr>\n",
              "      <th>34</th>\n",
              "      <td>Sport Climbing</td>\n",
              "      <td>20</td>\n",
              "      <td>20</td>\n",
              "      <td>40</td>\n",
              "    </tr>\n",
              "    <tr>\n",
              "      <th>35</th>\n",
              "      <td>Surfing</td>\n",
              "      <td>20</td>\n",
              "      <td>20</td>\n",
              "      <td>40</td>\n",
              "    </tr>\n",
              "    <tr>\n",
              "      <th>36</th>\n",
              "      <td>Swimming</td>\n",
              "      <td>361</td>\n",
              "      <td>418</td>\n",
              "      <td>779</td>\n",
              "    </tr>\n",
              "    <tr>\n",
              "      <th>37</th>\n",
              "      <td>Table Tennis</td>\n",
              "      <td>86</td>\n",
              "      <td>86</td>\n",
              "      <td>172</td>\n",
              "    </tr>\n",
              "    <tr>\n",
              "      <th>38</th>\n",
              "      <td>Taekwondo</td>\n",
              "      <td>65</td>\n",
              "      <td>65</td>\n",
              "      <td>130</td>\n",
              "    </tr>\n",
              "    <tr>\n",
              "      <th>39</th>\n",
              "      <td>Tennis</td>\n",
              "      <td>94</td>\n",
              "      <td>97</td>\n",
              "      <td>191</td>\n",
              "    </tr>\n",
              "    <tr>\n",
              "      <th>40</th>\n",
              "      <td>Trampoline Gymnastics</td>\n",
              "      <td>16</td>\n",
              "      <td>16</td>\n",
              "      <td>32</td>\n",
              "    </tr>\n",
              "    <tr>\n",
              "      <th>41</th>\n",
              "      <td>Triathlon</td>\n",
              "      <td>55</td>\n",
              "      <td>55</td>\n",
              "      <td>110</td>\n",
              "    </tr>\n",
              "    <tr>\n",
              "      <th>42</th>\n",
              "      <td>Volleyball</td>\n",
              "      <td>144</td>\n",
              "      <td>144</td>\n",
              "      <td>288</td>\n",
              "    </tr>\n",
              "    <tr>\n",
              "      <th>43</th>\n",
              "      <td>Water Polo</td>\n",
              "      <td>122</td>\n",
              "      <td>146</td>\n",
              "      <td>268</td>\n",
              "    </tr>\n",
              "    <tr>\n",
              "      <th>44</th>\n",
              "      <td>Weightlifting</td>\n",
              "      <td>98</td>\n",
              "      <td>99</td>\n",
              "      <td>197</td>\n",
              "    </tr>\n",
              "    <tr>\n",
              "      <th>45</th>\n",
              "      <td>Wrestling</td>\n",
              "      <td>96</td>\n",
              "      <td>193</td>\n",
              "      <td>289</td>\n",
              "    </tr>\n",
              "  </tbody>\n",
              "</table>\n",
              "</div>"
            ],
            "text/plain": [
              "               Discipline  Female  Male  Total\n",
              "0          3x3 Basketball      32    32     64\n",
              "1                 Archery      64    64    128\n",
              "2     Artistic Gymnastics      98    98    196\n",
              "3       Artistic Swimming     105     0    105\n",
              "4               Athletics     969  1072   2041\n",
              "5               Badminton      86    87    173\n",
              "6       Baseball/Softball      90   144    234\n",
              "7              Basketball     144   144    288\n",
              "8        Beach Volleyball      48    48     96\n",
              "9                  Boxing     102   187    289\n",
              "10           Canoe Slalom      41    41     82\n",
              "11           Canoe Sprint     123   126    249\n",
              "12  Cycling BMX Freestyle      10     9     19\n",
              "13     Cycling BMX Racing      24    24     48\n",
              "14  Cycling Mountain Bike      38    38     76\n",
              "15           Cycling Road      70   131    201\n",
              "16          Cycling Track      90    99    189\n",
              "17                 Diving      72    71    143\n",
              "18             Equestrian      73   125    198\n",
              "19                Fencing     107   108    215\n",
              "20               Football     264   344    608\n",
              "21                   Golf      60    60    120\n",
              "22               Handball     168   168    336\n",
              "23                 Hockey     192   192    384\n",
              "24                   Judo     192   201    393\n",
              "25                 Karate      40    42     82\n",
              "26      Marathon Swimming      25    25     50\n",
              "27      Modern Pentathlon      36    36     72\n",
              "28    Rhythmic Gymnastics      96     0     96\n",
              "29                 Rowing     257   265    522\n",
              "30           Rugby Sevens     146   151    297\n",
              "31                Sailing     175   175    350\n",
              "32               Shooting     178   178    356\n",
              "33          Skateboarding      40    40     80\n",
              "34         Sport Climbing      20    20     40\n",
              "35                Surfing      20    20     40\n",
              "36               Swimming     361   418    779\n",
              "37           Table Tennis      86    86    172\n",
              "38              Taekwondo      65    65    130\n",
              "39                 Tennis      94    97    191\n",
              "40  Trampoline Gymnastics      16    16     32\n",
              "41              Triathlon      55    55    110\n",
              "42             Volleyball     144   144    288\n",
              "43             Water Polo     122   146    268\n",
              "44          Weightlifting      98    99    197\n",
              "45              Wrestling      96   193    289"
            ]
          },
          "metadata": {},
          "execution_count": 34
        }
      ]
    },
    {
      "cell_type": "markdown",
      "metadata": {
        "id": "GPExXFoBWJxs"
      },
      "source": [
        "1. visualizzare il numero di atleti maschi del nuoto"
      ]
    },
    {
      "cell_type": "code",
      "metadata": {
        "colab": {
          "base_uri": "https://localhost:8080/"
        },
        "id": "95bWxofQWMxU",
        "outputId": "e9c1b99e-192a-40e9-f262-7607b83fcc85"
      },
      "source": [
        "athlets.loc[athlets['Discipline'] == 'Swimming']['Male']"
      ],
      "execution_count": null,
      "outputs": [
        {
          "output_type": "execute_result",
          "data": {
            "text/plain": [
              "36    418\n",
              "Name: Male, dtype: int64"
            ]
          },
          "metadata": {},
          "execution_count": 40
        }
      ]
    },
    {
      "cell_type": "markdown",
      "metadata": {
        "id": "QyCfGjibW2Ix"
      },
      "source": [
        "2. visualizzare le discipline con meno di 100 atleti donne"
      ]
    },
    {
      "cell_type": "code",
      "metadata": {
        "colab": {
          "base_uri": "https://localhost:8080/"
        },
        "id": "aFlHgDw-W4-l",
        "outputId": "0c2f4470-e525-4401-9a3a-4f63bbe12160"
      },
      "source": [
        "athlets.loc[athlets[\"Female\"]< 100][\"Discipline\"]"
      ],
      "execution_count": null,
      "outputs": [
        {
          "output_type": "execute_result",
          "data": {
            "text/plain": [
              "0            3x3 Basketball\n",
              "1                   Archery\n",
              "2       Artistic Gymnastics\n",
              "5                 Badminton\n",
              "6         Baseball/Softball\n",
              "8          Beach Volleyball\n",
              "10             Canoe Slalom\n",
              "12    Cycling BMX Freestyle\n",
              "13       Cycling BMX Racing\n",
              "14    Cycling Mountain Bike\n",
              "15             Cycling Road\n",
              "16            Cycling Track\n",
              "17                   Diving\n",
              "18               Equestrian\n",
              "21                     Golf\n",
              "25                   Karate\n",
              "26        Marathon Swimming\n",
              "27        Modern Pentathlon\n",
              "28      Rhythmic Gymnastics\n",
              "33            Skateboarding\n",
              "34           Sport Climbing\n",
              "35                  Surfing\n",
              "37             Table Tennis\n",
              "38                Taekwondo\n",
              "39                   Tennis\n",
              "40    Trampoline Gymnastics\n",
              "41                Triathlon\n",
              "44            Weightlifting\n",
              "45                Wrestling\n",
              "Name: Discipline, dtype: object"
            ]
          },
          "metadata": {},
          "execution_count": 41
        }
      ]
    },
    {
      "cell_type": "markdown",
      "metadata": {
        "id": "uS0CAOESXDeO"
      },
      "source": [
        "3. aggiungere una colonna contenente il numero totale di atleti di ogni disciplina. Chiamare la colonna “Total”"
      ]
    },
    {
      "cell_type": "code",
      "metadata": {
        "colab": {
          "base_uri": "https://localhost:8080/",
          "height": 1000
        },
        "id": "QvqPsyZpXGXb",
        "outputId": "6b5de1bf-356a-4d4f-9700-4593e3516aa4"
      },
      "source": [
        "athlets['Total'] = athlets['Female'] + athlets['Male']\n",
        "athlets\n"
      ],
      "execution_count": null,
      "outputs": [
        {
          "output_type": "execute_result",
          "data": {
            "text/html": [
              "<div>\n",
              "<style scoped>\n",
              "    .dataframe tbody tr th:only-of-type {\n",
              "        vertical-align: middle;\n",
              "    }\n",
              "\n",
              "    .dataframe tbody tr th {\n",
              "        vertical-align: top;\n",
              "    }\n",
              "\n",
              "    .dataframe thead th {\n",
              "        text-align: right;\n",
              "    }\n",
              "</style>\n",
              "<table border=\"1\" class=\"dataframe\">\n",
              "  <thead>\n",
              "    <tr style=\"text-align: right;\">\n",
              "      <th></th>\n",
              "      <th>Discipline</th>\n",
              "      <th>Female</th>\n",
              "      <th>Male</th>\n",
              "      <th>Total</th>\n",
              "    </tr>\n",
              "  </thead>\n",
              "  <tbody>\n",
              "    <tr>\n",
              "      <th>0</th>\n",
              "      <td>3x3 Basketball</td>\n",
              "      <td>32</td>\n",
              "      <td>32</td>\n",
              "      <td>64</td>\n",
              "    </tr>\n",
              "    <tr>\n",
              "      <th>1</th>\n",
              "      <td>Archery</td>\n",
              "      <td>64</td>\n",
              "      <td>64</td>\n",
              "      <td>128</td>\n",
              "    </tr>\n",
              "    <tr>\n",
              "      <th>2</th>\n",
              "      <td>Artistic Gymnastics</td>\n",
              "      <td>98</td>\n",
              "      <td>98</td>\n",
              "      <td>196</td>\n",
              "    </tr>\n",
              "    <tr>\n",
              "      <th>3</th>\n",
              "      <td>Artistic Swimming</td>\n",
              "      <td>105</td>\n",
              "      <td>0</td>\n",
              "      <td>105</td>\n",
              "    </tr>\n",
              "    <tr>\n",
              "      <th>4</th>\n",
              "      <td>Athletics</td>\n",
              "      <td>969</td>\n",
              "      <td>1072</td>\n",
              "      <td>2041</td>\n",
              "    </tr>\n",
              "    <tr>\n",
              "      <th>5</th>\n",
              "      <td>Badminton</td>\n",
              "      <td>86</td>\n",
              "      <td>87</td>\n",
              "      <td>173</td>\n",
              "    </tr>\n",
              "    <tr>\n",
              "      <th>6</th>\n",
              "      <td>Baseball/Softball</td>\n",
              "      <td>90</td>\n",
              "      <td>144</td>\n",
              "      <td>234</td>\n",
              "    </tr>\n",
              "    <tr>\n",
              "      <th>7</th>\n",
              "      <td>Basketball</td>\n",
              "      <td>144</td>\n",
              "      <td>144</td>\n",
              "      <td>288</td>\n",
              "    </tr>\n",
              "    <tr>\n",
              "      <th>8</th>\n",
              "      <td>Beach Volleyball</td>\n",
              "      <td>48</td>\n",
              "      <td>48</td>\n",
              "      <td>96</td>\n",
              "    </tr>\n",
              "    <tr>\n",
              "      <th>9</th>\n",
              "      <td>Boxing</td>\n",
              "      <td>102</td>\n",
              "      <td>187</td>\n",
              "      <td>289</td>\n",
              "    </tr>\n",
              "    <tr>\n",
              "      <th>10</th>\n",
              "      <td>Canoe Slalom</td>\n",
              "      <td>41</td>\n",
              "      <td>41</td>\n",
              "      <td>82</td>\n",
              "    </tr>\n",
              "    <tr>\n",
              "      <th>11</th>\n",
              "      <td>Canoe Sprint</td>\n",
              "      <td>123</td>\n",
              "      <td>126</td>\n",
              "      <td>249</td>\n",
              "    </tr>\n",
              "    <tr>\n",
              "      <th>12</th>\n",
              "      <td>Cycling BMX Freestyle</td>\n",
              "      <td>10</td>\n",
              "      <td>9</td>\n",
              "      <td>19</td>\n",
              "    </tr>\n",
              "    <tr>\n",
              "      <th>13</th>\n",
              "      <td>Cycling BMX Racing</td>\n",
              "      <td>24</td>\n",
              "      <td>24</td>\n",
              "      <td>48</td>\n",
              "    </tr>\n",
              "    <tr>\n",
              "      <th>14</th>\n",
              "      <td>Cycling Mountain Bike</td>\n",
              "      <td>38</td>\n",
              "      <td>38</td>\n",
              "      <td>76</td>\n",
              "    </tr>\n",
              "    <tr>\n",
              "      <th>15</th>\n",
              "      <td>Cycling Road</td>\n",
              "      <td>70</td>\n",
              "      <td>131</td>\n",
              "      <td>201</td>\n",
              "    </tr>\n",
              "    <tr>\n",
              "      <th>16</th>\n",
              "      <td>Cycling Track</td>\n",
              "      <td>90</td>\n",
              "      <td>99</td>\n",
              "      <td>189</td>\n",
              "    </tr>\n",
              "    <tr>\n",
              "      <th>17</th>\n",
              "      <td>Diving</td>\n",
              "      <td>72</td>\n",
              "      <td>71</td>\n",
              "      <td>143</td>\n",
              "    </tr>\n",
              "    <tr>\n",
              "      <th>18</th>\n",
              "      <td>Equestrian</td>\n",
              "      <td>73</td>\n",
              "      <td>125</td>\n",
              "      <td>198</td>\n",
              "    </tr>\n",
              "    <tr>\n",
              "      <th>19</th>\n",
              "      <td>Fencing</td>\n",
              "      <td>107</td>\n",
              "      <td>108</td>\n",
              "      <td>215</td>\n",
              "    </tr>\n",
              "    <tr>\n",
              "      <th>20</th>\n",
              "      <td>Football</td>\n",
              "      <td>264</td>\n",
              "      <td>344</td>\n",
              "      <td>608</td>\n",
              "    </tr>\n",
              "    <tr>\n",
              "      <th>21</th>\n",
              "      <td>Golf</td>\n",
              "      <td>60</td>\n",
              "      <td>60</td>\n",
              "      <td>120</td>\n",
              "    </tr>\n",
              "    <tr>\n",
              "      <th>22</th>\n",
              "      <td>Handball</td>\n",
              "      <td>168</td>\n",
              "      <td>168</td>\n",
              "      <td>336</td>\n",
              "    </tr>\n",
              "    <tr>\n",
              "      <th>23</th>\n",
              "      <td>Hockey</td>\n",
              "      <td>192</td>\n",
              "      <td>192</td>\n",
              "      <td>384</td>\n",
              "    </tr>\n",
              "    <tr>\n",
              "      <th>24</th>\n",
              "      <td>Judo</td>\n",
              "      <td>192</td>\n",
              "      <td>201</td>\n",
              "      <td>393</td>\n",
              "    </tr>\n",
              "    <tr>\n",
              "      <th>25</th>\n",
              "      <td>Karate</td>\n",
              "      <td>40</td>\n",
              "      <td>42</td>\n",
              "      <td>82</td>\n",
              "    </tr>\n",
              "    <tr>\n",
              "      <th>26</th>\n",
              "      <td>Marathon Swimming</td>\n",
              "      <td>25</td>\n",
              "      <td>25</td>\n",
              "      <td>50</td>\n",
              "    </tr>\n",
              "    <tr>\n",
              "      <th>27</th>\n",
              "      <td>Modern Pentathlon</td>\n",
              "      <td>36</td>\n",
              "      <td>36</td>\n",
              "      <td>72</td>\n",
              "    </tr>\n",
              "    <tr>\n",
              "      <th>28</th>\n",
              "      <td>Rhythmic Gymnastics</td>\n",
              "      <td>96</td>\n",
              "      <td>0</td>\n",
              "      <td>96</td>\n",
              "    </tr>\n",
              "    <tr>\n",
              "      <th>29</th>\n",
              "      <td>Rowing</td>\n",
              "      <td>257</td>\n",
              "      <td>265</td>\n",
              "      <td>522</td>\n",
              "    </tr>\n",
              "    <tr>\n",
              "      <th>30</th>\n",
              "      <td>Rugby Sevens</td>\n",
              "      <td>146</td>\n",
              "      <td>151</td>\n",
              "      <td>297</td>\n",
              "    </tr>\n",
              "    <tr>\n",
              "      <th>31</th>\n",
              "      <td>Sailing</td>\n",
              "      <td>175</td>\n",
              "      <td>175</td>\n",
              "      <td>350</td>\n",
              "    </tr>\n",
              "    <tr>\n",
              "      <th>32</th>\n",
              "      <td>Shooting</td>\n",
              "      <td>178</td>\n",
              "      <td>178</td>\n",
              "      <td>356</td>\n",
              "    </tr>\n",
              "    <tr>\n",
              "      <th>33</th>\n",
              "      <td>Skateboarding</td>\n",
              "      <td>40</td>\n",
              "      <td>40</td>\n",
              "      <td>80</td>\n",
              "    </tr>\n",
              "    <tr>\n",
              "      <th>34</th>\n",
              "      <td>Sport Climbing</td>\n",
              "      <td>20</td>\n",
              "      <td>20</td>\n",
              "      <td>40</td>\n",
              "    </tr>\n",
              "    <tr>\n",
              "      <th>35</th>\n",
              "      <td>Surfing</td>\n",
              "      <td>20</td>\n",
              "      <td>20</td>\n",
              "      <td>40</td>\n",
              "    </tr>\n",
              "    <tr>\n",
              "      <th>36</th>\n",
              "      <td>Swimming</td>\n",
              "      <td>361</td>\n",
              "      <td>418</td>\n",
              "      <td>779</td>\n",
              "    </tr>\n",
              "    <tr>\n",
              "      <th>37</th>\n",
              "      <td>Table Tennis</td>\n",
              "      <td>86</td>\n",
              "      <td>86</td>\n",
              "      <td>172</td>\n",
              "    </tr>\n",
              "    <tr>\n",
              "      <th>38</th>\n",
              "      <td>Taekwondo</td>\n",
              "      <td>65</td>\n",
              "      <td>65</td>\n",
              "      <td>130</td>\n",
              "    </tr>\n",
              "    <tr>\n",
              "      <th>39</th>\n",
              "      <td>Tennis</td>\n",
              "      <td>94</td>\n",
              "      <td>97</td>\n",
              "      <td>191</td>\n",
              "    </tr>\n",
              "    <tr>\n",
              "      <th>40</th>\n",
              "      <td>Trampoline Gymnastics</td>\n",
              "      <td>16</td>\n",
              "      <td>16</td>\n",
              "      <td>32</td>\n",
              "    </tr>\n",
              "    <tr>\n",
              "      <th>41</th>\n",
              "      <td>Triathlon</td>\n",
              "      <td>55</td>\n",
              "      <td>55</td>\n",
              "      <td>110</td>\n",
              "    </tr>\n",
              "    <tr>\n",
              "      <th>42</th>\n",
              "      <td>Volleyball</td>\n",
              "      <td>144</td>\n",
              "      <td>144</td>\n",
              "      <td>288</td>\n",
              "    </tr>\n",
              "    <tr>\n",
              "      <th>43</th>\n",
              "      <td>Water Polo</td>\n",
              "      <td>122</td>\n",
              "      <td>146</td>\n",
              "      <td>268</td>\n",
              "    </tr>\n",
              "    <tr>\n",
              "      <th>44</th>\n",
              "      <td>Weightlifting</td>\n",
              "      <td>98</td>\n",
              "      <td>99</td>\n",
              "      <td>197</td>\n",
              "    </tr>\n",
              "    <tr>\n",
              "      <th>45</th>\n",
              "      <td>Wrestling</td>\n",
              "      <td>96</td>\n",
              "      <td>193</td>\n",
              "      <td>289</td>\n",
              "    </tr>\n",
              "  </tbody>\n",
              "</table>\n",
              "</div>"
            ],
            "text/plain": [
              "               Discipline  Female  Male  Total\n",
              "0          3x3 Basketball      32    32     64\n",
              "1                 Archery      64    64    128\n",
              "2     Artistic Gymnastics      98    98    196\n",
              "3       Artistic Swimming     105     0    105\n",
              "4               Athletics     969  1072   2041\n",
              "5               Badminton      86    87    173\n",
              "6       Baseball/Softball      90   144    234\n",
              "7              Basketball     144   144    288\n",
              "8        Beach Volleyball      48    48     96\n",
              "9                  Boxing     102   187    289\n",
              "10           Canoe Slalom      41    41     82\n",
              "11           Canoe Sprint     123   126    249\n",
              "12  Cycling BMX Freestyle      10     9     19\n",
              "13     Cycling BMX Racing      24    24     48\n",
              "14  Cycling Mountain Bike      38    38     76\n",
              "15           Cycling Road      70   131    201\n",
              "16          Cycling Track      90    99    189\n",
              "17                 Diving      72    71    143\n",
              "18             Equestrian      73   125    198\n",
              "19                Fencing     107   108    215\n",
              "20               Football     264   344    608\n",
              "21                   Golf      60    60    120\n",
              "22               Handball     168   168    336\n",
              "23                 Hockey     192   192    384\n",
              "24                   Judo     192   201    393\n",
              "25                 Karate      40    42     82\n",
              "26      Marathon Swimming      25    25     50\n",
              "27      Modern Pentathlon      36    36     72\n",
              "28    Rhythmic Gymnastics      96     0     96\n",
              "29                 Rowing     257   265    522\n",
              "30           Rugby Sevens     146   151    297\n",
              "31                Sailing     175   175    350\n",
              "32               Shooting     178   178    356\n",
              "33          Skateboarding      40    40     80\n",
              "34         Sport Climbing      20    20     40\n",
              "35                Surfing      20    20     40\n",
              "36               Swimming     361   418    779\n",
              "37           Table Tennis      86    86    172\n",
              "38              Taekwondo      65    65    130\n",
              "39                 Tennis      94    97    191\n",
              "40  Trampoline Gymnastics      16    16     32\n",
              "41              Triathlon      55    55    110\n",
              "42             Volleyball     144   144    288\n",
              "43             Water Polo     122   146    268\n",
              "44          Weightlifting      98    99    197\n",
              "45              Wrestling      96   193    289"
            ]
          },
          "metadata": {},
          "execution_count": 55
        }
      ]
    },
    {
      "cell_type": "code",
      "metadata": {
        "colab": {
          "base_uri": "https://localhost:8080/",
          "height": 378
        },
        "id": "iwgheZ7iblpj",
        "outputId": "a6ce52cd-0d65-45a2-ebd4-aaf09bd7819a"
      },
      "source": [
        "x = list(athlets[\"Discipline\"])\n",
        "y = list(athlets[\"Total\"])\n",
        "fig = plt.figure(figsize=(40,12))\n",
        "ax = plt.axes()\n",
        "fig.autofmt_xdate(rotation=90)  \n",
        "plt.rcParams.update({\"font.size\":30})\n",
        "ax.bar(x,y)"
      ],
      "execution_count": null,
      "outputs": [
        {
          "output_type": "execute_result",
          "data": {
            "text/plain": [
              "<BarContainer object of 46 artists>"
            ]
          },
          "metadata": {},
          "execution_count": 77
        },
        {
          "output_type": "display_data",
          "data": {
            "image/png": "[encoded data removed]",
            "text/plain": [
              "<Figure size 2880x864 with 1 Axes>"
            ]
          },
          "metadata": {
            "needs_background": "light"
          }
        }
      ]
    },
    {
      "cell_type": "markdown",
      "metadata": {
        "id": "OhByCxPwXda3"
      },
      "source": [
        "4. visualizzare la nazione che ha più atleti (in totale)"
      ]
    },
    {
      "cell_type": "code",
      "metadata": {
        "id": "QqmC2pz1Xp5X"
      },
      "source": [
        ""
      ],
      "execution_count": null,
      "outputs": []
    },
    {
      "cell_type": "markdown",
      "metadata": {
        "id": "FZksvQcRYAYX"
      },
      "source": [
        "5. visualizzare il numero totale di atleti"
      ]
    },
    {
      "cell_type": "code",
      "metadata": {
        "colab": {
          "base_uri": "https://localhost:8080/"
        },
        "id": "m1gubcHzYDkD",
        "outputId": "bb7bc301-9f44-4e66-d16b-d3bd80810ce0"
      },
      "source": [
        "athlets['Total'].sum()"
      ],
      "execution_count": null,
      "outputs": [
        {
          "output_type": "execute_result",
          "data": {
            "text/plain": [
              "11316"
            ]
          },
          "metadata": {},
          "execution_count": 43
        }
      ]
    },
    {
      "cell_type": "markdown",
      "metadata": {
        "id": "PIr0PkiTYFgn"
      },
      "source": [
        "6. aggiungere una colonna contenente la percentuale di atleti di ogni disciplina rispetto al totale. Chiamare la colonna “Percentuale”"
      ]
    },
    {
      "cell_type": "code",
      "metadata": {
        "id": "hGrlBg52YHfw"
      },
      "source": [
        ""
      ],
      "execution_count": null,
      "outputs": []
    },
    {
      "cell_type": "code",
      "metadata": {
        "colab": {
          "base_uri": "https://localhost:8080/",
          "height": 419
        },
        "id": "T4-6o_v9YLkZ",
        "outputId": "cf8e3e32-05ca-4447-9fd2-398e64d3bfe4"
      },
      "source": [
        "coaches = pd.read_excel('https://raw.githubusercontent.com/wtitze/3E/main/Coaches.xlsx')\n",
        "coaches"
      ],
      "execution_count": null,
      "outputs": [
        {
          "output_type": "execute_result",
          "data": {
            "text/html": [
              "<div>\n",
              "<style scoped>\n",
              "    .dataframe tbody tr th:only-of-type {\n",
              "        vertical-align: middle;\n",
              "    }\n",
              "\n",
              "    .dataframe tbody tr th {\n",
              "        vertical-align: top;\n",
              "    }\n",
              "\n",
              "    .dataframe thead th {\n",
              "        text-align: right;\n",
              "    }\n",
              "</style>\n",
              "<table border=\"1\" class=\"dataframe\">\n",
              "  <thead>\n",
              "    <tr style=\"text-align: right;\">\n",
              "      <th></th>\n",
              "      <th>Name</th>\n",
              "      <th>NOC</th>\n",
              "      <th>Discipline</th>\n",
              "      <th>Event</th>\n",
              "    </tr>\n",
              "  </thead>\n",
              "  <tbody>\n",
              "    <tr>\n",
              "      <th>0</th>\n",
              "      <td>ABDELMAGID Wael</td>\n",
              "      <td>Egypt</td>\n",
              "      <td>Football</td>\n",
              "      <td>NaN</td>\n",
              "    </tr>\n",
              "    <tr>\n",
              "      <th>1</th>\n",
              "      <td>ABE Junya</td>\n",
              "      <td>Japan</td>\n",
              "      <td>Volleyball</td>\n",
              "      <td>NaN</td>\n",
              "    </tr>\n",
              "    <tr>\n",
              "      <th>2</th>\n",
              "      <td>ABE Katsuhiko</td>\n",
              "      <td>Japan</td>\n",
              "      <td>Basketball</td>\n",
              "      <td>NaN</td>\n",
              "    </tr>\n",
              "    <tr>\n",
              "      <th>3</th>\n",
              "      <td>ADAMA Cherif</td>\n",
              "      <td>Côte d'Ivoire</td>\n",
              "      <td>Football</td>\n",
              "      <td>NaN</td>\n",
              "    </tr>\n",
              "    <tr>\n",
              "      <th>4</th>\n",
              "      <td>AGEBA Yuya</td>\n",
              "      <td>Japan</td>\n",
              "      <td>Volleyball</td>\n",
              "      <td>NaN</td>\n",
              "    </tr>\n",
              "    <tr>\n",
              "      <th>...</th>\n",
              "      <td>...</td>\n",
              "      <td>...</td>\n",
              "      <td>...</td>\n",
              "      <td>...</td>\n",
              "    </tr>\n",
              "    <tr>\n",
              "      <th>389</th>\n",
              "      <td>ZAMORA PEDREIRA Javier</td>\n",
              "      <td>Spain</td>\n",
              "      <td>Basketball</td>\n",
              "      <td>NaN</td>\n",
              "    </tr>\n",
              "    <tr>\n",
              "      <th>390</th>\n",
              "      <td>ZAMPIERI Francesca</td>\n",
              "      <td>Liechtenstein</td>\n",
              "      <td>Artistic Swimming</td>\n",
              "      <td>Duet</td>\n",
              "    </tr>\n",
              "    <tr>\n",
              "      <th>391</th>\n",
              "      <td>ZHANG Xiaohuan</td>\n",
              "      <td>People's Republic of China</td>\n",
              "      <td>Artistic Swimming</td>\n",
              "      <td>NaN</td>\n",
              "    </tr>\n",
              "    <tr>\n",
              "      <th>392</th>\n",
              "      <td>ZIJP Simon</td>\n",
              "      <td>Netherlands</td>\n",
              "      <td>Hockey</td>\n",
              "      <td>NaN</td>\n",
              "    </tr>\n",
              "    <tr>\n",
              "      <th>393</th>\n",
              "      <td>ZONDI Nkuliso</td>\n",
              "      <td>South Africa</td>\n",
              "      <td>Hockey</td>\n",
              "      <td>Women</td>\n",
              "    </tr>\n",
              "  </tbody>\n",
              "</table>\n",
              "<p>394 rows × 4 columns</p>\n",
              "</div>"
            ],
            "text/plain": [
              "                       Name  ...  Event\n",
              "0           ABDELMAGID Wael  ...    NaN\n",
              "1                 ABE Junya  ...    NaN\n",
              "2             ABE Katsuhiko  ...    NaN\n",
              "3              ADAMA Cherif  ...    NaN\n",
              "4                AGEBA Yuya  ...    NaN\n",
              "..                      ...  ...    ...\n",
              "389  ZAMORA PEDREIRA Javier  ...    NaN\n",
              "390      ZAMPIERI Francesca  ...   Duet\n",
              "391          ZHANG Xiaohuan  ...    NaN\n",
              "392              ZIJP Simon  ...    NaN\n",
              "393           ZONDI Nkuliso  ...  Women\n",
              "\n",
              "[394 rows x 4 columns]"
            ]
          },
          "metadata": {},
          "execution_count": 72
        }
      ]
    },
    {
      "cell_type": "markdown",
      "metadata": {
        "id": "f7u_K0rIYSaY"
      },
      "source": [
        "7. visualizzare il numero di allenatori per ogni nazione. Ordinare in ordine decrescente a partire dalla nazione che ha più allenatori. "
      ]
    },
    {
      "cell_type": "code",
      "metadata": {
        "colab": {
          "base_uri": "https://localhost:8080/"
        },
        "id": "h7zK-KA_YgAg",
        "outputId": "1e8d171b-41de-4014-d5be-81985c634ff2"
      },
      "source": [
        "coaches.groupby(\"NOC\")[\"Discipline\"].count().sort_values(ascending=False)"
      ],
      "execution_count": null,
      "outputs": [
        {
          "output_type": "execute_result",
          "data": {
            "text/plain": [
              "NOC\n",
              "Japan                       35\n",
              "United States of America    28\n",
              "Spain                       28\n",
              "Australia                   22\n",
              "Canada                      16\n",
              "                            ..\n",
              "Belarus                      1\n",
              "Portugal                     1\n",
              "Croatia                      1\n",
              "Liechtenstein                1\n",
              "Angola                       1\n",
              "Name: Discipline, Length: 61, dtype: int64"
            ]
          },
          "metadata": {},
          "execution_count": 78
        }
      ]
    },
    {
      "cell_type": "markdown",
      "metadata": {
        "id": "IvWtUWWeY54O"
      },
      "source": [
        "8. visualizzare il numero di allenatori per ogni  disciplina. Ordinare in ordine decrescente in base alla disciplina in cui ci sono più allenatori"
      ]
    },
    {
      "cell_type": "code",
      "metadata": {
        "colab": {
          "base_uri": "https://localhost:8080/"
        },
        "id": "gHpzuLr1Y8Nw",
        "outputId": "5b5691aa-9553-4ba0-adb8-739ea410c2fb"
      },
      "source": [
        "coaches.groupby(\"Discipline\")[\"Name\"].count().sort_values(ascending=False)"
      ],
      "execution_count": null,
      "outputs": [
        {
          "output_type": "execute_result",
          "data": {
            "text/plain": [
              "Discipline\n",
              "Basketball           74\n",
              "Artistic Swimming    69\n",
              "Football             59\n",
              "Volleyball           45\n",
              "Hockey               45\n",
              "Handball             29\n",
              "Baseball/Softball    26\n",
              "Rugby Sevens         25\n",
              "Water Polo           22\n",
              "Name: Name, dtype: int64"
            ]
          },
          "metadata": {},
          "execution_count": 74
        }
      ]
    },
    {
      "cell_type": "markdown",
      "metadata": {
        "id": "EswqT0kQZIzu"
      },
      "source": [
        "9. visualizzare il nome della nazione che ha portato più allenatori"
      ]
    },
    {
      "cell_type": "code",
      "metadata": {
        "colab": {
          "base_uri": "https://localhost:8080/",
          "height": 111
        },
        "id": "GW04_txwZLbt",
        "outputId": "9d99603f-1827-40b1-b00a-8f549e791722"
      },
      "source": [
        "coaches2 = coaches.groupby('NOC').count()\n",
        "coaches2[coaches2['Name'] == coaches2['Name'].max()]"
      ],
      "execution_count": null,
      "outputs": [
        {
          "output_type": "execute_result",
          "data": {
            "text/html": [
              "<div>\n",
              "<style scoped>\n",
              "    .dataframe tbody tr th:only-of-type {\n",
              "        vertical-align: middle;\n",
              "    }\n",
              "\n",
              "    .dataframe tbody tr th {\n",
              "        vertical-align: top;\n",
              "    }\n",
              "\n",
              "    .dataframe thead th {\n",
              "        text-align: right;\n",
              "    }\n",
              "</style>\n",
              "<table border=\"1\" class=\"dataframe\">\n",
              "  <thead>\n",
              "    <tr style=\"text-align: right;\">\n",
              "      <th></th>\n",
              "      <th>Name</th>\n",
              "      <th>Discipline</th>\n",
              "      <th>Event</th>\n",
              "    </tr>\n",
              "    <tr>\n",
              "      <th>NOC</th>\n",
              "      <th></th>\n",
              "      <th></th>\n",
              "      <th></th>\n",
              "    </tr>\n",
              "  </thead>\n",
              "  <tbody>\n",
              "    <tr>\n",
              "      <th>Japan</th>\n",
              "      <td>35</td>\n",
              "      <td>35</td>\n",
              "      <td>19</td>\n",
              "    </tr>\n",
              "  </tbody>\n",
              "</table>\n",
              "</div>"
            ],
            "text/plain": [
              "       Name  Discipline  Event\n",
              "NOC                           \n",
              "Japan    35          35     19"
            ]
          },
          "metadata": {},
          "execution_count": 75
        }
      ]
    },
    {
      "cell_type": "markdown",
      "metadata": {
        "id": "5Vr4dqKNaJ_z"
      },
      "source": [
        "10. visualizzare il nome delle nazioni che hanno portato più allenatori rispetto alla media "
      ]
    },
    {
      "cell_type": "code",
      "metadata": {
        "id": "sU68VfC6aMGb"
      },
      "source": [
        ""
      ],
      "execution_count": null,
      "outputs": []
    },
    {
      "cell_type": "markdown",
      "metadata": {
        "id": "NG4K2b9OaQWs"
      },
      "source": [
        "11. eliminare la colonna “Name”"
      ]
    },
    {
      "cell_type": "code",
      "metadata": {
        "colab": {
          "base_uri": "https://localhost:8080/",
          "height": 419
        },
        "id": "1UQFtWV2aSrL",
        "outputId": "449dab75-33ba-49b3-c4ff-98e8aebe1a33"
      },
      "source": [
        "coaches = coaches.drop(columns='Name')\n",
        "coaches"
      ],
      "execution_count": null,
      "outputs": [
        {
          "output_type": "execute_result",
          "data": {
            "text/html": [
              "<div>\n",
              "<style scoped>\n",
              "    .dataframe tbody tr th:only-of-type {\n",
              "        vertical-align: middle;\n",
              "    }\n",
              "\n",
              "    .dataframe tbody tr th {\n",
              "        vertical-align: top;\n",
              "    }\n",
              "\n",
              "    .dataframe thead th {\n",
              "        text-align: right;\n",
              "    }\n",
              "</style>\n",
              "<table border=\"1\" class=\"dataframe\">\n",
              "  <thead>\n",
              "    <tr style=\"text-align: right;\">\n",
              "      <th></th>\n",
              "      <th>NOC</th>\n",
              "      <th>Discipline</th>\n",
              "      <th>Event</th>\n",
              "    </tr>\n",
              "  </thead>\n",
              "  <tbody>\n",
              "    <tr>\n",
              "      <th>0</th>\n",
              "      <td>Egypt</td>\n",
              "      <td>Football</td>\n",
              "      <td>NaN</td>\n",
              "    </tr>\n",
              "    <tr>\n",
              "      <th>1</th>\n",
              "      <td>Japan</td>\n",
              "      <td>Volleyball</td>\n",
              "      <td>NaN</td>\n",
              "    </tr>\n",
              "    <tr>\n",
              "      <th>2</th>\n",
              "      <td>Japan</td>\n",
              "      <td>Basketball</td>\n",
              "      <td>NaN</td>\n",
              "    </tr>\n",
              "    <tr>\n",
              "      <th>3</th>\n",
              "      <td>Côte d'Ivoire</td>\n",
              "      <td>Football</td>\n",
              "      <td>NaN</td>\n",
              "    </tr>\n",
              "    <tr>\n",
              "      <th>4</th>\n",
              "      <td>Japan</td>\n",
              "      <td>Volleyball</td>\n",
              "      <td>NaN</td>\n",
              "    </tr>\n",
              "    <tr>\n",
              "      <th>...</th>\n",
              "      <td>...</td>\n",
              "      <td>...</td>\n",
              "      <td>...</td>\n",
              "    </tr>\n",
              "    <tr>\n",
              "      <th>389</th>\n",
              "      <td>Spain</td>\n",
              "      <td>Basketball</td>\n",
              "      <td>NaN</td>\n",
              "    </tr>\n",
              "    <tr>\n",
              "      <th>390</th>\n",
              "      <td>Liechtenstein</td>\n",
              "      <td>Artistic Swimming</td>\n",
              "      <td>Duet</td>\n",
              "    </tr>\n",
              "    <tr>\n",
              "      <th>391</th>\n",
              "      <td>People's Republic of China</td>\n",
              "      <td>Artistic Swimming</td>\n",
              "      <td>NaN</td>\n",
              "    </tr>\n",
              "    <tr>\n",
              "      <th>392</th>\n",
              "      <td>Netherlands</td>\n",
              "      <td>Hockey</td>\n",
              "      <td>NaN</td>\n",
              "    </tr>\n",
              "    <tr>\n",
              "      <th>393</th>\n",
              "      <td>South Africa</td>\n",
              "      <td>Hockey</td>\n",
              "      <td>Women</td>\n",
              "    </tr>\n",
              "  </tbody>\n",
              "</table>\n",
              "<p>394 rows × 3 columns</p>\n",
              "</div>"
            ],
            "text/plain": [
              "                            NOC         Discipline  Event\n",
              "0                         Egypt           Football    NaN\n",
              "1                         Japan         Volleyball    NaN\n",
              "2                         Japan         Basketball    NaN\n",
              "3                 Côte d'Ivoire           Football    NaN\n",
              "4                         Japan         Volleyball    NaN\n",
              "..                          ...                ...    ...\n",
              "389                       Spain         Basketball    NaN\n",
              "390               Liechtenstein  Artistic Swimming   Duet\n",
              "391  People's Republic of China  Artistic Swimming    NaN\n",
              "392                 Netherlands             Hockey    NaN\n",
              "393                South Africa             Hockey  Women\n",
              "\n",
              "[394 rows x 3 columns]"
            ]
          },
          "metadata": {},
          "execution_count": 51
        }
      ]
    },
    {
      "cell_type": "markdown",
      "metadata": {
        "id": "2BnVOX3kadxQ"
      },
      "source": [
        "12. rinominare la colonna NOC in “Name”"
      ]
    },
    {
      "cell_type": "code",
      "metadata": {
        "colab": {
          "base_uri": "https://localhost:8080/",
          "height": 419
        },
        "id": "c-MrYQ0lag4K",
        "outputId": "207e5c48-eb1d-47b4-83a1-3849347cb751"
      },
      "source": [
        "coaches.rename(columns={\"NOC\": \"Name\"}, inplace=True)\n",
        "coaches"
      ],
      "execution_count": null,
      "outputs": [
        {
          "output_type": "execute_result",
          "data": {
            "text/html": [
              "<div>\n",
              "<style scoped>\n",
              "    .dataframe tbody tr th:only-of-type {\n",
              "        vertical-align: middle;\n",
              "    }\n",
              "\n",
              "    .dataframe tbody tr th {\n",
              "        vertical-align: top;\n",
              "    }\n",
              "\n",
              "    .dataframe thead th {\n",
              "        text-align: right;\n",
              "    }\n",
              "</style>\n",
              "<table border=\"1\" class=\"dataframe\">\n",
              "  <thead>\n",
              "    <tr style=\"text-align: right;\">\n",
              "      <th></th>\n",
              "      <th>Name</th>\n",
              "      <th>Discipline</th>\n",
              "      <th>Event</th>\n",
              "    </tr>\n",
              "  </thead>\n",
              "  <tbody>\n",
              "    <tr>\n",
              "      <th>0</th>\n",
              "      <td>Egypt</td>\n",
              "      <td>Football</td>\n",
              "      <td>NaN</td>\n",
              "    </tr>\n",
              "    <tr>\n",
              "      <th>1</th>\n",
              "      <td>Japan</td>\n",
              "      <td>Volleyball</td>\n",
              "      <td>NaN</td>\n",
              "    </tr>\n",
              "    <tr>\n",
              "      <th>2</th>\n",
              "      <td>Japan</td>\n",
              "      <td>Basketball</td>\n",
              "      <td>NaN</td>\n",
              "    </tr>\n",
              "    <tr>\n",
              "      <th>3</th>\n",
              "      <td>Côte d'Ivoire</td>\n",
              "      <td>Football</td>\n",
              "      <td>NaN</td>\n",
              "    </tr>\n",
              "    <tr>\n",
              "      <th>4</th>\n",
              "      <td>Japan</td>\n",
              "      <td>Volleyball</td>\n",
              "      <td>NaN</td>\n",
              "    </tr>\n",
              "    <tr>\n",
              "      <th>...</th>\n",
              "      <td>...</td>\n",
              "      <td>...</td>\n",
              "      <td>...</td>\n",
              "    </tr>\n",
              "    <tr>\n",
              "      <th>389</th>\n",
              "      <td>Spain</td>\n",
              "      <td>Basketball</td>\n",
              "      <td>NaN</td>\n",
              "    </tr>\n",
              "    <tr>\n",
              "      <th>390</th>\n",
              "      <td>Liechtenstein</td>\n",
              "      <td>Artistic Swimming</td>\n",
              "      <td>Duet</td>\n",
              "    </tr>\n",
              "    <tr>\n",
              "      <th>391</th>\n",
              "      <td>People's Republic of China</td>\n",
              "      <td>Artistic Swimming</td>\n",
              "      <td>NaN</td>\n",
              "    </tr>\n",
              "    <tr>\n",
              "      <th>392</th>\n",
              "      <td>Netherlands</td>\n",
              "      <td>Hockey</td>\n",
              "      <td>NaN</td>\n",
              "    </tr>\n",
              "    <tr>\n",
              "      <th>393</th>\n",
              "      <td>South Africa</td>\n",
              "      <td>Hockey</td>\n",
              "      <td>Women</td>\n",
              "    </tr>\n",
              "  </tbody>\n",
              "</table>\n",
              "<p>394 rows × 3 columns</p>\n",
              "</div>"
            ],
            "text/plain": [
              "                           Name         Discipline  Event\n",
              "0                         Egypt           Football    NaN\n",
              "1                         Japan         Volleyball    NaN\n",
              "2                         Japan         Basketball    NaN\n",
              "3                 Côte d'Ivoire           Football    NaN\n",
              "4                         Japan         Volleyball    NaN\n",
              "..                          ...                ...    ...\n",
              "389                       Spain         Basketball    NaN\n",
              "390               Liechtenstein  Artistic Swimming   Duet\n",
              "391  People's Republic of China  Artistic Swimming    NaN\n",
              "392                 Netherlands             Hockey    NaN\n",
              "393                South Africa             Hockey  Women\n",
              "\n",
              "[394 rows x 3 columns]"
            ]
          },
          "metadata": {},
          "execution_count": 54
        }
      ]
    }
  ]
}