{
  "nbformat": 4,
  "nbformat_minor": 0,
  "metadata": {
    "colab": {
      "name": "Esercitazione_Pandas.ipynb",
      "provenance": [],
      "collapsed_sections": []
    },
    "kernelspec": {
      "name": "python3",
      "display_name": "Python 3"
    },
    "language_info": {
      "name": "python"
    }
  },
  "cells": [
    {
      "cell_type": "markdown",
      "metadata": {
        "id": "diqBmOfW6PKU"
      },
      "source": [
        "Richieste fila A"
      ]
    },
    {
      "cell_type": "markdown",
      "metadata": {
        "id": "tlGqQLJl6Q8j"
      },
      "source": [
        "1. Scrivere le istruzioni per caricare i dati del file csv (inventare il link e il nome del file) in un dataframe Pandas chiamato “movies”"
      ]
    },
    {
      "cell_type": "code",
      "metadata": {
        "colab": {
          "base_uri": "https://localhost:8080/",
          "height": 419
        },
        "id": "mH9mDPvU6UXD",
        "outputId": "a1100b9f-43ca-4566-bf9d-4479c2444a5d"
      },
      "source": [
        "import pandas as pd \n",
        "url = \"https://gist.githubusercontent.com/tiangechen/b68782efa49a16edaf07dc2cdaa855ea/raw/0c794a9717f18b094eabab2cd6a6b9a226903577/movies.csv\"\n",
        "movies = pd.read_csv(url)\n",
        "movies"
      ],
      "execution_count": null,
      "outputs": [
        {
          "output_type": "execute_result",
          "data": {
            "text/html": [
              "<div>\n",
              "<style scoped>\n",
              "    .dataframe tbody tr th:only-of-type {\n",
              "        vertical-align: middle;\n",
              "    }\n",
              "\n",
              "    .dataframe tbody tr th {\n",
              "        vertical-align: top;\n",
              "    }\n",
              "\n",
              "    .dataframe thead th {\n",
              "        text-align: right;\n",
              "    }\n",
              "</style>\n",
              "<table border=\"1\" class=\"dataframe\">\n",
              "  <thead>\n",
              "    <tr style=\"text-align: right;\">\n",
              "      <th></th>\n",
              "      <th>Film</th>\n",
              "      <th>Genre</th>\n",
              "      <th>Lead Studio</th>\n",
              "      <th>Audience score %</th>\n",
              "      <th>Profitability</th>\n",
              "      <th>Rotten Tomatoes %</th>\n",
              "      <th>Worldwide Gross</th>\n",
              "      <th>Year</th>\n",
              "    </tr>\n",
              "  </thead>\n",
              "  <tbody>\n",
              "    <tr>\n",
              "      <th>0</th>\n",
              "      <td>Zack and Miri Make a Porno</td>\n",
              "      <td>Romance</td>\n",
              "      <td>The Weinstein Company</td>\n",
              "      <td>70</td>\n",
              "      <td>1.747542</td>\n",
              "      <td>64</td>\n",
              "      <td>$41.94</td>\n",
              "      <td>2008</td>\n",
              "    </tr>\n",
              "    <tr>\n",
              "      <th>1</th>\n",
              "      <td>Youth in Revolt</td>\n",
              "      <td>Comedy</td>\n",
              "      <td>The Weinstein Company</td>\n",
              "      <td>52</td>\n",
              "      <td>1.090000</td>\n",
              "      <td>68</td>\n",
              "      <td>$19.62</td>\n",
              "      <td>2010</td>\n",
              "    </tr>\n",
              "    <tr>\n",
              "      <th>2</th>\n",
              "      <td>You Will Meet a Tall Dark Stranger</td>\n",
              "      <td>Comedy</td>\n",
              "      <td>Independent</td>\n",
              "      <td>35</td>\n",
              "      <td>1.211818</td>\n",
              "      <td>43</td>\n",
              "      <td>$26.66</td>\n",
              "      <td>2010</td>\n",
              "    </tr>\n",
              "    <tr>\n",
              "      <th>3</th>\n",
              "      <td>When in Rome</td>\n",
              "      <td>Comedy</td>\n",
              "      <td>Disney</td>\n",
              "      <td>44</td>\n",
              "      <td>0.000000</td>\n",
              "      <td>15</td>\n",
              "      <td>$43.04</td>\n",
              "      <td>2010</td>\n",
              "    </tr>\n",
              "    <tr>\n",
              "      <th>4</th>\n",
              "      <td>What Happens in Vegas</td>\n",
              "      <td>Comedy</td>\n",
              "      <td>Fox</td>\n",
              "      <td>72</td>\n",
              "      <td>6.267647</td>\n",
              "      <td>28</td>\n",
              "      <td>$219.37</td>\n",
              "      <td>2008</td>\n",
              "    </tr>\n",
              "    <tr>\n",
              "      <th>...</th>\n",
              "      <td>...</td>\n",
              "      <td>...</td>\n",
              "      <td>...</td>\n",
              "      <td>...</td>\n",
              "      <td>...</td>\n",
              "      <td>...</td>\n",
              "      <td>...</td>\n",
              "      <td>...</td>\n",
              "    </tr>\n",
              "    <tr>\n",
              "      <th>72</th>\n",
              "      <td>Across the Universe</td>\n",
              "      <td>romance</td>\n",
              "      <td>Independent</td>\n",
              "      <td>84</td>\n",
              "      <td>0.652603</td>\n",
              "      <td>54</td>\n",
              "      <td>$29.37</td>\n",
              "      <td>2007</td>\n",
              "    </tr>\n",
              "    <tr>\n",
              "      <th>73</th>\n",
              "      <td>A Serious Man</td>\n",
              "      <td>Drama</td>\n",
              "      <td>Universal</td>\n",
              "      <td>64</td>\n",
              "      <td>4.382857</td>\n",
              "      <td>89</td>\n",
              "      <td>$30.68</td>\n",
              "      <td>2009</td>\n",
              "    </tr>\n",
              "    <tr>\n",
              "      <th>74</th>\n",
              "      <td>A Dangerous Method</td>\n",
              "      <td>Drama</td>\n",
              "      <td>Independent</td>\n",
              "      <td>89</td>\n",
              "      <td>0.448645</td>\n",
              "      <td>79</td>\n",
              "      <td>$8.97</td>\n",
              "      <td>2011</td>\n",
              "    </tr>\n",
              "    <tr>\n",
              "      <th>75</th>\n",
              "      <td>27 Dresses</td>\n",
              "      <td>Comedy</td>\n",
              "      <td>Fox</td>\n",
              "      <td>71</td>\n",
              "      <td>5.343622</td>\n",
              "      <td>40</td>\n",
              "      <td>$160.31</td>\n",
              "      <td>2008</td>\n",
              "    </tr>\n",
              "    <tr>\n",
              "      <th>76</th>\n",
              "      <td>(500) Days of Summer</td>\n",
              "      <td>comedy</td>\n",
              "      <td>Fox</td>\n",
              "      <td>81</td>\n",
              "      <td>8.096000</td>\n",
              "      <td>87</td>\n",
              "      <td>$60.72</td>\n",
              "      <td>2009</td>\n",
              "    </tr>\n",
              "  </tbody>\n",
              "</table>\n",
              "<p>77 rows × 8 columns</p>\n",
              "</div>"
            ],
            "text/plain": [
              "                                  Film    Genre  ... Worldwide Gross  Year\n",
              "0           Zack and Miri Make a Porno  Romance  ...         $41.94   2008\n",
              "1                      Youth in Revolt   Comedy  ...         $19.62   2010\n",
              "2   You Will Meet a Tall Dark Stranger   Comedy  ...         $26.66   2010\n",
              "3                         When in Rome   Comedy  ...         $43.04   2010\n",
              "4                What Happens in Vegas   Comedy  ...        $219.37   2008\n",
              "..                                 ...      ...  ...             ...   ...\n",
              "72                 Across the Universe  romance  ...         $29.37   2007\n",
              "73                       A Serious Man    Drama  ...         $30.68   2009\n",
              "74                  A Dangerous Method    Drama  ...          $8.97   2011\n",
              "75                          27 Dresses   Comedy  ...        $160.31   2008\n",
              "76                (500) Days of Summer   comedy  ...         $60.72   2009\n",
              "\n",
              "[77 rows x 8 columns]"
            ]
          },
          "metadata": {},
          "execution_count": 4
        }
      ]
    },
    {
      "cell_type": "markdown",
      "metadata": {
        "id": "0Fj7vGsE6zgd"
      },
      "source": [
        "2. visualizzare le ultime 8 righe del dataframe"
      ]
    },
    {
      "cell_type": "code",
      "metadata": {
        "colab": {
          "base_uri": "https://localhost:8080/",
          "height": 297
        },
        "id": "4c6srvZh636M",
        "outputId": "55230f9a-8283-4891-f7b6-c711692d3914"
      },
      "source": [
        "movies.tail(8)"
      ],
      "execution_count": null,
      "outputs": [
        {
          "output_type": "execute_result",
          "data": {
            "text/html": [
              "<div>\n",
              "<style scoped>\n",
              "    .dataframe tbody tr th:only-of-type {\n",
              "        vertical-align: middle;\n",
              "    }\n",
              "\n",
              "    .dataframe tbody tr th {\n",
              "        vertical-align: top;\n",
              "    }\n",
              "\n",
              "    .dataframe thead th {\n",
              "        text-align: right;\n",
              "    }\n",
              "</style>\n",
              "<table border=\"1\" class=\"dataframe\">\n",
              "  <thead>\n",
              "    <tr style=\"text-align: right;\">\n",
              "      <th></th>\n",
              "      <th>Film</th>\n",
              "      <th>Genre</th>\n",
              "      <th>Lead Studio</th>\n",
              "      <th>Audience score %</th>\n",
              "      <th>Profitability</th>\n",
              "      <th>Rotten Tomatoes %</th>\n",
              "      <th>Worldwide Gross</th>\n",
              "      <th>Year</th>\n",
              "    </tr>\n",
              "  </thead>\n",
              "  <tbody>\n",
              "    <tr>\n",
              "      <th>69</th>\n",
              "      <td>Enchanted</td>\n",
              "      <td>Comedy</td>\n",
              "      <td>Disney</td>\n",
              "      <td>80</td>\n",
              "      <td>4.005737</td>\n",
              "      <td>93</td>\n",
              "      <td>$340.49</td>\n",
              "      <td>2007</td>\n",
              "    </tr>\n",
              "    <tr>\n",
              "      <th>70</th>\n",
              "      <td>Dear John</td>\n",
              "      <td>Drama</td>\n",
              "      <td>Sony</td>\n",
              "      <td>66</td>\n",
              "      <td>4.598800</td>\n",
              "      <td>29</td>\n",
              "      <td>$114.97</td>\n",
              "      <td>2010</td>\n",
              "    </tr>\n",
              "    <tr>\n",
              "      <th>71</th>\n",
              "      <td>Beginners</td>\n",
              "      <td>Comedy</td>\n",
              "      <td>Independent</td>\n",
              "      <td>80</td>\n",
              "      <td>4.471875</td>\n",
              "      <td>84</td>\n",
              "      <td>$14.31</td>\n",
              "      <td>2011</td>\n",
              "    </tr>\n",
              "    <tr>\n",
              "      <th>72</th>\n",
              "      <td>Across the Universe</td>\n",
              "      <td>romance</td>\n",
              "      <td>Independent</td>\n",
              "      <td>84</td>\n",
              "      <td>0.652603</td>\n",
              "      <td>54</td>\n",
              "      <td>$29.37</td>\n",
              "      <td>2007</td>\n",
              "    </tr>\n",
              "    <tr>\n",
              "      <th>73</th>\n",
              "      <td>A Serious Man</td>\n",
              "      <td>Drama</td>\n",
              "      <td>Universal</td>\n",
              "      <td>64</td>\n",
              "      <td>4.382857</td>\n",
              "      <td>89</td>\n",
              "      <td>$30.68</td>\n",
              "      <td>2009</td>\n",
              "    </tr>\n",
              "    <tr>\n",
              "      <th>74</th>\n",
              "      <td>A Dangerous Method</td>\n",
              "      <td>Drama</td>\n",
              "      <td>Independent</td>\n",
              "      <td>89</td>\n",
              "      <td>0.448645</td>\n",
              "      <td>79</td>\n",
              "      <td>$8.97</td>\n",
              "      <td>2011</td>\n",
              "    </tr>\n",
              "    <tr>\n",
              "      <th>75</th>\n",
              "      <td>27 Dresses</td>\n",
              "      <td>Comedy</td>\n",
              "      <td>Fox</td>\n",
              "      <td>71</td>\n",
              "      <td>5.343622</td>\n",
              "      <td>40</td>\n",
              "      <td>$160.31</td>\n",
              "      <td>2008</td>\n",
              "    </tr>\n",
              "    <tr>\n",
              "      <th>76</th>\n",
              "      <td>(500) Days of Summer</td>\n",
              "      <td>comedy</td>\n",
              "      <td>Fox</td>\n",
              "      <td>81</td>\n",
              "      <td>8.096000</td>\n",
              "      <td>87</td>\n",
              "      <td>$60.72</td>\n",
              "      <td>2009</td>\n",
              "    </tr>\n",
              "  </tbody>\n",
              "</table>\n",
              "</div>"
            ],
            "text/plain": [
              "                    Film    Genre  ... Worldwide Gross  Year\n",
              "69             Enchanted   Comedy  ...        $340.49   2007\n",
              "70             Dear John    Drama  ...        $114.97   2010\n",
              "71             Beginners   Comedy  ...         $14.31   2011\n",
              "72   Across the Universe  romance  ...         $29.37   2007\n",
              "73         A Serious Man    Drama  ...         $30.68   2009\n",
              "74    A Dangerous Method    Drama  ...          $8.97   2011\n",
              "75            27 Dresses   Comedy  ...        $160.31   2008\n",
              "76  (500) Days of Summer   comedy  ...         $60.72   2009\n",
              "\n",
              "[8 rows x 8 columns]"
            ]
          },
          "metadata": {},
          "execution_count": 3
        }
      ]
    },
    {
      "cell_type": "markdown",
      "metadata": {
        "id": "dKnwBvek8Xj6"
      },
      "source": [
        "3. visualizzare solo le colonne che contengono il titolo e il genere del film"
      ]
    },
    {
      "cell_type": "code",
      "metadata": {
        "colab": {
          "base_uri": "https://localhost:8080/",
          "height": 419
        },
        "id": "3Gj2nUkJ8a-U",
        "outputId": "2b1423f4-56ed-4d39-c065-8a542e51a523"
      },
      "source": [
        "movies.iloc[:,0:2]"
      ],
      "execution_count": null,
      "outputs": [
        {
          "output_type": "execute_result",
          "data": {
            "text/html": [
              "<div>\n",
              "<style scoped>\n",
              "    .dataframe tbody tr th:only-of-type {\n",
              "        vertical-align: middle;\n",
              "    }\n",
              "\n",
              "    .dataframe tbody tr th {\n",
              "        vertical-align: top;\n",
              "    }\n",
              "\n",
              "    .dataframe thead th {\n",
              "        text-align: right;\n",
              "    }\n",
              "</style>\n",
              "<table border=\"1\" class=\"dataframe\">\n",
              "  <thead>\n",
              "    <tr style=\"text-align: right;\">\n",
              "      <th></th>\n",
              "      <th>Film</th>\n",
              "      <th>Genre</th>\n",
              "    </tr>\n",
              "  </thead>\n",
              "  <tbody>\n",
              "    <tr>\n",
              "      <th>0</th>\n",
              "      <td>Zack and Miri Make a Porno</td>\n",
              "      <td>Romance</td>\n",
              "    </tr>\n",
              "    <tr>\n",
              "      <th>1</th>\n",
              "      <td>Youth in Revolt</td>\n",
              "      <td>Comedy</td>\n",
              "    </tr>\n",
              "    <tr>\n",
              "      <th>2</th>\n",
              "      <td>You Will Meet a Tall Dark Stranger</td>\n",
              "      <td>Comedy</td>\n",
              "    </tr>\n",
              "    <tr>\n",
              "      <th>3</th>\n",
              "      <td>When in Rome</td>\n",
              "      <td>Comedy</td>\n",
              "    </tr>\n",
              "    <tr>\n",
              "      <th>4</th>\n",
              "      <td>What Happens in Vegas</td>\n",
              "      <td>Comedy</td>\n",
              "    </tr>\n",
              "    <tr>\n",
              "      <th>...</th>\n",
              "      <td>...</td>\n",
              "      <td>...</td>\n",
              "    </tr>\n",
              "    <tr>\n",
              "      <th>72</th>\n",
              "      <td>Across the Universe</td>\n",
              "      <td>romance</td>\n",
              "    </tr>\n",
              "    <tr>\n",
              "      <th>73</th>\n",
              "      <td>A Serious Man</td>\n",
              "      <td>Drama</td>\n",
              "    </tr>\n",
              "    <tr>\n",
              "      <th>74</th>\n",
              "      <td>A Dangerous Method</td>\n",
              "      <td>Drama</td>\n",
              "    </tr>\n",
              "    <tr>\n",
              "      <th>75</th>\n",
              "      <td>27 Dresses</td>\n",
              "      <td>Comedy</td>\n",
              "    </tr>\n",
              "    <tr>\n",
              "      <th>76</th>\n",
              "      <td>(500) Days of Summer</td>\n",
              "      <td>comedy</td>\n",
              "    </tr>\n",
              "  </tbody>\n",
              "</table>\n",
              "<p>77 rows × 2 columns</p>\n",
              "</div>"
            ],
            "text/plain": [
              "                                  Film    Genre\n",
              "0           Zack and Miri Make a Porno  Romance\n",
              "1                      Youth in Revolt   Comedy\n",
              "2   You Will Meet a Tall Dark Stranger   Comedy\n",
              "3                         When in Rome   Comedy\n",
              "4                What Happens in Vegas   Comedy\n",
              "..                                 ...      ...\n",
              "72                 Across the Universe  romance\n",
              "73                       A Serious Man    Drama\n",
              "74                  A Dangerous Method    Drama\n",
              "75                          27 Dresses   Comedy\n",
              "76                (500) Days of Summer   comedy\n",
              "\n",
              "[77 rows x 2 columns]"
            ]
          },
          "metadata": {},
          "execution_count": 9
        }
      ]
    },
    {
      "cell_type": "markdown",
      "metadata": {
        "id": "NpJSdsSL9Hb0"
      },
      "source": [
        "4. visualizzare le righe del dataframe dalla 20 alla 30"
      ]
    },
    {
      "cell_type": "code",
      "metadata": {
        "colab": {
          "base_uri": "https://localhost:8080/",
          "height": 390
        },
        "id": "1rAA58A79Kgz",
        "outputId": "76dd775c-df7f-40c8-a5ff-2c969f698f48"
      },
      "source": [
        "movies.iloc[20:31]"
      ],
      "execution_count": null,
      "outputs": [
        {
          "output_type": "execute_result",
          "data": {
            "text/html": [
              "<div>\n",
              "<style scoped>\n",
              "    .dataframe tbody tr th:only-of-type {\n",
              "        vertical-align: middle;\n",
              "    }\n",
              "\n",
              "    .dataframe tbody tr th {\n",
              "        vertical-align: top;\n",
              "    }\n",
              "\n",
              "    .dataframe thead th {\n",
              "        text-align: right;\n",
              "    }\n",
              "</style>\n",
              "<table border=\"1\" class=\"dataframe\">\n",
              "  <thead>\n",
              "    <tr style=\"text-align: right;\">\n",
              "      <th></th>\n",
              "      <th>Film</th>\n",
              "      <th>Genre</th>\n",
              "      <th>Lead Studio</th>\n",
              "      <th>Audience score %</th>\n",
              "      <th>Profitability</th>\n",
              "      <th>Rotten Tomatoes %</th>\n",
              "      <th>Worldwide Gross</th>\n",
              "      <th>Year</th>\n",
              "    </tr>\n",
              "  </thead>\n",
              "  <tbody>\n",
              "    <tr>\n",
              "      <th>20</th>\n",
              "      <td>The Curious Case of Benjamin Button</td>\n",
              "      <td>Fantasy</td>\n",
              "      <td>Warner Bros.</td>\n",
              "      <td>81</td>\n",
              "      <td>1.783944</td>\n",
              "      <td>73</td>\n",
              "      <td>$285.43</td>\n",
              "      <td>2008</td>\n",
              "    </tr>\n",
              "    <tr>\n",
              "      <th>21</th>\n",
              "      <td>The Back-up Plan</td>\n",
              "      <td>Comedy</td>\n",
              "      <td>CBS</td>\n",
              "      <td>47</td>\n",
              "      <td>2.202571</td>\n",
              "      <td>20</td>\n",
              "      <td>$77.09</td>\n",
              "      <td>2010</td>\n",
              "    </tr>\n",
              "    <tr>\n",
              "      <th>22</th>\n",
              "      <td>Tangled</td>\n",
              "      <td>Animation</td>\n",
              "      <td>Disney</td>\n",
              "      <td>88</td>\n",
              "      <td>1.365692</td>\n",
              "      <td>89</td>\n",
              "      <td>$355.01</td>\n",
              "      <td>2010</td>\n",
              "    </tr>\n",
              "    <tr>\n",
              "      <th>23</th>\n",
              "      <td>Something Borrowed</td>\n",
              "      <td>Romance</td>\n",
              "      <td>Independent</td>\n",
              "      <td>48</td>\n",
              "      <td>1.719514</td>\n",
              "      <td>15</td>\n",
              "      <td>$60.18</td>\n",
              "      <td>2011</td>\n",
              "    </tr>\n",
              "    <tr>\n",
              "      <th>24</th>\n",
              "      <td>She's Out of My League</td>\n",
              "      <td>Comedy</td>\n",
              "      <td>Paramount</td>\n",
              "      <td>60</td>\n",
              "      <td>2.440500</td>\n",
              "      <td>57</td>\n",
              "      <td>$48.81</td>\n",
              "      <td>2010</td>\n",
              "    </tr>\n",
              "    <tr>\n",
              "      <th>25</th>\n",
              "      <td>Sex and the City Two</td>\n",
              "      <td>Comedy</td>\n",
              "      <td>Warner Bros.</td>\n",
              "      <td>49</td>\n",
              "      <td>2.883500</td>\n",
              "      <td>15</td>\n",
              "      <td>$288.35</td>\n",
              "      <td>2010</td>\n",
              "    </tr>\n",
              "    <tr>\n",
              "      <th>26</th>\n",
              "      <td>Sex and the City 2</td>\n",
              "      <td>Comedy</td>\n",
              "      <td>Warner Bros.</td>\n",
              "      <td>49</td>\n",
              "      <td>2.883500</td>\n",
              "      <td>15</td>\n",
              "      <td>$288.35</td>\n",
              "      <td>2010</td>\n",
              "    </tr>\n",
              "    <tr>\n",
              "      <th>27</th>\n",
              "      <td>Sex and the City</td>\n",
              "      <td>Comedy</td>\n",
              "      <td>Warner Bros.</td>\n",
              "      <td>81</td>\n",
              "      <td>7.221796</td>\n",
              "      <td>49</td>\n",
              "      <td>$415.25</td>\n",
              "      <td>2008</td>\n",
              "    </tr>\n",
              "    <tr>\n",
              "      <th>28</th>\n",
              "      <td>Remember Me</td>\n",
              "      <td>Drama</td>\n",
              "      <td>Summit</td>\n",
              "      <td>70</td>\n",
              "      <td>3.491250</td>\n",
              "      <td>28</td>\n",
              "      <td>$55.86</td>\n",
              "      <td>2010</td>\n",
              "    </tr>\n",
              "    <tr>\n",
              "      <th>29</th>\n",
              "      <td>Rachel Getting Married</td>\n",
              "      <td>Drama</td>\n",
              "      <td>Independent</td>\n",
              "      <td>61</td>\n",
              "      <td>1.384167</td>\n",
              "      <td>85</td>\n",
              "      <td>$16.61</td>\n",
              "      <td>2008</td>\n",
              "    </tr>\n",
              "    <tr>\n",
              "      <th>30</th>\n",
              "      <td>Penelope</td>\n",
              "      <td>Comedy</td>\n",
              "      <td>Summit</td>\n",
              "      <td>74</td>\n",
              "      <td>1.382800</td>\n",
              "      <td>52</td>\n",
              "      <td>$20.74</td>\n",
              "      <td>2008</td>\n",
              "    </tr>\n",
              "  </tbody>\n",
              "</table>\n",
              "</div>"
            ],
            "text/plain": [
              "                                   Film      Genre  ... Worldwide Gross  Year\n",
              "20  The Curious Case of Benjamin Button    Fantasy  ...        $285.43   2008\n",
              "21                     The Back-up Plan     Comedy  ...         $77.09   2010\n",
              "22                              Tangled  Animation  ...        $355.01   2010\n",
              "23                   Something Borrowed    Romance  ...         $60.18   2011\n",
              "24               She's Out of My League     Comedy  ...         $48.81   2010\n",
              "25                 Sex and the City Two     Comedy  ...        $288.35   2010\n",
              "26                   Sex and the City 2     Comedy  ...        $288.35   2010\n",
              "27                     Sex and the City     Comedy  ...        $415.25   2008\n",
              "28                          Remember Me      Drama  ...         $55.86   2010\n",
              "29               Rachel Getting Married      Drama  ...         $16.61   2008\n",
              "30                             Penelope     Comedy  ...         $20.74   2008\n",
              "\n",
              "[11 rows x 8 columns]"
            ]
          },
          "metadata": {},
          "execution_count": 11
        }
      ]
    },
    {
      "cell_type": "markdown",
      "metadata": {
        "id": "KLkIE4hk9reb"
      },
      "source": [
        "5. visualizzare i titolo e l’anno dei film che si trovano nelle posizioni 23, 29 e 45"
      ]
    },
    {
      "cell_type": "code",
      "metadata": {
        "colab": {
          "base_uri": "https://localhost:8080/",
          "height": 142
        },
        "id": "Bknyf6dD9vCM",
        "outputId": "76eee3d9-e789-4117-e44f-fe2960960830"
      },
      "source": [
        "movies.loc[[23,29,45],[\"Film\",\"Year\"]]"
      ],
      "execution_count": null,
      "outputs": [
        {
          "output_type": "execute_result",
          "data": {
            "text/html": [
              "<div>\n",
              "<style scoped>\n",
              "    .dataframe tbody tr th:only-of-type {\n",
              "        vertical-align: middle;\n",
              "    }\n",
              "\n",
              "    .dataframe tbody tr th {\n",
              "        vertical-align: top;\n",
              "    }\n",
              "\n",
              "    .dataframe thead th {\n",
              "        text-align: right;\n",
              "    }\n",
              "</style>\n",
              "<table border=\"1\" class=\"dataframe\">\n",
              "  <thead>\n",
              "    <tr style=\"text-align: right;\">\n",
              "      <th></th>\n",
              "      <th>Film</th>\n",
              "      <th>Year</th>\n",
              "    </tr>\n",
              "  </thead>\n",
              "  <tbody>\n",
              "    <tr>\n",
              "      <th>23</th>\n",
              "      <td>Something Borrowed</td>\n",
              "      <td>2011</td>\n",
              "    </tr>\n",
              "    <tr>\n",
              "      <th>29</th>\n",
              "      <td>Rachel Getting Married</td>\n",
              "      <td>2008</td>\n",
              "    </tr>\n",
              "    <tr>\n",
              "      <th>45</th>\n",
              "      <td>Mamma Mia!</td>\n",
              "      <td>2008</td>\n",
              "    </tr>\n",
              "  </tbody>\n",
              "</table>\n",
              "</div>"
            ],
            "text/plain": [
              "                      Film  Year\n",
              "23      Something Borrowed  2011\n",
              "29  Rachel Getting Married  2008\n",
              "45              Mamma Mia!  2008"
            ]
          },
          "metadata": {},
          "execution_count": 22
        }
      ]
    },
    {
      "cell_type": "markdown",
      "metadata": {
        "id": "oIIEKEpz_kiN"
      },
      "source": [
        "6. visualizzare i titoli dei film del genere “Animation”"
      ]
    },
    {
      "cell_type": "code",
      "metadata": {
        "colab": {
          "base_uri": "https://localhost:8080/"
        },
        "id": "LawOsK0L_oPL",
        "outputId": "b3063766-001e-4754-9f94-8847c6a5e7a8"
      },
      "source": [
        "movies.loc[movies[\"Genre\"] == \"Animation\",\"Film\"]"
      ],
      "execution_count": null,
      "outputs": [
        {
          "output_type": "execute_result",
          "data": {
            "text/plain": [
              "6                WALL-E\n",
              "22              Tangled\n",
              "64    Gnomeo and Juliet\n",
              "65    Gnomeo and Juliet\n",
              "Name: Film, dtype: object"
            ]
          },
          "metadata": {},
          "execution_count": 38
        }
      ]
    },
    {
      "cell_type": "markdown",
      "metadata": {
        "id": "I5koS8rSAOwb"
      },
      "source": [
        "7. visualizzare i titoli dei film prodotti dalla “Disney” e dalla “20th Century Fox”\n"
      ]
    },
    {
      "cell_type": "code",
      "metadata": {
        "colab": {
          "base_uri": "https://localhost:8080/"
        },
        "id": "iEWgTc_jATAL",
        "outputId": "0311bf4e-da8c-45e1-cba0-64a0e0e493eb"
      },
      "source": [
        "movies.loc[(movies[\"Lead Studio\"] == \"Disney\") | (movies[\"Lead Studio\"] == \"20th Century Fox\"),\"Film\"]\n"
      ],
      "execution_count": null,
      "outputs": [
        {
          "output_type": "execute_result",
          "data": {
            "text/plain": [
              "3                           When in Rome\n",
              "5                    Water For Elephants\n",
              "6                                 WALL-E\n",
              "16                          The Proposal\n",
              "22                               Tangled\n",
              "41                           Monte Carlo\n",
              "60    High School Musical 3: Senior Year\n",
              "64                     Gnomeo and Juliet\n",
              "65                     Gnomeo and Juliet\n",
              "69                             Enchanted\n",
              "Name: Film, dtype: object"
            ]
          },
          "metadata": {},
          "execution_count": 48
        }
      ]
    },
    {
      "cell_type": "markdown",
      "metadata": {
        "id": "WgHrTDEXBoSC"
      },
      "source": [
        "8. visualizzare i titoli dei film usciti dal 2005 al 2010"
      ]
    },
    {
      "cell_type": "code",
      "metadata": {
        "colab": {
          "base_uri": "https://localhost:8080/"
        },
        "id": "kM0c0dXOBq_z",
        "outputId": "17c6c38e-f627-45bb-8c22-932c1d4edbe2"
      },
      "source": [
        "movies.loc[(movies[\"Year\"] >= 2005) & (movies[\"Year\"] <= 2010),\"Film\"]"
      ],
      "execution_count": null,
      "outputs": [
        {
          "output_type": "execute_result",
          "data": {
            "text/plain": [
              "0             Zack and Miri Make a Porno\n",
              "1                        Youth in Revolt\n",
              "2     You Will Meet a Tall Dark Stranger\n",
              "3                           When in Rome\n",
              "4                  What Happens in Vegas\n",
              "                     ...                \n",
              "70                             Dear John\n",
              "72                   Across the Universe\n",
              "73                         A Serious Man\n",
              "75                            27 Dresses\n",
              "76                  (500) Days of Summer\n",
              "Name: Film, Length: 63, dtype: object"
            ]
          },
          "metadata": {},
          "execution_count": 63
        }
      ]
    },
    {
      "cell_type": "markdown",
      "metadata": {
        "id": "J8bNT2IlFRW2"
      },
      "source": [
        "9. visualizzare i film (tutte le colonne) il cui titolo comincia con la lettera W"
      ]
    },
    {
      "cell_type": "code",
      "metadata": {
        "colab": {
          "base_uri": "https://localhost:8080/",
          "height": 235
        },
        "id": "t08XE2H8FTzM",
        "outputId": "0c777668-1a36-4f5f-c233-72d56cd59cea"
      },
      "source": [
        "movies.loc[movies[\"Film\"].str[0] == \"W\"]"
      ],
      "execution_count": null,
      "outputs": [
        {
          "output_type": "execute_result",
          "data": {
            "text/html": [
              "<div>\n",
              "<style scoped>\n",
              "    .dataframe tbody tr th:only-of-type {\n",
              "        vertical-align: middle;\n",
              "    }\n",
              "\n",
              "    .dataframe tbody tr th {\n",
              "        vertical-align: top;\n",
              "    }\n",
              "\n",
              "    .dataframe thead th {\n",
              "        text-align: right;\n",
              "    }\n",
              "</style>\n",
              "<table border=\"1\" class=\"dataframe\">\n",
              "  <thead>\n",
              "    <tr style=\"text-align: right;\">\n",
              "      <th></th>\n",
              "      <th>Film</th>\n",
              "      <th>Genre</th>\n",
              "      <th>Lead Studio</th>\n",
              "      <th>Audience score %</th>\n",
              "      <th>Profitability</th>\n",
              "      <th>Rotten Tomatoes %</th>\n",
              "      <th>Worldwide Gross</th>\n",
              "      <th>Year</th>\n",
              "    </tr>\n",
              "  </thead>\n",
              "  <tbody>\n",
              "    <tr>\n",
              "      <th>3</th>\n",
              "      <td>When in Rome</td>\n",
              "      <td>Comedy</td>\n",
              "      <td>Disney</td>\n",
              "      <td>44</td>\n",
              "      <td>0.000000</td>\n",
              "      <td>15</td>\n",
              "      <td>$43.04</td>\n",
              "      <td>2010</td>\n",
              "    </tr>\n",
              "    <tr>\n",
              "      <th>4</th>\n",
              "      <td>What Happens in Vegas</td>\n",
              "      <td>Comedy</td>\n",
              "      <td>Fox</td>\n",
              "      <td>72</td>\n",
              "      <td>6.267647</td>\n",
              "      <td>28</td>\n",
              "      <td>$219.37</td>\n",
              "      <td>2008</td>\n",
              "    </tr>\n",
              "    <tr>\n",
              "      <th>5</th>\n",
              "      <td>Water For Elephants</td>\n",
              "      <td>Drama</td>\n",
              "      <td>20th Century Fox</td>\n",
              "      <td>72</td>\n",
              "      <td>3.081421</td>\n",
              "      <td>60</td>\n",
              "      <td>$117.09</td>\n",
              "      <td>2011</td>\n",
              "    </tr>\n",
              "    <tr>\n",
              "      <th>6</th>\n",
              "      <td>WALL-E</td>\n",
              "      <td>Animation</td>\n",
              "      <td>Disney</td>\n",
              "      <td>89</td>\n",
              "      <td>2.896019</td>\n",
              "      <td>96</td>\n",
              "      <td>$521.28</td>\n",
              "      <td>2008</td>\n",
              "    </tr>\n",
              "    <tr>\n",
              "      <th>7</th>\n",
              "      <td>Waitress</td>\n",
              "      <td>Romance</td>\n",
              "      <td>Independent</td>\n",
              "      <td>67</td>\n",
              "      <td>11.089741</td>\n",
              "      <td>89</td>\n",
              "      <td>$22.18</td>\n",
              "      <td>2007</td>\n",
              "    </tr>\n",
              "    <tr>\n",
              "      <th>8</th>\n",
              "      <td>Waiting For Forever</td>\n",
              "      <td>Romance</td>\n",
              "      <td>Independent</td>\n",
              "      <td>53</td>\n",
              "      <td>0.005000</td>\n",
              "      <td>6</td>\n",
              "      <td>$0.03</td>\n",
              "      <td>2011</td>\n",
              "    </tr>\n",
              "  </tbody>\n",
              "</table>\n",
              "</div>"
            ],
            "text/plain": [
              "                    Film      Genre  ... Worldwide Gross  Year\n",
              "3           When in Rome     Comedy  ...         $43.04   2010\n",
              "4  What Happens in Vegas     Comedy  ...        $219.37   2008\n",
              "5    Water For Elephants      Drama  ...        $117.09   2011\n",
              "6                 WALL-E  Animation  ...        $521.28   2008\n",
              "7               Waitress    Romance  ...         $22.18   2007\n",
              "8    Waiting For Forever    Romance  ...          $0.03   2011\n",
              "\n",
              "[6 rows x 8 columns]"
            ]
          },
          "metadata": {},
          "execution_count": 5
        }
      ]
    },
    {
      "cell_type": "markdown",
      "metadata": {
        "id": "M4NE2r-tcC27"
      },
      "source": [
        "10. visualizzare l’ “Audience score %” medio dei film del genere “Drama”"
      ]
    },
    {
      "cell_type": "code",
      "metadata": {
        "colab": {
          "base_uri": "https://localhost:8080/"
        },
        "id": "Ll_2qxOmcNbj",
        "outputId": "b6bdcc4e-bc92-4663-fad7-43c1e18cae48"
      },
      "source": [
        "movies.loc[movies[\"Genre\"] == \"Drama\",\"Audience score %\"].mean()"
      ],
      "execution_count": null,
      "outputs": [
        {
          "output_type": "execute_result",
          "data": {
            "text/plain": [
              "67.23076923076923"
            ]
          },
          "metadata": {},
          "execution_count": 38
        }
      ]
    },
    {
      "cell_type": "markdown",
      "metadata": {
        "id": "j7gQ6X4JciT5"
      },
      "source": [
        "11. visualizzare il numero di film per ogni genere"
      ]
    },
    {
      "cell_type": "code",
      "metadata": {
        "colab": {
          "base_uri": "https://localhost:8080/"
        },
        "id": "T8FMGyBbdAG_",
        "outputId": "3daac112-1893-4365-fefa-2d2481bc4c10"
      },
      "source": [
        "movies.groupby(\"Genre\")[\"Film\"].count()"
      ],
      "execution_count": null,
      "outputs": [
        {
          "output_type": "execute_result",
          "data": {
            "text/plain": [
              "Genre\n",
              "Action        1\n",
              "Animation     4\n",
              "Comdy         1\n",
              "Comedy       41\n",
              "Drama        13\n",
              "Fantasy       1\n",
              "Romance      13\n",
              "Romence       1\n",
              "comedy        1\n",
              "romance       1\n",
              "Name: Film, dtype: int64"
            ]
          },
          "metadata": {},
          "execution_count": 11
        }
      ]
    },
    {
      "cell_type": "markdown",
      "metadata": {
        "id": "EV1LMZPadeyh"
      },
      "source": [
        "12. diminuire del 10% il valore delle recensioni presenti nel campo “Audience score %”"
      ]
    },
    {
      "cell_type": "code",
      "metadata": {
        "colab": {
          "base_uri": "https://localhost:8080/"
        },
        "id": "lzdlPoo7diRv",
        "outputId": "c6dfc963-9273-4a08-ff38-0c94458c7b46"
      },
      "source": [
        "movies[\"Audience score %\"].apply(lambda x: x-(x/100*10))"
      ],
      "execution_count": null,
      "outputs": [
        {
          "output_type": "execute_result",
          "data": {
            "text/plain": [
              "0     63.0\n",
              "1     46.8\n",
              "2     31.5\n",
              "3     39.6\n",
              "4     64.8\n",
              "      ... \n",
              "72    75.6\n",
              "73    57.6\n",
              "74    80.1\n",
              "75    63.9\n",
              "76    72.9\n",
              "Name: Audience score %, Length: 77, dtype: float64"
            ]
          },
          "metadata": {},
          "execution_count": 13
        }
      ]
    },
    {
      "cell_type": "markdown",
      "metadata": {
        "id": "6IcZYdgoe-4n"
      },
      "source": [
        "Richiesta fila B"
      ]
    },
    {
      "cell_type": "markdown",
      "metadata": {
        "id": "IjlOdfIDfD12"
      },
      "source": [
        "1. Scrivere le istruzioni per caricare i dati del file csv (inventare il link e il nome del file) in un dataframe Pandas chiamato “movies”"
      ]
    },
    {
      "cell_type": "code",
      "metadata": {
        "colab": {
          "base_uri": "https://localhost:8080/",
          "height": 419
        },
        "id": "2vBXa0GwfIqu",
        "outputId": "88418c3f-438b-4a3b-93a1-da6e2d6c1460"
      },
      "source": [
        "import pandas as pd \n",
        "url = \"https://gist.githubusercontent.com/tiangechen/b68782efa49a16edaf07dc2cdaa855ea/raw/0c794a9717f18b094eabab2cd6a6b9a226903577/movies.csv\"\n",
        "movies = pd.read_csv(url)\n",
        "movies"
      ],
      "execution_count": null,
      "outputs": [
        {
          "output_type": "execute_result",
          "data": {
            "text/html": [
              "<div>\n",
              "<style scoped>\n",
              "    .dataframe tbody tr th:only-of-type {\n",
              "        vertical-align: middle;\n",
              "    }\n",
              "\n",
              "    .dataframe tbody tr th {\n",
              "        vertical-align: top;\n",
              "    }\n",
              "\n",
              "    .dataframe thead th {\n",
              "        text-align: right;\n",
              "    }\n",
              "</style>\n",
              "<table border=\"1\" class=\"dataframe\">\n",
              "  <thead>\n",
              "    <tr style=\"text-align: right;\">\n",
              "      <th></th>\n",
              "      <th>Film</th>\n",
              "      <th>Genre</th>\n",
              "      <th>Lead Studio</th>\n",
              "      <th>Audience score %</th>\n",
              "      <th>Profitability</th>\n",
              "      <th>Rotten Tomatoes %</th>\n",
              "      <th>Worldwide Gross</th>\n",
              "      <th>Year</th>\n",
              "    </tr>\n",
              "  </thead>\n",
              "  <tbody>\n",
              "    <tr>\n",
              "      <th>0</th>\n",
              "      <td>Zack and Miri Make a Porno</td>\n",
              "      <td>Romance</td>\n",
              "      <td>The Weinstein Company</td>\n",
              "      <td>70</td>\n",
              "      <td>1.747542</td>\n",
              "      <td>64</td>\n",
              "      <td>$41.94</td>\n",
              "      <td>2008</td>\n",
              "    </tr>\n",
              "    <tr>\n",
              "      <th>1</th>\n",
              "      <td>Youth in Revolt</td>\n",
              "      <td>Comedy</td>\n",
              "      <td>The Weinstein Company</td>\n",
              "      <td>52</td>\n",
              "      <td>1.090000</td>\n",
              "      <td>68</td>\n",
              "      <td>$19.62</td>\n",
              "      <td>2010</td>\n",
              "    </tr>\n",
              "    <tr>\n",
              "      <th>2</th>\n",
              "      <td>You Will Meet a Tall Dark Stranger</td>\n",
              "      <td>Comedy</td>\n",
              "      <td>Independent</td>\n",
              "      <td>35</td>\n",
              "      <td>1.211818</td>\n",
              "      <td>43</td>\n",
              "      <td>$26.66</td>\n",
              "      <td>2010</td>\n",
              "    </tr>\n",
              "    <tr>\n",
              "      <th>3</th>\n",
              "      <td>When in Rome</td>\n",
              "      <td>Comedy</td>\n",
              "      <td>Disney</td>\n",
              "      <td>44</td>\n",
              "      <td>0.000000</td>\n",
              "      <td>15</td>\n",
              "      <td>$43.04</td>\n",
              "      <td>2010</td>\n",
              "    </tr>\n",
              "    <tr>\n",
              "      <th>4</th>\n",
              "      <td>What Happens in Vegas</td>\n",
              "      <td>Comedy</td>\n",
              "      <td>Fox</td>\n",
              "      <td>72</td>\n",
              "      <td>6.267647</td>\n",
              "      <td>28</td>\n",
              "      <td>$219.37</td>\n",
              "      <td>2008</td>\n",
              "    </tr>\n",
              "    <tr>\n",
              "      <th>...</th>\n",
              "      <td>...</td>\n",
              "      <td>...</td>\n",
              "      <td>...</td>\n",
              "      <td>...</td>\n",
              "      <td>...</td>\n",
              "      <td>...</td>\n",
              "      <td>...</td>\n",
              "      <td>...</td>\n",
              "    </tr>\n",
              "    <tr>\n",
              "      <th>72</th>\n",
              "      <td>Across the Universe</td>\n",
              "      <td>romance</td>\n",
              "      <td>Independent</td>\n",
              "      <td>84</td>\n",
              "      <td>0.652603</td>\n",
              "      <td>54</td>\n",
              "      <td>$29.37</td>\n",
              "      <td>2007</td>\n",
              "    </tr>\n",
              "    <tr>\n",
              "      <th>73</th>\n",
              "      <td>A Serious Man</td>\n",
              "      <td>Drama</td>\n",
              "      <td>Universal</td>\n",
              "      <td>64</td>\n",
              "      <td>4.382857</td>\n",
              "      <td>89</td>\n",
              "      <td>$30.68</td>\n",
              "      <td>2009</td>\n",
              "    </tr>\n",
              "    <tr>\n",
              "      <th>74</th>\n",
              "      <td>A Dangerous Method</td>\n",
              "      <td>Drama</td>\n",
              "      <td>Independent</td>\n",
              "      <td>89</td>\n",
              "      <td>0.448645</td>\n",
              "      <td>79</td>\n",
              "      <td>$8.97</td>\n",
              "      <td>2011</td>\n",
              "    </tr>\n",
              "    <tr>\n",
              "      <th>75</th>\n",
              "      <td>27 Dresses</td>\n",
              "      <td>Comedy</td>\n",
              "      <td>Fox</td>\n",
              "      <td>71</td>\n",
              "      <td>5.343622</td>\n",
              "      <td>40</td>\n",
              "      <td>$160.31</td>\n",
              "      <td>2008</td>\n",
              "    </tr>\n",
              "    <tr>\n",
              "      <th>76</th>\n",
              "      <td>(500) Days of Summer</td>\n",
              "      <td>comedy</td>\n",
              "      <td>Fox</td>\n",
              "      <td>81</td>\n",
              "      <td>8.096000</td>\n",
              "      <td>87</td>\n",
              "      <td>$60.72</td>\n",
              "      <td>2009</td>\n",
              "    </tr>\n",
              "  </tbody>\n",
              "</table>\n",
              "<p>77 rows × 8 columns</p>\n",
              "</div>"
            ],
            "text/plain": [
              "                                  Film    Genre  ... Worldwide Gross  Year\n",
              "0           Zack and Miri Make a Porno  Romance  ...         $41.94   2008\n",
              "1                      Youth in Revolt   Comedy  ...         $19.62   2010\n",
              "2   You Will Meet a Tall Dark Stranger   Comedy  ...         $26.66   2010\n",
              "3                         When in Rome   Comedy  ...         $43.04   2010\n",
              "4                What Happens in Vegas   Comedy  ...        $219.37   2008\n",
              "..                                 ...      ...  ...             ...   ...\n",
              "72                 Across the Universe  romance  ...         $29.37   2007\n",
              "73                       A Serious Man    Drama  ...         $30.68   2009\n",
              "74                  A Dangerous Method    Drama  ...          $8.97   2011\n",
              "75                          27 Dresses   Comedy  ...        $160.31   2008\n",
              "76                (500) Days of Summer   comedy  ...         $60.72   2009\n",
              "\n",
              "[77 rows x 8 columns]"
            ]
          },
          "metadata": {},
          "execution_count": 14
        }
      ]
    },
    {
      "cell_type": "markdown",
      "metadata": {
        "id": "M8hw2vrzfKiX"
      },
      "source": [
        "2. visualizzare le prime 12 righe del dataframe"
      ]
    },
    {
      "cell_type": "code",
      "metadata": {
        "colab": {
          "base_uri": "https://localhost:8080/",
          "height": 421
        },
        "id": "wr661ARBfNpe",
        "outputId": "f3dcb98d-c89b-4a37-dae9-f441279b4eb3"
      },
      "source": [
        "movies.head(12)"
      ],
      "execution_count": null,
      "outputs": [
        {
          "output_type": "execute_result",
          "data": {
            "text/html": [
              "<div>\n",
              "<style scoped>\n",
              "    .dataframe tbody tr th:only-of-type {\n",
              "        vertical-align: middle;\n",
              "    }\n",
              "\n",
              "    .dataframe tbody tr th {\n",
              "        vertical-align: top;\n",
              "    }\n",
              "\n",
              "    .dataframe thead th {\n",
              "        text-align: right;\n",
              "    }\n",
              "</style>\n",
              "<table border=\"1\" class=\"dataframe\">\n",
              "  <thead>\n",
              "    <tr style=\"text-align: right;\">\n",
              "      <th></th>\n",
              "      <th>Film</th>\n",
              "      <th>Genre</th>\n",
              "      <th>Lead Studio</th>\n",
              "      <th>Audience score %</th>\n",
              "      <th>Profitability</th>\n",
              "      <th>Rotten Tomatoes %</th>\n",
              "      <th>Worldwide Gross</th>\n",
              "      <th>Year</th>\n",
              "    </tr>\n",
              "  </thead>\n",
              "  <tbody>\n",
              "    <tr>\n",
              "      <th>0</th>\n",
              "      <td>Zack and Miri Make a Porno</td>\n",
              "      <td>Romance</td>\n",
              "      <td>The Weinstein Company</td>\n",
              "      <td>70</td>\n",
              "      <td>1.747542</td>\n",
              "      <td>64</td>\n",
              "      <td>$41.94</td>\n",
              "      <td>2008</td>\n",
              "    </tr>\n",
              "    <tr>\n",
              "      <th>1</th>\n",
              "      <td>Youth in Revolt</td>\n",
              "      <td>Comedy</td>\n",
              "      <td>The Weinstein Company</td>\n",
              "      <td>52</td>\n",
              "      <td>1.090000</td>\n",
              "      <td>68</td>\n",
              "      <td>$19.62</td>\n",
              "      <td>2010</td>\n",
              "    </tr>\n",
              "    <tr>\n",
              "      <th>2</th>\n",
              "      <td>You Will Meet a Tall Dark Stranger</td>\n",
              "      <td>Comedy</td>\n",
              "      <td>Independent</td>\n",
              "      <td>35</td>\n",
              "      <td>1.211818</td>\n",
              "      <td>43</td>\n",
              "      <td>$26.66</td>\n",
              "      <td>2010</td>\n",
              "    </tr>\n",
              "    <tr>\n",
              "      <th>3</th>\n",
              "      <td>When in Rome</td>\n",
              "      <td>Comedy</td>\n",
              "      <td>Disney</td>\n",
              "      <td>44</td>\n",
              "      <td>0.000000</td>\n",
              "      <td>15</td>\n",
              "      <td>$43.04</td>\n",
              "      <td>2010</td>\n",
              "    </tr>\n",
              "    <tr>\n",
              "      <th>4</th>\n",
              "      <td>What Happens in Vegas</td>\n",
              "      <td>Comedy</td>\n",
              "      <td>Fox</td>\n",
              "      <td>72</td>\n",
              "      <td>6.267647</td>\n",
              "      <td>28</td>\n",
              "      <td>$219.37</td>\n",
              "      <td>2008</td>\n",
              "    </tr>\n",
              "    <tr>\n",
              "      <th>5</th>\n",
              "      <td>Water For Elephants</td>\n",
              "      <td>Drama</td>\n",
              "      <td>20th Century Fox</td>\n",
              "      <td>72</td>\n",
              "      <td>3.081421</td>\n",
              "      <td>60</td>\n",
              "      <td>$117.09</td>\n",
              "      <td>2011</td>\n",
              "    </tr>\n",
              "    <tr>\n",
              "      <th>6</th>\n",
              "      <td>WALL-E</td>\n",
              "      <td>Animation</td>\n",
              "      <td>Disney</td>\n",
              "      <td>89</td>\n",
              "      <td>2.896019</td>\n",
              "      <td>96</td>\n",
              "      <td>$521.28</td>\n",
              "      <td>2008</td>\n",
              "    </tr>\n",
              "    <tr>\n",
              "      <th>7</th>\n",
              "      <td>Waitress</td>\n",
              "      <td>Romance</td>\n",
              "      <td>Independent</td>\n",
              "      <td>67</td>\n",
              "      <td>11.089741</td>\n",
              "      <td>89</td>\n",
              "      <td>$22.18</td>\n",
              "      <td>2007</td>\n",
              "    </tr>\n",
              "    <tr>\n",
              "      <th>8</th>\n",
              "      <td>Waiting For Forever</td>\n",
              "      <td>Romance</td>\n",
              "      <td>Independent</td>\n",
              "      <td>53</td>\n",
              "      <td>0.005000</td>\n",
              "      <td>6</td>\n",
              "      <td>$0.03</td>\n",
              "      <td>2011</td>\n",
              "    </tr>\n",
              "    <tr>\n",
              "      <th>9</th>\n",
              "      <td>Valentine's Day</td>\n",
              "      <td>Comedy</td>\n",
              "      <td>Warner Bros.</td>\n",
              "      <td>54</td>\n",
              "      <td>4.184038</td>\n",
              "      <td>17</td>\n",
              "      <td>$217.57</td>\n",
              "      <td>2010</td>\n",
              "    </tr>\n",
              "    <tr>\n",
              "      <th>10</th>\n",
              "      <td>Tyler Perry's Why Did I get Married</td>\n",
              "      <td>Romance</td>\n",
              "      <td>Independent</td>\n",
              "      <td>47</td>\n",
              "      <td>3.724192</td>\n",
              "      <td>46</td>\n",
              "      <td>$55.86</td>\n",
              "      <td>2007</td>\n",
              "    </tr>\n",
              "    <tr>\n",
              "      <th>11</th>\n",
              "      <td>Twilight: Breaking Dawn</td>\n",
              "      <td>Romance</td>\n",
              "      <td>Independent</td>\n",
              "      <td>68</td>\n",
              "      <td>6.383364</td>\n",
              "      <td>26</td>\n",
              "      <td>$702.17</td>\n",
              "      <td>2011</td>\n",
              "    </tr>\n",
              "  </tbody>\n",
              "</table>\n",
              "</div>"
            ],
            "text/plain": [
              "                                   Film      Genre  ... Worldwide Gross  Year\n",
              "0            Zack and Miri Make a Porno    Romance  ...         $41.94   2008\n",
              "1                       Youth in Revolt     Comedy  ...         $19.62   2010\n",
              "2    You Will Meet a Tall Dark Stranger     Comedy  ...         $26.66   2010\n",
              "3                          When in Rome     Comedy  ...         $43.04   2010\n",
              "4                 What Happens in Vegas     Comedy  ...        $219.37   2008\n",
              "5                   Water For Elephants      Drama  ...        $117.09   2011\n",
              "6                                WALL-E  Animation  ...        $521.28   2008\n",
              "7                              Waitress    Romance  ...         $22.18   2007\n",
              "8                   Waiting For Forever    Romance  ...          $0.03   2011\n",
              "9                       Valentine's Day     Comedy  ...        $217.57   2010\n",
              "10  Tyler Perry's Why Did I get Married    Romance  ...         $55.86   2007\n",
              "11              Twilight: Breaking Dawn    Romance  ...        $702.17   2011\n",
              "\n",
              "[12 rows x 8 columns]"
            ]
          },
          "metadata": {},
          "execution_count": 15
        }
      ]
    },
    {
      "cell_type": "markdown",
      "metadata": {
        "id": "mpS7KdzhfUVQ"
      },
      "source": [
        "3. visualizzare le colonne 3, 4, 5 e 6"
      ]
    },
    {
      "cell_type": "code",
      "metadata": {
        "colab": {
          "base_uri": "https://localhost:8080/",
          "height": 419
        },
        "id": "iMyyCDYIfbuX",
        "outputId": "7f4c6bfc-2348-421a-fe2d-d9729f1abbba"
      },
      "source": [
        "movies.iloc[:,3:7]"
      ],
      "execution_count": null,
      "outputs": [
        {
          "output_type": "execute_result",
          "data": {
            "text/html": [
              "<div>\n",
              "<style scoped>\n",
              "    .dataframe tbody tr th:only-of-type {\n",
              "        vertical-align: middle;\n",
              "    }\n",
              "\n",
              "    .dataframe tbody tr th {\n",
              "        vertical-align: top;\n",
              "    }\n",
              "\n",
              "    .dataframe thead th {\n",
              "        text-align: right;\n",
              "    }\n",
              "</style>\n",
              "<table border=\"1\" class=\"dataframe\">\n",
              "  <thead>\n",
              "    <tr style=\"text-align: right;\">\n",
              "      <th></th>\n",
              "      <th>Audience score %</th>\n",
              "      <th>Profitability</th>\n",
              "      <th>Rotten Tomatoes %</th>\n",
              "      <th>Worldwide Gross</th>\n",
              "    </tr>\n",
              "  </thead>\n",
              "  <tbody>\n",
              "    <tr>\n",
              "      <th>0</th>\n",
              "      <td>70</td>\n",
              "      <td>1.747542</td>\n",
              "      <td>64</td>\n",
              "      <td>$41.94</td>\n",
              "    </tr>\n",
              "    <tr>\n",
              "      <th>1</th>\n",
              "      <td>52</td>\n",
              "      <td>1.090000</td>\n",
              "      <td>68</td>\n",
              "      <td>$19.62</td>\n",
              "    </tr>\n",
              "    <tr>\n",
              "      <th>2</th>\n",
              "      <td>35</td>\n",
              "      <td>1.211818</td>\n",
              "      <td>43</td>\n",
              "      <td>$26.66</td>\n",
              "    </tr>\n",
              "    <tr>\n",
              "      <th>3</th>\n",
              "      <td>44</td>\n",
              "      <td>0.000000</td>\n",
              "      <td>15</td>\n",
              "      <td>$43.04</td>\n",
              "    </tr>\n",
              "    <tr>\n",
              "      <th>4</th>\n",
              "      <td>72</td>\n",
              "      <td>6.267647</td>\n",
              "      <td>28</td>\n",
              "      <td>$219.37</td>\n",
              "    </tr>\n",
              "    <tr>\n",
              "      <th>...</th>\n",
              "      <td>...</td>\n",
              "      <td>...</td>\n",
              "      <td>...</td>\n",
              "      <td>...</td>\n",
              "    </tr>\n",
              "    <tr>\n",
              "      <th>72</th>\n",
              "      <td>84</td>\n",
              "      <td>0.652603</td>\n",
              "      <td>54</td>\n",
              "      <td>$29.37</td>\n",
              "    </tr>\n",
              "    <tr>\n",
              "      <th>73</th>\n",
              "      <td>64</td>\n",
              "      <td>4.382857</td>\n",
              "      <td>89</td>\n",
              "      <td>$30.68</td>\n",
              "    </tr>\n",
              "    <tr>\n",
              "      <th>74</th>\n",
              "      <td>89</td>\n",
              "      <td>0.448645</td>\n",
              "      <td>79</td>\n",
              "      <td>$8.97</td>\n",
              "    </tr>\n",
              "    <tr>\n",
              "      <th>75</th>\n",
              "      <td>71</td>\n",
              "      <td>5.343622</td>\n",
              "      <td>40</td>\n",
              "      <td>$160.31</td>\n",
              "    </tr>\n",
              "    <tr>\n",
              "      <th>76</th>\n",
              "      <td>81</td>\n",
              "      <td>8.096000</td>\n",
              "      <td>87</td>\n",
              "      <td>$60.72</td>\n",
              "    </tr>\n",
              "  </tbody>\n",
              "</table>\n",
              "<p>77 rows × 4 columns</p>\n",
              "</div>"
            ],
            "text/plain": [
              "    Audience score %  Profitability  Rotten Tomatoes % Worldwide Gross\n",
              "0                 70       1.747542                 64         $41.94 \n",
              "1                 52       1.090000                 68         $19.62 \n",
              "2                 35       1.211818                 43         $26.66 \n",
              "3                 44       0.000000                 15         $43.04 \n",
              "4                 72       6.267647                 28        $219.37 \n",
              "..               ...            ...                ...             ...\n",
              "72                84       0.652603                 54         $29.37 \n",
              "73                64       4.382857                 89         $30.68 \n",
              "74                89       0.448645                 79          $8.97 \n",
              "75                71       5.343622                 40        $160.31 \n",
              "76                81       8.096000                 87         $60.72 \n",
              "\n",
              "[77 rows x 4 columns]"
            ]
          },
          "metadata": {},
          "execution_count": 16
        }
      ]
    },
    {
      "cell_type": "markdown",
      "metadata": {
        "id": "pFxc7-AZfjP3"
      },
      "source": [
        "4. visualizzare le righe del dataframe che si trovano dalla decima alla trentesima posizione"
      ]
    },
    {
      "cell_type": "code",
      "metadata": {
        "colab": {
          "base_uri": "https://localhost:8080/",
          "height": 669
        },
        "id": "N9UOkMuIfmTW",
        "outputId": "ea6488a9-eab0-4b79-9822-c8a610c66c29"
      },
      "source": [
        "movies.iloc[10:30]"
      ],
      "execution_count": null,
      "outputs": [
        {
          "output_type": "execute_result",
          "data": {
            "text/html": [
              "<div>\n",
              "<style scoped>\n",
              "    .dataframe tbody tr th:only-of-type {\n",
              "        vertical-align: middle;\n",
              "    }\n",
              "\n",
              "    .dataframe tbody tr th {\n",
              "        vertical-align: top;\n",
              "    }\n",
              "\n",
              "    .dataframe thead th {\n",
              "        text-align: right;\n",
              "    }\n",
              "</style>\n",
              "<table border=\"1\" class=\"dataframe\">\n",
              "  <thead>\n",
              "    <tr style=\"text-align: right;\">\n",
              "      <th></th>\n",
              "      <th>Film</th>\n",
              "      <th>Genre</th>\n",
              "      <th>Lead Studio</th>\n",
              "      <th>Audience score %</th>\n",
              "      <th>Profitability</th>\n",
              "      <th>Rotten Tomatoes %</th>\n",
              "      <th>Worldwide Gross</th>\n",
              "      <th>Year</th>\n",
              "    </tr>\n",
              "  </thead>\n",
              "  <tbody>\n",
              "    <tr>\n",
              "      <th>10</th>\n",
              "      <td>Tyler Perry's Why Did I get Married</td>\n",
              "      <td>Romance</td>\n",
              "      <td>Independent</td>\n",
              "      <td>47</td>\n",
              "      <td>3.724192</td>\n",
              "      <td>46</td>\n",
              "      <td>$55.86</td>\n",
              "      <td>2007</td>\n",
              "    </tr>\n",
              "    <tr>\n",
              "      <th>11</th>\n",
              "      <td>Twilight: Breaking Dawn</td>\n",
              "      <td>Romance</td>\n",
              "      <td>Independent</td>\n",
              "      <td>68</td>\n",
              "      <td>6.383364</td>\n",
              "      <td>26</td>\n",
              "      <td>$702.17</td>\n",
              "      <td>2011</td>\n",
              "    </tr>\n",
              "    <tr>\n",
              "      <th>12</th>\n",
              "      <td>Twilight</td>\n",
              "      <td>Romance</td>\n",
              "      <td>Summit</td>\n",
              "      <td>82</td>\n",
              "      <td>10.180027</td>\n",
              "      <td>49</td>\n",
              "      <td>$376.66</td>\n",
              "      <td>2008</td>\n",
              "    </tr>\n",
              "    <tr>\n",
              "      <th>13</th>\n",
              "      <td>The Ugly Truth</td>\n",
              "      <td>Comedy</td>\n",
              "      <td>Independent</td>\n",
              "      <td>68</td>\n",
              "      <td>5.402632</td>\n",
              "      <td>14</td>\n",
              "      <td>$205.30</td>\n",
              "      <td>2009</td>\n",
              "    </tr>\n",
              "    <tr>\n",
              "      <th>14</th>\n",
              "      <td>The Twilight Saga: New Moon</td>\n",
              "      <td>Drama</td>\n",
              "      <td>Summit</td>\n",
              "      <td>78</td>\n",
              "      <td>14.196400</td>\n",
              "      <td>27</td>\n",
              "      <td>$709.82</td>\n",
              "      <td>2009</td>\n",
              "    </tr>\n",
              "    <tr>\n",
              "      <th>15</th>\n",
              "      <td>The Time Traveler's Wife</td>\n",
              "      <td>Drama</td>\n",
              "      <td>Paramount</td>\n",
              "      <td>65</td>\n",
              "      <td>2.598205</td>\n",
              "      <td>38</td>\n",
              "      <td>$101.33</td>\n",
              "      <td>2009</td>\n",
              "    </tr>\n",
              "    <tr>\n",
              "      <th>16</th>\n",
              "      <td>The Proposal</td>\n",
              "      <td>Comedy</td>\n",
              "      <td>Disney</td>\n",
              "      <td>74</td>\n",
              "      <td>7.867500</td>\n",
              "      <td>43</td>\n",
              "      <td>$314.70</td>\n",
              "      <td>2009</td>\n",
              "    </tr>\n",
              "    <tr>\n",
              "      <th>17</th>\n",
              "      <td>The Invention of Lying</td>\n",
              "      <td>Comedy</td>\n",
              "      <td>Warner Bros.</td>\n",
              "      <td>47</td>\n",
              "      <td>1.751351</td>\n",
              "      <td>56</td>\n",
              "      <td>$32.40</td>\n",
              "      <td>2009</td>\n",
              "    </tr>\n",
              "    <tr>\n",
              "      <th>18</th>\n",
              "      <td>The Heartbreak Kid</td>\n",
              "      <td>Comedy</td>\n",
              "      <td>Paramount</td>\n",
              "      <td>41</td>\n",
              "      <td>2.129444</td>\n",
              "      <td>30</td>\n",
              "      <td>$127.77</td>\n",
              "      <td>2007</td>\n",
              "    </tr>\n",
              "    <tr>\n",
              "      <th>19</th>\n",
              "      <td>The Duchess</td>\n",
              "      <td>Drama</td>\n",
              "      <td>Paramount</td>\n",
              "      <td>68</td>\n",
              "      <td>3.207850</td>\n",
              "      <td>60</td>\n",
              "      <td>$43.31</td>\n",
              "      <td>2008</td>\n",
              "    </tr>\n",
              "    <tr>\n",
              "      <th>20</th>\n",
              "      <td>The Curious Case of Benjamin Button</td>\n",
              "      <td>Fantasy</td>\n",
              "      <td>Warner Bros.</td>\n",
              "      <td>81</td>\n",
              "      <td>1.783944</td>\n",
              "      <td>73</td>\n",
              "      <td>$285.43</td>\n",
              "      <td>2008</td>\n",
              "    </tr>\n",
              "    <tr>\n",
              "      <th>21</th>\n",
              "      <td>The Back-up Plan</td>\n",
              "      <td>Comedy</td>\n",
              "      <td>CBS</td>\n",
              "      <td>47</td>\n",
              "      <td>2.202571</td>\n",
              "      <td>20</td>\n",
              "      <td>$77.09</td>\n",
              "      <td>2010</td>\n",
              "    </tr>\n",
              "    <tr>\n",
              "      <th>22</th>\n",
              "      <td>Tangled</td>\n",
              "      <td>Animation</td>\n",
              "      <td>Disney</td>\n",
              "      <td>88</td>\n",
              "      <td>1.365692</td>\n",
              "      <td>89</td>\n",
              "      <td>$355.01</td>\n",
              "      <td>2010</td>\n",
              "    </tr>\n",
              "    <tr>\n",
              "      <th>23</th>\n",
              "      <td>Something Borrowed</td>\n",
              "      <td>Romance</td>\n",
              "      <td>Independent</td>\n",
              "      <td>48</td>\n",
              "      <td>1.719514</td>\n",
              "      <td>15</td>\n",
              "      <td>$60.18</td>\n",
              "      <td>2011</td>\n",
              "    </tr>\n",
              "    <tr>\n",
              "      <th>24</th>\n",
              "      <td>She's Out of My League</td>\n",
              "      <td>Comedy</td>\n",
              "      <td>Paramount</td>\n",
              "      <td>60</td>\n",
              "      <td>2.440500</td>\n",
              "      <td>57</td>\n",
              "      <td>$48.81</td>\n",
              "      <td>2010</td>\n",
              "    </tr>\n",
              "    <tr>\n",
              "      <th>25</th>\n",
              "      <td>Sex and the City Two</td>\n",
              "      <td>Comedy</td>\n",
              "      <td>Warner Bros.</td>\n",
              "      <td>49</td>\n",
              "      <td>2.883500</td>\n",
              "      <td>15</td>\n",
              "      <td>$288.35</td>\n",
              "      <td>2010</td>\n",
              "    </tr>\n",
              "    <tr>\n",
              "      <th>26</th>\n",
              "      <td>Sex and the City 2</td>\n",
              "      <td>Comedy</td>\n",
              "      <td>Warner Bros.</td>\n",
              "      <td>49</td>\n",
              "      <td>2.883500</td>\n",
              "      <td>15</td>\n",
              "      <td>$288.35</td>\n",
              "      <td>2010</td>\n",
              "    </tr>\n",
              "    <tr>\n",
              "      <th>27</th>\n",
              "      <td>Sex and the City</td>\n",
              "      <td>Comedy</td>\n",
              "      <td>Warner Bros.</td>\n",
              "      <td>81</td>\n",
              "      <td>7.221796</td>\n",
              "      <td>49</td>\n",
              "      <td>$415.25</td>\n",
              "      <td>2008</td>\n",
              "    </tr>\n",
              "    <tr>\n",
              "      <th>28</th>\n",
              "      <td>Remember Me</td>\n",
              "      <td>Drama</td>\n",
              "      <td>Summit</td>\n",
              "      <td>70</td>\n",
              "      <td>3.491250</td>\n",
              "      <td>28</td>\n",
              "      <td>$55.86</td>\n",
              "      <td>2010</td>\n",
              "    </tr>\n",
              "    <tr>\n",
              "      <th>29</th>\n",
              "      <td>Rachel Getting Married</td>\n",
              "      <td>Drama</td>\n",
              "      <td>Independent</td>\n",
              "      <td>61</td>\n",
              "      <td>1.384167</td>\n",
              "      <td>85</td>\n",
              "      <td>$16.61</td>\n",
              "      <td>2008</td>\n",
              "    </tr>\n",
              "  </tbody>\n",
              "</table>\n",
              "</div>"
            ],
            "text/plain": [
              "                                   Film      Genre  ... Worldwide Gross  Year\n",
              "10  Tyler Perry's Why Did I get Married    Romance  ...         $55.86   2007\n",
              "11              Twilight: Breaking Dawn    Romance  ...        $702.17   2011\n",
              "12                             Twilight    Romance  ...        $376.66   2008\n",
              "13                       The Ugly Truth     Comedy  ...        $205.30   2009\n",
              "14          The Twilight Saga: New Moon      Drama  ...        $709.82   2009\n",
              "15             The Time Traveler's Wife      Drama  ...        $101.33   2009\n",
              "16                         The Proposal     Comedy  ...        $314.70   2009\n",
              "17               The Invention of Lying     Comedy  ...         $32.40   2009\n",
              "18                   The Heartbreak Kid     Comedy  ...        $127.77   2007\n",
              "19                          The Duchess      Drama  ...         $43.31   2008\n",
              "20  The Curious Case of Benjamin Button    Fantasy  ...        $285.43   2008\n",
              "21                     The Back-up Plan     Comedy  ...         $77.09   2010\n",
              "22                              Tangled  Animation  ...        $355.01   2010\n",
              "23                   Something Borrowed    Romance  ...         $60.18   2011\n",
              "24               She's Out of My League     Comedy  ...         $48.81   2010\n",
              "25                 Sex and the City Two     Comedy  ...        $288.35   2010\n",
              "26                   Sex and the City 2     Comedy  ...        $288.35   2010\n",
              "27                     Sex and the City     Comedy  ...        $415.25   2008\n",
              "28                          Remember Me      Drama  ...         $55.86   2010\n",
              "29               Rachel Getting Married      Drama  ...         $16.61   2008\n",
              "\n",
              "[20 rows x 8 columns]"
            ]
          },
          "metadata": {},
          "execution_count": 17
        }
      ]
    },
    {
      "cell_type": "markdown",
      "metadata": {
        "id": "FNQebki2f0VX"
      },
      "source": [
        "5. visualizzare il genere e lo studio dei film che si trovano dalla decima alla ventesima posizione"
      ]
    },
    {
      "cell_type": "code",
      "metadata": {
        "colab": {
          "base_uri": "https://localhost:8080/",
          "height": 359
        },
        "id": "wQpo1muSf3nW",
        "outputId": "145966b9-f251-4f97-9723-00f3c8cb3a69"
      },
      "source": [
        "movies.iloc[10:20][[\"Genre\",\"Lead Studio\"]]"
      ],
      "execution_count": null,
      "outputs": [
        {
          "output_type": "execute_result",
          "data": {
            "text/html": [
              "<div>\n",
              "<style scoped>\n",
              "    .dataframe tbody tr th:only-of-type {\n",
              "        vertical-align: middle;\n",
              "    }\n",
              "\n",
              "    .dataframe tbody tr th {\n",
              "        vertical-align: top;\n",
              "    }\n",
              "\n",
              "    .dataframe thead th {\n",
              "        text-align: right;\n",
              "    }\n",
              "</style>\n",
              "<table border=\"1\" class=\"dataframe\">\n",
              "  <thead>\n",
              "    <tr style=\"text-align: right;\">\n",
              "      <th></th>\n",
              "      <th>Genre</th>\n",
              "      <th>Lead Studio</th>\n",
              "    </tr>\n",
              "  </thead>\n",
              "  <tbody>\n",
              "    <tr>\n",
              "      <th>10</th>\n",
              "      <td>Romance</td>\n",
              "      <td>Independent</td>\n",
              "    </tr>\n",
              "    <tr>\n",
              "      <th>11</th>\n",
              "      <td>Romance</td>\n",
              "      <td>Independent</td>\n",
              "    </tr>\n",
              "    <tr>\n",
              "      <th>12</th>\n",
              "      <td>Romance</td>\n",
              "      <td>Summit</td>\n",
              "    </tr>\n",
              "    <tr>\n",
              "      <th>13</th>\n",
              "      <td>Comedy</td>\n",
              "      <td>Independent</td>\n",
              "    </tr>\n",
              "    <tr>\n",
              "      <th>14</th>\n",
              "      <td>Drama</td>\n",
              "      <td>Summit</td>\n",
              "    </tr>\n",
              "    <tr>\n",
              "      <th>15</th>\n",
              "      <td>Drama</td>\n",
              "      <td>Paramount</td>\n",
              "    </tr>\n",
              "    <tr>\n",
              "      <th>16</th>\n",
              "      <td>Comedy</td>\n",
              "      <td>Disney</td>\n",
              "    </tr>\n",
              "    <tr>\n",
              "      <th>17</th>\n",
              "      <td>Comedy</td>\n",
              "      <td>Warner Bros.</td>\n",
              "    </tr>\n",
              "    <tr>\n",
              "      <th>18</th>\n",
              "      <td>Comedy</td>\n",
              "      <td>Paramount</td>\n",
              "    </tr>\n",
              "    <tr>\n",
              "      <th>19</th>\n",
              "      <td>Drama</td>\n",
              "      <td>Paramount</td>\n",
              "    </tr>\n",
              "  </tbody>\n",
              "</table>\n",
              "</div>"
            ],
            "text/plain": [
              "      Genre   Lead Studio\n",
              "10  Romance   Independent\n",
              "11  Romance   Independent\n",
              "12  Romance        Summit\n",
              "13   Comedy   Independent\n",
              "14    Drama        Summit\n",
              "15    Drama     Paramount\n",
              "16   Comedy        Disney\n",
              "17   Comedy  Warner Bros.\n",
              "18   Comedy     Paramount\n",
              "19    Drama     Paramount"
            ]
          },
          "metadata": {},
          "execution_count": 27
        }
      ]
    },
    {
      "cell_type": "markdown",
      "metadata": {
        "id": "qBtm4c9khA6O"
      },
      "source": [
        "6. visualizzare le informazioni del film “When in Rome”"
      ]
    },
    {
      "cell_type": "code",
      "metadata": {
        "colab": {
          "base_uri": "https://localhost:8080/",
          "height": 80
        },
        "id": "ifY2gW5ehFeG",
        "outputId": "e25ad8b9-7bfc-4421-c957-b4721b3d4942"
      },
      "source": [
        "movies.loc[movies[\"Film\"] == \"When in Rome\"]"
      ],
      "execution_count": null,
      "outputs": [
        {
          "output_type": "execute_result",
          "data": {
            "text/html": [
              "<div>\n",
              "<style scoped>\n",
              "    .dataframe tbody tr th:only-of-type {\n",
              "        vertical-align: middle;\n",
              "    }\n",
              "\n",
              "    .dataframe tbody tr th {\n",
              "        vertical-align: top;\n",
              "    }\n",
              "\n",
              "    .dataframe thead th {\n",
              "        text-align: right;\n",
              "    }\n",
              "</style>\n",
              "<table border=\"1\" class=\"dataframe\">\n",
              "  <thead>\n",
              "    <tr style=\"text-align: right;\">\n",
              "      <th></th>\n",
              "      <th>Film</th>\n",
              "      <th>Genre</th>\n",
              "      <th>Lead Studio</th>\n",
              "      <th>Audience score %</th>\n",
              "      <th>Profitability</th>\n",
              "      <th>Rotten Tomatoes %</th>\n",
              "      <th>Worldwide Gross</th>\n",
              "      <th>Year</th>\n",
              "    </tr>\n",
              "  </thead>\n",
              "  <tbody>\n",
              "    <tr>\n",
              "      <th>3</th>\n",
              "      <td>When in Rome</td>\n",
              "      <td>Comedy</td>\n",
              "      <td>Disney</td>\n",
              "      <td>44</td>\n",
              "      <td>0.0</td>\n",
              "      <td>15</td>\n",
              "      <td>$43.04</td>\n",
              "      <td>2010</td>\n",
              "    </tr>\n",
              "  </tbody>\n",
              "</table>\n",
              "</div>"
            ],
            "text/plain": [
              "           Film   Genre Lead Studio  ...  Rotten Tomatoes %  Worldwide Gross  Year\n",
              "3  When in Rome  Comedy      Disney  ...                 15          $43.04   2010\n",
              "\n",
              "[1 rows x 8 columns]"
            ]
          },
          "metadata": {},
          "execution_count": 29
        }
      ]
    },
    {
      "cell_type": "markdown",
      "metadata": {
        "id": "opBaek-lhfg3"
      },
      "source": [
        "7. visualizzare  le informazioni dei film “When in Rome”, “Waitress” e “WALL-E”"
      ]
    },
    {
      "cell_type": "code",
      "metadata": {
        "colab": {
          "base_uri": "https://localhost:8080/",
          "height": 142
        },
        "id": "60RCS1L9hixW",
        "outputId": "b0797cda-7287-4b5c-aca6-08e097eba631"
      },
      "source": [
        "movies.loc[(movies[\"Film\"] == \"When in Rome\") | (movies[\"Film\"] == \"Waitress\") | (movies[\"Film\"] == \"WALL-E\")]"
      ],
      "execution_count": null,
      "outputs": [
        {
          "output_type": "execute_result",
          "data": {
            "text/html": [
              "<div>\n",
              "<style scoped>\n",
              "    .dataframe tbody tr th:only-of-type {\n",
              "        vertical-align: middle;\n",
              "    }\n",
              "\n",
              "    .dataframe tbody tr th {\n",
              "        vertical-align: top;\n",
              "    }\n",
              "\n",
              "    .dataframe thead th {\n",
              "        text-align: right;\n",
              "    }\n",
              "</style>\n",
              "<table border=\"1\" class=\"dataframe\">\n",
              "  <thead>\n",
              "    <tr style=\"text-align: right;\">\n",
              "      <th></th>\n",
              "      <th>Film</th>\n",
              "      <th>Genre</th>\n",
              "      <th>Lead Studio</th>\n",
              "      <th>Audience score %</th>\n",
              "      <th>Profitability</th>\n",
              "      <th>Rotten Tomatoes %</th>\n",
              "      <th>Worldwide Gross</th>\n",
              "      <th>Year</th>\n",
              "    </tr>\n",
              "  </thead>\n",
              "  <tbody>\n",
              "    <tr>\n",
              "      <th>3</th>\n",
              "      <td>When in Rome</td>\n",
              "      <td>Comedy</td>\n",
              "      <td>Disney</td>\n",
              "      <td>44</td>\n",
              "      <td>0.000000</td>\n",
              "      <td>15</td>\n",
              "      <td>$43.04</td>\n",
              "      <td>2010</td>\n",
              "    </tr>\n",
              "    <tr>\n",
              "      <th>6</th>\n",
              "      <td>WALL-E</td>\n",
              "      <td>Animation</td>\n",
              "      <td>Disney</td>\n",
              "      <td>89</td>\n",
              "      <td>2.896019</td>\n",
              "      <td>96</td>\n",
              "      <td>$521.28</td>\n",
              "      <td>2008</td>\n",
              "    </tr>\n",
              "    <tr>\n",
              "      <th>7</th>\n",
              "      <td>Waitress</td>\n",
              "      <td>Romance</td>\n",
              "      <td>Independent</td>\n",
              "      <td>67</td>\n",
              "      <td>11.089741</td>\n",
              "      <td>89</td>\n",
              "      <td>$22.18</td>\n",
              "      <td>2007</td>\n",
              "    </tr>\n",
              "  </tbody>\n",
              "</table>\n",
              "</div>"
            ],
            "text/plain": [
              "           Film      Genre  ... Worldwide Gross  Year\n",
              "3  When in Rome     Comedy  ...         $43.04   2010\n",
              "6        WALL-E  Animation  ...        $521.28   2008\n",
              "7      Waitress    Romance  ...         $22.18   2007\n",
              "\n",
              "[3 rows x 8 columns]"
            ]
          },
          "metadata": {},
          "execution_count": 31
        }
      ]
    },
    {
      "cell_type": "markdown",
      "metadata": {
        "id": "VigHg5-siXIP"
      },
      "source": [
        "8. visualizzare i titoli dei film che hanno avuto una recensione di Rotten Tomatoes compresa tra 80 e 90"
      ]
    },
    {
      "cell_type": "code",
      "metadata": {
        "colab": {
          "base_uri": "https://localhost:8080/",
          "height": 297
        },
        "id": "l6hyKGTeiaRV",
        "outputId": "6cb578fd-8769-4453-8ebd-dfa41c0d02de"
      },
      "source": [
        "movies.loc[(movies[\"Rotten Tomatoes %\"] > 80) & (movies[\"Rotten Tomatoes %\"] < 90)]"
      ],
      "execution_count": null,
      "outputs": [
        {
          "output_type": "execute_result",
          "data": {
            "text/html": [
              "<div>\n",
              "<style scoped>\n",
              "    .dataframe tbody tr th:only-of-type {\n",
              "        vertical-align: middle;\n",
              "    }\n",
              "\n",
              "    .dataframe tbody tr th {\n",
              "        vertical-align: top;\n",
              "    }\n",
              "\n",
              "    .dataframe thead th {\n",
              "        text-align: right;\n",
              "    }\n",
              "</style>\n",
              "<table border=\"1\" class=\"dataframe\">\n",
              "  <thead>\n",
              "    <tr style=\"text-align: right;\">\n",
              "      <th></th>\n",
              "      <th>Film</th>\n",
              "      <th>Genre</th>\n",
              "      <th>Lead Studio</th>\n",
              "      <th>Audience score %</th>\n",
              "      <th>Profitability</th>\n",
              "      <th>Rotten Tomatoes %</th>\n",
              "      <th>Worldwide Gross</th>\n",
              "      <th>Year</th>\n",
              "    </tr>\n",
              "  </thead>\n",
              "  <tbody>\n",
              "    <tr>\n",
              "      <th>7</th>\n",
              "      <td>Waitress</td>\n",
              "      <td>Romance</td>\n",
              "      <td>Independent</td>\n",
              "      <td>67</td>\n",
              "      <td>11.089741</td>\n",
              "      <td>89</td>\n",
              "      <td>$22.18</td>\n",
              "      <td>2007</td>\n",
              "    </tr>\n",
              "    <tr>\n",
              "      <th>22</th>\n",
              "      <td>Tangled</td>\n",
              "      <td>Animation</td>\n",
              "      <td>Disney</td>\n",
              "      <td>88</td>\n",
              "      <td>1.365692</td>\n",
              "      <td>89</td>\n",
              "      <td>$355.01</td>\n",
              "      <td>2010</td>\n",
              "    </tr>\n",
              "    <tr>\n",
              "      <th>29</th>\n",
              "      <td>Rachel Getting Married</td>\n",
              "      <td>Drama</td>\n",
              "      <td>Independent</td>\n",
              "      <td>61</td>\n",
              "      <td>1.384167</td>\n",
              "      <td>85</td>\n",
              "      <td>$16.61</td>\n",
              "      <td>2008</td>\n",
              "    </tr>\n",
              "    <tr>\n",
              "      <th>39</th>\n",
              "      <td>My Week with Marilyn</td>\n",
              "      <td>Drama</td>\n",
              "      <td>The Weinstein Company</td>\n",
              "      <td>84</td>\n",
              "      <td>0.825800</td>\n",
              "      <td>83</td>\n",
              "      <td>$8.26</td>\n",
              "      <td>2011</td>\n",
              "    </tr>\n",
              "    <tr>\n",
              "      <th>57</th>\n",
              "      <td>Jane Eyre</td>\n",
              "      <td>Romance</td>\n",
              "      <td>Universal</td>\n",
              "      <td>77</td>\n",
              "      <td>0.000000</td>\n",
              "      <td>85</td>\n",
              "      <td>$30.15</td>\n",
              "      <td>2011</td>\n",
              "    </tr>\n",
              "    <tr>\n",
              "      <th>71</th>\n",
              "      <td>Beginners</td>\n",
              "      <td>Comedy</td>\n",
              "      <td>Independent</td>\n",
              "      <td>80</td>\n",
              "      <td>4.471875</td>\n",
              "      <td>84</td>\n",
              "      <td>$14.31</td>\n",
              "      <td>2011</td>\n",
              "    </tr>\n",
              "    <tr>\n",
              "      <th>73</th>\n",
              "      <td>A Serious Man</td>\n",
              "      <td>Drama</td>\n",
              "      <td>Universal</td>\n",
              "      <td>64</td>\n",
              "      <td>4.382857</td>\n",
              "      <td>89</td>\n",
              "      <td>$30.68</td>\n",
              "      <td>2009</td>\n",
              "    </tr>\n",
              "    <tr>\n",
              "      <th>76</th>\n",
              "      <td>(500) Days of Summer</td>\n",
              "      <td>comedy</td>\n",
              "      <td>Fox</td>\n",
              "      <td>81</td>\n",
              "      <td>8.096000</td>\n",
              "      <td>87</td>\n",
              "      <td>$60.72</td>\n",
              "      <td>2009</td>\n",
              "    </tr>\n",
              "  </tbody>\n",
              "</table>\n",
              "</div>"
            ],
            "text/plain": [
              "                      Film      Genre  ... Worldwide Gross  Year\n",
              "7                 Waitress    Romance  ...         $22.18   2007\n",
              "22                 Tangled  Animation  ...        $355.01   2010\n",
              "29  Rachel Getting Married      Drama  ...         $16.61   2008\n",
              "39    My Week with Marilyn      Drama  ...          $8.26   2011\n",
              "57               Jane Eyre    Romance  ...         $30.15   2011\n",
              "71               Beginners     Comedy  ...         $14.31   2011\n",
              "73           A Serious Man      Drama  ...         $30.68   2009\n",
              "76    (500) Days of Summer     comedy  ...         $60.72   2009\n",
              "\n",
              "[8 rows x 8 columns]"
            ]
          },
          "metadata": {},
          "execution_count": 33
        }
      ]
    },
    {
      "cell_type": "markdown",
      "metadata": {
        "id": "knvep7aNivx1"
      },
      "source": [
        "9. visualizzare i film che hanno la parola “friends” nel titolo"
      ]
    },
    {
      "cell_type": "code",
      "metadata": {
        "colab": {
          "base_uri": "https://localhost:8080/",
          "height": 80
        },
        "id": "WS_3Tbx4i0Rd",
        "outputId": "1b6dd92e-c3cc-4703-bdb0-97e87d814413"
      },
      "source": [
        "movies.loc[movies[\"Film\"].str.contains(\"friends\")]"
      ],
      "execution_count": null,
      "outputs": [
        {
          "output_type": "execute_result",
          "data": {
            "text/html": [
              "<div>\n",
              "<style scoped>\n",
              "    .dataframe tbody tr th:only-of-type {\n",
              "        vertical-align: middle;\n",
              "    }\n",
              "\n",
              "    .dataframe tbody tr th {\n",
              "        vertical-align: top;\n",
              "    }\n",
              "\n",
              "    .dataframe thead th {\n",
              "        text-align: right;\n",
              "    }\n",
              "</style>\n",
              "<table border=\"1\" class=\"dataframe\">\n",
              "  <thead>\n",
              "    <tr style=\"text-align: right;\">\n",
              "      <th></th>\n",
              "      <th>Film</th>\n",
              "      <th>Genre</th>\n",
              "      <th>Lead Studio</th>\n",
              "      <th>Audience score %</th>\n",
              "      <th>Profitability</th>\n",
              "      <th>Rotten Tomatoes %</th>\n",
              "      <th>Worldwide Gross</th>\n",
              "      <th>Year</th>\n",
              "    </tr>\n",
              "  </thead>\n",
              "  <tbody>\n",
              "    <tr>\n",
              "      <th>66</th>\n",
              "      <td>Ghosts of Girlfriends Past</td>\n",
              "      <td>Comedy</td>\n",
              "      <td>Warner Bros.</td>\n",
              "      <td>47</td>\n",
              "      <td>2.0444</td>\n",
              "      <td>27</td>\n",
              "      <td>$102.22</td>\n",
              "      <td>2009</td>\n",
              "    </tr>\n",
              "  </tbody>\n",
              "</table>\n",
              "</div>"
            ],
            "text/plain": [
              "                          Film   Genre  ... Worldwide Gross  Year\n",
              "66  Ghosts of Girlfriends Past  Comedy  ...        $102.22   2009\n",
              "\n",
              "[1 rows x 8 columns]"
            ]
          },
          "metadata": {},
          "execution_count": 36
        }
      ]
    },
    {
      "cell_type": "markdown",
      "metadata": {
        "id": "bVSf1F3jjP6O"
      },
      "source": [
        "10. visualizzare il valore più alto della recensione di Rotten Tomatoes"
      ]
    },
    {
      "cell_type": "code",
      "metadata": {
        "colab": {
          "base_uri": "https://localhost:8080/"
        },
        "id": "J-PoHVd3jT0N",
        "outputId": "56700b96-f108-410a-bf93-2d958c294648"
      },
      "source": [
        "movies[\"Rotten Tomatoes %\"].max()"
      ],
      "execution_count": null,
      "outputs": [
        {
          "output_type": "execute_result",
          "data": {
            "text/plain": [
              "96"
            ]
          },
          "metadata": {},
          "execution_count": 39
        }
      ]
    },
    {
      "cell_type": "markdown",
      "metadata": {
        "id": "8nPezMb2jy0u"
      },
      "source": [
        "11. visualizzare il numero di film per ogni studio"
      ]
    },
    {
      "cell_type": "code",
      "metadata": {
        "colab": {
          "base_uri": "https://localhost:8080/"
        },
        "id": "m-S1em1Ij2F9",
        "outputId": "6fafb8f7-deb8-4e7b-ef0b-653633931ee4"
      },
      "source": [
        "movies.groupby(\"Lead Studio\")[\"Film\"].count()"
      ],
      "execution_count": null,
      "outputs": [
        {
          "output_type": "execute_result",
          "data": {
            "text/plain": [
              "Lead Studio\n",
              "20th Century Fox          2\n",
              "CBS                       1\n",
              "Disney                    8\n",
              "Fox                       6\n",
              "Independent              19\n",
              "Lionsgate                 2\n",
              "New Line                  1\n",
              "Paramount                 4\n",
              "Sony                      4\n",
              "Summit                    5\n",
              "The Weinstein Company     3\n",
              "Universal                 8\n",
              "Warner Bros.             14\n",
              "Name: Film, dtype: int64"
            ]
          },
          "metadata": {},
          "execution_count": 42
        }
      ]
    },
    {
      "cell_type": "markdown",
      "metadata": {
        "id": "Bm8fnP0EkNNW"
      },
      "source": [
        "12. aumentare del 10% il valore delle recensioni di Rotten Tomatoes"
      ]
    },
    {
      "cell_type": "code",
      "metadata": {
        "colab": {
          "base_uri": "https://localhost:8080/"
        },
        "id": "lh4OXgockVD9",
        "outputId": "2af50bb6-dc7f-4eb5-d8dc-33aa67ee4ef9"
      },
      "source": [
        "movies[\"Audience score %\"].apply(lambda x: x+(x/100*10))"
      ],
      "execution_count": null,
      "outputs": [
        {
          "output_type": "execute_result",
          "data": {
            "text/plain": [
              "0     77.0\n",
              "1     57.2\n",
              "2     38.5\n",
              "3     48.4\n",
              "4     79.2\n",
              "      ... \n",
              "72    92.4\n",
              "73    70.4\n",
              "74    97.9\n",
              "75    78.1\n",
              "76    89.1\n",
              "Name: Audience score %, Length: 77, dtype: float64"
            ]
          },
          "metadata": {},
          "execution_count": 45
        }
      ]
    }
  ]
}
