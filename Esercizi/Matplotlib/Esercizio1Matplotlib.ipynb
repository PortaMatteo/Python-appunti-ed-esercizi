{
  "nbformat": 4,
  "nbformat_minor": 0,
  "metadata": {
    "colab": {
      "name": "Esercizio1Matplotlib.ipynb",
      "provenance": []
    },
    "kernelspec": {
      "name": "python3",
      "display_name": "Python 3"
    },
    "language_info": {
      "name": "python"
    }
  },
  "cells": [
    {
      "cell_type": "code",
      "metadata": {
        "id": "EhmFfp6H2YNd"
      },
      "source": [
        "import pandas as pd \n",
        "import matplotlib.pyplot as plt\n",
        "import numpy as np"
      ],
      "execution_count": null,
      "outputs": []
    },
    {
      "cell_type": "markdown",
      "metadata": {
        "id": "mKvNXWyO5kR4"
      },
      "source": [
        "1. Creare un DataFrame da questo file json ed assegnarlo ad una variabile df."
      ]
    },
    {
      "cell_type": "code",
      "metadata": {
        "colab": {
          "base_uri": "https://localhost:8080/",
          "height": 424
        },
        "id": "DbbLSp-83v40",
        "outputId": "267a917c-a42d-46a9-8c05-a54e285bd14a"
      },
      "source": [
        "url = \"https://raw.githubusercontent.com/CappuCitti/Python-appunti-ed-esercizi/main/MatPlotLib/Data/sample_chat_data.json\"\n",
        "df = pd.read_json(url)\n",
        "df"
      ],
      "execution_count": null,
      "outputs": [
        {
          "output_type": "execute_result",
          "data": {
            "text/html": [
              "<div>\n",
              "<style scoped>\n",
              "    .dataframe tbody tr th:only-of-type {\n",
              "        vertical-align: middle;\n",
              "    }\n",
              "\n",
              "    .dataframe tbody tr th {\n",
              "        vertical-align: top;\n",
              "    }\n",
              "\n",
              "    .dataframe thead th {\n",
              "        text-align: right;\n",
              "    }\n",
              "</style>\n",
              "<table border=\"1\" class=\"dataframe\">\n",
              "  <thead>\n",
              "    <tr style=\"text-align: right;\">\n",
              "      <th></th>\n",
              "      <th>user_id</th>\n",
              "      <th>message_length</th>\n",
              "      <th>device_type</th>\n",
              "      <th>has_media</th>\n",
              "      <th>has_links</th>\n",
              "      <th>full_date</th>\n",
              "    </tr>\n",
              "  </thead>\n",
              "  <tbody>\n",
              "    <tr>\n",
              "      <th>0</th>\n",
              "      <td>9a0f4@kp</td>\n",
              "      <td>43</td>\n",
              "      <td>android</td>\n",
              "      <td>False</td>\n",
              "      <td>False</td>\n",
              "      <td>2021-11-10T20:09:29.209Z</td>\n",
              "    </tr>\n",
              "    <tr>\n",
              "      <th>1</th>\n",
              "      <td>f6627@kp</td>\n",
              "      <td>0</td>\n",
              "      <td>android</td>\n",
              "      <td>False</td>\n",
              "      <td>False</td>\n",
              "      <td>2021-11-10T20:13:24.176Z</td>\n",
              "    </tr>\n",
              "    <tr>\n",
              "      <th>2</th>\n",
              "      <td>f6627@kp</td>\n",
              "      <td>38</td>\n",
              "      <td>android</td>\n",
              "      <td>False</td>\n",
              "      <td>False</td>\n",
              "      <td>2021-11-10T20:13:36.119Z</td>\n",
              "    </tr>\n",
              "    <tr>\n",
              "      <th>3</th>\n",
              "      <td>f6627@kp</td>\n",
              "      <td>33</td>\n",
              "      <td>android</td>\n",
              "      <td>False</td>\n",
              "      <td>False</td>\n",
              "      <td>2021-11-10T20:13:49.332Z</td>\n",
              "    </tr>\n",
              "    <tr>\n",
              "      <th>4</th>\n",
              "      <td>f9a56@kp</td>\n",
              "      <td>0</td>\n",
              "      <td>android</td>\n",
              "      <td>True</td>\n",
              "      <td>False</td>\n",
              "      <td>2021-11-10T20:17:00.923Z</td>\n",
              "    </tr>\n",
              "    <tr>\n",
              "      <th>...</th>\n",
              "      <td>...</td>\n",
              "      <td>...</td>\n",
              "      <td>...</td>\n",
              "      <td>...</td>\n",
              "      <td>...</td>\n",
              "      <td>...</td>\n",
              "    </tr>\n",
              "    <tr>\n",
              "      <th>213</th>\n",
              "      <td>f6627@kp</td>\n",
              "      <td>24</td>\n",
              "      <td>android</td>\n",
              "      <td>False</td>\n",
              "      <td>False</td>\n",
              "      <td>2021-11-16T07:09:05.402Z</td>\n",
              "    </tr>\n",
              "    <tr>\n",
              "      <th>214</th>\n",
              "      <td>9609a@kp</td>\n",
              "      <td>2</td>\n",
              "      <td>android</td>\n",
              "      <td>False</td>\n",
              "      <td>False</td>\n",
              "      <td>2021-11-16T07:09:33.219Z</td>\n",
              "    </tr>\n",
              "    <tr>\n",
              "      <th>215</th>\n",
              "      <td>f9a70@kp</td>\n",
              "      <td>37</td>\n",
              "      <td>ios</td>\n",
              "      <td>False</td>\n",
              "      <td>False</td>\n",
              "      <td>2021-11-16T19:46:42.982Z</td>\n",
              "    </tr>\n",
              "    <tr>\n",
              "      <th>216</th>\n",
              "      <td>f6627@kp</td>\n",
              "      <td>14</td>\n",
              "      <td>android</td>\n",
              "      <td>False</td>\n",
              "      <td>False</td>\n",
              "      <td>2021-11-16T19:58:27.852Z</td>\n",
              "    </tr>\n",
              "    <tr>\n",
              "      <th>217</th>\n",
              "      <td>9a0f4@kp</td>\n",
              "      <td>14</td>\n",
              "      <td>android</td>\n",
              "      <td>False</td>\n",
              "      <td>False</td>\n",
              "      <td>2021-11-16T20:01:04.148Z</td>\n",
              "    </tr>\n",
              "  </tbody>\n",
              "</table>\n",
              "<p>218 rows × 6 columns</p>\n",
              "</div>"
            ],
            "text/plain": [
              "      user_id  message_length  ... has_links                 full_date\n",
              "0    9a0f4@kp              43  ...     False  2021-11-10T20:09:29.209Z\n",
              "1    f6627@kp               0  ...     False  2021-11-10T20:13:24.176Z\n",
              "2    f6627@kp              38  ...     False  2021-11-10T20:13:36.119Z\n",
              "3    f6627@kp              33  ...     False  2021-11-10T20:13:49.332Z\n",
              "4    f9a56@kp               0  ...     False  2021-11-10T20:17:00.923Z\n",
              "..        ...             ...  ...       ...                       ...\n",
              "213  f6627@kp              24  ...     False  2021-11-16T07:09:05.402Z\n",
              "214  9609a@kp               2  ...     False  2021-11-16T07:09:33.219Z\n",
              "215  f9a70@kp              37  ...     False  2021-11-16T19:46:42.982Z\n",
              "216  f6627@kp              14  ...     False  2021-11-16T19:58:27.852Z\n",
              "217  9a0f4@kp              14  ...     False  2021-11-16T20:01:04.148Z\n",
              "\n",
              "[218 rows x 6 columns]"
            ]
          },
          "metadata": {},
          "execution_count": 2
        }
      ]
    },
    {
      "cell_type": "code",
      "metadata": {
        "colab": {
          "base_uri": "https://localhost:8080/"
        },
        "id": "D0-JontR5AW8",
        "outputId": "f3565e20-33d3-474f-f589-803eb6fad8ac"
      },
      "source": [
        "df.info()"
      ],
      "execution_count": null,
      "outputs": [
        {
          "output_type": "stream",
          "name": "stdout",
          "text": [
            "<class 'pandas.core.frame.DataFrame'>\n",
            "RangeIndex: 218 entries, 0 to 217\n",
            "Data columns (total 6 columns):\n",
            " #   Column          Non-Null Count  Dtype \n",
            "---  ------          --------------  ----- \n",
            " 0   user_id         218 non-null    object\n",
            " 1   message_length  218 non-null    int64 \n",
            " 2   device_type     218 non-null    object\n",
            " 3   has_media       218 non-null    bool  \n",
            " 4   has_links       218 non-null    bool  \n",
            " 5   full_date       218 non-null    object\n",
            "dtypes: bool(2), int64(1), object(3)\n",
            "memory usage: 7.4+ KB\n"
          ]
        }
      ]
    },
    {
      "cell_type": "markdown",
      "metadata": {
        "id": "cvWYMS5U5qmE"
      },
      "source": [
        "2. Creare un grafico a barre che mostri il numero di messaggi inviato da ogni utente in ordine decrescente, avente le seguenti caratterisiche:"
      ]
    },
    {
      "cell_type": "code",
      "metadata": {
        "colab": {
          "base_uri": "https://localhost:8080/",
          "height": 520
        },
        "id": "wmA5w2d44f6W",
        "outputId": "19b33b32-dc4e-4e6d-e11a-311d576aa795"
      },
      "source": [
        "msg_num = df.groupby(\"user_id\",as_index=False).count().sort_values(\"full_date\",ascending=False)\n",
        "msg_num\n"
      ],
      "execution_count": null,
      "outputs": [
        {
          "output_type": "execute_result",
          "data": {
            "text/html": [
              "<div>\n",
              "<style scoped>\n",
              "    .dataframe tbody tr th:only-of-type {\n",
              "        vertical-align: middle;\n",
              "    }\n",
              "\n",
              "    .dataframe tbody tr th {\n",
              "        vertical-align: top;\n",
              "    }\n",
              "\n",
              "    .dataframe thead th {\n",
              "        text-align: right;\n",
              "    }\n",
              "</style>\n",
              "<table border=\"1\" class=\"dataframe\">\n",
              "  <thead>\n",
              "    <tr style=\"text-align: right;\">\n",
              "      <th></th>\n",
              "      <th>user_id</th>\n",
              "      <th>message_length</th>\n",
              "      <th>device_type</th>\n",
              "      <th>has_media</th>\n",
              "      <th>has_links</th>\n",
              "      <th>full_date</th>\n",
              "    </tr>\n",
              "  </thead>\n",
              "  <tbody>\n",
              "    <tr>\n",
              "      <th>6</th>\n",
              "      <td>9a0f4@kp</td>\n",
              "      <td>57</td>\n",
              "      <td>57</td>\n",
              "      <td>57</td>\n",
              "      <td>57</td>\n",
              "      <td>57</td>\n",
              "    </tr>\n",
              "    <tr>\n",
              "      <th>1</th>\n",
              "      <td>9609a@kp</td>\n",
              "      <td>54</td>\n",
              "      <td>54</td>\n",
              "      <td>54</td>\n",
              "      <td>54</td>\n",
              "      <td>54</td>\n",
              "    </tr>\n",
              "    <tr>\n",
              "      <th>0</th>\n",
              "      <td>92a44@kp</td>\n",
              "      <td>20</td>\n",
              "      <td>20</td>\n",
              "      <td>20</td>\n",
              "      <td>20</td>\n",
              "      <td>20</td>\n",
              "    </tr>\n",
              "    <tr>\n",
              "      <th>2</th>\n",
              "      <td>96121@kp</td>\n",
              "      <td>17</td>\n",
              "      <td>17</td>\n",
              "      <td>17</td>\n",
              "      <td>17</td>\n",
              "      <td>17</td>\n",
              "    </tr>\n",
              "    <tr>\n",
              "      <th>13</th>\n",
              "      <td>f9a56@kp</td>\n",
              "      <td>17</td>\n",
              "      <td>17</td>\n",
              "      <td>17</td>\n",
              "      <td>17</td>\n",
              "      <td>17</td>\n",
              "    </tr>\n",
              "    <tr>\n",
              "      <th>9</th>\n",
              "      <td>f6627@kp</td>\n",
              "      <td>13</td>\n",
              "      <td>13</td>\n",
              "      <td>13</td>\n",
              "      <td>13</td>\n",
              "      <td>13</td>\n",
              "    </tr>\n",
              "    <tr>\n",
              "      <th>12</th>\n",
              "      <td>f9756@kp</td>\n",
              "      <td>9</td>\n",
              "      <td>9</td>\n",
              "      <td>9</td>\n",
              "      <td>9</td>\n",
              "      <td>9</td>\n",
              "    </tr>\n",
              "    <tr>\n",
              "      <th>10</th>\n",
              "      <td>f76a0@kp</td>\n",
              "      <td>5</td>\n",
              "      <td>5</td>\n",
              "      <td>5</td>\n",
              "      <td>5</td>\n",
              "      <td>5</td>\n",
              "    </tr>\n",
              "    <tr>\n",
              "      <th>11</th>\n",
              "      <td>f9742@kp</td>\n",
              "      <td>5</td>\n",
              "      <td>5</td>\n",
              "      <td>5</td>\n",
              "      <td>5</td>\n",
              "      <td>5</td>\n",
              "    </tr>\n",
              "    <tr>\n",
              "      <th>14</th>\n",
              "      <td>f9a70@kp</td>\n",
              "      <td>5</td>\n",
              "      <td>5</td>\n",
              "      <td>5</td>\n",
              "      <td>5</td>\n",
              "      <td>5</td>\n",
              "    </tr>\n",
              "    <tr>\n",
              "      <th>3</th>\n",
              "      <td>96199@kp</td>\n",
              "      <td>4</td>\n",
              "      <td>4</td>\n",
              "      <td>4</td>\n",
              "      <td>4</td>\n",
              "      <td>4</td>\n",
              "    </tr>\n",
              "    <tr>\n",
              "      <th>5</th>\n",
              "      <td>9679f@kp</td>\n",
              "      <td>4</td>\n",
              "      <td>4</td>\n",
              "      <td>4</td>\n",
              "      <td>4</td>\n",
              "      <td>4</td>\n",
              "    </tr>\n",
              "    <tr>\n",
              "      <th>7</th>\n",
              "      <td>f4511@kp</td>\n",
              "      <td>4</td>\n",
              "      <td>4</td>\n",
              "      <td>4</td>\n",
              "      <td>4</td>\n",
              "      <td>4</td>\n",
              "    </tr>\n",
              "    <tr>\n",
              "      <th>8</th>\n",
              "      <td>f5740@kp</td>\n",
              "      <td>3</td>\n",
              "      <td>3</td>\n",
              "      <td>3</td>\n",
              "      <td>3</td>\n",
              "      <td>3</td>\n",
              "    </tr>\n",
              "    <tr>\n",
              "      <th>4</th>\n",
              "      <td>966aa@kp</td>\n",
              "      <td>1</td>\n",
              "      <td>1</td>\n",
              "      <td>1</td>\n",
              "      <td>1</td>\n",
              "      <td>1</td>\n",
              "    </tr>\n",
              "  </tbody>\n",
              "</table>\n",
              "</div>"
            ],
            "text/plain": [
              "     user_id  message_length  device_type  has_media  has_links  full_date\n",
              "6   9a0f4@kp              57           57         57         57         57\n",
              "1   9609a@kp              54           54         54         54         54\n",
              "0   92a44@kp              20           20         20         20         20\n",
              "2   96121@kp              17           17         17         17         17\n",
              "13  f9a56@kp              17           17         17         17         17\n",
              "9   f6627@kp              13           13         13         13         13\n",
              "12  f9756@kp               9            9          9          9          9\n",
              "10  f76a0@kp               5            5          5          5          5\n",
              "11  f9742@kp               5            5          5          5          5\n",
              "14  f9a70@kp               5            5          5          5          5\n",
              "3   96199@kp               4            4          4          4          4\n",
              "5   9679f@kp               4            4          4          4          4\n",
              "7   f4511@kp               4            4          4          4          4\n",
              "8   f5740@kp               3            3          3          3          3\n",
              "4   966aa@kp               1            1          1          1          1"
            ]
          },
          "metadata": {},
          "execution_count": 3
        }
      ]
    },
    {
      "cell_type": "code",
      "metadata": {
        "colab": {
          "base_uri": "https://localhost:8080/",
          "height": 546
        },
        "id": "XLYvnprr5zUl",
        "outputId": "3f045543-9f83-4bce-ac49-feac59b7fafd"
      },
      "source": [
        "plt.rcParams.update({'font.size': 15})    #ingrandisce il testo \n",
        "fig = plt.figure(figsize=(9.6,7.2)) #crea la figura + ingrandisce la figura\n",
        "ax = plt.axes()    #crea gli assi \n",
        "fig.autofmt_xdate(rotation=45)  \n",
        "fig.suptitle(\"Messaggi\")    \n",
        "ax.set_xlabel(\"Utenti\")\n",
        "ax.set_ylabel(\"Numero messaggi\")\n",
        "ax.grid()    #aggiunge la griglia \n",
        "ax.bar(msg_num[\"user_id\"],msg_num[\"full_date\"],color='royalblue')"
      ],
      "execution_count": null,
      "outputs": [
        {
          "output_type": "execute_result",
          "data": {
            "text/plain": [
              "<BarContainer object of 15 artists>"
            ]
          },
          "metadata": {},
          "execution_count": 4
        },
        {
          "output_type": "display_data",
          "data": {
            "image/png": "[encoded data removed]",
            "text/plain": [
              "<Figure size 691.2x518.4 with 1 Axes>"
            ]
          },
          "metadata": {
            "needs_background": "light"
          }
        }
      ]
    },
    {
      "cell_type": "code",
      "metadata": {
        "colab": {
          "base_uri": "https://localhost:8080/"
        },
        "id": "rNZd_AbHC25W",
        "outputId": "32d60134-fc20-4cfa-ce77-2e065d62adf1"
      },
      "source": [
        "msg_num[msg_num[\"full_date\"] > msg_num[\"full_date\"].mean()][\"user_id\"]"
      ],
      "execution_count": null,
      "outputs": [
        {
          "output_type": "execute_result",
          "data": {
            "text/plain": [
              "6     9a0f4@kp\n",
              "1     9609a@kp\n",
              "0     92a44@kp\n",
              "2     96121@kp\n",
              "13    f9a56@kp\n",
              "Name: user_id, dtype: object"
            ]
          },
          "metadata": {},
          "execution_count": 5
        }
      ]
    },
    {
      "cell_type": "code",
      "metadata": {
        "colab": {
          "base_uri": "https://localhost:8080/"
        },
        "id": "yxlqFI3NENl0",
        "outputId": "99715bd9-f00f-4781-e6f9-fb554ae39c3d"
      },
      "source": [
        "msg_num[msg_num[\"full_date\"] == msg_num[\"full_date\"].max()][\"user_id\"]"
      ],
      "execution_count": null,
      "outputs": [
        {
          "output_type": "execute_result",
          "data": {
            "text/plain": [
              "6    9a0f4@kp\n",
              "Name: user_id, dtype: object"
            ]
          },
          "metadata": {},
          "execution_count": 6
        }
      ]
    },
    {
      "cell_type": "markdown",
      "metadata": {
        "id": "Tbc9PKz9_za-"
      },
      "source": [
        "3. Creare un grafico a torta che riporti la media totale dei messaggi inviati suddivisi per giorni avente le seguenti caratteristiche:"
      ]
    },
    {
      "cell_type": "code",
      "metadata": {
        "colab": {
          "base_uri": "https://localhost:8080/"
        },
        "id": "O0PhXXN_EXr8",
        "outputId": "7ddc5e8e-3ff4-45d7-c46f-9c9a4d68cc17"
      },
      "source": [
        "df[\"full_date\"] = pd.to_datetime(df[\"full_date\"])\n",
        "df[\"full_date\"].dt.date"
      ],
      "execution_count": null,
      "outputs": [
        {
          "output_type": "execute_result",
          "data": {
            "text/plain": [
              "0      2021-11-10\n",
              "1      2021-11-10\n",
              "2      2021-11-10\n",
              "3      2021-11-10\n",
              "4      2021-11-10\n",
              "          ...    \n",
              "213    2021-11-16\n",
              "214    2021-11-16\n",
              "215    2021-11-16\n",
              "216    2021-11-16\n",
              "217    2021-11-16\n",
              "Name: full_date, Length: 218, dtype: object"
            ]
          },
          "metadata": {},
          "execution_count": 7
        }
      ]
    },
    {
      "cell_type": "code",
      "metadata": {
        "colab": {
          "base_uri": "https://localhost:8080/",
          "height": 300
        },
        "id": "sAvxDDGwHGFe",
        "outputId": "edbe49f9-4037-4eed-bda0-6ffa4c109798"
      },
      "source": [
        "data = df.groupby(df[\"full_date\"].dt.date).count()\n",
        "data"
      ],
      "execution_count": null,
      "outputs": [
        {
          "output_type": "execute_result",
          "data": {
            "text/html": [
              "<div>\n",
              "<style scoped>\n",
              "    .dataframe tbody tr th:only-of-type {\n",
              "        vertical-align: middle;\n",
              "    }\n",
              "\n",
              "    .dataframe tbody tr th {\n",
              "        vertical-align: top;\n",
              "    }\n",
              "\n",
              "    .dataframe thead th {\n",
              "        text-align: right;\n",
              "    }\n",
              "</style>\n",
              "<table border=\"1\" class=\"dataframe\">\n",
              "  <thead>\n",
              "    <tr style=\"text-align: right;\">\n",
              "      <th></th>\n",
              "      <th>user_id</th>\n",
              "      <th>message_length</th>\n",
              "      <th>device_type</th>\n",
              "      <th>has_media</th>\n",
              "      <th>has_links</th>\n",
              "      <th>full_date</th>\n",
              "    </tr>\n",
              "    <tr>\n",
              "      <th>full_date</th>\n",
              "      <th></th>\n",
              "      <th></th>\n",
              "      <th></th>\n",
              "      <th></th>\n",
              "      <th></th>\n",
              "      <th></th>\n",
              "    </tr>\n",
              "  </thead>\n",
              "  <tbody>\n",
              "    <tr>\n",
              "      <th>2021-11-10</th>\n",
              "      <td>10</td>\n",
              "      <td>10</td>\n",
              "      <td>10</td>\n",
              "      <td>10</td>\n",
              "      <td>10</td>\n",
              "      <td>10</td>\n",
              "    </tr>\n",
              "    <tr>\n",
              "      <th>2021-11-11</th>\n",
              "      <td>34</td>\n",
              "      <td>34</td>\n",
              "      <td>34</td>\n",
              "      <td>34</td>\n",
              "      <td>34</td>\n",
              "      <td>34</td>\n",
              "    </tr>\n",
              "    <tr>\n",
              "      <th>2021-11-12</th>\n",
              "      <td>62</td>\n",
              "      <td>62</td>\n",
              "      <td>62</td>\n",
              "      <td>62</td>\n",
              "      <td>62</td>\n",
              "      <td>62</td>\n",
              "    </tr>\n",
              "    <tr>\n",
              "      <th>2021-11-13</th>\n",
              "      <td>2</td>\n",
              "      <td>2</td>\n",
              "      <td>2</td>\n",
              "      <td>2</td>\n",
              "      <td>2</td>\n",
              "      <td>2</td>\n",
              "    </tr>\n",
              "    <tr>\n",
              "      <th>2021-11-14</th>\n",
              "      <td>41</td>\n",
              "      <td>41</td>\n",
              "      <td>41</td>\n",
              "      <td>41</td>\n",
              "      <td>41</td>\n",
              "      <td>41</td>\n",
              "    </tr>\n",
              "    <tr>\n",
              "      <th>2021-11-15</th>\n",
              "      <td>56</td>\n",
              "      <td>56</td>\n",
              "      <td>56</td>\n",
              "      <td>56</td>\n",
              "      <td>56</td>\n",
              "      <td>56</td>\n",
              "    </tr>\n",
              "    <tr>\n",
              "      <th>2021-11-16</th>\n",
              "      <td>13</td>\n",
              "      <td>13</td>\n",
              "      <td>13</td>\n",
              "      <td>13</td>\n",
              "      <td>13</td>\n",
              "      <td>13</td>\n",
              "    </tr>\n",
              "  </tbody>\n",
              "</table>\n",
              "</div>"
            ],
            "text/plain": [
              "            user_id  message_length  ...  has_links  full_date\n",
              "full_date                            ...                      \n",
              "2021-11-10       10              10  ...         10         10\n",
              "2021-11-11       34              34  ...         34         34\n",
              "2021-11-12       62              62  ...         62         62\n",
              "2021-11-13        2               2  ...          2          2\n",
              "2021-11-14       41              41  ...         41         41\n",
              "2021-11-15       56              56  ...         56         56\n",
              "2021-11-16       13              13  ...         13         13\n",
              "\n",
              "[7 rows x 6 columns]"
            ]
          },
          "metadata": {},
          "execution_count": 8
        }
      ]
    },
    {
      "cell_type": "code",
      "metadata": {
        "colab": {
          "base_uri": "https://localhost:8080/",
          "height": 646
        },
        "id": "RJdTnASqFpuW",
        "outputId": "bb85f2f2-705c-4659-dd39-31290e8623cc"
      },
      "source": [
        "plt.rcParams.update({'font.size': 12})\n",
        "fig = plt.figure(figsize=(10,10))\n",
        "fig.suptitle(\"Pie\")\n",
        "ax = plt.axes()\n",
        "ax.pie(data[\"user_id\"],labels=data.index,colors=[\"b\",\"g\",\"r\",\"m\",\"c\",\"y\",\"w\"], startangle=90,explode=(0,0,0,0.1,0,0,0),autopct='%1.1f%%')\n",
        "plt.show(\"off\")"
      ],
      "execution_count": null,
      "outputs": [
        {
          "output_type": "display_data",
          "data": {
            "image/png": "[encoded data removed]",
            "text/plain": [
              "<Figure size 720x720 with 1 Axes>"
            ]
          },
          "metadata": {}
        }
      ]
    },
    {
      "cell_type": "markdown",
      "metadata": {
        "id": "fy8ExioXiiXM"
      },
      "source": [
        "4. Creare un unico grafico a barre che riporti il numero totale dei messaggi inviati per ogni utente suddivisi in messaggi testuali, messaggi che contengo media e messaggi che contengono links, avente le seguenti caratteristiche:"
      ]
    },
    {
      "cell_type": "code",
      "metadata": {
        "id": "Q1b4k5gukapB"
      },
      "source": [
        "import numpy as np"
      ],
      "execution_count": null,
      "outputs": []
    },
    {
      "cell_type": "code",
      "metadata": {
        "colab": {
          "base_uri": "https://localhost:8080/",
          "height": 298
        },
        "id": "gDW7SO7Hhd38",
        "outputId": "38ed9476-4758-4ab5-c172-427d6c083a0d"
      },
      "source": [
        "data = df.groupby(\"user_id\").agg({\"message_length\": \"count\",\"has_media\":\"sum\",\"has_links\":\"sum\"}).sort_values(\"message_length\", ascending = False)\n",
        "labels = data.index\n",
        "msgs = np.subtract(data[\"message_length\"],np.add(data[\"has_media\"],data[\"has_links\"]))\n",
        "msgs_links = data[\"has_links\"]\n",
        "msgs_media= data[\"has_media\"]\n",
        "\n",
        "fig = plt.figure()\n",
        "ax = plt.axes()\n",
        " \n",
        "ax.bar(labels,msgs, color=\"r\")\n",
        "ax.bar(labels,msgs_links, bottom=msgs, color=\"b\")   #indica quanto spazio dal basso deve lasciare\n",
        "ax.bar(labels,msgs_media, bottom=msgs + msgs_links, color=\"y\")\n",
        "# oppure\n",
        "# ax.bar(labels,msgs_media, bottom=np.add(msgs,msgs_links))\n",
        "fig.autofmt_xdate(rotation=90) \n",
        "# oppure\n",
        "# fig.autofmt_xdate(rotation=\"vertical\") \n",
        "data\n",
        "plt.show()\n"
      ],
      "execution_count": null,
      "outputs": [
        {
          "output_type": "display_data",
          "data": {
            "image/png": "[encoded data removed]",
            "text/plain": [
              "<Figure size 432x288 with 1 Axes>"
            ]
          },
          "metadata": {
            "needs_background": "light"
          }
        }
      ]
    }
  ]
}