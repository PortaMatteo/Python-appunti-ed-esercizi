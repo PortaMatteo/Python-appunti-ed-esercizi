{
  "nbformat": 4,
  "nbformat_minor": 0,
  "metadata": {
    "colab": {
      "provenance": []
    },
    "kernelspec": {
      "name": "python3",
      "display_name": "Python 3"
    },
    "language_info": {
      "name": "python"
    }
  },
  "cells": [
    {
      "cell_type": "markdown",
      "source": [
        "# Verifica 1"
      ],
      "metadata": {
        "id": "ee4SOdXa-HhT"
      }
    },
    {
      "cell_type": "code",
      "execution_count": null,
      "metadata": {
        "colab": {
          "base_uri": "https://localhost:8080/"
        },
        "id": "UnQLu1rLx61h",
        "outputId": "63d4278d-f0a6-4f53-b99c-c04d10c82c16"
      },
      "outputs": [
        {
          "output_type": "stream",
          "name": "stdout",
          "text": [
            "Drive already mounted at /content/drive; to attempt to forcibly remount, call drive.mount(\"/content/drive\", force_remount=True).\n"
          ]
        }
      ],
      "source": [
        "from google.colab import drive\n",
        "drive.mount('/content/drive')"
      ]
    },
    {
      "cell_type": "code",
      "source": [
        "import pandas as pd \n",
        "df = pd.read_csv(\"/content/drive/MyDrive/Colab Notebooks/ML 101.1/data/breast-cancer-wisconsin (3).data\", names = [\"id\", \"Clump Thickness\", \"Uniformity of Cell Size\", \"Uniformity of Cell Shape\", \"Marginal Adhesion\", \"Single Epithelial Cell Size\" ,\"Bare Nuclei\", \"Bland Chromatin\",\"Normal Nucleoli\", \"Mitoses\",\"Class\"])"
      ],
      "metadata": {
        "id": "1iPkYSSyy8Pg"
      },
      "execution_count": null,
      "outputs": []
    },
    {
      "cell_type": "code",
      "source": [
        "df"
      ],
      "metadata": {
        "colab": {
          "base_uri": "https://localhost:8080/",
          "height": 424
        },
        "id": "pIjV0iSR1EiA",
        "outputId": "4b28a906-d205-42f9-b87c-2791e50f17a5"
      },
      "execution_count": null,
      "outputs": [
        {
          "output_type": "execute_result",
          "data": {
            "text/plain": [
              "          id  Clump Thickness  Uniformity of Cell Size  \\\n",
              "0    1000025                5                        1   \n",
              "1    1002945                5                        4   \n",
              "2    1015425                3                        1   \n",
              "3    1016277                6                        8   \n",
              "4    1017023                4                        1   \n",
              "..       ...              ...                      ...   \n",
              "694   776715                3                        1   \n",
              "695   841769                2                        1   \n",
              "696   888820                5                       10   \n",
              "697   897471                4                        8   \n",
              "698   897471                4                        8   \n",
              "\n",
              "     Uniformity of Cell Shape  Marginal Adhesion  Single Epithelial Cell Size  \\\n",
              "0                           1                  1                            2   \n",
              "1                           4                  5                            7   \n",
              "2                           1                  1                            2   \n",
              "3                           8                  1                            3   \n",
              "4                           1                  3                            2   \n",
              "..                        ...                ...                          ...   \n",
              "694                         1                  1                            3   \n",
              "695                         1                  1                            2   \n",
              "696                        10                  3                            7   \n",
              "697                         6                  4                            3   \n",
              "698                         8                  5                            4   \n",
              "\n",
              "    Bare Nuclei  Bland Chromatin  Normal Nucleoli  Mitoses  Class  \n",
              "0             1                3                1        1      2  \n",
              "1            10                3                2        1      2  \n",
              "2             2                3                1        1      2  \n",
              "3             4                3                7        1      2  \n",
              "4             1                3                1        1      2  \n",
              "..          ...              ...              ...      ...    ...  \n",
              "694           2                1                1        1      2  \n",
              "695           1                1                1        1      2  \n",
              "696           3                8               10        2      4  \n",
              "697           4               10                6        1      4  \n",
              "698           5               10                4        1      4  \n",
              "\n",
              "[699 rows x 11 columns]"
            ],
            "text/html": [
              "\n",
              "  <div id=\"df-42c9852f-bc68-4cc2-a14f-6690b9b71f38\">\n",
              "    <div class=\"colab-df-container\">\n",
              "      <div>\n",
              "<style scoped>\n",
              "    .dataframe tbody tr th:only-of-type {\n",
              "        vertical-align: middle;\n",
              "    }\n",
              "\n",
              "    .dataframe tbody tr th {\n",
              "        vertical-align: top;\n",
              "    }\n",
              "\n",
              "    .dataframe thead th {\n",
              "        text-align: right;\n",
              "    }\n",
              "</style>\n",
              "<table border=\"1\" class=\"dataframe\">\n",
              "  <thead>\n",
              "    <tr style=\"text-align: right;\">\n",
              "      <th></th>\n",
              "      <th>id</th>\n",
              "      <th>Clump Thickness</th>\n",
              "      <th>Uniformity of Cell Size</th>\n",
              "      <th>Uniformity of Cell Shape</th>\n",
              "      <th>Marginal Adhesion</th>\n",
              "      <th>Single Epithelial Cell Size</th>\n",
              "      <th>Bare Nuclei</th>\n",
              "      <th>Bland Chromatin</th>\n",
              "      <th>Normal Nucleoli</th>\n",
              "      <th>Mitoses</th>\n",
              "      <th>Class</th>\n",
              "    </tr>\n",
              "  </thead>\n",
              "  <tbody>\n",
              "    <tr>\n",
              "      <th>0</th>\n",
              "      <td>1000025</td>\n",
              "      <td>5</td>\n",
              "      <td>1</td>\n",
              "      <td>1</td>\n",
              "      <td>1</td>\n",
              "      <td>2</td>\n",
              "      <td>1</td>\n",
              "      <td>3</td>\n",
              "      <td>1</td>\n",
              "      <td>1</td>\n",
              "      <td>2</td>\n",
              "    </tr>\n",
              "    <tr>\n",
              "      <th>1</th>\n",
              "      <td>1002945</td>\n",
              "      <td>5</td>\n",
              "      <td>4</td>\n",
              "      <td>4</td>\n",
              "      <td>5</td>\n",
              "      <td>7</td>\n",
              "      <td>10</td>\n",
              "      <td>3</td>\n",
              "      <td>2</td>\n",
              "      <td>1</td>\n",
              "      <td>2</td>\n",
              "    </tr>\n",
              "    <tr>\n",
              "      <th>2</th>\n",
              "      <td>1015425</td>\n",
              "      <td>3</td>\n",
              "      <td>1</td>\n",
              "      <td>1</td>\n",
              "      <td>1</td>\n",
              "      <td>2</td>\n",
              "      <td>2</td>\n",
              "      <td>3</td>\n",
              "      <td>1</td>\n",
              "      <td>1</td>\n",
              "      <td>2</td>\n",
              "    </tr>\n",
              "    <tr>\n",
              "      <th>3</th>\n",
              "      <td>1016277</td>\n",
              "      <td>6</td>\n",
              "      <td>8</td>\n",
              "      <td>8</td>\n",
              "      <td>1</td>\n",
              "      <td>3</td>\n",
              "      <td>4</td>\n",
              "      <td>3</td>\n",
              "      <td>7</td>\n",
              "      <td>1</td>\n",
              "      <td>2</td>\n",
              "    </tr>\n",
              "    <tr>\n",
              "      <th>4</th>\n",
              "      <td>1017023</td>\n",
              "      <td>4</td>\n",
              "      <td>1</td>\n",
              "      <td>1</td>\n",
              "      <td>3</td>\n",
              "      <td>2</td>\n",
              "      <td>1</td>\n",
              "      <td>3</td>\n",
              "      <td>1</td>\n",
              "      <td>1</td>\n",
              "      <td>2</td>\n",
              "    </tr>\n",
              "    <tr>\n",
              "      <th>...</th>\n",
              "      <td>...</td>\n",
              "      <td>...</td>\n",
              "      <td>...</td>\n",
              "      <td>...</td>\n",
              "      <td>...</td>\n",
              "      <td>...</td>\n",
              "      <td>...</td>\n",
              "      <td>...</td>\n",
              "      <td>...</td>\n",
              "      <td>...</td>\n",
              "      <td>...</td>\n",
              "    </tr>\n",
              "    <tr>\n",
              "      <th>694</th>\n",
              "      <td>776715</td>\n",
              "      <td>3</td>\n",
              "      <td>1</td>\n",
              "      <td>1</td>\n",
              "      <td>1</td>\n",
              "      <td>3</td>\n",
              "      <td>2</td>\n",
              "      <td>1</td>\n",
              "      <td>1</td>\n",
              "      <td>1</td>\n",
              "      <td>2</td>\n",
              "    </tr>\n",
              "    <tr>\n",
              "      <th>695</th>\n",
              "      <td>841769</td>\n",
              "      <td>2</td>\n",
              "      <td>1</td>\n",
              "      <td>1</td>\n",
              "      <td>1</td>\n",
              "      <td>2</td>\n",
              "      <td>1</td>\n",
              "      <td>1</td>\n",
              "      <td>1</td>\n",
              "      <td>1</td>\n",
              "      <td>2</td>\n",
              "    </tr>\n",
              "    <tr>\n",
              "      <th>696</th>\n",
              "      <td>888820</td>\n",
              "      <td>5</td>\n",
              "      <td>10</td>\n",
              "      <td>10</td>\n",
              "      <td>3</td>\n",
              "      <td>7</td>\n",
              "      <td>3</td>\n",
              "      <td>8</td>\n",
              "      <td>10</td>\n",
              "      <td>2</td>\n",
              "      <td>4</td>\n",
              "    </tr>\n",
              "    <tr>\n",
              "      <th>697</th>\n",
              "      <td>897471</td>\n",
              "      <td>4</td>\n",
              "      <td>8</td>\n",
              "      <td>6</td>\n",
              "      <td>4</td>\n",
              "      <td>3</td>\n",
              "      <td>4</td>\n",
              "      <td>10</td>\n",
              "      <td>6</td>\n",
              "      <td>1</td>\n",
              "      <td>4</td>\n",
              "    </tr>\n",
              "    <tr>\n",
              "      <th>698</th>\n",
              "      <td>897471</td>\n",
              "      <td>4</td>\n",
              "      <td>8</td>\n",
              "      <td>8</td>\n",
              "      <td>5</td>\n",
              "      <td>4</td>\n",
              "      <td>5</td>\n",
              "      <td>10</td>\n",
              "      <td>4</td>\n",
              "      <td>1</td>\n",
              "      <td>4</td>\n",
              "    </tr>\n",
              "  </tbody>\n",
              "</table>\n",
              "<p>699 rows × 11 columns</p>\n",
              "</div>\n",
              "      <button class=\"colab-df-convert\" onclick=\"convertToInteractive('df-42c9852f-bc68-4cc2-a14f-6690b9b71f38')\"\n",
              "              title=\"Convert this dataframe to an interactive table.\"\n",
              "              style=\"display:none;\">\n",
              "        \n",
              "  <svg xmlns=\"http://www.w3.org/2000/svg\" height=\"24px\"viewBox=\"0 0 24 24\"\n",
              "       width=\"24px\">\n",
              "    <path d=\"M0 0h24v24H0V0z\" fill=\"none\"/>\n",
              "    <path d=\"M18.56 5.44l.94 2.06.94-2.06 2.06-.94-2.06-.94-.94-2.06-.94 2.06-2.06.94zm-11 1L8.5 8.5l.94-2.06 2.06-.94-2.06-.94L8.5 2.5l-.94 2.06-2.06.94zm10 10l.94 2.06.94-2.06 2.06-.94-2.06-.94-.94-2.06-.94 2.06-2.06.94z\"/><path d=\"M17.41 7.96l-1.37-1.37c-.4-.4-.92-.59-1.43-.59-.52 0-1.04.2-1.43.59L10.3 9.45l-7.72 7.72c-.78.78-.78 2.05 0 2.83L4 21.41c.39.39.9.59 1.41.59.51 0 1.02-.2 1.41-.59l7.78-7.78 2.81-2.81c.8-.78.8-2.07 0-2.86zM5.41 20L4 18.59l7.72-7.72 1.47 1.35L5.41 20z\"/>\n",
              "  </svg>\n",
              "      </button>\n",
              "      \n",
              "  <style>\n",
              "    .colab-df-container {\n",
              "      display:flex;\n",
              "      flex-wrap:wrap;\n",
              "      gap: 12px;\n",
              "    }\n",
              "\n",
              "    .colab-df-convert {\n",
              "      background-color: #E8F0FE;\n",
              "      border: none;\n",
              "      border-radius: 50%;\n",
              "      cursor: pointer;\n",
              "      display: none;\n",
              "      fill: #1967D2;\n",
              "      height: 32px;\n",
              "      padding: 0 0 0 0;\n",
              "      width: 32px;\n",
              "    }\n",
              "\n",
              "    .colab-df-convert:hover {\n",
              "      background-color: #E2EBFA;\n",
              "      box-shadow: 0px 1px 2px rgba(60, 64, 67, 0.3), 0px 1px 3px 1px rgba(60, 64, 67, 0.15);\n",
              "      fill: #174EA6;\n",
              "    }\n",
              "\n",
              "    [theme=dark] .colab-df-convert {\n",
              "      background-color: #3B4455;\n",
              "      fill: #D2E3FC;\n",
              "    }\n",
              "\n",
              "    [theme=dark] .colab-df-convert:hover {\n",
              "      background-color: #434B5C;\n",
              "      box-shadow: 0px 1px 3px 1px rgba(0, 0, 0, 0.15);\n",
              "      filter: drop-shadow(0px 1px 2px rgba(0, 0, 0, 0.3));\n",
              "      fill: #FFFFFF;\n",
              "    }\n",
              "  </style>\n",
              "\n",
              "      <script>\n",
              "        const buttonEl =\n",
              "          document.querySelector('#df-42c9852f-bc68-4cc2-a14f-6690b9b71f38 button.colab-df-convert');\n",
              "        buttonEl.style.display =\n",
              "          google.colab.kernel.accessAllowed ? 'block' : 'none';\n",
              "\n",
              "        async function convertToInteractive(key) {\n",
              "          const element = document.querySelector('#df-42c9852f-bc68-4cc2-a14f-6690b9b71f38');\n",
              "          const dataTable =\n",
              "            await google.colab.kernel.invokeFunction('convertToInteractive',\n",
              "                                                     [key], {});\n",
              "          if (!dataTable) return;\n",
              "\n",
              "          const docLinkHtml = 'Like what you see? Visit the ' +\n",
              "            '<a target=\"_blank\" href=https://colab.research.google.com/notebooks/data_table.ipynb>data table notebook</a>'\n",
              "            + ' to learn more about interactive tables.';\n",
              "          element.innerHTML = '';\n",
              "          dataTable['output_type'] = 'display_data';\n",
              "          await google.colab.output.renderOutput(dataTable, element);\n",
              "          const docLink = document.createElement('div');\n",
              "          docLink.innerHTML = docLinkHtml;\n",
              "          element.appendChild(docLink);\n",
              "        }\n",
              "      </script>\n",
              "    </div>\n",
              "  </div>\n",
              "  "
            ]
          },
          "metadata": {},
          "execution_count": 236
        }
      ]
    },
    {
      "cell_type": "markdown",
      "source": [
        "2.1"
      ],
      "metadata": {
        "id": "0fwEmbe92P_R"
      }
    },
    {
      "cell_type": "code",
      "source": [
        "df = df.drop('id', axis=1)\n",
        "df"
      ],
      "metadata": {
        "colab": {
          "base_uri": "https://localhost:8080/",
          "height": 424
        },
        "id": "LKmqEnKB2QxR",
        "outputId": "a4938e99-214c-40f5-d54f-11e79d95fc73"
      },
      "execution_count": null,
      "outputs": [
        {
          "output_type": "execute_result",
          "data": {
            "text/plain": [
              "     Clump Thickness  Uniformity of Cell Size  Uniformity of Cell Shape  \\\n",
              "0                  5                        1                         1   \n",
              "1                  5                        4                         4   \n",
              "2                  3                        1                         1   \n",
              "3                  6                        8                         8   \n",
              "4                  4                        1                         1   \n",
              "..               ...                      ...                       ...   \n",
              "694                3                        1                         1   \n",
              "695                2                        1                         1   \n",
              "696                5                       10                        10   \n",
              "697                4                        8                         6   \n",
              "698                4                        8                         8   \n",
              "\n",
              "     Marginal Adhesion  Single Epithelial Cell Size Bare Nuclei  \\\n",
              "0                    1                            2           1   \n",
              "1                    5                            7          10   \n",
              "2                    1                            2           2   \n",
              "3                    1                            3           4   \n",
              "4                    3                            2           1   \n",
              "..                 ...                          ...         ...   \n",
              "694                  1                            3           2   \n",
              "695                  1                            2           1   \n",
              "696                  3                            7           3   \n",
              "697                  4                            3           4   \n",
              "698                  5                            4           5   \n",
              "\n",
              "     Bland Chromatin  Normal Nucleoli  Mitoses  Class  \n",
              "0                  3                1        1      2  \n",
              "1                  3                2        1      2  \n",
              "2                  3                1        1      2  \n",
              "3                  3                7        1      2  \n",
              "4                  3                1        1      2  \n",
              "..               ...              ...      ...    ...  \n",
              "694                1                1        1      2  \n",
              "695                1                1        1      2  \n",
              "696                8               10        2      4  \n",
              "697               10                6        1      4  \n",
              "698               10                4        1      4  \n",
              "\n",
              "[699 rows x 10 columns]"
            ],
            "text/html": [
              "\n",
              "  <div id=\"df-c0ff820c-832f-48cc-bbd2-53b42d3e5e0f\">\n",
              "    <div class=\"colab-df-container\">\n",
              "      <div>\n",
              "<style scoped>\n",
              "    .dataframe tbody tr th:only-of-type {\n",
              "        vertical-align: middle;\n",
              "    }\n",
              "\n",
              "    .dataframe tbody tr th {\n",
              "        vertical-align: top;\n",
              "    }\n",
              "\n",
              "    .dataframe thead th {\n",
              "        text-align: right;\n",
              "    }\n",
              "</style>\n",
              "<table border=\"1\" class=\"dataframe\">\n",
              "  <thead>\n",
              "    <tr style=\"text-align: right;\">\n",
              "      <th></th>\n",
              "      <th>Clump Thickness</th>\n",
              "      <th>Uniformity of Cell Size</th>\n",
              "      <th>Uniformity of Cell Shape</th>\n",
              "      <th>Marginal Adhesion</th>\n",
              "      <th>Single Epithelial Cell Size</th>\n",
              "      <th>Bare Nuclei</th>\n",
              "      <th>Bland Chromatin</th>\n",
              "      <th>Normal Nucleoli</th>\n",
              "      <th>Mitoses</th>\n",
              "      <th>Class</th>\n",
              "    </tr>\n",
              "  </thead>\n",
              "  <tbody>\n",
              "    <tr>\n",
              "      <th>0</th>\n",
              "      <td>5</td>\n",
              "      <td>1</td>\n",
              "      <td>1</td>\n",
              "      <td>1</td>\n",
              "      <td>2</td>\n",
              "      <td>1</td>\n",
              "      <td>3</td>\n",
              "      <td>1</td>\n",
              "      <td>1</td>\n",
              "      <td>2</td>\n",
              "    </tr>\n",
              "    <tr>\n",
              "      <th>1</th>\n",
              "      <td>5</td>\n",
              "      <td>4</td>\n",
              "      <td>4</td>\n",
              "      <td>5</td>\n",
              "      <td>7</td>\n",
              "      <td>10</td>\n",
              "      <td>3</td>\n",
              "      <td>2</td>\n",
              "      <td>1</td>\n",
              "      <td>2</td>\n",
              "    </tr>\n",
              "    <tr>\n",
              "      <th>2</th>\n",
              "      <td>3</td>\n",
              "      <td>1</td>\n",
              "      <td>1</td>\n",
              "      <td>1</td>\n",
              "      <td>2</td>\n",
              "      <td>2</td>\n",
              "      <td>3</td>\n",
              "      <td>1</td>\n",
              "      <td>1</td>\n",
              "      <td>2</td>\n",
              "    </tr>\n",
              "    <tr>\n",
              "      <th>3</th>\n",
              "      <td>6</td>\n",
              "      <td>8</td>\n",
              "      <td>8</td>\n",
              "      <td>1</td>\n",
              "      <td>3</td>\n",
              "      <td>4</td>\n",
              "      <td>3</td>\n",
              "      <td>7</td>\n",
              "      <td>1</td>\n",
              "      <td>2</td>\n",
              "    </tr>\n",
              "    <tr>\n",
              "      <th>4</th>\n",
              "      <td>4</td>\n",
              "      <td>1</td>\n",
              "      <td>1</td>\n",
              "      <td>3</td>\n",
              "      <td>2</td>\n",
              "      <td>1</td>\n",
              "      <td>3</td>\n",
              "      <td>1</td>\n",
              "      <td>1</td>\n",
              "      <td>2</td>\n",
              "    </tr>\n",
              "    <tr>\n",
              "      <th>...</th>\n",
              "      <td>...</td>\n",
              "      <td>...</td>\n",
              "      <td>...</td>\n",
              "      <td>...</td>\n",
              "      <td>...</td>\n",
              "      <td>...</td>\n",
              "      <td>...</td>\n",
              "      <td>...</td>\n",
              "      <td>...</td>\n",
              "      <td>...</td>\n",
              "    </tr>\n",
              "    <tr>\n",
              "      <th>694</th>\n",
              "      <td>3</td>\n",
              "      <td>1</td>\n",
              "      <td>1</td>\n",
              "      <td>1</td>\n",
              "      <td>3</td>\n",
              "      <td>2</td>\n",
              "      <td>1</td>\n",
              "      <td>1</td>\n",
              "      <td>1</td>\n",
              "      <td>2</td>\n",
              "    </tr>\n",
              "    <tr>\n",
              "      <th>695</th>\n",
              "      <td>2</td>\n",
              "      <td>1</td>\n",
              "      <td>1</td>\n",
              "      <td>1</td>\n",
              "      <td>2</td>\n",
              "      <td>1</td>\n",
              "      <td>1</td>\n",
              "      <td>1</td>\n",
              "      <td>1</td>\n",
              "      <td>2</td>\n",
              "    </tr>\n",
              "    <tr>\n",
              "      <th>696</th>\n",
              "      <td>5</td>\n",
              "      <td>10</td>\n",
              "      <td>10</td>\n",
              "      <td>3</td>\n",
              "      <td>7</td>\n",
              "      <td>3</td>\n",
              "      <td>8</td>\n",
              "      <td>10</td>\n",
              "      <td>2</td>\n",
              "      <td>4</td>\n",
              "    </tr>\n",
              "    <tr>\n",
              "      <th>697</th>\n",
              "      <td>4</td>\n",
              "      <td>8</td>\n",
              "      <td>6</td>\n",
              "      <td>4</td>\n",
              "      <td>3</td>\n",
              "      <td>4</td>\n",
              "      <td>10</td>\n",
              "      <td>6</td>\n",
              "      <td>1</td>\n",
              "      <td>4</td>\n",
              "    </tr>\n",
              "    <tr>\n",
              "      <th>698</th>\n",
              "      <td>4</td>\n",
              "      <td>8</td>\n",
              "      <td>8</td>\n",
              "      <td>5</td>\n",
              "      <td>4</td>\n",
              "      <td>5</td>\n",
              "      <td>10</td>\n",
              "      <td>4</td>\n",
              "      <td>1</td>\n",
              "      <td>4</td>\n",
              "    </tr>\n",
              "  </tbody>\n",
              "</table>\n",
              "<p>699 rows × 10 columns</p>\n",
              "</div>\n",
              "      <button class=\"colab-df-convert\" onclick=\"convertToInteractive('df-c0ff820c-832f-48cc-bbd2-53b42d3e5e0f')\"\n",
              "              title=\"Convert this dataframe to an interactive table.\"\n",
              "              style=\"display:none;\">\n",
              "        \n",
              "  <svg xmlns=\"http://www.w3.org/2000/svg\" height=\"24px\"viewBox=\"0 0 24 24\"\n",
              "       width=\"24px\">\n",
              "    <path d=\"M0 0h24v24H0V0z\" fill=\"none\"/>\n",
              "    <path d=\"M18.56 5.44l.94 2.06.94-2.06 2.06-.94-2.06-.94-.94-2.06-.94 2.06-2.06.94zm-11 1L8.5 8.5l.94-2.06 2.06-.94-2.06-.94L8.5 2.5l-.94 2.06-2.06.94zm10 10l.94 2.06.94-2.06 2.06-.94-2.06-.94-.94-2.06-.94 2.06-2.06.94z\"/><path d=\"M17.41 7.96l-1.37-1.37c-.4-.4-.92-.59-1.43-.59-.52 0-1.04.2-1.43.59L10.3 9.45l-7.72 7.72c-.78.78-.78 2.05 0 2.83L4 21.41c.39.39.9.59 1.41.59.51 0 1.02-.2 1.41-.59l7.78-7.78 2.81-2.81c.8-.78.8-2.07 0-2.86zM5.41 20L4 18.59l7.72-7.72 1.47 1.35L5.41 20z\"/>\n",
              "  </svg>\n",
              "      </button>\n",
              "      \n",
              "  <style>\n",
              "    .colab-df-container {\n",
              "      display:flex;\n",
              "      flex-wrap:wrap;\n",
              "      gap: 12px;\n",
              "    }\n",
              "\n",
              "    .colab-df-convert {\n",
              "      background-color: #E8F0FE;\n",
              "      border: none;\n",
              "      border-radius: 50%;\n",
              "      cursor: pointer;\n",
              "      display: none;\n",
              "      fill: #1967D2;\n",
              "      height: 32px;\n",
              "      padding: 0 0 0 0;\n",
              "      width: 32px;\n",
              "    }\n",
              "\n",
              "    .colab-df-convert:hover {\n",
              "      background-color: #E2EBFA;\n",
              "      box-shadow: 0px 1px 2px rgba(60, 64, 67, 0.3), 0px 1px 3px 1px rgba(60, 64, 67, 0.15);\n",
              "      fill: #174EA6;\n",
              "    }\n",
              "\n",
              "    [theme=dark] .colab-df-convert {\n",
              "      background-color: #3B4455;\n",
              "      fill: #D2E3FC;\n",
              "    }\n",
              "\n",
              "    [theme=dark] .colab-df-convert:hover {\n",
              "      background-color: #434B5C;\n",
              "      box-shadow: 0px 1px 3px 1px rgba(0, 0, 0, 0.15);\n",
              "      filter: drop-shadow(0px 1px 2px rgba(0, 0, 0, 0.3));\n",
              "      fill: #FFFFFF;\n",
              "    }\n",
              "  </style>\n",
              "\n",
              "      <script>\n",
              "        const buttonEl =\n",
              "          document.querySelector('#df-c0ff820c-832f-48cc-bbd2-53b42d3e5e0f button.colab-df-convert');\n",
              "        buttonEl.style.display =\n",
              "          google.colab.kernel.accessAllowed ? 'block' : 'none';\n",
              "\n",
              "        async function convertToInteractive(key) {\n",
              "          const element = document.querySelector('#df-c0ff820c-832f-48cc-bbd2-53b42d3e5e0f');\n",
              "          const dataTable =\n",
              "            await google.colab.kernel.invokeFunction('convertToInteractive',\n",
              "                                                     [key], {});\n",
              "          if (!dataTable) return;\n",
              "\n",
              "          const docLinkHtml = 'Like what you see? Visit the ' +\n",
              "            '<a target=\"_blank\" href=https://colab.research.google.com/notebooks/data_table.ipynb>data table notebook</a>'\n",
              "            + ' to learn more about interactive tables.';\n",
              "          element.innerHTML = '';\n",
              "          dataTable['output_type'] = 'display_data';\n",
              "          await google.colab.output.renderOutput(dataTable, element);\n",
              "          const docLink = document.createElement('div');\n",
              "          docLink.innerHTML = docLinkHtml;\n",
              "          element.appendChild(docLink);\n",
              "        }\n",
              "      </script>\n",
              "    </div>\n",
              "  </div>\n",
              "  "
            ]
          },
          "metadata": {},
          "execution_count": 237
        }
      ]
    },
    {
      "cell_type": "markdown",
      "source": [
        "2.2"
      ],
      "metadata": {
        "id": "yaIE_yVvDxoF"
      }
    },
    {
      "cell_type": "code",
      "source": [
        "df[\"Bare Nuclei\"]=pd.to_numeric(df[\"Bare Nuclei\"], errors='coerce')"
      ],
      "metadata": {
        "id": "i1uQu1mi5FtC"
      },
      "execution_count": null,
      "outputs": []
    },
    {
      "cell_type": "code",
      "source": [
        "df"
      ],
      "metadata": {
        "colab": {
          "base_uri": "https://localhost:8080/",
          "height": 424
        },
        "id": "WBiZpnU5A3yK",
        "outputId": "b1c9b517-67ea-469d-bad6-46e779c41b3f"
      },
      "execution_count": null,
      "outputs": [
        {
          "output_type": "execute_result",
          "data": {
            "text/plain": [
              "     Clump Thickness  Uniformity of Cell Size  Uniformity of Cell Shape  \\\n",
              "0                  5                        1                         1   \n",
              "1                  5                        4                         4   \n",
              "2                  3                        1                         1   \n",
              "3                  6                        8                         8   \n",
              "4                  4                        1                         1   \n",
              "..               ...                      ...                       ...   \n",
              "694                3                        1                         1   \n",
              "695                2                        1                         1   \n",
              "696                5                       10                        10   \n",
              "697                4                        8                         6   \n",
              "698                4                        8                         8   \n",
              "\n",
              "     Marginal Adhesion  Single Epithelial Cell Size  Bare Nuclei  \\\n",
              "0                    1                            2          1.0   \n",
              "1                    5                            7         10.0   \n",
              "2                    1                            2          2.0   \n",
              "3                    1                            3          4.0   \n",
              "4                    3                            2          1.0   \n",
              "..                 ...                          ...          ...   \n",
              "694                  1                            3          2.0   \n",
              "695                  1                            2          1.0   \n",
              "696                  3                            7          3.0   \n",
              "697                  4                            3          4.0   \n",
              "698                  5                            4          5.0   \n",
              "\n",
              "     Bland Chromatin  Normal Nucleoli  Mitoses  Class  \n",
              "0                  3                1        1      2  \n",
              "1                  3                2        1      2  \n",
              "2                  3                1        1      2  \n",
              "3                  3                7        1      2  \n",
              "4                  3                1        1      2  \n",
              "..               ...              ...      ...    ...  \n",
              "694                1                1        1      2  \n",
              "695                1                1        1      2  \n",
              "696                8               10        2      4  \n",
              "697               10                6        1      4  \n",
              "698               10                4        1      4  \n",
              "\n",
              "[699 rows x 10 columns]"
            ],
            "text/html": [
              "\n",
              "  <div id=\"df-95f3f4e3-aa15-40e1-ac79-b20493cb3347\">\n",
              "    <div class=\"colab-df-container\">\n",
              "      <div>\n",
              "<style scoped>\n",
              "    .dataframe tbody tr th:only-of-type {\n",
              "        vertical-align: middle;\n",
              "    }\n",
              "\n",
              "    .dataframe tbody tr th {\n",
              "        vertical-align: top;\n",
              "    }\n",
              "\n",
              "    .dataframe thead th {\n",
              "        text-align: right;\n",
              "    }\n",
              "</style>\n",
              "<table border=\"1\" class=\"dataframe\">\n",
              "  <thead>\n",
              "    <tr style=\"text-align: right;\">\n",
              "      <th></th>\n",
              "      <th>Clump Thickness</th>\n",
              "      <th>Uniformity of Cell Size</th>\n",
              "      <th>Uniformity of Cell Shape</th>\n",
              "      <th>Marginal Adhesion</th>\n",
              "      <th>Single Epithelial Cell Size</th>\n",
              "      <th>Bare Nuclei</th>\n",
              "      <th>Bland Chromatin</th>\n",
              "      <th>Normal Nucleoli</th>\n",
              "      <th>Mitoses</th>\n",
              "      <th>Class</th>\n",
              "    </tr>\n",
              "  </thead>\n",
              "  <tbody>\n",
              "    <tr>\n",
              "      <th>0</th>\n",
              "      <td>5</td>\n",
              "      <td>1</td>\n",
              "      <td>1</td>\n",
              "      <td>1</td>\n",
              "      <td>2</td>\n",
              "      <td>1.0</td>\n",
              "      <td>3</td>\n",
              "      <td>1</td>\n",
              "      <td>1</td>\n",
              "      <td>2</td>\n",
              "    </tr>\n",
              "    <tr>\n",
              "      <th>1</th>\n",
              "      <td>5</td>\n",
              "      <td>4</td>\n",
              "      <td>4</td>\n",
              "      <td>5</td>\n",
              "      <td>7</td>\n",
              "      <td>10.0</td>\n",
              "      <td>3</td>\n",
              "      <td>2</td>\n",
              "      <td>1</td>\n",
              "      <td>2</td>\n",
              "    </tr>\n",
              "    <tr>\n",
              "      <th>2</th>\n",
              "      <td>3</td>\n",
              "      <td>1</td>\n",
              "      <td>1</td>\n",
              "      <td>1</td>\n",
              "      <td>2</td>\n",
              "      <td>2.0</td>\n",
              "      <td>3</td>\n",
              "      <td>1</td>\n",
              "      <td>1</td>\n",
              "      <td>2</td>\n",
              "    </tr>\n",
              "    <tr>\n",
              "      <th>3</th>\n",
              "      <td>6</td>\n",
              "      <td>8</td>\n",
              "      <td>8</td>\n",
              "      <td>1</td>\n",
              "      <td>3</td>\n",
              "      <td>4.0</td>\n",
              "      <td>3</td>\n",
              "      <td>7</td>\n",
              "      <td>1</td>\n",
              "      <td>2</td>\n",
              "    </tr>\n",
              "    <tr>\n",
              "      <th>4</th>\n",
              "      <td>4</td>\n",
              "      <td>1</td>\n",
              "      <td>1</td>\n",
              "      <td>3</td>\n",
              "      <td>2</td>\n",
              "      <td>1.0</td>\n",
              "      <td>3</td>\n",
              "      <td>1</td>\n",
              "      <td>1</td>\n",
              "      <td>2</td>\n",
              "    </tr>\n",
              "    <tr>\n",
              "      <th>...</th>\n",
              "      <td>...</td>\n",
              "      <td>...</td>\n",
              "      <td>...</td>\n",
              "      <td>...</td>\n",
              "      <td>...</td>\n",
              "      <td>...</td>\n",
              "      <td>...</td>\n",
              "      <td>...</td>\n",
              "      <td>...</td>\n",
              "      <td>...</td>\n",
              "    </tr>\n",
              "    <tr>\n",
              "      <th>694</th>\n",
              "      <td>3</td>\n",
              "      <td>1</td>\n",
              "      <td>1</td>\n",
              "      <td>1</td>\n",
              "      <td>3</td>\n",
              "      <td>2.0</td>\n",
              "      <td>1</td>\n",
              "      <td>1</td>\n",
              "      <td>1</td>\n",
              "      <td>2</td>\n",
              "    </tr>\n",
              "    <tr>\n",
              "      <th>695</th>\n",
              "      <td>2</td>\n",
              "      <td>1</td>\n",
              "      <td>1</td>\n",
              "      <td>1</td>\n",
              "      <td>2</td>\n",
              "      <td>1.0</td>\n",
              "      <td>1</td>\n",
              "      <td>1</td>\n",
              "      <td>1</td>\n",
              "      <td>2</td>\n",
              "    </tr>\n",
              "    <tr>\n",
              "      <th>696</th>\n",
              "      <td>5</td>\n",
              "      <td>10</td>\n",
              "      <td>10</td>\n",
              "      <td>3</td>\n",
              "      <td>7</td>\n",
              "      <td>3.0</td>\n",
              "      <td>8</td>\n",
              "      <td>10</td>\n",
              "      <td>2</td>\n",
              "      <td>4</td>\n",
              "    </tr>\n",
              "    <tr>\n",
              "      <th>697</th>\n",
              "      <td>4</td>\n",
              "      <td>8</td>\n",
              "      <td>6</td>\n",
              "      <td>4</td>\n",
              "      <td>3</td>\n",
              "      <td>4.0</td>\n",
              "      <td>10</td>\n",
              "      <td>6</td>\n",
              "      <td>1</td>\n",
              "      <td>4</td>\n",
              "    </tr>\n",
              "    <tr>\n",
              "      <th>698</th>\n",
              "      <td>4</td>\n",
              "      <td>8</td>\n",
              "      <td>8</td>\n",
              "      <td>5</td>\n",
              "      <td>4</td>\n",
              "      <td>5.0</td>\n",
              "      <td>10</td>\n",
              "      <td>4</td>\n",
              "      <td>1</td>\n",
              "      <td>4</td>\n",
              "    </tr>\n",
              "  </tbody>\n",
              "</table>\n",
              "<p>699 rows × 10 columns</p>\n",
              "</div>\n",
              "      <button class=\"colab-df-convert\" onclick=\"convertToInteractive('df-95f3f4e3-aa15-40e1-ac79-b20493cb3347')\"\n",
              "              title=\"Convert this dataframe to an interactive table.\"\n",
              "              style=\"display:none;\">\n",
              "        \n",
              "  <svg xmlns=\"http://www.w3.org/2000/svg\" height=\"24px\"viewBox=\"0 0 24 24\"\n",
              "       width=\"24px\">\n",
              "    <path d=\"M0 0h24v24H0V0z\" fill=\"none\"/>\n",
              "    <path d=\"M18.56 5.44l.94 2.06.94-2.06 2.06-.94-2.06-.94-.94-2.06-.94 2.06-2.06.94zm-11 1L8.5 8.5l.94-2.06 2.06-.94-2.06-.94L8.5 2.5l-.94 2.06-2.06.94zm10 10l.94 2.06.94-2.06 2.06-.94-2.06-.94-.94-2.06-.94 2.06-2.06.94z\"/><path d=\"M17.41 7.96l-1.37-1.37c-.4-.4-.92-.59-1.43-.59-.52 0-1.04.2-1.43.59L10.3 9.45l-7.72 7.72c-.78.78-.78 2.05 0 2.83L4 21.41c.39.39.9.59 1.41.59.51 0 1.02-.2 1.41-.59l7.78-7.78 2.81-2.81c.8-.78.8-2.07 0-2.86zM5.41 20L4 18.59l7.72-7.72 1.47 1.35L5.41 20z\"/>\n",
              "  </svg>\n",
              "      </button>\n",
              "      \n",
              "  <style>\n",
              "    .colab-df-container {\n",
              "      display:flex;\n",
              "      flex-wrap:wrap;\n",
              "      gap: 12px;\n",
              "    }\n",
              "\n",
              "    .colab-df-convert {\n",
              "      background-color: #E8F0FE;\n",
              "      border: none;\n",
              "      border-radius: 50%;\n",
              "      cursor: pointer;\n",
              "      display: none;\n",
              "      fill: #1967D2;\n",
              "      height: 32px;\n",
              "      padding: 0 0 0 0;\n",
              "      width: 32px;\n",
              "    }\n",
              "\n",
              "    .colab-df-convert:hover {\n",
              "      background-color: #E2EBFA;\n",
              "      box-shadow: 0px 1px 2px rgba(60, 64, 67, 0.3), 0px 1px 3px 1px rgba(60, 64, 67, 0.15);\n",
              "      fill: #174EA6;\n",
              "    }\n",
              "\n",
              "    [theme=dark] .colab-df-convert {\n",
              "      background-color: #3B4455;\n",
              "      fill: #D2E3FC;\n",
              "    }\n",
              "\n",
              "    [theme=dark] .colab-df-convert:hover {\n",
              "      background-color: #434B5C;\n",
              "      box-shadow: 0px 1px 3px 1px rgba(0, 0, 0, 0.15);\n",
              "      filter: drop-shadow(0px 1px 2px rgba(0, 0, 0, 0.3));\n",
              "      fill: #FFFFFF;\n",
              "    }\n",
              "  </style>\n",
              "\n",
              "      <script>\n",
              "        const buttonEl =\n",
              "          document.querySelector('#df-95f3f4e3-aa15-40e1-ac79-b20493cb3347 button.colab-df-convert');\n",
              "        buttonEl.style.display =\n",
              "          google.colab.kernel.accessAllowed ? 'block' : 'none';\n",
              "\n",
              "        async function convertToInteractive(key) {\n",
              "          const element = document.querySelector('#df-95f3f4e3-aa15-40e1-ac79-b20493cb3347');\n",
              "          const dataTable =\n",
              "            await google.colab.kernel.invokeFunction('convertToInteractive',\n",
              "                                                     [key], {});\n",
              "          if (!dataTable) return;\n",
              "\n",
              "          const docLinkHtml = 'Like what you see? Visit the ' +\n",
              "            '<a target=\"_blank\" href=https://colab.research.google.com/notebooks/data_table.ipynb>data table notebook</a>'\n",
              "            + ' to learn more about interactive tables.';\n",
              "          element.innerHTML = '';\n",
              "          dataTable['output_type'] = 'display_data';\n",
              "          await google.colab.output.renderOutput(dataTable, element);\n",
              "          const docLink = document.createElement('div');\n",
              "          docLink.innerHTML = docLinkHtml;\n",
              "          element.appendChild(docLink);\n",
              "        }\n",
              "      </script>\n",
              "    </div>\n",
              "  </div>\n",
              "  "
            ]
          },
          "metadata": {},
          "execution_count": 239
        }
      ]
    },
    {
      "cell_type": "code",
      "source": [
        "df=df.dropna().reset_index(drop=True)"
      ],
      "metadata": {
        "id": "nipUmSca6r7w"
      },
      "execution_count": null,
      "outputs": []
    },
    {
      "cell_type": "code",
      "source": [
        "df"
      ],
      "metadata": {
        "colab": {
          "base_uri": "https://localhost:8080/",
          "height": 424
        },
        "id": "S9bVjO5z56H7",
        "outputId": "ae1f1859-f567-48cf-a42e-a5422ca102e9"
      },
      "execution_count": null,
      "outputs": [
        {
          "output_type": "execute_result",
          "data": {
            "text/plain": [
              "     Clump Thickness  Uniformity of Cell Size  Uniformity of Cell Shape  \\\n",
              "0                  5                        1                         1   \n",
              "1                  5                        4                         4   \n",
              "2                  3                        1                         1   \n",
              "3                  6                        8                         8   \n",
              "4                  4                        1                         1   \n",
              "..               ...                      ...                       ...   \n",
              "678                3                        1                         1   \n",
              "679                2                        1                         1   \n",
              "680                5                       10                        10   \n",
              "681                4                        8                         6   \n",
              "682                4                        8                         8   \n",
              "\n",
              "     Marginal Adhesion  Single Epithelial Cell Size  Bare Nuclei  \\\n",
              "0                    1                            2          1.0   \n",
              "1                    5                            7         10.0   \n",
              "2                    1                            2          2.0   \n",
              "3                    1                            3          4.0   \n",
              "4                    3                            2          1.0   \n",
              "..                 ...                          ...          ...   \n",
              "678                  1                            3          2.0   \n",
              "679                  1                            2          1.0   \n",
              "680                  3                            7          3.0   \n",
              "681                  4                            3          4.0   \n",
              "682                  5                            4          5.0   \n",
              "\n",
              "     Bland Chromatin  Normal Nucleoli  Mitoses  Class  \n",
              "0                  3                1        1      2  \n",
              "1                  3                2        1      2  \n",
              "2                  3                1        1      2  \n",
              "3                  3                7        1      2  \n",
              "4                  3                1        1      2  \n",
              "..               ...              ...      ...    ...  \n",
              "678                1                1        1      2  \n",
              "679                1                1        1      2  \n",
              "680                8               10        2      4  \n",
              "681               10                6        1      4  \n",
              "682               10                4        1      4  \n",
              "\n",
              "[683 rows x 10 columns]"
            ],
            "text/html": [
              "\n",
              "  <div id=\"df-01589949-d8a6-4b6d-9a5c-e00d827ba4e6\">\n",
              "    <div class=\"colab-df-container\">\n",
              "      <div>\n",
              "<style scoped>\n",
              "    .dataframe tbody tr th:only-of-type {\n",
              "        vertical-align: middle;\n",
              "    }\n",
              "\n",
              "    .dataframe tbody tr th {\n",
              "        vertical-align: top;\n",
              "    }\n",
              "\n",
              "    .dataframe thead th {\n",
              "        text-align: right;\n",
              "    }\n",
              "</style>\n",
              "<table border=\"1\" class=\"dataframe\">\n",
              "  <thead>\n",
              "    <tr style=\"text-align: right;\">\n",
              "      <th></th>\n",
              "      <th>Clump Thickness</th>\n",
              "      <th>Uniformity of Cell Size</th>\n",
              "      <th>Uniformity of Cell Shape</th>\n",
              "      <th>Marginal Adhesion</th>\n",
              "      <th>Single Epithelial Cell Size</th>\n",
              "      <th>Bare Nuclei</th>\n",
              "      <th>Bland Chromatin</th>\n",
              "      <th>Normal Nucleoli</th>\n",
              "      <th>Mitoses</th>\n",
              "      <th>Class</th>\n",
              "    </tr>\n",
              "  </thead>\n",
              "  <tbody>\n",
              "    <tr>\n",
              "      <th>0</th>\n",
              "      <td>5</td>\n",
              "      <td>1</td>\n",
              "      <td>1</td>\n",
              "      <td>1</td>\n",
              "      <td>2</td>\n",
              "      <td>1.0</td>\n",
              "      <td>3</td>\n",
              "      <td>1</td>\n",
              "      <td>1</td>\n",
              "      <td>2</td>\n",
              "    </tr>\n",
              "    <tr>\n",
              "      <th>1</th>\n",
              "      <td>5</td>\n",
              "      <td>4</td>\n",
              "      <td>4</td>\n",
              "      <td>5</td>\n",
              "      <td>7</td>\n",
              "      <td>10.0</td>\n",
              "      <td>3</td>\n",
              "      <td>2</td>\n",
              "      <td>1</td>\n",
              "      <td>2</td>\n",
              "    </tr>\n",
              "    <tr>\n",
              "      <th>2</th>\n",
              "      <td>3</td>\n",
              "      <td>1</td>\n",
              "      <td>1</td>\n",
              "      <td>1</td>\n",
              "      <td>2</td>\n",
              "      <td>2.0</td>\n",
              "      <td>3</td>\n",
              "      <td>1</td>\n",
              "      <td>1</td>\n",
              "      <td>2</td>\n",
              "    </tr>\n",
              "    <tr>\n",
              "      <th>3</th>\n",
              "      <td>6</td>\n",
              "      <td>8</td>\n",
              "      <td>8</td>\n",
              "      <td>1</td>\n",
              "      <td>3</td>\n",
              "      <td>4.0</td>\n",
              "      <td>3</td>\n",
              "      <td>7</td>\n",
              "      <td>1</td>\n",
              "      <td>2</td>\n",
              "    </tr>\n",
              "    <tr>\n",
              "      <th>4</th>\n",
              "      <td>4</td>\n",
              "      <td>1</td>\n",
              "      <td>1</td>\n",
              "      <td>3</td>\n",
              "      <td>2</td>\n",
              "      <td>1.0</td>\n",
              "      <td>3</td>\n",
              "      <td>1</td>\n",
              "      <td>1</td>\n",
              "      <td>2</td>\n",
              "    </tr>\n",
              "    <tr>\n",
              "      <th>...</th>\n",
              "      <td>...</td>\n",
              "      <td>...</td>\n",
              "      <td>...</td>\n",
              "      <td>...</td>\n",
              "      <td>...</td>\n",
              "      <td>...</td>\n",
              "      <td>...</td>\n",
              "      <td>...</td>\n",
              "      <td>...</td>\n",
              "      <td>...</td>\n",
              "    </tr>\n",
              "    <tr>\n",
              "      <th>678</th>\n",
              "      <td>3</td>\n",
              "      <td>1</td>\n",
              "      <td>1</td>\n",
              "      <td>1</td>\n",
              "      <td>3</td>\n",
              "      <td>2.0</td>\n",
              "      <td>1</td>\n",
              "      <td>1</td>\n",
              "      <td>1</td>\n",
              "      <td>2</td>\n",
              "    </tr>\n",
              "    <tr>\n",
              "      <th>679</th>\n",
              "      <td>2</td>\n",
              "      <td>1</td>\n",
              "      <td>1</td>\n",
              "      <td>1</td>\n",
              "      <td>2</td>\n",
              "      <td>1.0</td>\n",
              "      <td>1</td>\n",
              "      <td>1</td>\n",
              "      <td>1</td>\n",
              "      <td>2</td>\n",
              "    </tr>\n",
              "    <tr>\n",
              "      <th>680</th>\n",
              "      <td>5</td>\n",
              "      <td>10</td>\n",
              "      <td>10</td>\n",
              "      <td>3</td>\n",
              "      <td>7</td>\n",
              "      <td>3.0</td>\n",
              "      <td>8</td>\n",
              "      <td>10</td>\n",
              "      <td>2</td>\n",
              "      <td>4</td>\n",
              "    </tr>\n",
              "    <tr>\n",
              "      <th>681</th>\n",
              "      <td>4</td>\n",
              "      <td>8</td>\n",
              "      <td>6</td>\n",
              "      <td>4</td>\n",
              "      <td>3</td>\n",
              "      <td>4.0</td>\n",
              "      <td>10</td>\n",
              "      <td>6</td>\n",
              "      <td>1</td>\n",
              "      <td>4</td>\n",
              "    </tr>\n",
              "    <tr>\n",
              "      <th>682</th>\n",
              "      <td>4</td>\n",
              "      <td>8</td>\n",
              "      <td>8</td>\n",
              "      <td>5</td>\n",
              "      <td>4</td>\n",
              "      <td>5.0</td>\n",
              "      <td>10</td>\n",
              "      <td>4</td>\n",
              "      <td>1</td>\n",
              "      <td>4</td>\n",
              "    </tr>\n",
              "  </tbody>\n",
              "</table>\n",
              "<p>683 rows × 10 columns</p>\n",
              "</div>\n",
              "      <button class=\"colab-df-convert\" onclick=\"convertToInteractive('df-01589949-d8a6-4b6d-9a5c-e00d827ba4e6')\"\n",
              "              title=\"Convert this dataframe to an interactive table.\"\n",
              "              style=\"display:none;\">\n",
              "        \n",
              "  <svg xmlns=\"http://www.w3.org/2000/svg\" height=\"24px\"viewBox=\"0 0 24 24\"\n",
              "       width=\"24px\">\n",
              "    <path d=\"M0 0h24v24H0V0z\" fill=\"none\"/>\n",
              "    <path d=\"M18.56 5.44l.94 2.06.94-2.06 2.06-.94-2.06-.94-.94-2.06-.94 2.06-2.06.94zm-11 1L8.5 8.5l.94-2.06 2.06-.94-2.06-.94L8.5 2.5l-.94 2.06-2.06.94zm10 10l.94 2.06.94-2.06 2.06-.94-2.06-.94-.94-2.06-.94 2.06-2.06.94z\"/><path d=\"M17.41 7.96l-1.37-1.37c-.4-.4-.92-.59-1.43-.59-.52 0-1.04.2-1.43.59L10.3 9.45l-7.72 7.72c-.78.78-.78 2.05 0 2.83L4 21.41c.39.39.9.59 1.41.59.51 0 1.02-.2 1.41-.59l7.78-7.78 2.81-2.81c.8-.78.8-2.07 0-2.86zM5.41 20L4 18.59l7.72-7.72 1.47 1.35L5.41 20z\"/>\n",
              "  </svg>\n",
              "      </button>\n",
              "      \n",
              "  <style>\n",
              "    .colab-df-container {\n",
              "      display:flex;\n",
              "      flex-wrap:wrap;\n",
              "      gap: 12px;\n",
              "    }\n",
              "\n",
              "    .colab-df-convert {\n",
              "      background-color: #E8F0FE;\n",
              "      border: none;\n",
              "      border-radius: 50%;\n",
              "      cursor: pointer;\n",
              "      display: none;\n",
              "      fill: #1967D2;\n",
              "      height: 32px;\n",
              "      padding: 0 0 0 0;\n",
              "      width: 32px;\n",
              "    }\n",
              "\n",
              "    .colab-df-convert:hover {\n",
              "      background-color: #E2EBFA;\n",
              "      box-shadow: 0px 1px 2px rgba(60, 64, 67, 0.3), 0px 1px 3px 1px rgba(60, 64, 67, 0.15);\n",
              "      fill: #174EA6;\n",
              "    }\n",
              "\n",
              "    [theme=dark] .colab-df-convert {\n",
              "      background-color: #3B4455;\n",
              "      fill: #D2E3FC;\n",
              "    }\n",
              "\n",
              "    [theme=dark] .colab-df-convert:hover {\n",
              "      background-color: #434B5C;\n",
              "      box-shadow: 0px 1px 3px 1px rgba(0, 0, 0, 0.15);\n",
              "      filter: drop-shadow(0px 1px 2px rgba(0, 0, 0, 0.3));\n",
              "      fill: #FFFFFF;\n",
              "    }\n",
              "  </style>\n",
              "\n",
              "      <script>\n",
              "        const buttonEl =\n",
              "          document.querySelector('#df-01589949-d8a6-4b6d-9a5c-e00d827ba4e6 button.colab-df-convert');\n",
              "        buttonEl.style.display =\n",
              "          google.colab.kernel.accessAllowed ? 'block' : 'none';\n",
              "\n",
              "        async function convertToInteractive(key) {\n",
              "          const element = document.querySelector('#df-01589949-d8a6-4b6d-9a5c-e00d827ba4e6');\n",
              "          const dataTable =\n",
              "            await google.colab.kernel.invokeFunction('convertToInteractive',\n",
              "                                                     [key], {});\n",
              "          if (!dataTable) return;\n",
              "\n",
              "          const docLinkHtml = 'Like what you see? Visit the ' +\n",
              "            '<a target=\"_blank\" href=https://colab.research.google.com/notebooks/data_table.ipynb>data table notebook</a>'\n",
              "            + ' to learn more about interactive tables.';\n",
              "          element.innerHTML = '';\n",
              "          dataTable['output_type'] = 'display_data';\n",
              "          await google.colab.output.renderOutput(dataTable, element);\n",
              "          const docLink = document.createElement('div');\n",
              "          docLink.innerHTML = docLinkHtml;\n",
              "          element.appendChild(docLink);\n",
              "        }\n",
              "      </script>\n",
              "    </div>\n",
              "  </div>\n",
              "  "
            ]
          },
          "metadata": {},
          "execution_count": 241
        }
      ]
    },
    {
      "cell_type": "markdown",
      "source": [
        "2.3"
      ],
      "metadata": {
        "id": "VVLXQyd-23hQ"
      }
    },
    {
      "cell_type": "code",
      "source": [
        "print(df.groupby('Class').size())"
      ],
      "metadata": {
        "colab": {
          "base_uri": "https://localhost:8080/"
        },
        "id": "nPGtxc6U24iw",
        "outputId": "468d8adf-c3a8-4f09-9d9d-639f249a0d0a"
      },
      "execution_count": null,
      "outputs": [
        {
          "output_type": "stream",
          "name": "stdout",
          "text": [
            "Class\n",
            "2    444\n",
            "4    239\n",
            "dtype: int64\n"
          ]
        }
      ]
    },
    {
      "cell_type": "code",
      "source": [
        "%matplotlib inline\n",
        "import seaborn as sns\n",
        "import matplotlib.pyplot as plt\n",
        "\n",
        "\n",
        "sns.countplot(x=\"Class\", data=df)\n",
        "plt.title(\"Cancer\")\n",
        "plt.xlabel(\"Type\")\n",
        "plt.ylabel(\"Counts\")\n",
        "plt.show()"
      ],
      "metadata": {
        "colab": {
          "base_uri": "https://localhost:8080/",
          "height": 295
        },
        "id": "px9s1JD83Cwg",
        "outputId": "15d9d67d-a754-471d-e254-42eb96e0063f"
      },
      "execution_count": null,
      "outputs": [
        {
          "output_type": "display_data",
          "data": {
            "text/plain": [
              "<Figure size 432x288 with 1 Axes>"
            ],
            "image/png": "[encoded data removed]"
          },
          "metadata": {
            "needs_background": "light"
          }
        }
      ]
    },
    {
      "cell_type": "code",
      "source": [
        "import numpy as np\n",
        "df_np = df.to_numpy()\n",
        "x=df_np[:,:-1]\n",
        "y=df_np[:,-1]"
      ],
      "metadata": {
        "id": "l4lJE-zi3NbB"
      },
      "execution_count": null,
      "outputs": []
    },
    {
      "cell_type": "code",
      "source": [
        "print(x[:10])\n",
        "print(f'y = {y[:10]}')"
      ],
      "metadata": {
        "colab": {
          "base_uri": "https://localhost:8080/"
        },
        "id": "wXbTGcwO3S1A",
        "outputId": "82976f30-a04e-4acd-cdca-610dab7e408e"
      },
      "execution_count": null,
      "outputs": [
        {
          "output_type": "stream",
          "name": "stdout",
          "text": [
            "[[ 5.  1.  1.  1.  2.  1.  3.  1.  1.]\n",
            " [ 5.  4.  4.  5.  7. 10.  3.  2.  1.]\n",
            " [ 3.  1.  1.  1.  2.  2.  3.  1.  1.]\n",
            " [ 6.  8.  8.  1.  3.  4.  3.  7.  1.]\n",
            " [ 4.  1.  1.  3.  2.  1.  3.  1.  1.]\n",
            " [ 8. 10. 10.  8.  7. 10.  9.  7.  1.]\n",
            " [ 1.  1.  1.  1.  2. 10.  3.  1.  1.]\n",
            " [ 2.  1.  2.  1.  2.  1.  3.  1.  1.]\n",
            " [ 2.  1.  1.  1.  2.  1.  1.  1.  5.]\n",
            " [ 4.  2.  1.  1.  2.  1.  2.  1.  1.]]\n",
            "y = [2. 2. 2. 2. 2. 4. 2. 2. 2. 2.]\n"
          ]
        }
      ]
    },
    {
      "cell_type": "code",
      "source": [
        "import collections\n",
        "collections.Counter(y)"
      ],
      "metadata": {
        "colab": {
          "base_uri": "https://localhost:8080/"
        },
        "id": "PMWmG3kr3YGg",
        "outputId": "79f0db69-a769-4f21-906d-c4e37277859a"
      },
      "execution_count": null,
      "outputs": [
        {
          "output_type": "execute_result",
          "data": {
            "text/plain": [
              "Counter({2.0: 444, 4.0: 239})"
            ]
          },
          "metadata": {},
          "execution_count": 246
        }
      ]
    },
    {
      "cell_type": "code",
      "source": [
        "from sklearn.model_selection import train_test_split # suddivide le osservazioni nei due insiemi\n",
        "\n",
        "X_train, X_test, y_train, y_test = train_test_split(x, y, \n",
        "                                                    test_size = 0.30, # by default is 75%-25%\n",
        "                                                    # shuffle is set True by default,\n",
        "                                                    stratify = y, # per mantenere le proporzioni che ci sono nei dati di partenza\n",
        "                                                    random_state = 123) # fix random seed for replicability"
      ],
      "metadata": {
        "id": "v_JojzHb3tEA"
      },
      "execution_count": null,
      "outputs": []
    },
    {
      "cell_type": "code",
      "source": [
        "X_train.shape,y_train.shape,X_test.shape,y_test.shape"
      ],
      "metadata": {
        "colab": {
          "base_uri": "https://localhost:8080/"
        },
        "id": "z-mhMlZ53u0w",
        "outputId": "abc04716-497d-4891-eca4-19123c131ac9"
      },
      "execution_count": null,
      "outputs": [
        {
          "output_type": "execute_result",
          "data": {
            "text/plain": [
              "((478, 9), (478,), (205, 9), (205,))"
            ]
          },
          "metadata": {},
          "execution_count": 248
        }
      ]
    },
    {
      "cell_type": "code",
      "source": [
        "np.set_printoptions(suppress=True)\n",
        "print(X_train[:10])\n",
        "print(f'y_train = {y_train[:10]}')"
      ],
      "metadata": {
        "colab": {
          "base_uri": "https://localhost:8080/"
        },
        "id": "bfRwv6a135XB",
        "outputId": "4d205c26-7cdf-4b4d-f05e-9ee340f444cd"
      },
      "execution_count": null,
      "outputs": [
        {
          "output_type": "stream",
          "name": "stdout",
          "text": [
            "[[ 8. 10. 10.  8.  6.  9.  3. 10. 10.]\n",
            " [ 3.  2.  2.  1.  2.  1.  2.  3.  1.]\n",
            " [ 1.  1.  1.  1.  2.  1.  3.  1.  1.]\n",
            " [ 1.  1.  1.  1.  1.  1.  1.  1.  1.]\n",
            " [ 1.  1.  3.  2.  2.  1.  3.  1.  1.]\n",
            " [ 3. 10.  7.  8.  5.  8.  7.  4.  1.]\n",
            " [ 5. 10. 10. 10. 10.  2. 10. 10. 10.]\n",
            " [ 1.  1.  1.  3.  2.  1.  1.  1.  1.]\n",
            " [ 7.  8.  3.  7.  4.  5.  7.  8.  2.]\n",
            " [ 7.  4.  5. 10.  2. 10.  3.  8.  2.]]\n",
            "y_train = [4. 2. 2. 2. 2. 4. 4. 2. 4. 4.]\n"
          ]
        }
      ]
    },
    {
      "cell_type": "code",
      "source": [
        "from sklearn.neighbors import KNeighborsClassifier\n",
        "acc = []\n",
        "# Will take some time\n",
        "from sklearn import metrics\n",
        "for i in range(1,40):\n",
        "    neigh = KNeighborsClassifier(n_neighbors = i).fit(X_train,y_train)\n",
        "    yhat = neigh.predict(X_test)\n",
        "    acc.append(metrics.accuracy_score(y_test, yhat))\n",
        "    \n",
        "plt.figure(figsize=(10,6))\n",
        "plt.plot(range(1,40),acc,color = 'blue',linestyle='dashed', \n",
        "         marker='o',markerfacecolor='red', markersize=10)\n",
        "plt.title('accuracy vs. K Value')\n",
        "plt.xlabel('K')\n",
        "plt.ylabel('Accuracy')\n",
        "print(\"Maximum accuracy:-\",max(acc),\"at K =\",acc.index(max(acc)) + 1 )"
      ],
      "metadata": {
        "colab": {
          "base_uri": "https://localhost:8080/",
          "height": 421
        },
        "id": "NK3EoMlo3a24",
        "outputId": "ff591a29-180c-4ce4-f68f-42f45caa1233"
      },
      "execution_count": null,
      "outputs": [
        {
          "output_type": "stream",
          "name": "stdout",
          "text": [
            "Maximum accuracy:- 0.975609756097561 at K = 5\n"
          ]
        },
        {
          "output_type": "display_data",
          "data": {
            "text/plain": [
              "<Figure size 720x432 with 1 Axes>"
            ],
            "image/png": "[encoded data removed]"
          },
          "metadata": {
            "needs_background": "light"
          }
        }
      ]
    },
    {
      "cell_type": "code",
      "source": [
        "# importiamo il metodo di classificazione K-NN\n",
        "from sklearn.neighbors import KNeighborsClassifier\n",
        "\n",
        "neigh = KNeighborsClassifier(n_neighbors=5)\n",
        "\n",
        "# \"alleniamo\" il metodo con i dati del training set\n",
        "neigh.fit(X_train, y_train)\n",
        "\n",
        "# proviamo a fare una previsione sui dati del test set\n",
        "predict_knn = neigh.predict(X_test)"
      ],
      "metadata": {
        "id": "mJ9c2JF46xjY"
      },
      "execution_count": null,
      "outputs": []
    },
    {
      "cell_type": "code",
      "source": [
        "print(f'dati predetti dal metodo =                {predict_knn[:10]}')\n",
        "print(f'dati reali presenti nel dataset di test = {y_test[:10]}')"
      ],
      "metadata": {
        "colab": {
          "base_uri": "https://localhost:8080/"
        },
        "id": "ef2FFr3R64LQ",
        "outputId": "0d02daba-a174-4a96-fabb-8031f617f011"
      },
      "execution_count": null,
      "outputs": [
        {
          "output_type": "stream",
          "name": "stdout",
          "text": [
            "dati predetti dal metodo =                [4. 2. 2. 4. 4. 2. 2. 4. 4. 2.]\n",
            "dati reali presenti nel dataset di test = [4. 2. 2. 4. 4. 2. 2. 4. 4. 2.]\n"
          ]
        }
      ]
    },
    {
      "cell_type": "code",
      "source": [
        "# valutiamo il nostro metodo:\n",
        "from mlxtend.plotting import plot_confusion_matrix\n",
        "from matplotlib import pyplot as plt\n",
        "from sklearn.metrics import confusion_matrix, classification_report\n",
        "# visualizziamo la confusion matrix\n",
        "plot_confusion_matrix(confusion_matrix(y_test, predict_knn), cmap=plt.cm.cool)\n",
        "plt.show()"
      ],
      "metadata": {
        "colab": {
          "base_uri": "https://localhost:8080/",
          "height": 279
        },
        "id": "GierX4D167UI",
        "outputId": "ec77bb34-7b42-4eff-c444-4fac43393a5f"
      },
      "execution_count": null,
      "outputs": [
        {
          "output_type": "display_data",
          "data": {
            "text/plain": [
              "<Figure size 432x288 with 1 Axes>"
            ],
            "image/png": "[encoded data removed]"
          },
          "metadata": {
            "needs_background": "light"
          }
        }
      ]
    },
    {
      "cell_type": "code",
      "source": [
        "# visualizziamo adesso gli indicatori\n",
        "print(classification_report(y_test, predict_knn))"
      ],
      "metadata": {
        "colab": {
          "base_uri": "https://localhost:8080/"
        },
        "id": "xC0FWOXA7CZQ",
        "outputId": "d6f8784b-1bc4-4e83-bed4-77f316e095c9"
      },
      "execution_count": null,
      "outputs": [
        {
          "output_type": "stream",
          "name": "stdout",
          "text": [
            "              precision    recall  f1-score   support\n",
            "\n",
            "         2.0       0.98      0.98      0.98       133\n",
            "         4.0       0.96      0.97      0.97        72\n",
            "\n",
            "    accuracy                           0.98       205\n",
            "   macro avg       0.97      0.97      0.97       205\n",
            "weighted avg       0.98      0.98      0.98       205\n",
            "\n"
          ]
        }
      ]
    },
    {
      "cell_type": "markdown",
      "source": [
        "2.4"
      ],
      "metadata": {
        "id": "OUkdGe957VYA"
      }
    },
    {
      "cell_type": "code",
      "source": [
        "input = [[10,10,10,10,5,10,10,10,7]]\n",
        "predictInput = neigh.predict(input)\n",
        "predictInput"
      ],
      "metadata": {
        "colab": {
          "base_uri": "https://localhost:8080/"
        },
        "id": "F3pUn2Xj7KeY",
        "outputId": "3a6da3c8-86a3-4d59-b29b-88a6fdc27223"
      },
      "execution_count": null,
      "outputs": [
        {
          "output_type": "execute_result",
          "data": {
            "text/plain": [
              "array([4.])"
            ]
          },
          "metadata": {},
          "execution_count": 255
        }
      ]
    },
    {
      "cell_type": "markdown",
      "source": [
        "2.5"
      ],
      "metadata": {
        "id": "leAlAwdx7syR"
      }
    },
    {
      "cell_type": "code",
      "source": [
        "# importiamo il metodo che vogliamo utilizzara (tra i tanti disponibili...)\n",
        "from sklearn import tree\n",
        "\n",
        "# impostiamo i parametri del metodo\n",
        "# https://scikit-learn.org/stable/modules/generated/sklearn.tree.DecisionTreeClassifier.html\n",
        "tree_clf = tree.DecisionTreeClassifier(criterion=\"gini\", # criteri per stabilire come splittare\n",
        "                                       max_depth=4, # profondità dell'albero per evitare l'overfitting\n",
        "                                       min_samples_split=30, # dimensione minima del sottogruppo a cui fermarsi (no more split)\n",
        "                                       max_leaf_nodes=6, # numero dei nodi foglia\n",
        "                                       min_samples_leaf=4 # numero di campioni per essere una foglia\n",
        "                                      )\n",
        "\n",
        "# prima parte: dobbiamo fare in modo che il metodo impari dalle informazioni a disposizione\n",
        "tree_clf.fit(X_train,y_train)\n",
        "\n",
        "# seconda parte: vediamo se il metodo ha imparato bene facendogli prevedere i risultati \n",
        "predict_dt = tree_clf.predict(X_test)\n"
      ],
      "metadata": {
        "id": "QhNYwTkA7uQQ"
      },
      "execution_count": null,
      "outputs": []
    },
    {
      "cell_type": "code",
      "source": [
        "print(f'dati predetti dal metodo =                {predict_dt[:10]}') # dati predetti dal metodo\n",
        "print(f'dati reali presenti nel dataset di test = {y_test[:10]}') # dati effettivi presenti nel test set"
      ],
      "metadata": {
        "colab": {
          "base_uri": "https://localhost:8080/"
        },
        "id": "LQ95nixi7-74",
        "outputId": "2c4d592b-5711-417a-8490-1159df3236a3"
      },
      "execution_count": null,
      "outputs": [
        {
          "output_type": "stream",
          "name": "stdout",
          "text": [
            "dati predetti dal metodo =                [2. 4. 2. 4. 4. 2. 2. 4. 4. 2.]\n",
            "dati reali presenti nel dataset di test = [4. 2. 2. 4. 4. 2. 2. 4. 4. 2.]\n"
          ]
        }
      ]
    },
    {
      "cell_type": "code",
      "source": [
        "#plots IMPORTS\n",
        "from mlxtend.plotting import plot_confusion_matrix\n",
        "from matplotlib import pyplot as plt\n",
        "from sklearn.metrics import confusion_matrix, classification_report\n",
        "\n",
        "plot_confusion_matrix(confusion_matrix(y_test, predict_dt), cmap=plt.cm.cool)\n",
        "plt.show() # DecisionTree"
      ],
      "metadata": {
        "colab": {
          "base_uri": "https://localhost:8080/",
          "height": 279
        },
        "id": "jwXYuyDv7yaY",
        "outputId": "ee50b1f9-e4c9-4d53-c397-a64e336acf83"
      },
      "execution_count": null,
      "outputs": [
        {
          "output_type": "display_data",
          "data": {
            "text/plain": [
              "<Figure size 432x288 with 1 Axes>"
            ],
            "image/png": "[encoded data removed]"
          },
          "metadata": {
            "needs_background": "light"
          }
        }
      ]
    },
    {
      "cell_type": "code",
      "source": [
        "print(classification_report(y_test, predict_dt))"
      ],
      "metadata": {
        "colab": {
          "base_uri": "https://localhost:8080/"
        },
        "id": "FpSskZuu7y8g",
        "outputId": "7bc7ccdb-6185-44ce-e1dd-34b52e893bd4"
      },
      "execution_count": null,
      "outputs": [
        {
          "output_type": "stream",
          "name": "stdout",
          "text": [
            "              precision    recall  f1-score   support\n",
            "\n",
            "         2.0       0.95      0.93      0.94       133\n",
            "         4.0       0.88      0.90      0.89        72\n",
            "\n",
            "    accuracy                           0.92       205\n",
            "   macro avg       0.91      0.92      0.91       205\n",
            "weighted avg       0.92      0.92      0.92       205\n",
            "\n"
          ]
        }
      ]
    },
    {
      "cell_type": "code",
      "source": [
        "#save the feature list into a vector (sono i nomi delle colonne del dataset)\n",
        "features=list(df.columns.values)\n",
        "\n",
        "import graphviz\n",
        "dot_data = tree.export_graphviz(tree_clf, out_file=None, \n",
        "                     feature_names=features[:-1],  \n",
        "                     class_names=['0', '1'],  \n",
        "                     filled=True, rounded=True,  \n",
        "                     special_characters=True)  \n",
        "graph = graphviz.Source(dot_data)\n",
        "graph.render('Cancer')\n",
        "graph"
      ],
      "metadata": {
        "colab": {
          "base_uri": "https://localhost:8080/",
          "height": 757
        },
        "id": "rDc-ObPB8DII",
        "outputId": "64e7cf29-4bc3-402c-8f0f-d441bfd1abe9"
      },
      "execution_count": null,
      "outputs": [
        {
          "output_type": "execute_result",
          "data": {
            "text/plain": [
              "<graphviz.files.Source at 0x7fe9d017f970>"
            ],
            "image/svg+xml": "<?xml version=\"1.0\" encoding=\"UTF-8\" standalone=\"no\"?>\n<!DOCTYPE svg PUBLIC \"-//W3C//DTD SVG 1.1//EN\"\n \"http://www.w3.org/Graphics/SVG/1.1/DTD/svg11.dtd\">\n<!-- Generated by graphviz version 2.43.0 (0)\n -->\n<!-- Title: Tree Pages: 1 -->\n<svg width=\"606pt\" height=\"552pt\"\n viewBox=\"0.00 0.00 606.00 552.00\" xmlns=\"http://www.w3.org/2000/svg\" xmlns:xlink=\"http://www.w3.org/1999/xlink\">\n<g id=\"graph0\" class=\"graph\" transform=\"scale(1 1) rotate(0) translate(4 548)\">\n<title>Tree</title>\n<polygon fill=\"white\" stroke=\"transparent\" points=\"-4,4 -4,-548 602,-548 602,4 -4,4\"/>\n<!-- 0 -->\n<g id=\"node1\" class=\"node\">\n<title>0</title>\n<path fill=\"#f3c5a3\" stroke=\"black\" d=\"M323,-544C323,-544 163,-544 163,-544 157,-544 151,-538 151,-532 151,-532 151,-473 151,-473 151,-467 157,-461 163,-461 163,-461 323,-461 323,-461 329,-461 335,-467 335,-473 335,-473 335,-532 335,-532 335,-538 329,-544 323,-544\"/>\n<text text-anchor=\"start\" x=\"159\" y=\"-528.8\" font-family=\"Helvetica,sans-Serif\" font-size=\"14.00\">Uniformity of Cell Size ≤ 2.5</text>\n<text text-anchor=\"start\" x=\"207.5\" y=\"-513.8\" font-family=\"Helvetica,sans-Serif\" font-size=\"14.00\">gini = 0.455</text>\n<text text-anchor=\"start\" x=\"198\" y=\"-498.8\" font-family=\"Helvetica,sans-Serif\" font-size=\"14.00\">samples = 478</text>\n<text text-anchor=\"start\" x=\"188.5\" y=\"-483.8\" font-family=\"Helvetica,sans-Serif\" font-size=\"14.00\">value = [311, 167]</text>\n<text text-anchor=\"start\" x=\"215.5\" y=\"-468.8\" font-family=\"Helvetica,sans-Serif\" font-size=\"14.00\">class = 0</text>\n</g>\n<!-- 1 -->\n<g id=\"node2\" class=\"node\">\n<title>1</title>\n<path fill=\"#e6853f\" stroke=\"black\" d=\"M229,-425C229,-425 107,-425 107,-425 101,-425 95,-419 95,-413 95,-413 95,-354 95,-354 95,-348 101,-342 107,-342 107,-342 229,-342 229,-342 235,-342 241,-348 241,-354 241,-354 241,-413 241,-413 241,-419 235,-425 229,-425\"/>\n<text text-anchor=\"start\" x=\"103\" y=\"-409.8\" font-family=\"Helvetica,sans-Serif\" font-size=\"14.00\">Normal Nucleoli ≤ 3.5</text>\n<text text-anchor=\"start\" x=\"132.5\" y=\"-394.8\" font-family=\"Helvetica,sans-Serif\" font-size=\"14.00\">gini = 0.053</text>\n<text text-anchor=\"start\" x=\"123\" y=\"-379.8\" font-family=\"Helvetica,sans-Serif\" font-size=\"14.00\">samples = 294</text>\n<text text-anchor=\"start\" x=\"121\" y=\"-364.8\" font-family=\"Helvetica,sans-Serif\" font-size=\"14.00\">value = [286, 8]</text>\n<text text-anchor=\"start\" x=\"140.5\" y=\"-349.8\" font-family=\"Helvetica,sans-Serif\" font-size=\"14.00\">class = 0</text>\n</g>\n<!-- 0&#45;&gt;1 -->\n<g id=\"edge1\" class=\"edge\">\n<title>0&#45;&gt;1</title>\n<path fill=\"none\" stroke=\"black\" d=\"M216.98,-460.91C211.34,-452.1 205.31,-442.7 199.48,-433.61\"/>\n<polygon fill=\"black\" stroke=\"black\" points=\"202.32,-431.55 193.97,-425.02 196.43,-435.33 202.32,-431.55\"/>\n<text text-anchor=\"middle\" x=\"188.63\" y=\"-445.74\" font-family=\"Helvetica,sans-Serif\" font-size=\"14.00\">True</text>\n</g>\n<!-- 2 -->\n<g id=\"node5\" class=\"node\">\n<title>2</title>\n<path fill=\"#58ace9\" stroke=\"black\" d=\"M367,-425C367,-425 271,-425 271,-425 265,-425 259,-419 259,-413 259,-413 259,-354 259,-354 259,-348 265,-342 271,-342 271,-342 367,-342 367,-342 373,-342 379,-348 379,-354 379,-354 379,-413 379,-413 379,-419 373,-425 367,-425\"/>\n<text text-anchor=\"start\" x=\"267\" y=\"-409.8\" font-family=\"Helvetica,sans-Serif\" font-size=\"14.00\">Bare Nuclei ≤ 1.5</text>\n<text text-anchor=\"start\" x=\"283.5\" y=\"-394.8\" font-family=\"Helvetica,sans-Serif\" font-size=\"14.00\">gini = 0.235</text>\n<text text-anchor=\"start\" x=\"274\" y=\"-379.8\" font-family=\"Helvetica,sans-Serif\" font-size=\"14.00\">samples = 184</text>\n<text text-anchor=\"start\" x=\"268.5\" y=\"-364.8\" font-family=\"Helvetica,sans-Serif\" font-size=\"14.00\">value = [25, 159]</text>\n<text text-anchor=\"start\" x=\"291.5\" y=\"-349.8\" font-family=\"Helvetica,sans-Serif\" font-size=\"14.00\">class = 1</text>\n</g>\n<!-- 0&#45;&gt;2 -->\n<g id=\"edge4\" class=\"edge\">\n<title>0&#45;&gt;2</title>\n<path fill=\"none\" stroke=\"black\" d=\"M269.37,-460.91C275.09,-452.1 281.19,-442.7 287.1,-433.61\"/>\n<polygon fill=\"black\" stroke=\"black\" points=\"290.17,-435.31 292.68,-425.02 284.3,-431.5 290.17,-435.31\"/>\n<text text-anchor=\"middle\" x=\"297.87\" y=\"-445.78\" font-family=\"Helvetica,sans-Serif\" font-size=\"14.00\">False</text>\n</g>\n<!-- 5 -->\n<g id=\"node3\" class=\"node\">\n<title>5</title>\n<path fill=\"#e5823a\" stroke=\"black\" d=\"M98,-298.5C98,-298.5 12,-298.5 12,-298.5 6,-298.5 0,-292.5 0,-286.5 0,-286.5 0,-242.5 0,-242.5 0,-236.5 6,-230.5 12,-230.5 12,-230.5 98,-230.5 98,-230.5 104,-230.5 110,-236.5 110,-242.5 110,-242.5 110,-286.5 110,-286.5 110,-292.5 104,-298.5 98,-298.5\"/>\n<text text-anchor=\"start\" x=\"19.5\" y=\"-283.3\" font-family=\"Helvetica,sans-Serif\" font-size=\"14.00\">gini = 0.014</text>\n<text text-anchor=\"start\" x=\"10\" y=\"-268.3\" font-family=\"Helvetica,sans-Serif\" font-size=\"14.00\">samples = 286</text>\n<text text-anchor=\"start\" x=\"8\" y=\"-253.3\" font-family=\"Helvetica,sans-Serif\" font-size=\"14.00\">value = [284, 2]</text>\n<text text-anchor=\"start\" x=\"27.5\" y=\"-238.3\" font-family=\"Helvetica,sans-Serif\" font-size=\"14.00\">class = 0</text>\n</g>\n<!-- 1&#45;&gt;5 -->\n<g id=\"edge2\" class=\"edge\">\n<title>1&#45;&gt;5</title>\n<path fill=\"none\" stroke=\"black\" d=\"M128.8,-341.91C117.61,-330.32 105.41,-317.7 94.22,-306.11\"/>\n<polygon fill=\"black\" stroke=\"black\" points=\"96.5,-303.43 87.03,-298.67 91.46,-308.29 96.5,-303.43\"/>\n</g>\n<!-- 6 -->\n<g id=\"node4\" class=\"node\">\n<title>6</title>\n<path fill=\"#7bbeee\" stroke=\"black\" d=\"M211.5,-298.5C211.5,-298.5 140.5,-298.5 140.5,-298.5 134.5,-298.5 128.5,-292.5 128.5,-286.5 128.5,-286.5 128.5,-242.5 128.5,-242.5 128.5,-236.5 134.5,-230.5 140.5,-230.5 140.5,-230.5 211.5,-230.5 211.5,-230.5 217.5,-230.5 223.5,-236.5 223.5,-242.5 223.5,-242.5 223.5,-286.5 223.5,-286.5 223.5,-292.5 217.5,-298.5 211.5,-298.5\"/>\n<text text-anchor=\"start\" x=\"140.5\" y=\"-283.3\" font-family=\"Helvetica,sans-Serif\" font-size=\"14.00\">gini = 0.375</text>\n<text text-anchor=\"start\" x=\"138.5\" y=\"-268.3\" font-family=\"Helvetica,sans-Serif\" font-size=\"14.00\">samples = 8</text>\n<text text-anchor=\"start\" x=\"136.5\" y=\"-253.3\" font-family=\"Helvetica,sans-Serif\" font-size=\"14.00\">value = [2, 6]</text>\n<text text-anchor=\"start\" x=\"148.5\" y=\"-238.3\" font-family=\"Helvetica,sans-Serif\" font-size=\"14.00\">class = 1</text>\n</g>\n<!-- 1&#45;&gt;6 -->\n<g id=\"edge3\" class=\"edge\">\n<title>1&#45;&gt;6</title>\n<path fill=\"none\" stroke=\"black\" d=\"M170.78,-341.91C171.51,-331.2 172.3,-319.62 173.04,-308.78\"/>\n<polygon fill=\"black\" stroke=\"black\" points=\"176.54,-308.88 173.73,-298.67 169.56,-308.4 176.54,-308.88\"/>\n</g>\n<!-- 3 -->\n<g id=\"node6\" class=\"node\">\n<title>3</title>\n<path fill=\"#f4cbad\" stroke=\"black\" d=\"M355,-298.5C355,-298.5 269,-298.5 269,-298.5 263,-298.5 257,-292.5 257,-286.5 257,-286.5 257,-242.5 257,-242.5 257,-236.5 263,-230.5 269,-230.5 269,-230.5 355,-230.5 355,-230.5 361,-230.5 367,-236.5 367,-242.5 367,-242.5 367,-286.5 367,-286.5 367,-292.5 361,-298.5 355,-298.5\"/>\n<text text-anchor=\"start\" x=\"276.5\" y=\"-283.3\" font-family=\"Helvetica,sans-Serif\" font-size=\"14.00\">gini = 0.466</text>\n<text text-anchor=\"start\" x=\"271\" y=\"-268.3\" font-family=\"Helvetica,sans-Serif\" font-size=\"14.00\">samples = 27</text>\n<text text-anchor=\"start\" x=\"265\" y=\"-253.3\" font-family=\"Helvetica,sans-Serif\" font-size=\"14.00\">value = [17, 10]</text>\n<text text-anchor=\"start\" x=\"284.5\" y=\"-238.3\" font-family=\"Helvetica,sans-Serif\" font-size=\"14.00\">class = 0</text>\n</g>\n<!-- 2&#45;&gt;3 -->\n<g id=\"edge5\" class=\"edge\">\n<title>2&#45;&gt;3</title>\n<path fill=\"none\" stroke=\"black\" d=\"M316.57,-341.91C315.93,-331.2 315.24,-319.62 314.59,-308.78\"/>\n<polygon fill=\"black\" stroke=\"black\" points=\"318.08,-308.44 313.98,-298.67 311.09,-308.86 318.08,-308.44\"/>\n</g>\n<!-- 4 -->\n<g id=\"node7\" class=\"node\">\n<title>4</title>\n<path fill=\"#44a2e6\" stroke=\"black\" d=\"M557,-306C557,-306 397,-306 397,-306 391,-306 385,-300 385,-294 385,-294 385,-235 385,-235 385,-229 391,-223 397,-223 397,-223 557,-223 557,-223 563,-223 569,-229 569,-235 569,-235 569,-294 569,-294 569,-300 563,-306 557,-306\"/>\n<text text-anchor=\"start\" x=\"393\" y=\"-290.8\" font-family=\"Helvetica,sans-Serif\" font-size=\"14.00\">Uniformity of Cell Size ≤ 4.5</text>\n<text text-anchor=\"start\" x=\"441.5\" y=\"-275.8\" font-family=\"Helvetica,sans-Serif\" font-size=\"14.00\">gini = 0.097</text>\n<text text-anchor=\"start\" x=\"432\" y=\"-260.8\" font-family=\"Helvetica,sans-Serif\" font-size=\"14.00\">samples = 157</text>\n<text text-anchor=\"start\" x=\"430\" y=\"-245.8\" font-family=\"Helvetica,sans-Serif\" font-size=\"14.00\">value = [8, 149]</text>\n<text text-anchor=\"start\" x=\"449.5\" y=\"-230.8\" font-family=\"Helvetica,sans-Serif\" font-size=\"14.00\">class = 1</text>\n</g>\n<!-- 2&#45;&gt;4 -->\n<g id=\"edge6\" class=\"edge\">\n<title>2&#45;&gt;4</title>\n<path fill=\"none\" stroke=\"black\" d=\"M373.82,-341.91C386.81,-332.29 400.76,-321.95 414.08,-312.09\"/>\n<polygon fill=\"black\" stroke=\"black\" points=\"416.33,-314.78 422.28,-306.02 412.16,-309.16 416.33,-314.78\"/>\n</g>\n<!-- 7 -->\n<g id=\"node8\" class=\"node\">\n<title>7</title>\n<path fill=\"#61b1ea\" stroke=\"black\" d=\"M458,-187C458,-187 362,-187 362,-187 356,-187 350,-181 350,-175 350,-175 350,-116 350,-116 350,-110 356,-104 362,-104 362,-104 458,-104 458,-104 464,-104 470,-110 470,-116 470,-116 470,-175 470,-175 470,-181 464,-187 458,-187\"/>\n<text text-anchor=\"start\" x=\"358\" y=\"-171.8\" font-family=\"Helvetica,sans-Serif\" font-size=\"14.00\">Bare Nuclei ≤ 7.5</text>\n<text text-anchor=\"start\" x=\"374.5\" y=\"-156.8\" font-family=\"Helvetica,sans-Serif\" font-size=\"14.00\">gini = 0.278</text>\n<text text-anchor=\"start\" x=\"369\" y=\"-141.8\" font-family=\"Helvetica,sans-Serif\" font-size=\"14.00\">samples = 42</text>\n<text text-anchor=\"start\" x=\"367\" y=\"-126.8\" font-family=\"Helvetica,sans-Serif\" font-size=\"14.00\">value = [7, 35]</text>\n<text text-anchor=\"start\" x=\"382.5\" y=\"-111.8\" font-family=\"Helvetica,sans-Serif\" font-size=\"14.00\">class = 1</text>\n</g>\n<!-- 4&#45;&gt;7 -->\n<g id=\"edge7\" class=\"edge\">\n<title>4&#45;&gt;7</title>\n<path fill=\"none\" stroke=\"black\" d=\"M453.75,-222.91C448.77,-214.2 443.44,-204.9 438.29,-195.89\"/>\n<polygon fill=\"black\" stroke=\"black\" points=\"441.21,-193.96 433.2,-187.02 435.14,-197.44 441.21,-193.96\"/>\n</g>\n<!-- 8 -->\n<g id=\"node11\" class=\"node\">\n<title>8</title>\n<path fill=\"#3b9ee5\" stroke=\"black\" d=\"M586,-179.5C586,-179.5 500,-179.5 500,-179.5 494,-179.5 488,-173.5 488,-167.5 488,-167.5 488,-123.5 488,-123.5 488,-117.5 494,-111.5 500,-111.5 500,-111.5 586,-111.5 586,-111.5 592,-111.5 598,-117.5 598,-123.5 598,-123.5 598,-167.5 598,-167.5 598,-173.5 592,-179.5 586,-179.5\"/>\n<text text-anchor=\"start\" x=\"507.5\" y=\"-164.3\" font-family=\"Helvetica,sans-Serif\" font-size=\"14.00\">gini = 0.017</text>\n<text text-anchor=\"start\" x=\"498\" y=\"-149.3\" font-family=\"Helvetica,sans-Serif\" font-size=\"14.00\">samples = 115</text>\n<text text-anchor=\"start\" x=\"496\" y=\"-134.3\" font-family=\"Helvetica,sans-Serif\" font-size=\"14.00\">value = [1, 114]</text>\n<text text-anchor=\"start\" x=\"515.5\" y=\"-119.3\" font-family=\"Helvetica,sans-Serif\" font-size=\"14.00\">class = 1</text>\n</g>\n<!-- 4&#45;&gt;8 -->\n<g id=\"edge10\" class=\"edge\">\n<title>4&#45;&gt;8</title>\n<path fill=\"none\" stroke=\"black\" d=\"M499.9,-222.91C506.19,-211.76 513.01,-199.66 519.34,-188.44\"/>\n<polygon fill=\"black\" stroke=\"black\" points=\"522.43,-190.1 524.29,-179.67 516.33,-186.66 522.43,-190.1\"/>\n</g>\n<!-- 9 -->\n<g id=\"node9\" class=\"node\">\n<title>9</title>\n<path fill=\"#9ccef2\" stroke=\"black\" d=\"M389,-68C389,-68 311,-68 311,-68 305,-68 299,-62 299,-56 299,-56 299,-12 299,-12 299,-6 305,0 311,0 311,0 389,0 389,0 395,0 401,-6 401,-12 401,-12 401,-56 401,-56 401,-62 395,-68 389,-68\"/>\n<text text-anchor=\"start\" x=\"314.5\" y=\"-52.8\" font-family=\"Helvetica,sans-Serif\" font-size=\"14.00\">gini = 0.444</text>\n<text text-anchor=\"start\" x=\"309\" y=\"-37.8\" font-family=\"Helvetica,sans-Serif\" font-size=\"14.00\">samples = 18</text>\n<text text-anchor=\"start\" x=\"307\" y=\"-22.8\" font-family=\"Helvetica,sans-Serif\" font-size=\"14.00\">value = [6, 12]</text>\n<text text-anchor=\"start\" x=\"322.5\" y=\"-7.8\" font-family=\"Helvetica,sans-Serif\" font-size=\"14.00\">class = 1</text>\n</g>\n<!-- 7&#45;&gt;9 -->\n<g id=\"edge8\" class=\"edge\">\n<title>7&#45;&gt;9</title>\n<path fill=\"none\" stroke=\"black\" d=\"M387.66,-103.73C382.91,-95.06 377.89,-85.9 373.11,-77.18\"/>\n<polygon fill=\"black\" stroke=\"black\" points=\"376.12,-75.39 368.25,-68.3 369.98,-78.75 376.12,-75.39\"/>\n</g>\n<!-- 10 -->\n<g id=\"node10\" class=\"node\">\n<title>10</title>\n<path fill=\"#42a1e6\" stroke=\"black\" d=\"M509,-68C509,-68 431,-68 431,-68 425,-68 419,-62 419,-56 419,-56 419,-12 419,-12 419,-6 425,0 431,0 431,0 509,0 509,0 515,0 521,-6 521,-12 521,-12 521,-56 521,-56 521,-62 515,-68 509,-68\"/>\n<text text-anchor=\"start\" x=\"438\" y=\"-52.8\" font-family=\"Helvetica,sans-Serif\" font-size=\"14.00\">gini = 0.08</text>\n<text text-anchor=\"start\" x=\"429\" y=\"-37.8\" font-family=\"Helvetica,sans-Serif\" font-size=\"14.00\">samples = 24</text>\n<text text-anchor=\"start\" x=\"427\" y=\"-22.8\" font-family=\"Helvetica,sans-Serif\" font-size=\"14.00\">value = [1, 23]</text>\n<text text-anchor=\"start\" x=\"442.5\" y=\"-7.8\" font-family=\"Helvetica,sans-Serif\" font-size=\"14.00\">class = 1</text>\n</g>\n<!-- 7&#45;&gt;10 -->\n<g id=\"edge9\" class=\"edge\">\n<title>7&#45;&gt;10</title>\n<path fill=\"none\" stroke=\"black\" d=\"M432.34,-103.73C437.09,-95.06 442.11,-85.9 446.89,-77.18\"/>\n<polygon fill=\"black\" stroke=\"black\" points=\"450.02,-78.75 451.75,-68.3 443.88,-75.39 450.02,-78.75\"/>\n</g>\n</g>\n</svg>\n"
          },
          "metadata": {},
          "execution_count": 260
        }
      ]
    },
    {
      "cell_type": "code",
      "source": [
        "# importiamo il metodo che vogliamo utilizzara (tra i tanti disponibili...)\n",
        "from sklearn import tree\n",
        "\n",
        "# impostiamo i parametri del metodo\n",
        "# https://scikit-learn.org/stable/modules/generated/sklearn.tree.DecisionTreeClassifier.html\n",
        "tree_clf = tree.DecisionTreeClassifier(criterion=\"gini\", # criteri per stabilire come splittare\n",
        "                                       max_depth=5, # profondità dell'albero per evitare l'overfitting\n",
        "                                       min_samples_split=30, # dimensione minima del sottogruppo a cui fermarsi (no more split)\n",
        "                                       max_leaf_nodes=6, # numero dei nodi foglia\n",
        "                                       min_samples_leaf=4 # numero di campioni per essere una foglia\n",
        "                                      )\n",
        "\n",
        "# prima parte: dobbiamo fare in modo che il metodo impari dalle informazioni a disposizione\n",
        "tree_clf.fit(X_train,y_train)\n",
        "\n",
        "# seconda parte: vediamo se il metodo ha imparato bene facendogli prevedere i risultati \n",
        "predict_dt = tree_clf.predict(X_test)"
      ],
      "metadata": {
        "id": "1WgF12Rh8mr6"
      },
      "execution_count": null,
      "outputs": []
    },
    {
      "cell_type": "code",
      "source": [
        "print(f'dati predetti dal metodo =                {predict_dt[:10]}') # dati predetti dal metodo\n",
        "print(f'dati reali presenti nel dataset di test = {y_test[:10]}') # dati effettivi presenti nel test set"
      ],
      "metadata": {
        "colab": {
          "base_uri": "https://localhost:8080/"
        },
        "id": "pTf-2vIE8zWz",
        "outputId": "98a0e7ee-eb18-4dc4-d106-9b07668ee41b"
      },
      "execution_count": null,
      "outputs": [
        {
          "output_type": "stream",
          "name": "stdout",
          "text": [
            "dati predetti dal metodo =                [2. 4. 2. 4. 4. 2. 2. 4. 4. 2.]\n",
            "dati reali presenti nel dataset di test = [4. 2. 2. 4. 4. 2. 2. 4. 4. 2.]\n"
          ]
        }
      ]
    },
    {
      "cell_type": "code",
      "source": [
        "#plots IMPORTS\n",
        "from mlxtend.plotting import plot_confusion_matrix\n",
        "from matplotlib import pyplot as plt\n",
        "from sklearn.metrics import confusion_matrix, classification_report\n",
        "\n",
        "plot_confusion_matrix(confusion_matrix(y_test, predict_dt), cmap=plt.cm.cool)\n",
        "plt.show() # DecisionTree"
      ],
      "metadata": {
        "colab": {
          "base_uri": "https://localhost:8080/",
          "height": 279
        },
        "id": "lrotgItM81Q5",
        "outputId": "10c2016e-bb11-4e8d-e963-6c7f1eff56b9"
      },
      "execution_count": null,
      "outputs": [
        {
          "output_type": "display_data",
          "data": {
            "text/plain": [
              "<Figure size 432x288 with 1 Axes>"
            ],
            "image/png": "[encoded data removed]"
          },
          "metadata": {
            "needs_background": "light"
          }
        }
      ]
    },
    {
      "cell_type": "code",
      "source": [
        "print(classification_report(y_test, predict_dt))"
      ],
      "metadata": {
        "colab": {
          "base_uri": "https://localhost:8080/"
        },
        "id": "fwicQjbx83cJ",
        "outputId": "0713fdb7-b3fc-4fc9-aad3-5753305c9d00"
      },
      "execution_count": null,
      "outputs": [
        {
          "output_type": "stream",
          "name": "stdout",
          "text": [
            "              precision    recall  f1-score   support\n",
            "\n",
            "         2.0       0.95      0.93      0.94       133\n",
            "         4.0       0.88      0.90      0.89        72\n",
            "\n",
            "    accuracy                           0.92       205\n",
            "   macro avg       0.91      0.92      0.91       205\n",
            "weighted avg       0.92      0.92      0.92       205\n",
            "\n"
          ]
        }
      ]
    },
    {
      "cell_type": "code",
      "source": [
        "#save the feature list into a vector (sono i nomi delle colonne del dataset)\n",
        "features=list(df.columns.values)\n",
        "\n",
        "import graphviz\n",
        "dot_data = tree.export_graphviz(tree_clf, out_file=None, \n",
        "                     feature_names=features[:-1],  \n",
        "                     class_names=['0', '1'],  \n",
        "                     filled=True, rounded=True,  \n",
        "                     special_characters=True)  \n",
        "graph = graphviz.Source(dot_data)\n",
        "graph.render('Cancer')\n",
        "graph"
      ],
      "metadata": {
        "colab": {
          "base_uri": "https://localhost:8080/",
          "height": 757
        },
        "id": "JWMymyzY85Vx",
        "outputId": "5797e1ef-411f-4f21-8cda-d3f840a78f10"
      },
      "execution_count": null,
      "outputs": [
        {
          "output_type": "execute_result",
          "data": {
            "text/plain": [
              "<graphviz.files.Source at 0x7fe9d024a460>"
            ],
            "image/svg+xml": "<?xml version=\"1.0\" encoding=\"UTF-8\" standalone=\"no\"?>\n<!DOCTYPE svg PUBLIC \"-//W3C//DTD SVG 1.1//EN\"\n \"http://www.w3.org/Graphics/SVG/1.1/DTD/svg11.dtd\">\n<!-- Generated by graphviz version 2.43.0 (0)\n -->\n<!-- Title: Tree Pages: 1 -->\n<svg width=\"606pt\" height=\"552pt\"\n viewBox=\"0.00 0.00 606.00 552.00\" xmlns=\"http://www.w3.org/2000/svg\" xmlns:xlink=\"http://www.w3.org/1999/xlink\">\n<g id=\"graph0\" class=\"graph\" transform=\"scale(1 1) rotate(0) translate(4 548)\">\n<title>Tree</title>\n<polygon fill=\"white\" stroke=\"transparent\" points=\"-4,4 -4,-548 602,-548 602,4 -4,4\"/>\n<!-- 0 -->\n<g id=\"node1\" class=\"node\">\n<title>0</title>\n<path fill=\"#f3c5a3\" stroke=\"black\" d=\"M323,-544C323,-544 163,-544 163,-544 157,-544 151,-538 151,-532 151,-532 151,-473 151,-473 151,-467 157,-461 163,-461 163,-461 323,-461 323,-461 329,-461 335,-467 335,-473 335,-473 335,-532 335,-532 335,-538 329,-544 323,-544\"/>\n<text text-anchor=\"start\" x=\"159\" y=\"-528.8\" font-family=\"Helvetica,sans-Serif\" font-size=\"14.00\">Uniformity of Cell Size ≤ 2.5</text>\n<text text-anchor=\"start\" x=\"207.5\" y=\"-513.8\" font-family=\"Helvetica,sans-Serif\" font-size=\"14.00\">gini = 0.455</text>\n<text text-anchor=\"start\" x=\"198\" y=\"-498.8\" font-family=\"Helvetica,sans-Serif\" font-size=\"14.00\">samples = 478</text>\n<text text-anchor=\"start\" x=\"188.5\" y=\"-483.8\" font-family=\"Helvetica,sans-Serif\" font-size=\"14.00\">value = [311, 167]</text>\n<text text-anchor=\"start\" x=\"215.5\" y=\"-468.8\" font-family=\"Helvetica,sans-Serif\" font-size=\"14.00\">class = 0</text>\n</g>\n<!-- 1 -->\n<g id=\"node2\" class=\"node\">\n<title>1</title>\n<path fill=\"#e6853f\" stroke=\"black\" d=\"M229,-425C229,-425 107,-425 107,-425 101,-425 95,-419 95,-413 95,-413 95,-354 95,-354 95,-348 101,-342 107,-342 107,-342 229,-342 229,-342 235,-342 241,-348 241,-354 241,-354 241,-413 241,-413 241,-419 235,-425 229,-425\"/>\n<text text-anchor=\"start\" x=\"103\" y=\"-409.8\" font-family=\"Helvetica,sans-Serif\" font-size=\"14.00\">Normal Nucleoli ≤ 3.5</text>\n<text text-anchor=\"start\" x=\"132.5\" y=\"-394.8\" font-family=\"Helvetica,sans-Serif\" font-size=\"14.00\">gini = 0.053</text>\n<text text-anchor=\"start\" x=\"123\" y=\"-379.8\" font-family=\"Helvetica,sans-Serif\" font-size=\"14.00\">samples = 294</text>\n<text text-anchor=\"start\" x=\"121\" y=\"-364.8\" font-family=\"Helvetica,sans-Serif\" font-size=\"14.00\">value = [286, 8]</text>\n<text text-anchor=\"start\" x=\"140.5\" y=\"-349.8\" font-family=\"Helvetica,sans-Serif\" font-size=\"14.00\">class = 0</text>\n</g>\n<!-- 0&#45;&gt;1 -->\n<g id=\"edge1\" class=\"edge\">\n<title>0&#45;&gt;1</title>\n<path fill=\"none\" stroke=\"black\" d=\"M216.98,-460.91C211.34,-452.1 205.31,-442.7 199.48,-433.61\"/>\n<polygon fill=\"black\" stroke=\"black\" points=\"202.32,-431.55 193.97,-425.02 196.43,-435.33 202.32,-431.55\"/>\n<text text-anchor=\"middle\" x=\"188.63\" y=\"-445.74\" font-family=\"Helvetica,sans-Serif\" font-size=\"14.00\">True</text>\n</g>\n<!-- 2 -->\n<g id=\"node5\" class=\"node\">\n<title>2</title>\n<path fill=\"#58ace9\" stroke=\"black\" d=\"M367,-425C367,-425 271,-425 271,-425 265,-425 259,-419 259,-413 259,-413 259,-354 259,-354 259,-348 265,-342 271,-342 271,-342 367,-342 367,-342 373,-342 379,-348 379,-354 379,-354 379,-413 379,-413 379,-419 373,-425 367,-425\"/>\n<text text-anchor=\"start\" x=\"267\" y=\"-409.8\" font-family=\"Helvetica,sans-Serif\" font-size=\"14.00\">Bare Nuclei ≤ 1.5</text>\n<text text-anchor=\"start\" x=\"283.5\" y=\"-394.8\" font-family=\"Helvetica,sans-Serif\" font-size=\"14.00\">gini = 0.235</text>\n<text text-anchor=\"start\" x=\"274\" y=\"-379.8\" font-family=\"Helvetica,sans-Serif\" font-size=\"14.00\">samples = 184</text>\n<text text-anchor=\"start\" x=\"268.5\" y=\"-364.8\" font-family=\"Helvetica,sans-Serif\" font-size=\"14.00\">value = [25, 159]</text>\n<text text-anchor=\"start\" x=\"291.5\" y=\"-349.8\" font-family=\"Helvetica,sans-Serif\" font-size=\"14.00\">class = 1</text>\n</g>\n<!-- 0&#45;&gt;2 -->\n<g id=\"edge4\" class=\"edge\">\n<title>0&#45;&gt;2</title>\n<path fill=\"none\" stroke=\"black\" d=\"M269.37,-460.91C275.09,-452.1 281.19,-442.7 287.1,-433.61\"/>\n<polygon fill=\"black\" stroke=\"black\" points=\"290.17,-435.31 292.68,-425.02 284.3,-431.5 290.17,-435.31\"/>\n<text text-anchor=\"middle\" x=\"297.87\" y=\"-445.78\" font-family=\"Helvetica,sans-Serif\" font-size=\"14.00\">False</text>\n</g>\n<!-- 5 -->\n<g id=\"node3\" class=\"node\">\n<title>5</title>\n<path fill=\"#e5823a\" stroke=\"black\" d=\"M98,-298.5C98,-298.5 12,-298.5 12,-298.5 6,-298.5 0,-292.5 0,-286.5 0,-286.5 0,-242.5 0,-242.5 0,-236.5 6,-230.5 12,-230.5 12,-230.5 98,-230.5 98,-230.5 104,-230.5 110,-236.5 110,-242.5 110,-242.5 110,-286.5 110,-286.5 110,-292.5 104,-298.5 98,-298.5\"/>\n<text text-anchor=\"start\" x=\"19.5\" y=\"-283.3\" font-family=\"Helvetica,sans-Serif\" font-size=\"14.00\">gini = 0.014</text>\n<text text-anchor=\"start\" x=\"10\" y=\"-268.3\" font-family=\"Helvetica,sans-Serif\" font-size=\"14.00\">samples = 286</text>\n<text text-anchor=\"start\" x=\"8\" y=\"-253.3\" font-family=\"Helvetica,sans-Serif\" font-size=\"14.00\">value = [284, 2]</text>\n<text text-anchor=\"start\" x=\"27.5\" y=\"-238.3\" font-family=\"Helvetica,sans-Serif\" font-size=\"14.00\">class = 0</text>\n</g>\n<!-- 1&#45;&gt;5 -->\n<g id=\"edge2\" class=\"edge\">\n<title>1&#45;&gt;5</title>\n<path fill=\"none\" stroke=\"black\" d=\"M128.8,-341.91C117.61,-330.32 105.41,-317.7 94.22,-306.11\"/>\n<polygon fill=\"black\" stroke=\"black\" points=\"96.5,-303.43 87.03,-298.67 91.46,-308.29 96.5,-303.43\"/>\n</g>\n<!-- 6 -->\n<g id=\"node4\" class=\"node\">\n<title>6</title>\n<path fill=\"#7bbeee\" stroke=\"black\" d=\"M211.5,-298.5C211.5,-298.5 140.5,-298.5 140.5,-298.5 134.5,-298.5 128.5,-292.5 128.5,-286.5 128.5,-286.5 128.5,-242.5 128.5,-242.5 128.5,-236.5 134.5,-230.5 140.5,-230.5 140.5,-230.5 211.5,-230.5 211.5,-230.5 217.5,-230.5 223.5,-236.5 223.5,-242.5 223.5,-242.5 223.5,-286.5 223.5,-286.5 223.5,-292.5 217.5,-298.5 211.5,-298.5\"/>\n<text text-anchor=\"start\" x=\"140.5\" y=\"-283.3\" font-family=\"Helvetica,sans-Serif\" font-size=\"14.00\">gini = 0.375</text>\n<text text-anchor=\"start\" x=\"138.5\" y=\"-268.3\" font-family=\"Helvetica,sans-Serif\" font-size=\"14.00\">samples = 8</text>\n<text text-anchor=\"start\" x=\"136.5\" y=\"-253.3\" font-family=\"Helvetica,sans-Serif\" font-size=\"14.00\">value = [2, 6]</text>\n<text text-anchor=\"start\" x=\"148.5\" y=\"-238.3\" font-family=\"Helvetica,sans-Serif\" font-size=\"14.00\">class = 1</text>\n</g>\n<!-- 1&#45;&gt;6 -->\n<g id=\"edge3\" class=\"edge\">\n<title>1&#45;&gt;6</title>\n<path fill=\"none\" stroke=\"black\" d=\"M170.78,-341.91C171.51,-331.2 172.3,-319.62 173.04,-308.78\"/>\n<polygon fill=\"black\" stroke=\"black\" points=\"176.54,-308.88 173.73,-298.67 169.56,-308.4 176.54,-308.88\"/>\n</g>\n<!-- 3 -->\n<g id=\"node6\" class=\"node\">\n<title>3</title>\n<path fill=\"#f4cbad\" stroke=\"black\" d=\"M355,-298.5C355,-298.5 269,-298.5 269,-298.5 263,-298.5 257,-292.5 257,-286.5 257,-286.5 257,-242.5 257,-242.5 257,-236.5 263,-230.5 269,-230.5 269,-230.5 355,-230.5 355,-230.5 361,-230.5 367,-236.5 367,-242.5 367,-242.5 367,-286.5 367,-286.5 367,-292.5 361,-298.5 355,-298.5\"/>\n<text text-anchor=\"start\" x=\"276.5\" y=\"-283.3\" font-family=\"Helvetica,sans-Serif\" font-size=\"14.00\">gini = 0.466</text>\n<text text-anchor=\"start\" x=\"271\" y=\"-268.3\" font-family=\"Helvetica,sans-Serif\" font-size=\"14.00\">samples = 27</text>\n<text text-anchor=\"start\" x=\"265\" y=\"-253.3\" font-family=\"Helvetica,sans-Serif\" font-size=\"14.00\">value = [17, 10]</text>\n<text text-anchor=\"start\" x=\"284.5\" y=\"-238.3\" font-family=\"Helvetica,sans-Serif\" font-size=\"14.00\">class = 0</text>\n</g>\n<!-- 2&#45;&gt;3 -->\n<g id=\"edge5\" class=\"edge\">\n<title>2&#45;&gt;3</title>\n<path fill=\"none\" stroke=\"black\" d=\"M316.57,-341.91C315.93,-331.2 315.24,-319.62 314.59,-308.78\"/>\n<polygon fill=\"black\" stroke=\"black\" points=\"318.08,-308.44 313.98,-298.67 311.09,-308.86 318.08,-308.44\"/>\n</g>\n<!-- 4 -->\n<g id=\"node7\" class=\"node\">\n<title>4</title>\n<path fill=\"#44a2e6\" stroke=\"black\" d=\"M557,-306C557,-306 397,-306 397,-306 391,-306 385,-300 385,-294 385,-294 385,-235 385,-235 385,-229 391,-223 397,-223 397,-223 557,-223 557,-223 563,-223 569,-229 569,-235 569,-235 569,-294 569,-294 569,-300 563,-306 557,-306\"/>\n<text text-anchor=\"start\" x=\"393\" y=\"-290.8\" font-family=\"Helvetica,sans-Serif\" font-size=\"14.00\">Uniformity of Cell Size ≤ 4.5</text>\n<text text-anchor=\"start\" x=\"441.5\" y=\"-275.8\" font-family=\"Helvetica,sans-Serif\" font-size=\"14.00\">gini = 0.097</text>\n<text text-anchor=\"start\" x=\"432\" y=\"-260.8\" font-family=\"Helvetica,sans-Serif\" font-size=\"14.00\">samples = 157</text>\n<text text-anchor=\"start\" x=\"430\" y=\"-245.8\" font-family=\"Helvetica,sans-Serif\" font-size=\"14.00\">value = [8, 149]</text>\n<text text-anchor=\"start\" x=\"449.5\" y=\"-230.8\" font-family=\"Helvetica,sans-Serif\" font-size=\"14.00\">class = 1</text>\n</g>\n<!-- 2&#45;&gt;4 -->\n<g id=\"edge6\" class=\"edge\">\n<title>2&#45;&gt;4</title>\n<path fill=\"none\" stroke=\"black\" d=\"M373.82,-341.91C386.81,-332.29 400.76,-321.95 414.08,-312.09\"/>\n<polygon fill=\"black\" stroke=\"black\" points=\"416.33,-314.78 422.28,-306.02 412.16,-309.16 416.33,-314.78\"/>\n</g>\n<!-- 7 -->\n<g id=\"node8\" class=\"node\">\n<title>7</title>\n<path fill=\"#61b1ea\" stroke=\"black\" d=\"M458,-187C458,-187 362,-187 362,-187 356,-187 350,-181 350,-175 350,-175 350,-116 350,-116 350,-110 356,-104 362,-104 362,-104 458,-104 458,-104 464,-104 470,-110 470,-116 470,-116 470,-175 470,-175 470,-181 464,-187 458,-187\"/>\n<text text-anchor=\"start\" x=\"358\" y=\"-171.8\" font-family=\"Helvetica,sans-Serif\" font-size=\"14.00\">Bare Nuclei ≤ 7.5</text>\n<text text-anchor=\"start\" x=\"374.5\" y=\"-156.8\" font-family=\"Helvetica,sans-Serif\" font-size=\"14.00\">gini = 0.278</text>\n<text text-anchor=\"start\" x=\"369\" y=\"-141.8\" font-family=\"Helvetica,sans-Serif\" font-size=\"14.00\">samples = 42</text>\n<text text-anchor=\"start\" x=\"367\" y=\"-126.8\" font-family=\"Helvetica,sans-Serif\" font-size=\"14.00\">value = [7, 35]</text>\n<text text-anchor=\"start\" x=\"382.5\" y=\"-111.8\" font-family=\"Helvetica,sans-Serif\" font-size=\"14.00\">class = 1</text>\n</g>\n<!-- 4&#45;&gt;7 -->\n<g id=\"edge7\" class=\"edge\">\n<title>4&#45;&gt;7</title>\n<path fill=\"none\" stroke=\"black\" d=\"M453.75,-222.91C448.77,-214.2 443.44,-204.9 438.29,-195.89\"/>\n<polygon fill=\"black\" stroke=\"black\" points=\"441.21,-193.96 433.2,-187.02 435.14,-197.44 441.21,-193.96\"/>\n</g>\n<!-- 8 -->\n<g id=\"node11\" class=\"node\">\n<title>8</title>\n<path fill=\"#3b9ee5\" stroke=\"black\" d=\"M586,-179.5C586,-179.5 500,-179.5 500,-179.5 494,-179.5 488,-173.5 488,-167.5 488,-167.5 488,-123.5 488,-123.5 488,-117.5 494,-111.5 500,-111.5 500,-111.5 586,-111.5 586,-111.5 592,-111.5 598,-117.5 598,-123.5 598,-123.5 598,-167.5 598,-167.5 598,-173.5 592,-179.5 586,-179.5\"/>\n<text text-anchor=\"start\" x=\"507.5\" y=\"-164.3\" font-family=\"Helvetica,sans-Serif\" font-size=\"14.00\">gini = 0.017</text>\n<text text-anchor=\"start\" x=\"498\" y=\"-149.3\" font-family=\"Helvetica,sans-Serif\" font-size=\"14.00\">samples = 115</text>\n<text text-anchor=\"start\" x=\"496\" y=\"-134.3\" font-family=\"Helvetica,sans-Serif\" font-size=\"14.00\">value = [1, 114]</text>\n<text text-anchor=\"start\" x=\"515.5\" y=\"-119.3\" font-family=\"Helvetica,sans-Serif\" font-size=\"14.00\">class = 1</text>\n</g>\n<!-- 4&#45;&gt;8 -->\n<g id=\"edge10\" class=\"edge\">\n<title>4&#45;&gt;8</title>\n<path fill=\"none\" stroke=\"black\" d=\"M499.9,-222.91C506.19,-211.76 513.01,-199.66 519.34,-188.44\"/>\n<polygon fill=\"black\" stroke=\"black\" points=\"522.43,-190.1 524.29,-179.67 516.33,-186.66 522.43,-190.1\"/>\n</g>\n<!-- 9 -->\n<g id=\"node9\" class=\"node\">\n<title>9</title>\n<path fill=\"#9ccef2\" stroke=\"black\" d=\"M389,-68C389,-68 311,-68 311,-68 305,-68 299,-62 299,-56 299,-56 299,-12 299,-12 299,-6 305,0 311,0 311,0 389,0 389,0 395,0 401,-6 401,-12 401,-12 401,-56 401,-56 401,-62 395,-68 389,-68\"/>\n<text text-anchor=\"start\" x=\"314.5\" y=\"-52.8\" font-family=\"Helvetica,sans-Serif\" font-size=\"14.00\">gini = 0.444</text>\n<text text-anchor=\"start\" x=\"309\" y=\"-37.8\" font-family=\"Helvetica,sans-Serif\" font-size=\"14.00\">samples = 18</text>\n<text text-anchor=\"start\" x=\"307\" y=\"-22.8\" font-family=\"Helvetica,sans-Serif\" font-size=\"14.00\">value = [6, 12]</text>\n<text text-anchor=\"start\" x=\"322.5\" y=\"-7.8\" font-family=\"Helvetica,sans-Serif\" font-size=\"14.00\">class = 1</text>\n</g>\n<!-- 7&#45;&gt;9 -->\n<g id=\"edge8\" class=\"edge\">\n<title>7&#45;&gt;9</title>\n<path fill=\"none\" stroke=\"black\" d=\"M387.66,-103.73C382.91,-95.06 377.89,-85.9 373.11,-77.18\"/>\n<polygon fill=\"black\" stroke=\"black\" points=\"376.12,-75.39 368.25,-68.3 369.98,-78.75 376.12,-75.39\"/>\n</g>\n<!-- 10 -->\n<g id=\"node10\" class=\"node\">\n<title>10</title>\n<path fill=\"#42a1e6\" stroke=\"black\" d=\"M509,-68C509,-68 431,-68 431,-68 425,-68 419,-62 419,-56 419,-56 419,-12 419,-12 419,-6 425,0 431,0 431,0 509,0 509,0 515,0 521,-6 521,-12 521,-12 521,-56 521,-56 521,-62 515,-68 509,-68\"/>\n<text text-anchor=\"start\" x=\"438\" y=\"-52.8\" font-family=\"Helvetica,sans-Serif\" font-size=\"14.00\">gini = 0.08</text>\n<text text-anchor=\"start\" x=\"429\" y=\"-37.8\" font-family=\"Helvetica,sans-Serif\" font-size=\"14.00\">samples = 24</text>\n<text text-anchor=\"start\" x=\"427\" y=\"-22.8\" font-family=\"Helvetica,sans-Serif\" font-size=\"14.00\">value = [1, 23]</text>\n<text text-anchor=\"start\" x=\"442.5\" y=\"-7.8\" font-family=\"Helvetica,sans-Serif\" font-size=\"14.00\">class = 1</text>\n</g>\n<!-- 7&#45;&gt;10 -->\n<g id=\"edge9\" class=\"edge\">\n<title>7&#45;&gt;10</title>\n<path fill=\"none\" stroke=\"black\" d=\"M432.34,-103.73C437.09,-95.06 442.11,-85.9 446.89,-77.18\"/>\n<polygon fill=\"black\" stroke=\"black\" points=\"450.02,-78.75 451.75,-68.3 443.88,-75.39 450.02,-78.75\"/>\n</g>\n</g>\n</svg>\n"
          },
          "metadata": {},
          "execution_count": 265
        }
      ]
    },
    {
      "cell_type": "code",
      "source": [
        "# importiamo il metodo che vogliamo utilizzara (tra i tanti disponibili...)\n",
        "from sklearn import tree\n",
        "\n",
        "# impostiamo i parametri del metodo\n",
        "# https://scikit-learn.org/stable/modules/generated/sklearn.tree.DecisionTreeClassifier.html\n",
        "tree_clf = tree.DecisionTreeClassifier(criterion=\"gini\", # criteri per stabilire come splittare\n",
        "                                       max_depth=2, # profondità dell'albero per evitare l'overfitting\n",
        "                                       min_samples_split=40, # dimensione minima del sottogruppo a cui fermarsi (no more split)\n",
        "                                       max_leaf_nodes=20, # numero dei nodi foglia\n",
        "                                       min_samples_leaf=4 # numero di campioni per essere una foglia\n",
        "                                      )\n",
        "\n",
        "# prima parte: dobbiamo fare in modo che il metodo impari dalle informazioni a disposizione\n",
        "tree_clf.fit(X_train,y_train)\n",
        "\n",
        "# seconda parte: vediamo se il metodo ha imparato bene facendogli prevedere i risultati \n",
        "predict_dt = tree_clf.predict(X_test)"
      ],
      "metadata": {
        "id": "_gKjPELo81hh"
      },
      "execution_count": null,
      "outputs": []
    },
    {
      "cell_type": "code",
      "source": [
        "print(f'dati predetti dal metodo =                {predict_dt[:10]}') # dati predetti dal metodo\n",
        "print(f'dati reali presenti nel dataset di test = {y_test[:10]}') # dati effettivi presenti nel test set"
      ],
      "metadata": {
        "colab": {
          "base_uri": "https://localhost:8080/"
        },
        "id": "2YatR4N_9Uy4",
        "outputId": "96172665-1e1f-4d36-c3ac-2e5edb80dc2c"
      },
      "execution_count": null,
      "outputs": [
        {
          "output_type": "stream",
          "name": "stdout",
          "text": [
            "dati predetti dal metodo =                [2. 4. 2. 4. 4. 2. 2. 4. 4. 2.]\n",
            "dati reali presenti nel dataset di test = [4. 2. 2. 4. 4. 2. 2. 4. 4. 2.]\n"
          ]
        }
      ]
    },
    {
      "cell_type": "code",
      "source": [
        "#plots IMPORTS\n",
        "from mlxtend.plotting import plot_confusion_matrix\n",
        "from matplotlib import pyplot as plt\n",
        "from sklearn.metrics import confusion_matrix, classification_report\n",
        "\n",
        "plot_confusion_matrix(confusion_matrix(y_test, predict_dt), cmap=plt.cm.cool)\n",
        "plt.show() # DecisionTree"
      ],
      "metadata": {
        "colab": {
          "base_uri": "https://localhost:8080/",
          "height": 279
        },
        "id": "ibQM5Fr_9YGO",
        "outputId": "560a59d1-006c-40da-fd4e-1f46b4a2402a"
      },
      "execution_count": null,
      "outputs": [
        {
          "output_type": "display_data",
          "data": {
            "text/plain": [
              "<Figure size 432x288 with 1 Axes>"
            ],
            "image/png": "[encoded data removed]"
          },
          "metadata": {
            "needs_background": "light"
          }
        }
      ]
    },
    {
      "cell_type": "code",
      "source": [
        "print(classification_report(y_test, predict_dt))"
      ],
      "metadata": {
        "colab": {
          "base_uri": "https://localhost:8080/"
        },
        "id": "il8LS6QA9Z1P",
        "outputId": "9f3dca65-7f14-4174-d0e6-6fb3916885d3"
      },
      "execution_count": null,
      "outputs": [
        {
          "output_type": "stream",
          "name": "stdout",
          "text": [
            "              precision    recall  f1-score   support\n",
            "\n",
            "         2.0       0.95      0.93      0.94       133\n",
            "         4.0       0.88      0.90      0.89        72\n",
            "\n",
            "    accuracy                           0.92       205\n",
            "   macro avg       0.91      0.92      0.91       205\n",
            "weighted avg       0.92      0.92      0.92       205\n",
            "\n"
          ]
        }
      ]
    },
    {
      "cell_type": "code",
      "source": [
        "#save the feature list into a vector (sono i nomi delle colonne del dataset)\n",
        "features=list(df.columns.values)\n",
        "\n",
        "import graphviz\n",
        "dot_data = tree.export_graphviz(tree_clf, out_file=None, \n",
        "                     feature_names=features[:-1],  \n",
        "                     class_names=['0', '1'],  \n",
        "                     filled=True, rounded=True,  \n",
        "                     special_characters=True)  \n",
        "graph = graphviz.Source(dot_data)\n",
        "graph.render('Cancer')\n",
        "graph"
      ],
      "metadata": {
        "colab": {
          "base_uri": "https://localhost:8080/",
          "height": 440
        },
        "id": "-4e8gm379aPt",
        "outputId": "25b6ef6c-4888-4d21-c11f-e18a86fd5083"
      },
      "execution_count": null,
      "outputs": [
        {
          "output_type": "execute_result",
          "data": {
            "text/plain": [
              "<graphviz.files.Source at 0x7fe9d04f4580>"
            ],
            "image/svg+xml": "<?xml version=\"1.0\" encoding=\"UTF-8\" standalone=\"no\"?>\n<!DOCTYPE svg PUBLIC \"-//W3C//DTD SVG 1.1//EN\"\n \"http://www.w3.org/Graphics/SVG/1.1/DTD/svg11.dtd\">\n<!-- Generated by graphviz version 2.43.0 (0)\n -->\n<!-- Title: Tree Pages: 1 -->\n<svg width=\"503pt\" height=\"314pt\"\n viewBox=\"0.00 0.00 503.00 314.00\" xmlns=\"http://www.w3.org/2000/svg\" xmlns:xlink=\"http://www.w3.org/1999/xlink\">\n<g id=\"graph0\" class=\"graph\" transform=\"scale(1 1) rotate(0) translate(4 310)\">\n<title>Tree</title>\n<polygon fill=\"white\" stroke=\"transparent\" points=\"-4,4 -4,-310 499,-310 499,4 -4,4\"/>\n<!-- 0 -->\n<g id=\"node1\" class=\"node\">\n<title>0</title>\n<path fill=\"#f3c5a3\" stroke=\"black\" d=\"M323,-306C323,-306 163,-306 163,-306 157,-306 151,-300 151,-294 151,-294 151,-235 151,-235 151,-229 157,-223 163,-223 163,-223 323,-223 323,-223 329,-223 335,-229 335,-235 335,-235 335,-294 335,-294 335,-300 329,-306 323,-306\"/>\n<text text-anchor=\"start\" x=\"159\" y=\"-290.8\" font-family=\"Helvetica,sans-Serif\" font-size=\"14.00\">Uniformity of Cell Size ≤ 2.5</text>\n<text text-anchor=\"start\" x=\"207.5\" y=\"-275.8\" font-family=\"Helvetica,sans-Serif\" font-size=\"14.00\">gini = 0.455</text>\n<text text-anchor=\"start\" x=\"198\" y=\"-260.8\" font-family=\"Helvetica,sans-Serif\" font-size=\"14.00\">samples = 478</text>\n<text text-anchor=\"start\" x=\"188.5\" y=\"-245.8\" font-family=\"Helvetica,sans-Serif\" font-size=\"14.00\">value = [311, 167]</text>\n<text text-anchor=\"start\" x=\"215.5\" y=\"-230.8\" font-family=\"Helvetica,sans-Serif\" font-size=\"14.00\">class = 0</text>\n</g>\n<!-- 1 -->\n<g id=\"node2\" class=\"node\">\n<title>1</title>\n<path fill=\"#e6853f\" stroke=\"black\" d=\"M229,-187C229,-187 107,-187 107,-187 101,-187 95,-181 95,-175 95,-175 95,-116 95,-116 95,-110 101,-104 107,-104 107,-104 229,-104 229,-104 235,-104 241,-110 241,-116 241,-116 241,-175 241,-175 241,-181 235,-187 229,-187\"/>\n<text text-anchor=\"start\" x=\"103\" y=\"-171.8\" font-family=\"Helvetica,sans-Serif\" font-size=\"14.00\">Normal Nucleoli ≤ 3.5</text>\n<text text-anchor=\"start\" x=\"132.5\" y=\"-156.8\" font-family=\"Helvetica,sans-Serif\" font-size=\"14.00\">gini = 0.053</text>\n<text text-anchor=\"start\" x=\"123\" y=\"-141.8\" font-family=\"Helvetica,sans-Serif\" font-size=\"14.00\">samples = 294</text>\n<text text-anchor=\"start\" x=\"121\" y=\"-126.8\" font-family=\"Helvetica,sans-Serif\" font-size=\"14.00\">value = [286, 8]</text>\n<text text-anchor=\"start\" x=\"140.5\" y=\"-111.8\" font-family=\"Helvetica,sans-Serif\" font-size=\"14.00\">class = 0</text>\n</g>\n<!-- 0&#45;&gt;1 -->\n<g id=\"edge1\" class=\"edge\">\n<title>0&#45;&gt;1</title>\n<path fill=\"none\" stroke=\"black\" d=\"M216.98,-222.91C211.34,-214.1 205.31,-204.7 199.48,-195.61\"/>\n<polygon fill=\"black\" stroke=\"black\" points=\"202.32,-193.55 193.97,-187.02 196.43,-197.33 202.32,-193.55\"/>\n<text text-anchor=\"middle\" x=\"188.63\" y=\"-207.74\" font-family=\"Helvetica,sans-Serif\" font-size=\"14.00\">True</text>\n</g>\n<!-- 2 -->\n<g id=\"node5\" class=\"node\">\n<title>2</title>\n<path fill=\"#58ace9\" stroke=\"black\" d=\"M367,-187C367,-187 271,-187 271,-187 265,-187 259,-181 259,-175 259,-175 259,-116 259,-116 259,-110 265,-104 271,-104 271,-104 367,-104 367,-104 373,-104 379,-110 379,-116 379,-116 379,-175 379,-175 379,-181 373,-187 367,-187\"/>\n<text text-anchor=\"start\" x=\"267\" y=\"-171.8\" font-family=\"Helvetica,sans-Serif\" font-size=\"14.00\">Bare Nuclei ≤ 1.5</text>\n<text text-anchor=\"start\" x=\"283.5\" y=\"-156.8\" font-family=\"Helvetica,sans-Serif\" font-size=\"14.00\">gini = 0.235</text>\n<text text-anchor=\"start\" x=\"274\" y=\"-141.8\" font-family=\"Helvetica,sans-Serif\" font-size=\"14.00\">samples = 184</text>\n<text text-anchor=\"start\" x=\"268.5\" y=\"-126.8\" font-family=\"Helvetica,sans-Serif\" font-size=\"14.00\">value = [25, 159]</text>\n<text text-anchor=\"start\" x=\"291.5\" y=\"-111.8\" font-family=\"Helvetica,sans-Serif\" font-size=\"14.00\">class = 1</text>\n</g>\n<!-- 0&#45;&gt;2 -->\n<g id=\"edge4\" class=\"edge\">\n<title>0&#45;&gt;2</title>\n<path fill=\"none\" stroke=\"black\" d=\"M269.37,-222.91C275.09,-214.1 281.19,-204.7 287.1,-195.61\"/>\n<polygon fill=\"black\" stroke=\"black\" points=\"290.17,-197.31 292.68,-187.02 284.3,-193.5 290.17,-197.31\"/>\n<text text-anchor=\"middle\" x=\"297.87\" y=\"-207.78\" font-family=\"Helvetica,sans-Serif\" font-size=\"14.00\">False</text>\n</g>\n<!-- 5 -->\n<g id=\"node3\" class=\"node\">\n<title>5</title>\n<path fill=\"#e5823a\" stroke=\"black\" d=\"M98,-68C98,-68 12,-68 12,-68 6,-68 0,-62 0,-56 0,-56 0,-12 0,-12 0,-6 6,0 12,0 12,0 98,0 98,0 104,0 110,-6 110,-12 110,-12 110,-56 110,-56 110,-62 104,-68 98,-68\"/>\n<text text-anchor=\"start\" x=\"19.5\" y=\"-52.8\" font-family=\"Helvetica,sans-Serif\" font-size=\"14.00\">gini = 0.014</text>\n<text text-anchor=\"start\" x=\"10\" y=\"-37.8\" font-family=\"Helvetica,sans-Serif\" font-size=\"14.00\">samples = 286</text>\n<text text-anchor=\"start\" x=\"8\" y=\"-22.8\" font-family=\"Helvetica,sans-Serif\" font-size=\"14.00\">value = [284, 2]</text>\n<text text-anchor=\"start\" x=\"27.5\" y=\"-7.8\" font-family=\"Helvetica,sans-Serif\" font-size=\"14.00\">class = 0</text>\n</g>\n<!-- 1&#45;&gt;5 -->\n<g id=\"edge2\" class=\"edge\">\n<title>1&#45;&gt;5</title>\n<path fill=\"none\" stroke=\"black\" d=\"M125.92,-103.73C116.32,-94.42 106.13,-84.54 96.55,-75.26\"/>\n<polygon fill=\"black\" stroke=\"black\" points=\"98.98,-72.75 89.36,-68.3 94.11,-77.77 98.98,-72.75\"/>\n</g>\n<!-- 6 -->\n<g id=\"node4\" class=\"node\">\n<title>6</title>\n<path fill=\"#7bbeee\" stroke=\"black\" d=\"M211.5,-68C211.5,-68 140.5,-68 140.5,-68 134.5,-68 128.5,-62 128.5,-56 128.5,-56 128.5,-12 128.5,-12 128.5,-6 134.5,0 140.5,0 140.5,0 211.5,0 211.5,0 217.5,0 223.5,-6 223.5,-12 223.5,-12 223.5,-56 223.5,-56 223.5,-62 217.5,-68 211.5,-68\"/>\n<text text-anchor=\"start\" x=\"140.5\" y=\"-52.8\" font-family=\"Helvetica,sans-Serif\" font-size=\"14.00\">gini = 0.375</text>\n<text text-anchor=\"start\" x=\"138.5\" y=\"-37.8\" font-family=\"Helvetica,sans-Serif\" font-size=\"14.00\">samples = 8</text>\n<text text-anchor=\"start\" x=\"136.5\" y=\"-22.8\" font-family=\"Helvetica,sans-Serif\" font-size=\"14.00\">value = [2, 6]</text>\n<text text-anchor=\"start\" x=\"148.5\" y=\"-7.8\" font-family=\"Helvetica,sans-Serif\" font-size=\"14.00\">class = 1</text>\n</g>\n<!-- 1&#45;&gt;6 -->\n<g id=\"edge3\" class=\"edge\">\n<title>1&#45;&gt;6</title>\n<path fill=\"none\" stroke=\"black\" d=\"M170.98,-103.73C171.59,-95.43 172.23,-86.67 172.84,-78.28\"/>\n<polygon fill=\"black\" stroke=\"black\" points=\"176.33,-78.53 173.57,-68.3 169.35,-78.02 176.33,-78.53\"/>\n</g>\n<!-- 3 -->\n<g id=\"node6\" class=\"node\">\n<title>3</title>\n<path fill=\"#f4cbad\" stroke=\"black\" d=\"M355,-68C355,-68 269,-68 269,-68 263,-68 257,-62 257,-56 257,-56 257,-12 257,-12 257,-6 263,0 269,0 269,0 355,0 355,0 361,0 367,-6 367,-12 367,-12 367,-56 367,-56 367,-62 361,-68 355,-68\"/>\n<text text-anchor=\"start\" x=\"276.5\" y=\"-52.8\" font-family=\"Helvetica,sans-Serif\" font-size=\"14.00\">gini = 0.466</text>\n<text text-anchor=\"start\" x=\"271\" y=\"-37.8\" font-family=\"Helvetica,sans-Serif\" font-size=\"14.00\">samples = 27</text>\n<text text-anchor=\"start\" x=\"265\" y=\"-22.8\" font-family=\"Helvetica,sans-Serif\" font-size=\"14.00\">value = [17, 10]</text>\n<text text-anchor=\"start\" x=\"284.5\" y=\"-7.8\" font-family=\"Helvetica,sans-Serif\" font-size=\"14.00\">class = 0</text>\n</g>\n<!-- 2&#45;&gt;3 -->\n<g id=\"edge5\" class=\"edge\">\n<title>2&#45;&gt;3</title>\n<path fill=\"none\" stroke=\"black\" d=\"M316.39,-103.73C315.86,-95.43 315.3,-86.67 314.77,-78.28\"/>\n<polygon fill=\"black\" stroke=\"black\" points=\"318.26,-78.06 314.13,-68.3 311.27,-78.5 318.26,-78.06\"/>\n</g>\n<!-- 4 -->\n<g id=\"node7\" class=\"node\">\n<title>4</title>\n<path fill=\"#44a2e6\" stroke=\"black\" d=\"M483,-68C483,-68 397,-68 397,-68 391,-68 385,-62 385,-56 385,-56 385,-12 385,-12 385,-6 391,0 397,0 397,0 483,0 483,0 489,0 495,-6 495,-12 495,-12 495,-56 495,-56 495,-62 489,-68 483,-68\"/>\n<text text-anchor=\"start\" x=\"404.5\" y=\"-52.8\" font-family=\"Helvetica,sans-Serif\" font-size=\"14.00\">gini = 0.097</text>\n<text text-anchor=\"start\" x=\"395\" y=\"-37.8\" font-family=\"Helvetica,sans-Serif\" font-size=\"14.00\">samples = 157</text>\n<text text-anchor=\"start\" x=\"393\" y=\"-22.8\" font-family=\"Helvetica,sans-Serif\" font-size=\"14.00\">value = [8, 149]</text>\n<text text-anchor=\"start\" x=\"412.5\" y=\"-7.8\" font-family=\"Helvetica,sans-Serif\" font-size=\"14.00\">class = 1</text>\n</g>\n<!-- 2&#45;&gt;4 -->\n<g id=\"edge6\" class=\"edge\">\n<title>2&#45;&gt;4</title>\n<path fill=\"none\" stroke=\"black\" d=\"M364.06,-103.73C374.34,-94.42 385.25,-84.54 395.51,-75.26\"/>\n<polygon fill=\"black\" stroke=\"black\" points=\"398.14,-77.6 403.2,-68.3 393.44,-72.41 398.14,-77.6\"/>\n</g>\n</g>\n</svg>\n"
          },
          "metadata": {},
          "execution_count": 270
        }
      ]
    },
    {
      "cell_type": "code",
      "source": [
        "# importiamo il metodo che vogliamo utilizzara (tra i tanti disponibili...)\n",
        "from sklearn import tree\n",
        "\n",
        "# impostiamo i parametri del metodo\n",
        "# https://scikit-learn.org/stable/modules/generated/sklearn.tree.DecisionTreeClassifier.html\n",
        "tree_clf = tree.DecisionTreeClassifier(criterion=\"gini\", # criteri per stabilire come splittare\n",
        "                                       max_depth=2, # profondità dell'albero per evitare l'overfitting\n",
        "                                       min_samples_split=45, # dimensione minima del sottogruppo a cui fermarsi (no more split)\n",
        "                                       max_leaf_nodes=25, # numero dei nodi foglia\n",
        "                                       min_samples_leaf=20 # numero di campioni per essere una foglia\n",
        "                                      )\n",
        "\n",
        "# prima parte: dobbiamo fare in modo che il metodo impari dalle informazioni a disposizione\n",
        "tree_clf.fit(X_train,y_train)\n",
        "\n",
        "# seconda parte: vediamo se il metodo ha imparato bene facendogli prevedere i risultati \n",
        "predict_dt = tree_clf.predict(X_test)"
      ],
      "metadata": {
        "id": "Gd5WRcnv-T4p"
      },
      "execution_count": null,
      "outputs": []
    },
    {
      "cell_type": "code",
      "source": [
        "print(f'dati predetti dal metodo =                {predict_dt[:10]}') # dati predetti dal metodo\n",
        "print(f'dati reali presenti nel dataset di test = {y_test[:10]}') # dati effettivi presenti nel test set"
      ],
      "metadata": {
        "colab": {
          "base_uri": "https://localhost:8080/"
        },
        "id": "Br39RaZl-V7C",
        "outputId": "2a5e2ac3-9bd6-4178-b625-7c708d0b88f4"
      },
      "execution_count": null,
      "outputs": [
        {
          "output_type": "stream",
          "name": "stdout",
          "text": [
            "dati predetti dal metodo =                [2. 4. 2. 4. 4. 2. 2. 4. 4. 2.]\n",
            "dati reali presenti nel dataset di test = [4. 2. 2. 4. 4. 2. 2. 4. 4. 2.]\n"
          ]
        }
      ]
    },
    {
      "cell_type": "code",
      "source": [
        "#plots IMPORTS\n",
        "from mlxtend.plotting import plot_confusion_matrix\n",
        "from matplotlib import pyplot as plt\n",
        "from sklearn.metrics import confusion_matrix, classification_report\n",
        "\n",
        "plot_confusion_matrix(confusion_matrix(y_test, predict_dt), cmap=plt.cm.cool)\n",
        "plt.show() # DecisionTree"
      ],
      "metadata": {
        "colab": {
          "base_uri": "https://localhost:8080/",
          "height": 279
        },
        "id": "3XEaAx4o-YFZ",
        "outputId": "9571f79c-a833-4632-a58a-eb6b6e870905"
      },
      "execution_count": null,
      "outputs": [
        {
          "output_type": "display_data",
          "data": {
            "text/plain": [
              "<Figure size 432x288 with 1 Axes>"
            ],
            "image/png": "[encoded data removed]"
          },
          "metadata": {
            "needs_background": "light"
          }
        }
      ]
    },
    {
      "cell_type": "code",
      "source": [
        "print(classification_report(y_test, predict_dt))"
      ],
      "metadata": {
        "colab": {
          "base_uri": "https://localhost:8080/"
        },
        "id": "hAWNcSu1-bLh",
        "outputId": "a1c9dd86-c38d-4591-e244-f9625c6ec727"
      },
      "execution_count": null,
      "outputs": [
        {
          "output_type": "stream",
          "name": "stdout",
          "text": [
            "              precision    recall  f1-score   support\n",
            "\n",
            "         2.0       0.94      0.93      0.94       133\n",
            "         4.0       0.88      0.89      0.88        72\n",
            "\n",
            "    accuracy                           0.92       205\n",
            "   macro avg       0.91      0.91      0.91       205\n",
            "weighted avg       0.92      0.92      0.92       205\n",
            "\n"
          ]
        }
      ]
    },
    {
      "cell_type": "code",
      "source": [
        "#save the feature list into a vector (sono i nomi delle colonne del dataset)\n",
        "features=list(df.columns.values)\n",
        "\n",
        "import graphviz\n",
        "dot_data = tree.export_graphviz(tree_clf, out_file=None, \n",
        "                     feature_names=features[:-1],  \n",
        "                     class_names=['0', '1'],  \n",
        "                     filled=True, rounded=True,  \n",
        "                     special_characters=True)  \n",
        "graph = graphviz.Source(dot_data)\n",
        "graph.render('Cancer')\n",
        "graph"
      ],
      "metadata": {
        "colab": {
          "base_uri": "https://localhost:8080/",
          "height": 440
        },
        "id": "KcAaoUIW-coa",
        "outputId": "7f807bab-84d7-4789-b4c5-9a561a4aeb03"
      },
      "execution_count": null,
      "outputs": [
        {
          "output_type": "execute_result",
          "data": {
            "text/plain": [
              "<graphviz.files.Source at 0x7fe9cf5756d0>"
            ],
            "image/svg+xml": "<?xml version=\"1.0\" encoding=\"UTF-8\" standalone=\"no\"?>\n<!DOCTYPE svg PUBLIC \"-//W3C//DTD SVG 1.1//EN\"\n \"http://www.w3.org/Graphics/SVG/1.1/DTD/svg11.dtd\">\n<!-- Generated by graphviz version 2.43.0 (0)\n -->\n<!-- Title: Tree Pages: 1 -->\n<svg width=\"501pt\" height=\"314pt\"\n viewBox=\"0.00 0.00 501.00 314.00\" xmlns=\"http://www.w3.org/2000/svg\" xmlns:xlink=\"http://www.w3.org/1999/xlink\">\n<g id=\"graph0\" class=\"graph\" transform=\"scale(1 1) rotate(0) translate(4 310)\">\n<title>Tree</title>\n<polygon fill=\"white\" stroke=\"transparent\" points=\"-4,4 -4,-310 497,-310 497,4 -4,4\"/>\n<!-- 0 -->\n<g id=\"node1\" class=\"node\">\n<title>0</title>\n<path fill=\"#f3c5a3\" stroke=\"black\" d=\"M324,-306C324,-306 164,-306 164,-306 158,-306 152,-300 152,-294 152,-294 152,-235 152,-235 152,-229 158,-223 164,-223 164,-223 324,-223 324,-223 330,-223 336,-229 336,-235 336,-235 336,-294 336,-294 336,-300 330,-306 324,-306\"/>\n<text text-anchor=\"start\" x=\"160\" y=\"-290.8\" font-family=\"Helvetica,sans-Serif\" font-size=\"14.00\">Uniformity of Cell Size ≤ 2.5</text>\n<text text-anchor=\"start\" x=\"208.5\" y=\"-275.8\" font-family=\"Helvetica,sans-Serif\" font-size=\"14.00\">gini = 0.455</text>\n<text text-anchor=\"start\" x=\"199\" y=\"-260.8\" font-family=\"Helvetica,sans-Serif\" font-size=\"14.00\">samples = 478</text>\n<text text-anchor=\"start\" x=\"189.5\" y=\"-245.8\" font-family=\"Helvetica,sans-Serif\" font-size=\"14.00\">value = [311, 167]</text>\n<text text-anchor=\"start\" x=\"216.5\" y=\"-230.8\" font-family=\"Helvetica,sans-Serif\" font-size=\"14.00\">class = 0</text>\n</g>\n<!-- 1 -->\n<g id=\"node2\" class=\"node\">\n<title>1</title>\n<path fill=\"#e6853f\" stroke=\"black\" d=\"M223,-187C223,-187 127,-187 127,-187 121,-187 115,-181 115,-175 115,-175 115,-116 115,-116 115,-110 121,-104 127,-104 127,-104 223,-104 223,-104 229,-104 235,-110 235,-116 235,-116 235,-175 235,-175 235,-181 229,-187 223,-187\"/>\n<text text-anchor=\"start\" x=\"123\" y=\"-171.8\" font-family=\"Helvetica,sans-Serif\" font-size=\"14.00\">Bare Nuclei ≤ 2.5</text>\n<text text-anchor=\"start\" x=\"139.5\" y=\"-156.8\" font-family=\"Helvetica,sans-Serif\" font-size=\"14.00\">gini = 0.053</text>\n<text text-anchor=\"start\" x=\"130\" y=\"-141.8\" font-family=\"Helvetica,sans-Serif\" font-size=\"14.00\">samples = 294</text>\n<text text-anchor=\"start\" x=\"128\" y=\"-126.8\" font-family=\"Helvetica,sans-Serif\" font-size=\"14.00\">value = [286, 8]</text>\n<text text-anchor=\"start\" x=\"147.5\" y=\"-111.8\" font-family=\"Helvetica,sans-Serif\" font-size=\"14.00\">class = 0</text>\n</g>\n<!-- 0&#45;&gt;1 -->\n<g id=\"edge1\" class=\"edge\">\n<title>0&#45;&gt;1</title>\n<path fill=\"none\" stroke=\"black\" d=\"M220.06,-222.91C214.92,-214.2 209.44,-204.9 204.13,-195.89\"/>\n<polygon fill=\"black\" stroke=\"black\" points=\"206.99,-193.86 198.9,-187.02 200.96,-197.41 206.99,-193.86\"/>\n<text text-anchor=\"middle\" x=\"192.65\" y=\"-207.53\" font-family=\"Helvetica,sans-Serif\" font-size=\"14.00\">True</text>\n</g>\n<!-- 2 -->\n<g id=\"node5\" class=\"node\">\n<title>2</title>\n<path fill=\"#58ace9\" stroke=\"black\" d=\"M361,-187C361,-187 265,-187 265,-187 259,-187 253,-181 253,-175 253,-175 253,-116 253,-116 253,-110 259,-104 265,-104 265,-104 361,-104 361,-104 367,-104 373,-110 373,-116 373,-116 373,-175 373,-175 373,-181 367,-187 361,-187\"/>\n<text text-anchor=\"start\" x=\"261\" y=\"-171.8\" font-family=\"Helvetica,sans-Serif\" font-size=\"14.00\">Bare Nuclei ≤ 1.5</text>\n<text text-anchor=\"start\" x=\"277.5\" y=\"-156.8\" font-family=\"Helvetica,sans-Serif\" font-size=\"14.00\">gini = 0.235</text>\n<text text-anchor=\"start\" x=\"268\" y=\"-141.8\" font-family=\"Helvetica,sans-Serif\" font-size=\"14.00\">samples = 184</text>\n<text text-anchor=\"start\" x=\"262.5\" y=\"-126.8\" font-family=\"Helvetica,sans-Serif\" font-size=\"14.00\">value = [25, 159]</text>\n<text text-anchor=\"start\" x=\"285.5\" y=\"-111.8\" font-family=\"Helvetica,sans-Serif\" font-size=\"14.00\">class = 1</text>\n</g>\n<!-- 0&#45;&gt;2 -->\n<g id=\"edge4\" class=\"edge\">\n<title>0&#45;&gt;2</title>\n<path fill=\"none\" stroke=\"black\" d=\"M267.94,-222.91C273.08,-214.2 278.56,-204.9 283.87,-195.89\"/>\n<polygon fill=\"black\" stroke=\"black\" points=\"287.04,-197.41 289.1,-187.02 281.01,-193.86 287.04,-197.41\"/>\n<text text-anchor=\"middle\" x=\"295.35\" y=\"-207.53\" font-family=\"Helvetica,sans-Serif\" font-size=\"14.00\">False</text>\n</g>\n<!-- 5 -->\n<g id=\"node3\" class=\"node\">\n<title>5</title>\n<path fill=\"#e5813a\" stroke=\"black\" d=\"M98,-68C98,-68 12,-68 12,-68 6,-68 0,-62 0,-56 0,-56 0,-12 0,-12 0,-6 6,0 12,0 12,0 98,0 98,0 104,0 110,-6 110,-12 110,-12 110,-56 110,-56 110,-62 104,-68 98,-68\"/>\n<text text-anchor=\"start\" x=\"19.5\" y=\"-52.8\" font-family=\"Helvetica,sans-Serif\" font-size=\"14.00\">gini = 0.007</text>\n<text text-anchor=\"start\" x=\"10\" y=\"-37.8\" font-family=\"Helvetica,sans-Serif\" font-size=\"14.00\">samples = 271</text>\n<text text-anchor=\"start\" x=\"8\" y=\"-22.8\" font-family=\"Helvetica,sans-Serif\" font-size=\"14.00\">value = [270, 1]</text>\n<text text-anchor=\"start\" x=\"27.5\" y=\"-7.8\" font-family=\"Helvetica,sans-Serif\" font-size=\"14.00\">class = 0</text>\n</g>\n<!-- 1&#45;&gt;5 -->\n<g id=\"edge2\" class=\"edge\">\n<title>1&#45;&gt;5</title>\n<path fill=\"none\" stroke=\"black\" d=\"M130.32,-103.73C120.12,-94.42 109.29,-84.54 99.12,-75.26\"/>\n<polygon fill=\"black\" stroke=\"black\" points=\"101.24,-72.45 91.49,-68.3 96.52,-77.63 101.24,-72.45\"/>\n</g>\n<!-- 6 -->\n<g id=\"node4\" class=\"node\">\n<title>6</title>\n<path fill=\"#f0b890\" stroke=\"black\" d=\"M218,-68C218,-68 140,-68 140,-68 134,-68 128,-62 128,-56 128,-56 128,-12 128,-12 128,-6 134,0 140,0 140,0 218,0 218,0 224,0 230,-6 230,-12 230,-12 230,-56 230,-56 230,-62 224,-68 218,-68\"/>\n<text text-anchor=\"start\" x=\"143.5\" y=\"-52.8\" font-family=\"Helvetica,sans-Serif\" font-size=\"14.00\">gini = 0.423</text>\n<text text-anchor=\"start\" x=\"138\" y=\"-37.8\" font-family=\"Helvetica,sans-Serif\" font-size=\"14.00\">samples = 23</text>\n<text text-anchor=\"start\" x=\"136\" y=\"-22.8\" font-family=\"Helvetica,sans-Serif\" font-size=\"14.00\">value = [16, 7]</text>\n<text text-anchor=\"start\" x=\"151.5\" y=\"-7.8\" font-family=\"Helvetica,sans-Serif\" font-size=\"14.00\">class = 0</text>\n</g>\n<!-- 1&#45;&gt;6 -->\n<g id=\"edge3\" class=\"edge\">\n<title>1&#45;&gt;6</title>\n<path fill=\"none\" stroke=\"black\" d=\"M176.49,-103.73C176.79,-95.52 177.11,-86.86 177.41,-78.56\"/>\n<polygon fill=\"black\" stroke=\"black\" points=\"180.92,-78.42 177.78,-68.3 173.92,-78.17 180.92,-78.42\"/>\n</g>\n<!-- 3 -->\n<g id=\"node6\" class=\"node\">\n<title>3</title>\n<path fill=\"#f4cbad\" stroke=\"black\" d=\"M353,-68C353,-68 267,-68 267,-68 261,-68 255,-62 255,-56 255,-56 255,-12 255,-12 255,-6 261,0 267,0 267,0 353,0 353,0 359,0 365,-6 365,-12 365,-12 365,-56 365,-56 365,-62 359,-68 353,-68\"/>\n<text text-anchor=\"start\" x=\"274.5\" y=\"-52.8\" font-family=\"Helvetica,sans-Serif\" font-size=\"14.00\">gini = 0.466</text>\n<text text-anchor=\"start\" x=\"269\" y=\"-37.8\" font-family=\"Helvetica,sans-Serif\" font-size=\"14.00\">samples = 27</text>\n<text text-anchor=\"start\" x=\"263\" y=\"-22.8\" font-family=\"Helvetica,sans-Serif\" font-size=\"14.00\">value = [17, 10]</text>\n<text text-anchor=\"start\" x=\"282.5\" y=\"-7.8\" font-family=\"Helvetica,sans-Serif\" font-size=\"14.00\">class = 0</text>\n</g>\n<!-- 2&#45;&gt;3 -->\n<g id=\"edge5\" class=\"edge\">\n<title>2&#45;&gt;3</title>\n<path fill=\"none\" stroke=\"black\" d=\"M311.88,-103.73C311.66,-95.52 311.42,-86.86 311.19,-78.56\"/>\n<polygon fill=\"black\" stroke=\"black\" points=\"314.68,-78.2 310.91,-68.3 307.69,-78.39 314.68,-78.2\"/>\n</g>\n<!-- 4 -->\n<g id=\"node7\" class=\"node\">\n<title>4</title>\n<path fill=\"#44a2e6\" stroke=\"black\" d=\"M481,-68C481,-68 395,-68 395,-68 389,-68 383,-62 383,-56 383,-56 383,-12 383,-12 383,-6 389,0 395,0 395,0 481,0 481,0 487,0 493,-6 493,-12 493,-12 493,-56 493,-56 493,-62 487,-68 481,-68\"/>\n<text text-anchor=\"start\" x=\"402.5\" y=\"-52.8\" font-family=\"Helvetica,sans-Serif\" font-size=\"14.00\">gini = 0.097</text>\n<text text-anchor=\"start\" x=\"393\" y=\"-37.8\" font-family=\"Helvetica,sans-Serif\" font-size=\"14.00\">samples = 157</text>\n<text text-anchor=\"start\" x=\"391\" y=\"-22.8\" font-family=\"Helvetica,sans-Serif\" font-size=\"14.00\">value = [8, 149]</text>\n<text text-anchor=\"start\" x=\"410.5\" y=\"-7.8\" font-family=\"Helvetica,sans-Serif\" font-size=\"14.00\">class = 1</text>\n</g>\n<!-- 2&#45;&gt;4 -->\n<g id=\"edge6\" class=\"edge\">\n<title>2&#45;&gt;4</title>\n<path fill=\"none\" stroke=\"black\" d=\"M359.55,-103.73C370.27,-94.33 381.67,-84.35 392.35,-74.99\"/>\n<polygon fill=\"black\" stroke=\"black\" points=\"394.77,-77.52 399.99,-68.3 390.16,-72.26 394.77,-77.52\"/>\n</g>\n</g>\n</svg>\n"
          },
          "metadata": {},
          "execution_count": 275
        }
      ]
    },
    {
      "cell_type": "markdown",
      "source": [
        "Andando a modificare i parametri dell'algoritmo in questo caso non si verificano ingenti variazioni dei valori f1-score"
      ],
      "metadata": {
        "id": "YkbiSw-X-xJQ"
      }
    },
    {
      "cell_type": "markdown",
      "source": [
        "2.6"
      ],
      "metadata": {
        "id": "TlgpzKmw8J2J"
      }
    },
    {
      "cell_type": "code",
      "source": [
        "input = [[10,10,10,10,5,10,10,10,7]]\n",
        "predictInput = tree_clf.predict(input)\n",
        "predictInput"
      ],
      "metadata": {
        "colab": {
          "base_uri": "https://localhost:8080/"
        },
        "id": "EoGQerAy8L2Q",
        "outputId": "4ee718bd-aa99-40ed-ccf8-1c53d61df642"
      },
      "execution_count": null,
      "outputs": [
        {
          "output_type": "execute_result",
          "data": {
            "text/plain": [
              "array([4.])"
            ]
          },
          "metadata": {},
          "execution_count": 276
        }
      ]
    },
    {
      "cell_type": "markdown",
      "source": [
        "2.7"
      ],
      "metadata": {
        "id": "pZBR_Ftb_BDh"
      }
    },
    {
      "cell_type": "markdown",
      "source": [
        "K-NN\n",
        "![image.png](data:image/png;base64,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)\n",
        "![image.png](data:image/png;base64,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)\n",
        "Decision Tree"
      ],
      "metadata": {
        "id": "RFvJg_2O_IKB"
      }
    },
    {
      "cell_type": "code",
      "source": [
        "# Report K-NN\n",
        "print(classification_report(y_test, predict_knn))"
      ],
      "metadata": {
        "colab": {
          "base_uri": "https://localhost:8080/"
        },
        "outputId": "232043c2-6fec-4d8e-e3e6-21dc70eb73ee",
        "id": "X0elNhBc_Z-1"
      },
      "execution_count": null,
      "outputs": [
        {
          "output_type": "stream",
          "name": "stdout",
          "text": [
            "              precision    recall  f1-score   support\n",
            "\n",
            "         2.0       0.98      0.98      0.98       133\n",
            "         4.0       0.96      0.97      0.97        72\n",
            "\n",
            "    accuracy                           0.98       205\n",
            "   macro avg       0.97      0.97      0.97       205\n",
            "weighted avg       0.98      0.98      0.98       205\n",
            "\n"
          ]
        }
      ]
    },
    {
      "cell_type": "code",
      "source": [
        "# Report Decisioni Tree\n",
        "print(classification_report(y_test, predict_dt))"
      ],
      "metadata": {
        "colab": {
          "base_uri": "https://localhost:8080/"
        },
        "outputId": "dfc13f38-7b01-4ec4-ac83-7a7e6f5e111d",
        "id": "s7lSW0pR_fyG"
      },
      "execution_count": null,
      "outputs": [
        {
          "output_type": "stream",
          "name": "stdout",
          "text": [
            "              precision    recall  f1-score   support\n",
            "\n",
            "         2.0       0.94      0.93      0.94       133\n",
            "         4.0       0.88      0.89      0.88        72\n",
            "\n",
            "    accuracy                           0.92       205\n",
            "   macro avg       0.91      0.91      0.91       205\n",
            "weighted avg       0.92      0.92      0.92       205\n",
            "\n"
          ]
        }
      ]
    },
    {
      "cell_type": "markdown",
      "source": [
        "Conforntando i due metodi è possibile vedere come la precisione del metodo K-NN, in questo caso sia maggiore rispetto a quella del Decision Tree, f1-score del K-NN è superiore in tutte e due le classi "
      ],
      "metadata": {
        "id": "7coqXbo9_0VB"
      }
    },
    {
      "cell_type": "markdown",
      "source": [
        "2.8"
      ],
      "metadata": {
        "id": "szz-wKX2Agr5"
      }
    },
    {
      "cell_type": "code",
      "source": [
        "df[(df[\"Clump Thickness\"] == 10) & (df[\"Uniformity of Cell Size\"] == 10) & (df[\"Uniformity of Cell Shape\"] == 10) & (df[\"Marginal Adhesion\"] == 10) & (df[\"Single Epithelial Cell Size\"] == 5) & (df[\"Bare Nuclei\"] == 10) & (df[\"Bland Chromatin\"] == 10) & (df[\"Normal Nucleoli\"] == 10) & (df[\"Mitoses\"] == 7)]"
      ],
      "metadata": {
        "colab": {
          "base_uri": "https://localhost:8080/",
          "height": 81
        },
        "id": "SMQng5J0AiCy",
        "outputId": "116dac75-428a-4efb-89aa-093079978cec"
      },
      "execution_count": null,
      "outputs": [
        {
          "output_type": "execute_result",
          "data": {
            "text/plain": [
              "     Clump Thickness  Uniformity of Cell Size  Uniformity of Cell Shape  \\\n",
              "664               10                       10                        10   \n",
              "\n",
              "     Marginal Adhesion  Single Epithelial Cell Size  Bare Nuclei  \\\n",
              "664                 10                            5         10.0   \n",
              "\n",
              "     Bland Chromatin  Normal Nucleoli  Mitoses  Class  \n",
              "664               10               10        7      4  "
            ],
            "text/html": [
              "\n",
              "  <div id=\"df-7c8bbf8b-388f-4361-9bdc-755c5bf29e37\">\n",
              "    <div class=\"colab-df-container\">\n",
              "      <div>\n",
              "<style scoped>\n",
              "    .dataframe tbody tr th:only-of-type {\n",
              "        vertical-align: middle;\n",
              "    }\n",
              "\n",
              "    .dataframe tbody tr th {\n",
              "        vertical-align: top;\n",
              "    }\n",
              "\n",
              "    .dataframe thead th {\n",
              "        text-align: right;\n",
              "    }\n",
              "</style>\n",
              "<table border=\"1\" class=\"dataframe\">\n",
              "  <thead>\n",
              "    <tr style=\"text-align: right;\">\n",
              "      <th></th>\n",
              "      <th>Clump Thickness</th>\n",
              "      <th>Uniformity of Cell Size</th>\n",
              "      <th>Uniformity of Cell Shape</th>\n",
              "      <th>Marginal Adhesion</th>\n",
              "      <th>Single Epithelial Cell Size</th>\n",
              "      <th>Bare Nuclei</th>\n",
              "      <th>Bland Chromatin</th>\n",
              "      <th>Normal Nucleoli</th>\n",
              "      <th>Mitoses</th>\n",
              "      <th>Class</th>\n",
              "    </tr>\n",
              "  </thead>\n",
              "  <tbody>\n",
              "    <tr>\n",
              "      <th>664</th>\n",
              "      <td>10</td>\n",
              "      <td>10</td>\n",
              "      <td>10</td>\n",
              "      <td>10</td>\n",
              "      <td>5</td>\n",
              "      <td>10.0</td>\n",
              "      <td>10</td>\n",
              "      <td>10</td>\n",
              "      <td>7</td>\n",
              "      <td>4</td>\n",
              "    </tr>\n",
              "  </tbody>\n",
              "</table>\n",
              "</div>\n",
              "      <button class=\"colab-df-convert\" onclick=\"convertToInteractive('df-7c8bbf8b-388f-4361-9bdc-755c5bf29e37')\"\n",
              "              title=\"Convert this dataframe to an interactive table.\"\n",
              "              style=\"display:none;\">\n",
              "        \n",
              "  <svg xmlns=\"http://www.w3.org/2000/svg\" height=\"24px\"viewBox=\"0 0 24 24\"\n",
              "       width=\"24px\">\n",
              "    <path d=\"M0 0h24v24H0V0z\" fill=\"none\"/>\n",
              "    <path d=\"M18.56 5.44l.94 2.06.94-2.06 2.06-.94-2.06-.94-.94-2.06-.94 2.06-2.06.94zm-11 1L8.5 8.5l.94-2.06 2.06-.94-2.06-.94L8.5 2.5l-.94 2.06-2.06.94zm10 10l.94 2.06.94-2.06 2.06-.94-2.06-.94-.94-2.06-.94 2.06-2.06.94z\"/><path d=\"M17.41 7.96l-1.37-1.37c-.4-.4-.92-.59-1.43-.59-.52 0-1.04.2-1.43.59L10.3 9.45l-7.72 7.72c-.78.78-.78 2.05 0 2.83L4 21.41c.39.39.9.59 1.41.59.51 0 1.02-.2 1.41-.59l7.78-7.78 2.81-2.81c.8-.78.8-2.07 0-2.86zM5.41 20L4 18.59l7.72-7.72 1.47 1.35L5.41 20z\"/>\n",
              "  </svg>\n",
              "      </button>\n",
              "      \n",
              "  <style>\n",
              "    .colab-df-container {\n",
              "      display:flex;\n",
              "      flex-wrap:wrap;\n",
              "      gap: 12px;\n",
              "    }\n",
              "\n",
              "    .colab-df-convert {\n",
              "      background-color: #E8F0FE;\n",
              "      border: none;\n",
              "      border-radius: 50%;\n",
              "      cursor: pointer;\n",
              "      display: none;\n",
              "      fill: #1967D2;\n",
              "      height: 32px;\n",
              "      padding: 0 0 0 0;\n",
              "      width: 32px;\n",
              "    }\n",
              "\n",
              "    .colab-df-convert:hover {\n",
              "      background-color: #E2EBFA;\n",
              "      box-shadow: 0px 1px 2px rgba(60, 64, 67, 0.3), 0px 1px 3px 1px rgba(60, 64, 67, 0.15);\n",
              "      fill: #174EA6;\n",
              "    }\n",
              "\n",
              "    [theme=dark] .colab-df-convert {\n",
              "      background-color: #3B4455;\n",
              "      fill: #D2E3FC;\n",
              "    }\n",
              "\n",
              "    [theme=dark] .colab-df-convert:hover {\n",
              "      background-color: #434B5C;\n",
              "      box-shadow: 0px 1px 3px 1px rgba(0, 0, 0, 0.15);\n",
              "      filter: drop-shadow(0px 1px 2px rgba(0, 0, 0, 0.3));\n",
              "      fill: #FFFFFF;\n",
              "    }\n",
              "  </style>\n",
              "\n",
              "      <script>\n",
              "        const buttonEl =\n",
              "          document.querySelector('#df-7c8bbf8b-388f-4361-9bdc-755c5bf29e37 button.colab-df-convert');\n",
              "        buttonEl.style.display =\n",
              "          google.colab.kernel.accessAllowed ? 'block' : 'none';\n",
              "\n",
              "        async function convertToInteractive(key) {\n",
              "          const element = document.querySelector('#df-7c8bbf8b-388f-4361-9bdc-755c5bf29e37');\n",
              "          const dataTable =\n",
              "            await google.colab.kernel.invokeFunction('convertToInteractive',\n",
              "                                                     [key], {});\n",
              "          if (!dataTable) return;\n",
              "\n",
              "          const docLinkHtml = 'Like what you see? Visit the ' +\n",
              "            '<a target=\"_blank\" href=https://colab.research.google.com/notebooks/data_table.ipynb>data table notebook</a>'\n",
              "            + ' to learn more about interactive tables.';\n",
              "          element.innerHTML = '';\n",
              "          dataTable['output_type'] = 'display_data';\n",
              "          await google.colab.output.renderOutput(dataTable, element);\n",
              "          const docLink = document.createElement('div');\n",
              "          docLink.innerHTML = docLinkHtml;\n",
              "          element.appendChild(docLink);\n",
              "        }\n",
              "      </script>\n",
              "    </div>\n",
              "  </div>\n",
              "  "
            ]
          },
          "metadata": {},
          "execution_count": 279
        }
      ]
    },
    {
      "cell_type": "markdown",
      "source": [
        "La classe predetta corrisponde a quella visibile nel dataset "
      ],
      "metadata": {
        "id": "knyccbzMCZqx"
      }
    },
    {
      "cell_type": "code",
      "source": [
        "X_train[(X_train[:,0] == 10) & (X_train[:,1] == 10) & (X_train[:,2] == 10) & (X_train[:,3] == 10) & (X_train[:,4] == 5) & (X_train[:,5] == 10) & (X_train[:,6] == 10) & (X_train[:,7] == 10) & (X_train[:,8] == 7)]"
      ],
      "metadata": {
        "colab": {
          "base_uri": "https://localhost:8080/"
        },
        "id": "FcqubM2nBZKb",
        "outputId": "4c9fa339-d106-439c-bf5c-91f59093378c"
      },
      "execution_count": null,
      "outputs": [
        {
          "output_type": "execute_result",
          "data": {
            "text/plain": [
              "array([[10., 10., 10., 10.,  5., 10., 10., 10.,  7.]])"
            ]
          },
          "metadata": {},
          "execution_count": 280
        }
      ]
    },
    {
      "cell_type": "markdown",
      "source": [
        "I dati si trovano in X_train"
      ],
      "metadata": {
        "id": "2wcfdUyOBt7Z"
      }
    },
    {
      "cell_type": "markdown",
      "source": [
        "# Verifica 2 "
      ],
      "metadata": {
        "id": "MyWGmUYnB0YJ"
      }
    },
    {
      "cell_type": "code",
      "source": [
        "import pandas as pd \n",
        "df = pd.read_csv(\"/content/drive/MyDrive/Colab Notebooks/ML 101.1/data/glass (1).data\", names=[\"id\",\"RI\",\"NA\",\"MG\",\"AL\",\"SI\",\"K\",\"CA\",\"BA\",\"FE\",\"Type\"])"
      ],
      "metadata": {
        "id": "uY87XNlTB8Td"
      },
      "execution_count": null,
      "outputs": []
    },
    {
      "cell_type": "code",
      "source": [
        "df"
      ],
      "metadata": {
        "colab": {
          "base_uri": "https://localhost:8080/",
          "height": 424
        },
        "id": "KZAfAZGMCf-S",
        "outputId": "cf66e485-dda8-4660-da6a-92abe8d0d71d"
      },
      "execution_count": null,
      "outputs": [
        {
          "output_type": "execute_result",
          "data": {
            "text/plain": [
              "      id       RI     NA    MG    AL     SI     K    CA    BA   FE  Type\n",
              "0      1  1.52101  13.64  4.49  1.10  71.78  0.06  8.75  0.00  0.0     1\n",
              "1      2  1.51761  13.89  3.60  1.36  72.73  0.48  7.83  0.00  0.0     1\n",
              "2      3  1.51618  13.53  3.55  1.54  72.99  0.39  7.78  0.00  0.0     1\n",
              "3      4  1.51766  13.21  3.69  1.29  72.61  0.57  8.22  0.00  0.0     1\n",
              "4      5  1.51742  13.27  3.62  1.24  73.08  0.55  8.07  0.00  0.0     1\n",
              "..   ...      ...    ...   ...   ...    ...   ...   ...   ...  ...   ...\n",
              "209  210  1.51623  14.14  0.00  2.88  72.61  0.08  9.18  1.06  0.0     7\n",
              "210  211  1.51685  14.92  0.00  1.99  73.06  0.00  8.40  1.59  0.0     7\n",
              "211  212  1.52065  14.36  0.00  2.02  73.42  0.00  8.44  1.64  0.0     7\n",
              "212  213  1.51651  14.38  0.00  1.94  73.61  0.00  8.48  1.57  0.0     7\n",
              "213  214  1.51711  14.23  0.00  2.08  73.36  0.00  8.62  1.67  0.0     7\n",
              "\n",
              "[214 rows x 11 columns]"
            ],
            "text/html": [
              "\n",
              "  <div id=\"df-ff262bfc-0edd-4d5d-a5c3-b2f00867183d\">\n",
              "    <div class=\"colab-df-container\">\n",
              "      <div>\n",
              "<style scoped>\n",
              "    .dataframe tbody tr th:only-of-type {\n",
              "        vertical-align: middle;\n",
              "    }\n",
              "\n",
              "    .dataframe tbody tr th {\n",
              "        vertical-align: top;\n",
              "    }\n",
              "\n",
              "    .dataframe thead th {\n",
              "        text-align: right;\n",
              "    }\n",
              "</style>\n",
              "<table border=\"1\" class=\"dataframe\">\n",
              "  <thead>\n",
              "    <tr style=\"text-align: right;\">\n",
              "      <th></th>\n",
              "      <th>id</th>\n",
              "      <th>RI</th>\n",
              "      <th>NA</th>\n",
              "      <th>MG</th>\n",
              "      <th>AL</th>\n",
              "      <th>SI</th>\n",
              "      <th>K</th>\n",
              "      <th>CA</th>\n",
              "      <th>BA</th>\n",
              "      <th>FE</th>\n",
              "      <th>Type</th>\n",
              "    </tr>\n",
              "  </thead>\n",
              "  <tbody>\n",
              "    <tr>\n",
              "      <th>0</th>\n",
              "      <td>1</td>\n",
              "      <td>1.52101</td>\n",
              "      <td>13.64</td>\n",
              "      <td>4.49</td>\n",
              "      <td>1.10</td>\n",
              "      <td>71.78</td>\n",
              "      <td>0.06</td>\n",
              "      <td>8.75</td>\n",
              "      <td>0.00</td>\n",
              "      <td>0.0</td>\n",
              "      <td>1</td>\n",
              "    </tr>\n",
              "    <tr>\n",
              "      <th>1</th>\n",
              "      <td>2</td>\n",
              "      <td>1.51761</td>\n",
              "      <td>13.89</td>\n",
              "      <td>3.60</td>\n",
              "      <td>1.36</td>\n",
              "      <td>72.73</td>\n",
              "      <td>0.48</td>\n",
              "      <td>7.83</td>\n",
              "      <td>0.00</td>\n",
              "      <td>0.0</td>\n",
              "      <td>1</td>\n",
              "    </tr>\n",
              "    <tr>\n",
              "      <th>2</th>\n",
              "      <td>3</td>\n",
              "      <td>1.51618</td>\n",
              "      <td>13.53</td>\n",
              "      <td>3.55</td>\n",
              "      <td>1.54</td>\n",
              "      <td>72.99</td>\n",
              "      <td>0.39</td>\n",
              "      <td>7.78</td>\n",
              "      <td>0.00</td>\n",
              "      <td>0.0</td>\n",
              "      <td>1</td>\n",
              "    </tr>\n",
              "    <tr>\n",
              "      <th>3</th>\n",
              "      <td>4</td>\n",
              "      <td>1.51766</td>\n",
              "      <td>13.21</td>\n",
              "      <td>3.69</td>\n",
              "      <td>1.29</td>\n",
              "      <td>72.61</td>\n",
              "      <td>0.57</td>\n",
              "      <td>8.22</td>\n",
              "      <td>0.00</td>\n",
              "      <td>0.0</td>\n",
              "      <td>1</td>\n",
              "    </tr>\n",
              "    <tr>\n",
              "      <th>4</th>\n",
              "      <td>5</td>\n",
              "      <td>1.51742</td>\n",
              "      <td>13.27</td>\n",
              "      <td>3.62</td>\n",
              "      <td>1.24</td>\n",
              "      <td>73.08</td>\n",
              "      <td>0.55</td>\n",
              "      <td>8.07</td>\n",
              "      <td>0.00</td>\n",
              "      <td>0.0</td>\n",
              "      <td>1</td>\n",
              "    </tr>\n",
              "    <tr>\n",
              "      <th>...</th>\n",
              "      <td>...</td>\n",
              "      <td>...</td>\n",
              "      <td>...</td>\n",
              "      <td>...</td>\n",
              "      <td>...</td>\n",
              "      <td>...</td>\n",
              "      <td>...</td>\n",
              "      <td>...</td>\n",
              "      <td>...</td>\n",
              "      <td>...</td>\n",
              "      <td>...</td>\n",
              "    </tr>\n",
              "    <tr>\n",
              "      <th>209</th>\n",
              "      <td>210</td>\n",
              "      <td>1.51623</td>\n",
              "      <td>14.14</td>\n",
              "      <td>0.00</td>\n",
              "      <td>2.88</td>\n",
              "      <td>72.61</td>\n",
              "      <td>0.08</td>\n",
              "      <td>9.18</td>\n",
              "      <td>1.06</td>\n",
              "      <td>0.0</td>\n",
              "      <td>7</td>\n",
              "    </tr>\n",
              "    <tr>\n",
              "      <th>210</th>\n",
              "      <td>211</td>\n",
              "      <td>1.51685</td>\n",
              "      <td>14.92</td>\n",
              "      <td>0.00</td>\n",
              "      <td>1.99</td>\n",
              "      <td>73.06</td>\n",
              "      <td>0.00</td>\n",
              "      <td>8.40</td>\n",
              "      <td>1.59</td>\n",
              "      <td>0.0</td>\n",
              "      <td>7</td>\n",
              "    </tr>\n",
              "    <tr>\n",
              "      <th>211</th>\n",
              "      <td>212</td>\n",
              "      <td>1.52065</td>\n",
              "      <td>14.36</td>\n",
              "      <td>0.00</td>\n",
              "      <td>2.02</td>\n",
              "      <td>73.42</td>\n",
              "      <td>0.00</td>\n",
              "      <td>8.44</td>\n",
              "      <td>1.64</td>\n",
              "      <td>0.0</td>\n",
              "      <td>7</td>\n",
              "    </tr>\n",
              "    <tr>\n",
              "      <th>212</th>\n",
              "      <td>213</td>\n",
              "      <td>1.51651</td>\n",
              "      <td>14.38</td>\n",
              "      <td>0.00</td>\n",
              "      <td>1.94</td>\n",
              "      <td>73.61</td>\n",
              "      <td>0.00</td>\n",
              "      <td>8.48</td>\n",
              "      <td>1.57</td>\n",
              "      <td>0.0</td>\n",
              "      <td>7</td>\n",
              "    </tr>\n",
              "    <tr>\n",
              "      <th>213</th>\n",
              "      <td>214</td>\n",
              "      <td>1.51711</td>\n",
              "      <td>14.23</td>\n",
              "      <td>0.00</td>\n",
              "      <td>2.08</td>\n",
              "      <td>73.36</td>\n",
              "      <td>0.00</td>\n",
              "      <td>8.62</td>\n",
              "      <td>1.67</td>\n",
              "      <td>0.0</td>\n",
              "      <td>7</td>\n",
              "    </tr>\n",
              "  </tbody>\n",
              "</table>\n",
              "<p>214 rows × 11 columns</p>\n",
              "</div>\n",
              "      <button class=\"colab-df-convert\" onclick=\"convertToInteractive('df-ff262bfc-0edd-4d5d-a5c3-b2f00867183d')\"\n",
              "              title=\"Convert this dataframe to an interactive table.\"\n",
              "              style=\"display:none;\">\n",
              "        \n",
              "  <svg xmlns=\"http://www.w3.org/2000/svg\" height=\"24px\"viewBox=\"0 0 24 24\"\n",
              "       width=\"24px\">\n",
              "    <path d=\"M0 0h24v24H0V0z\" fill=\"none\"/>\n",
              "    <path d=\"M18.56 5.44l.94 2.06.94-2.06 2.06-.94-2.06-.94-.94-2.06-.94 2.06-2.06.94zm-11 1L8.5 8.5l.94-2.06 2.06-.94-2.06-.94L8.5 2.5l-.94 2.06-2.06.94zm10 10l.94 2.06.94-2.06 2.06-.94-2.06-.94-.94-2.06-.94 2.06-2.06.94z\"/><path d=\"M17.41 7.96l-1.37-1.37c-.4-.4-.92-.59-1.43-.59-.52 0-1.04.2-1.43.59L10.3 9.45l-7.72 7.72c-.78.78-.78 2.05 0 2.83L4 21.41c.39.39.9.59 1.41.59.51 0 1.02-.2 1.41-.59l7.78-7.78 2.81-2.81c.8-.78.8-2.07 0-2.86zM5.41 20L4 18.59l7.72-7.72 1.47 1.35L5.41 20z\"/>\n",
              "  </svg>\n",
              "      </button>\n",
              "      \n",
              "  <style>\n",
              "    .colab-df-container {\n",
              "      display:flex;\n",
              "      flex-wrap:wrap;\n",
              "      gap: 12px;\n",
              "    }\n",
              "\n",
              "    .colab-df-convert {\n",
              "      background-color: #E8F0FE;\n",
              "      border: none;\n",
              "      border-radius: 50%;\n",
              "      cursor: pointer;\n",
              "      display: none;\n",
              "      fill: #1967D2;\n",
              "      height: 32px;\n",
              "      padding: 0 0 0 0;\n",
              "      width: 32px;\n",
              "    }\n",
              "\n",
              "    .colab-df-convert:hover {\n",
              "      background-color: #E2EBFA;\n",
              "      box-shadow: 0px 1px 2px rgba(60, 64, 67, 0.3), 0px 1px 3px 1px rgba(60, 64, 67, 0.15);\n",
              "      fill: #174EA6;\n",
              "    }\n",
              "\n",
              "    [theme=dark] .colab-df-convert {\n",
              "      background-color: #3B4455;\n",
              "      fill: #D2E3FC;\n",
              "    }\n",
              "\n",
              "    [theme=dark] .colab-df-convert:hover {\n",
              "      background-color: #434B5C;\n",
              "      box-shadow: 0px 1px 3px 1px rgba(0, 0, 0, 0.15);\n",
              "      filter: drop-shadow(0px 1px 2px rgba(0, 0, 0, 0.3));\n",
              "      fill: #FFFFFF;\n",
              "    }\n",
              "  </style>\n",
              "\n",
              "      <script>\n",
              "        const buttonEl =\n",
              "          document.querySelector('#df-ff262bfc-0edd-4d5d-a5c3-b2f00867183d button.colab-df-convert');\n",
              "        buttonEl.style.display =\n",
              "          google.colab.kernel.accessAllowed ? 'block' : 'none';\n",
              "\n",
              "        async function convertToInteractive(key) {\n",
              "          const element = document.querySelector('#df-ff262bfc-0edd-4d5d-a5c3-b2f00867183d');\n",
              "          const dataTable =\n",
              "            await google.colab.kernel.invokeFunction('convertToInteractive',\n",
              "                                                     [key], {});\n",
              "          if (!dataTable) return;\n",
              "\n",
              "          const docLinkHtml = 'Like what you see? Visit the ' +\n",
              "            '<a target=\"_blank\" href=https://colab.research.google.com/notebooks/data_table.ipynb>data table notebook</a>'\n",
              "            + ' to learn more about interactive tables.';\n",
              "          element.innerHTML = '';\n",
              "          dataTable['output_type'] = 'display_data';\n",
              "          await google.colab.output.renderOutput(dataTable, element);\n",
              "          const docLink = document.createElement('div');\n",
              "          docLink.innerHTML = docLinkHtml;\n",
              "          element.appendChild(docLink);\n",
              "        }\n",
              "      </script>\n",
              "    </div>\n",
              "  </div>\n",
              "  "
            ]
          },
          "metadata": {},
          "execution_count": 282
        }
      ]
    },
    {
      "cell_type": "markdown",
      "source": [
        "2.1"
      ],
      "metadata": {
        "id": "aNnxc9IADKiF"
      }
    },
    {
      "cell_type": "code",
      "source": [
        "df = df.drop('id', axis=1)\n",
        "df"
      ],
      "metadata": {
        "colab": {
          "base_uri": "https://localhost:8080/",
          "height": 424
        },
        "id": "lH5Ax3ItDG56",
        "outputId": "061ca95c-7f90-4dee-a5f4-510f61caa613"
      },
      "execution_count": null,
      "outputs": [
        {
          "output_type": "execute_result",
          "data": {
            "text/plain": [
              "          RI     NA    MG    AL     SI     K    CA    BA   FE  Type\n",
              "0    1.52101  13.64  4.49  1.10  71.78  0.06  8.75  0.00  0.0     1\n",
              "1    1.51761  13.89  3.60  1.36  72.73  0.48  7.83  0.00  0.0     1\n",
              "2    1.51618  13.53  3.55  1.54  72.99  0.39  7.78  0.00  0.0     1\n",
              "3    1.51766  13.21  3.69  1.29  72.61  0.57  8.22  0.00  0.0     1\n",
              "4    1.51742  13.27  3.62  1.24  73.08  0.55  8.07  0.00  0.0     1\n",
              "..       ...    ...   ...   ...    ...   ...   ...   ...  ...   ...\n",
              "209  1.51623  14.14  0.00  2.88  72.61  0.08  9.18  1.06  0.0     7\n",
              "210  1.51685  14.92  0.00  1.99  73.06  0.00  8.40  1.59  0.0     7\n",
              "211  1.52065  14.36  0.00  2.02  73.42  0.00  8.44  1.64  0.0     7\n",
              "212  1.51651  14.38  0.00  1.94  73.61  0.00  8.48  1.57  0.0     7\n",
              "213  1.51711  14.23  0.00  2.08  73.36  0.00  8.62  1.67  0.0     7\n",
              "\n",
              "[214 rows x 10 columns]"
            ],
            "text/html": [
              "\n",
              "  <div id=\"df-ba1d0ff8-850b-4ef6-a633-9e224c756629\">\n",
              "    <div class=\"colab-df-container\">\n",
              "      <div>\n",
              "<style scoped>\n",
              "    .dataframe tbody tr th:only-of-type {\n",
              "        vertical-align: middle;\n",
              "    }\n",
              "\n",
              "    .dataframe tbody tr th {\n",
              "        vertical-align: top;\n",
              "    }\n",
              "\n",
              "    .dataframe thead th {\n",
              "        text-align: right;\n",
              "    }\n",
              "</style>\n",
              "<table border=\"1\" class=\"dataframe\">\n",
              "  <thead>\n",
              "    <tr style=\"text-align: right;\">\n",
              "      <th></th>\n",
              "      <th>RI</th>\n",
              "      <th>NA</th>\n",
              "      <th>MG</th>\n",
              "      <th>AL</th>\n",
              "      <th>SI</th>\n",
              "      <th>K</th>\n",
              "      <th>CA</th>\n",
              "      <th>BA</th>\n",
              "      <th>FE</th>\n",
              "      <th>Type</th>\n",
              "    </tr>\n",
              "  </thead>\n",
              "  <tbody>\n",
              "    <tr>\n",
              "      <th>0</th>\n",
              "      <td>1.52101</td>\n",
              "      <td>13.64</td>\n",
              "      <td>4.49</td>\n",
              "      <td>1.10</td>\n",
              "      <td>71.78</td>\n",
              "      <td>0.06</td>\n",
              "      <td>8.75</td>\n",
              "      <td>0.00</td>\n",
              "      <td>0.0</td>\n",
              "      <td>1</td>\n",
              "    </tr>\n",
              "    <tr>\n",
              "      <th>1</th>\n",
              "      <td>1.51761</td>\n",
              "      <td>13.89</td>\n",
              "      <td>3.60</td>\n",
              "      <td>1.36</td>\n",
              "      <td>72.73</td>\n",
              "      <td>0.48</td>\n",
              "      <td>7.83</td>\n",
              "      <td>0.00</td>\n",
              "      <td>0.0</td>\n",
              "      <td>1</td>\n",
              "    </tr>\n",
              "    <tr>\n",
              "      <th>2</th>\n",
              "      <td>1.51618</td>\n",
              "      <td>13.53</td>\n",
              "      <td>3.55</td>\n",
              "      <td>1.54</td>\n",
              "      <td>72.99</td>\n",
              "      <td>0.39</td>\n",
              "      <td>7.78</td>\n",
              "      <td>0.00</td>\n",
              "      <td>0.0</td>\n",
              "      <td>1</td>\n",
              "    </tr>\n",
              "    <tr>\n",
              "      <th>3</th>\n",
              "      <td>1.51766</td>\n",
              "      <td>13.21</td>\n",
              "      <td>3.69</td>\n",
              "      <td>1.29</td>\n",
              "      <td>72.61</td>\n",
              "      <td>0.57</td>\n",
              "      <td>8.22</td>\n",
              "      <td>0.00</td>\n",
              "      <td>0.0</td>\n",
              "      <td>1</td>\n",
              "    </tr>\n",
              "    <tr>\n",
              "      <th>4</th>\n",
              "      <td>1.51742</td>\n",
              "      <td>13.27</td>\n",
              "      <td>3.62</td>\n",
              "      <td>1.24</td>\n",
              "      <td>73.08</td>\n",
              "      <td>0.55</td>\n",
              "      <td>8.07</td>\n",
              "      <td>0.00</td>\n",
              "      <td>0.0</td>\n",
              "      <td>1</td>\n",
              "    </tr>\n",
              "    <tr>\n",
              "      <th>...</th>\n",
              "      <td>...</td>\n",
              "      <td>...</td>\n",
              "      <td>...</td>\n",
              "      <td>...</td>\n",
              "      <td>...</td>\n",
              "      <td>...</td>\n",
              "      <td>...</td>\n",
              "      <td>...</td>\n",
              "      <td>...</td>\n",
              "      <td>...</td>\n",
              "    </tr>\n",
              "    <tr>\n",
              "      <th>209</th>\n",
              "      <td>1.51623</td>\n",
              "      <td>14.14</td>\n",
              "      <td>0.00</td>\n",
              "      <td>2.88</td>\n",
              "      <td>72.61</td>\n",
              "      <td>0.08</td>\n",
              "      <td>9.18</td>\n",
              "      <td>1.06</td>\n",
              "      <td>0.0</td>\n",
              "      <td>7</td>\n",
              "    </tr>\n",
              "    <tr>\n",
              "      <th>210</th>\n",
              "      <td>1.51685</td>\n",
              "      <td>14.92</td>\n",
              "      <td>0.00</td>\n",
              "      <td>1.99</td>\n",
              "      <td>73.06</td>\n",
              "      <td>0.00</td>\n",
              "      <td>8.40</td>\n",
              "      <td>1.59</td>\n",
              "      <td>0.0</td>\n",
              "      <td>7</td>\n",
              "    </tr>\n",
              "    <tr>\n",
              "      <th>211</th>\n",
              "      <td>1.52065</td>\n",
              "      <td>14.36</td>\n",
              "      <td>0.00</td>\n",
              "      <td>2.02</td>\n",
              "      <td>73.42</td>\n",
              "      <td>0.00</td>\n",
              "      <td>8.44</td>\n",
              "      <td>1.64</td>\n",
              "      <td>0.0</td>\n",
              "      <td>7</td>\n",
              "    </tr>\n",
              "    <tr>\n",
              "      <th>212</th>\n",
              "      <td>1.51651</td>\n",
              "      <td>14.38</td>\n",
              "      <td>0.00</td>\n",
              "      <td>1.94</td>\n",
              "      <td>73.61</td>\n",
              "      <td>0.00</td>\n",
              "      <td>8.48</td>\n",
              "      <td>1.57</td>\n",
              "      <td>0.0</td>\n",
              "      <td>7</td>\n",
              "    </tr>\n",
              "    <tr>\n",
              "      <th>213</th>\n",
              "      <td>1.51711</td>\n",
              "      <td>14.23</td>\n",
              "      <td>0.00</td>\n",
              "      <td>2.08</td>\n",
              "      <td>73.36</td>\n",
              "      <td>0.00</td>\n",
              "      <td>8.62</td>\n",
              "      <td>1.67</td>\n",
              "      <td>0.0</td>\n",
              "      <td>7</td>\n",
              "    </tr>\n",
              "  </tbody>\n",
              "</table>\n",
              "<p>214 rows × 10 columns</p>\n",
              "</div>\n",
              "      <button class=\"colab-df-convert\" onclick=\"convertToInteractive('df-ba1d0ff8-850b-4ef6-a633-9e224c756629')\"\n",
              "              title=\"Convert this dataframe to an interactive table.\"\n",
              "              style=\"display:none;\">\n",
              "        \n",
              "  <svg xmlns=\"http://www.w3.org/2000/svg\" height=\"24px\"viewBox=\"0 0 24 24\"\n",
              "       width=\"24px\">\n",
              "    <path d=\"M0 0h24v24H0V0z\" fill=\"none\"/>\n",
              "    <path d=\"M18.56 5.44l.94 2.06.94-2.06 2.06-.94-2.06-.94-.94-2.06-.94 2.06-2.06.94zm-11 1L8.5 8.5l.94-2.06 2.06-.94-2.06-.94L8.5 2.5l-.94 2.06-2.06.94zm10 10l.94 2.06.94-2.06 2.06-.94-2.06-.94-.94-2.06-.94 2.06-2.06.94z\"/><path d=\"M17.41 7.96l-1.37-1.37c-.4-.4-.92-.59-1.43-.59-.52 0-1.04.2-1.43.59L10.3 9.45l-7.72 7.72c-.78.78-.78 2.05 0 2.83L4 21.41c.39.39.9.59 1.41.59.51 0 1.02-.2 1.41-.59l7.78-7.78 2.81-2.81c.8-.78.8-2.07 0-2.86zM5.41 20L4 18.59l7.72-7.72 1.47 1.35L5.41 20z\"/>\n",
              "  </svg>\n",
              "      </button>\n",
              "      \n",
              "  <style>\n",
              "    .colab-df-container {\n",
              "      display:flex;\n",
              "      flex-wrap:wrap;\n",
              "      gap: 12px;\n",
              "    }\n",
              "\n",
              "    .colab-df-convert {\n",
              "      background-color: #E8F0FE;\n",
              "      border: none;\n",
              "      border-radius: 50%;\n",
              "      cursor: pointer;\n",
              "      display: none;\n",
              "      fill: #1967D2;\n",
              "      height: 32px;\n",
              "      padding: 0 0 0 0;\n",
              "      width: 32px;\n",
              "    }\n",
              "\n",
              "    .colab-df-convert:hover {\n",
              "      background-color: #E2EBFA;\n",
              "      box-shadow: 0px 1px 2px rgba(60, 64, 67, 0.3), 0px 1px 3px 1px rgba(60, 64, 67, 0.15);\n",
              "      fill: #174EA6;\n",
              "    }\n",
              "\n",
              "    [theme=dark] .colab-df-convert {\n",
              "      background-color: #3B4455;\n",
              "      fill: #D2E3FC;\n",
              "    }\n",
              "\n",
              "    [theme=dark] .colab-df-convert:hover {\n",
              "      background-color: #434B5C;\n",
              "      box-shadow: 0px 1px 3px 1px rgba(0, 0, 0, 0.15);\n",
              "      filter: drop-shadow(0px 1px 2px rgba(0, 0, 0, 0.3));\n",
              "      fill: #FFFFFF;\n",
              "    }\n",
              "  </style>\n",
              "\n",
              "      <script>\n",
              "        const buttonEl =\n",
              "          document.querySelector('#df-ba1d0ff8-850b-4ef6-a633-9e224c756629 button.colab-df-convert');\n",
              "        buttonEl.style.display =\n",
              "          google.colab.kernel.accessAllowed ? 'block' : 'none';\n",
              "\n",
              "        async function convertToInteractive(key) {\n",
              "          const element = document.querySelector('#df-ba1d0ff8-850b-4ef6-a633-9e224c756629');\n",
              "          const dataTable =\n",
              "            await google.colab.kernel.invokeFunction('convertToInteractive',\n",
              "                                                     [key], {});\n",
              "          if (!dataTable) return;\n",
              "\n",
              "          const docLinkHtml = 'Like what you see? Visit the ' +\n",
              "            '<a target=\"_blank\" href=https://colab.research.google.com/notebooks/data_table.ipynb>data table notebook</a>'\n",
              "            + ' to learn more about interactive tables.';\n",
              "          element.innerHTML = '';\n",
              "          dataTable['output_type'] = 'display_data';\n",
              "          await google.colab.output.renderOutput(dataTable, element);\n",
              "          const docLink = document.createElement('div');\n",
              "          docLink.innerHTML = docLinkHtml;\n",
              "          element.appendChild(docLink);\n",
              "        }\n",
              "      </script>\n",
              "    </div>\n",
              "  </div>\n",
              "  "
            ]
          },
          "metadata": {},
          "execution_count": 283
        }
      ]
    },
    {
      "cell_type": "code",
      "source": [
        "df=df.dropna().reset_index(drop=True)\n",
        "df"
      ],
      "metadata": {
        "colab": {
          "base_uri": "https://localhost:8080/",
          "height": 424
        },
        "id": "7-CnvBVRDL3D",
        "outputId": "71ea1766-79b3-43fc-d62d-94fe7d91e8d0"
      },
      "execution_count": null,
      "outputs": [
        {
          "output_type": "execute_result",
          "data": {
            "text/plain": [
              "          RI     NA    MG    AL     SI     K    CA    BA   FE  Type\n",
              "0    1.52101  13.64  4.49  1.10  71.78  0.06  8.75  0.00  0.0     1\n",
              "1    1.51761  13.89  3.60  1.36  72.73  0.48  7.83  0.00  0.0     1\n",
              "2    1.51618  13.53  3.55  1.54  72.99  0.39  7.78  0.00  0.0     1\n",
              "3    1.51766  13.21  3.69  1.29  72.61  0.57  8.22  0.00  0.0     1\n",
              "4    1.51742  13.27  3.62  1.24  73.08  0.55  8.07  0.00  0.0     1\n",
              "..       ...    ...   ...   ...    ...   ...   ...   ...  ...   ...\n",
              "209  1.51623  14.14  0.00  2.88  72.61  0.08  9.18  1.06  0.0     7\n",
              "210  1.51685  14.92  0.00  1.99  73.06  0.00  8.40  1.59  0.0     7\n",
              "211  1.52065  14.36  0.00  2.02  73.42  0.00  8.44  1.64  0.0     7\n",
              "212  1.51651  14.38  0.00  1.94  73.61  0.00  8.48  1.57  0.0     7\n",
              "213  1.51711  14.23  0.00  2.08  73.36  0.00  8.62  1.67  0.0     7\n",
              "\n",
              "[214 rows x 10 columns]"
            ],
            "text/html": [
              "\n",
              "  <div id=\"df-7f631b95-c752-4557-bb2e-e14feb384715\">\n",
              "    <div class=\"colab-df-container\">\n",
              "      <div>\n",
              "<style scoped>\n",
              "    .dataframe tbody tr th:only-of-type {\n",
              "        vertical-align: middle;\n",
              "    }\n",
              "\n",
              "    .dataframe tbody tr th {\n",
              "        vertical-align: top;\n",
              "    }\n",
              "\n",
              "    .dataframe thead th {\n",
              "        text-align: right;\n",
              "    }\n",
              "</style>\n",
              "<table border=\"1\" class=\"dataframe\">\n",
              "  <thead>\n",
              "    <tr style=\"text-align: right;\">\n",
              "      <th></th>\n",
              "      <th>RI</th>\n",
              "      <th>NA</th>\n",
              "      <th>MG</th>\n",
              "      <th>AL</th>\n",
              "      <th>SI</th>\n",
              "      <th>K</th>\n",
              "      <th>CA</th>\n",
              "      <th>BA</th>\n",
              "      <th>FE</th>\n",
              "      <th>Type</th>\n",
              "    </tr>\n",
              "  </thead>\n",
              "  <tbody>\n",
              "    <tr>\n",
              "      <th>0</th>\n",
              "      <td>1.52101</td>\n",
              "      <td>13.64</td>\n",
              "      <td>4.49</td>\n",
              "      <td>1.10</td>\n",
              "      <td>71.78</td>\n",
              "      <td>0.06</td>\n",
              "      <td>8.75</td>\n",
              "      <td>0.00</td>\n",
              "      <td>0.0</td>\n",
              "      <td>1</td>\n",
              "    </tr>\n",
              "    <tr>\n",
              "      <th>1</th>\n",
              "      <td>1.51761</td>\n",
              "      <td>13.89</td>\n",
              "      <td>3.60</td>\n",
              "      <td>1.36</td>\n",
              "      <td>72.73</td>\n",
              "      <td>0.48</td>\n",
              "      <td>7.83</td>\n",
              "      <td>0.00</td>\n",
              "      <td>0.0</td>\n",
              "      <td>1</td>\n",
              "    </tr>\n",
              "    <tr>\n",
              "      <th>2</th>\n",
              "      <td>1.51618</td>\n",
              "      <td>13.53</td>\n",
              "      <td>3.55</td>\n",
              "      <td>1.54</td>\n",
              "      <td>72.99</td>\n",
              "      <td>0.39</td>\n",
              "      <td>7.78</td>\n",
              "      <td>0.00</td>\n",
              "      <td>0.0</td>\n",
              "      <td>1</td>\n",
              "    </tr>\n",
              "    <tr>\n",
              "      <th>3</th>\n",
              "      <td>1.51766</td>\n",
              "      <td>13.21</td>\n",
              "      <td>3.69</td>\n",
              "      <td>1.29</td>\n",
              "      <td>72.61</td>\n",
              "      <td>0.57</td>\n",
              "      <td>8.22</td>\n",
              "      <td>0.00</td>\n",
              "      <td>0.0</td>\n",
              "      <td>1</td>\n",
              "    </tr>\n",
              "    <tr>\n",
              "      <th>4</th>\n",
              "      <td>1.51742</td>\n",
              "      <td>13.27</td>\n",
              "      <td>3.62</td>\n",
              "      <td>1.24</td>\n",
              "      <td>73.08</td>\n",
              "      <td>0.55</td>\n",
              "      <td>8.07</td>\n",
              "      <td>0.00</td>\n",
              "      <td>0.0</td>\n",
              "      <td>1</td>\n",
              "    </tr>\n",
              "    <tr>\n",
              "      <th>...</th>\n",
              "      <td>...</td>\n",
              "      <td>...</td>\n",
              "      <td>...</td>\n",
              "      <td>...</td>\n",
              "      <td>...</td>\n",
              "      <td>...</td>\n",
              "      <td>...</td>\n",
              "      <td>...</td>\n",
              "      <td>...</td>\n",
              "      <td>...</td>\n",
              "    </tr>\n",
              "    <tr>\n",
              "      <th>209</th>\n",
              "      <td>1.51623</td>\n",
              "      <td>14.14</td>\n",
              "      <td>0.00</td>\n",
              "      <td>2.88</td>\n",
              "      <td>72.61</td>\n",
              "      <td>0.08</td>\n",
              "      <td>9.18</td>\n",
              "      <td>1.06</td>\n",
              "      <td>0.0</td>\n",
              "      <td>7</td>\n",
              "    </tr>\n",
              "    <tr>\n",
              "      <th>210</th>\n",
              "      <td>1.51685</td>\n",
              "      <td>14.92</td>\n",
              "      <td>0.00</td>\n",
              "      <td>1.99</td>\n",
              "      <td>73.06</td>\n",
              "      <td>0.00</td>\n",
              "      <td>8.40</td>\n",
              "      <td>1.59</td>\n",
              "      <td>0.0</td>\n",
              "      <td>7</td>\n",
              "    </tr>\n",
              "    <tr>\n",
              "      <th>211</th>\n",
              "      <td>1.52065</td>\n",
              "      <td>14.36</td>\n",
              "      <td>0.00</td>\n",
              "      <td>2.02</td>\n",
              "      <td>73.42</td>\n",
              "      <td>0.00</td>\n",
              "      <td>8.44</td>\n",
              "      <td>1.64</td>\n",
              "      <td>0.0</td>\n",
              "      <td>7</td>\n",
              "    </tr>\n",
              "    <tr>\n",
              "      <th>212</th>\n",
              "      <td>1.51651</td>\n",
              "      <td>14.38</td>\n",
              "      <td>0.00</td>\n",
              "      <td>1.94</td>\n",
              "      <td>73.61</td>\n",
              "      <td>0.00</td>\n",
              "      <td>8.48</td>\n",
              "      <td>1.57</td>\n",
              "      <td>0.0</td>\n",
              "      <td>7</td>\n",
              "    </tr>\n",
              "    <tr>\n",
              "      <th>213</th>\n",
              "      <td>1.51711</td>\n",
              "      <td>14.23</td>\n",
              "      <td>0.00</td>\n",
              "      <td>2.08</td>\n",
              "      <td>73.36</td>\n",
              "      <td>0.00</td>\n",
              "      <td>8.62</td>\n",
              "      <td>1.67</td>\n",
              "      <td>0.0</td>\n",
              "      <td>7</td>\n",
              "    </tr>\n",
              "  </tbody>\n",
              "</table>\n",
              "<p>214 rows × 10 columns</p>\n",
              "</div>\n",
              "      <button class=\"colab-df-convert\" onclick=\"convertToInteractive('df-7f631b95-c752-4557-bb2e-e14feb384715')\"\n",
              "              title=\"Convert this dataframe to an interactive table.\"\n",
              "              style=\"display:none;\">\n",
              "        \n",
              "  <svg xmlns=\"http://www.w3.org/2000/svg\" height=\"24px\"viewBox=\"0 0 24 24\"\n",
              "       width=\"24px\">\n",
              "    <path d=\"M0 0h24v24H0V0z\" fill=\"none\"/>\n",
              "    <path d=\"M18.56 5.44l.94 2.06.94-2.06 2.06-.94-2.06-.94-.94-2.06-.94 2.06-2.06.94zm-11 1L8.5 8.5l.94-2.06 2.06-.94-2.06-.94L8.5 2.5l-.94 2.06-2.06.94zm10 10l.94 2.06.94-2.06 2.06-.94-2.06-.94-.94-2.06-.94 2.06-2.06.94z\"/><path d=\"M17.41 7.96l-1.37-1.37c-.4-.4-.92-.59-1.43-.59-.52 0-1.04.2-1.43.59L10.3 9.45l-7.72 7.72c-.78.78-.78 2.05 0 2.83L4 21.41c.39.39.9.59 1.41.59.51 0 1.02-.2 1.41-.59l7.78-7.78 2.81-2.81c.8-.78.8-2.07 0-2.86zM5.41 20L4 18.59l7.72-7.72 1.47 1.35L5.41 20z\"/>\n",
              "  </svg>\n",
              "      </button>\n",
              "      \n",
              "  <style>\n",
              "    .colab-df-container {\n",
              "      display:flex;\n",
              "      flex-wrap:wrap;\n",
              "      gap: 12px;\n",
              "    }\n",
              "\n",
              "    .colab-df-convert {\n",
              "      background-color: #E8F0FE;\n",
              "      border: none;\n",
              "      border-radius: 50%;\n",
              "      cursor: pointer;\n",
              "      display: none;\n",
              "      fill: #1967D2;\n",
              "      height: 32px;\n",
              "      padding: 0 0 0 0;\n",
              "      width: 32px;\n",
              "    }\n",
              "\n",
              "    .colab-df-convert:hover {\n",
              "      background-color: #E2EBFA;\n",
              "      box-shadow: 0px 1px 2px rgba(60, 64, 67, 0.3), 0px 1px 3px 1px rgba(60, 64, 67, 0.15);\n",
              "      fill: #174EA6;\n",
              "    }\n",
              "\n",
              "    [theme=dark] .colab-df-convert {\n",
              "      background-color: #3B4455;\n",
              "      fill: #D2E3FC;\n",
              "    }\n",
              "\n",
              "    [theme=dark] .colab-df-convert:hover {\n",
              "      background-color: #434B5C;\n",
              "      box-shadow: 0px 1px 3px 1px rgba(0, 0, 0, 0.15);\n",
              "      filter: drop-shadow(0px 1px 2px rgba(0, 0, 0, 0.3));\n",
              "      fill: #FFFFFF;\n",
              "    }\n",
              "  </style>\n",
              "\n",
              "      <script>\n",
              "        const buttonEl =\n",
              "          document.querySelector('#df-7f631b95-c752-4557-bb2e-e14feb384715 button.colab-df-convert');\n",
              "        buttonEl.style.display =\n",
              "          google.colab.kernel.accessAllowed ? 'block' : 'none';\n",
              "\n",
              "        async function convertToInteractive(key) {\n",
              "          const element = document.querySelector('#df-7f631b95-c752-4557-bb2e-e14feb384715');\n",
              "          const dataTable =\n",
              "            await google.colab.kernel.invokeFunction('convertToInteractive',\n",
              "                                                     [key], {});\n",
              "          if (!dataTable) return;\n",
              "\n",
              "          const docLinkHtml = 'Like what you see? Visit the ' +\n",
              "            '<a target=\"_blank\" href=https://colab.research.google.com/notebooks/data_table.ipynb>data table notebook</a>'\n",
              "            + ' to learn more about interactive tables.';\n",
              "          element.innerHTML = '';\n",
              "          dataTable['output_type'] = 'display_data';\n",
              "          await google.colab.output.renderOutput(dataTable, element);\n",
              "          const docLink = document.createElement('div');\n",
              "          docLink.innerHTML = docLinkHtml;\n",
              "          element.appendChild(docLink);\n",
              "        }\n",
              "      </script>\n",
              "    </div>\n",
              "  </div>\n",
              "  "
            ]
          },
          "metadata": {},
          "execution_count": 284
        }
      ]
    },
    {
      "cell_type": "markdown",
      "source": [
        "2.3"
      ],
      "metadata": {
        "id": "kB4Pkg4xDm4y"
      }
    },
    {
      "cell_type": "code",
      "source": [
        "import numpy as np\n",
        "df_np = df.to_numpy()\n",
        "x=df_np[:,:-1]\n",
        "y=df_np[:,-1]"
      ],
      "metadata": {
        "id": "wkFvmJJQD_ZS"
      },
      "execution_count": null,
      "outputs": []
    },
    {
      "cell_type": "code",
      "source": [
        "from sklearn.model_selection import train_test_split # suddivide le osservazioni nei due insiemi\n",
        "\n",
        "X_train, X_test, y_train, y_test = train_test_split(x, y, \n",
        "                                                    test_size = 0.30, # by default is 75%-25%\n",
        "                                                    # shuffle is set True by default,\n",
        "                                                    stratify = y, # per mantenere le proporzioni che ci sono nei dati di partenza\n",
        "                                                    random_state = 123) # fix random seed for replicability"
      ],
      "metadata": {
        "id": "jqM5cG2vDkBy"
      },
      "execution_count": null,
      "outputs": []
    },
    {
      "cell_type": "code",
      "source": [
        "from sklearn.neighbors import KNeighborsClassifier\n",
        "acc = []\n",
        "# Will take some time\n",
        "from sklearn import metrics\n",
        "for i in range(1,40):\n",
        "    neigh = KNeighborsClassifier(n_neighbors = i).fit(X_train,y_train)\n",
        "    yhat = neigh.predict(X_test)\n",
        "    acc.append(metrics.accuracy_score(y_test, yhat))\n",
        "    \n",
        "plt.figure(figsize=(10,6))\n",
        "plt.plot(range(1,40),acc,color = 'blue',linestyle='dashed', \n",
        "         marker='o',markerfacecolor='red', markersize=10)\n",
        "plt.title('accuracy vs. K Value')\n",
        "plt.xlabel('K')\n",
        "plt.ylabel('Accuracy')\n",
        "print(\"Maximum accuracy:-\",max(acc),\"at K =\",acc.index(max(acc)) + 1 )"
      ],
      "metadata": {
        "colab": {
          "base_uri": "https://localhost:8080/",
          "height": 421
        },
        "id": "_NHavSu9DuJa",
        "outputId": "3c59f2e2-03e9-4dd9-a89f-370d11996554"
      },
      "execution_count": null,
      "outputs": [
        {
          "output_type": "stream",
          "name": "stdout",
          "text": [
            "Maximum accuracy:- 0.7846153846153846 at K = 3\n"
          ]
        },
        {
          "output_type": "display_data",
          "data": {
            "text/plain": [
              "<Figure size 720x432 with 1 Axes>"
            ],
            "image/png": "[encoded data removed]"
          },
          "metadata": {
            "needs_background": "light"
          }
        }
      ]
    },
    {
      "cell_type": "code",
      "source": [
        "# importiamo il metodo di classificazione K-NN\n",
        "from sklearn.neighbors import KNeighborsClassifier\n",
        "\n",
        "neigh = KNeighborsClassifier(n_neighbors=3)\n",
        "\n",
        "# \"alleniamo\" il metodo con i dati del training set\n",
        "neigh.fit(X_train, y_train)\n",
        "\n",
        "# proviamo a fare una previsione sui dati del test set\n",
        "predict_knn = neigh.predict(X_test)"
      ],
      "metadata": {
        "id": "7hWx6iGtEf8S"
      },
      "execution_count": null,
      "outputs": []
    },
    {
      "cell_type": "code",
      "source": [
        "print(f'dati predetti dal metodo =                {predict_knn[:10]}')\n",
        "print(f'dati reali presenti nel dataset di test = {y_test[:10]}')"
      ],
      "metadata": {
        "colab": {
          "base_uri": "https://localhost:8080/"
        },
        "id": "tF8Uval0EhPR",
        "outputId": "7cbd2df6-e602-44b1-aa33-a76fde654af4"
      },
      "execution_count": null,
      "outputs": [
        {
          "output_type": "stream",
          "name": "stdout",
          "text": [
            "dati predetti dal metodo =                [5. 5. 2. 1. 2. 1. 7. 2. 1. 1.]\n",
            "dati reali presenti nel dataset di test = [5. 2. 2. 1. 6. 1. 7. 2. 1. 1.]\n"
          ]
        }
      ]
    },
    {
      "cell_type": "code",
      "source": [
        "# valutiamo il nostro metodo:\n",
        "from mlxtend.plotting import plot_confusion_matrix\n",
        "from matplotlib import pyplot as plt\n",
        "from sklearn.metrics import confusion_matrix, classification_report\n",
        "# visualizziamo la confusion matrix\n",
        "plot_confusion_matrix(confusion_matrix(y_test, predict_knn), cmap=plt.cm.cool)\n",
        "plt.show()"
      ],
      "metadata": {
        "colab": {
          "base_uri": "https://localhost:8080/",
          "height": 279
        },
        "id": "kl4b9mScEk9B",
        "outputId": "a9bebe88-ae3b-4a10-b924-1d40ddc41dba"
      },
      "execution_count": null,
      "outputs": [
        {
          "output_type": "display_data",
          "data": {
            "text/plain": [
              "<Figure size 432x288 with 1 Axes>"
            ],
            "image/png": "[encoded data removed]"
          },
          "metadata": {
            "needs_background": "light"
          }
        }
      ]
    },
    {
      "cell_type": "code",
      "source": [
        "# visualizziamo adesso gli indicatori\n",
        "print(classification_report(y_test, predict_knn))"
      ],
      "metadata": {
        "colab": {
          "base_uri": "https://localhost:8080/"
        },
        "id": "UAYTSDRnE4yb",
        "outputId": "8a1b46d4-cc23-40a6-f53f-98f5fde4d345"
      },
      "execution_count": null,
      "outputs": [
        {
          "output_type": "stream",
          "name": "stdout",
          "text": [
            "              precision    recall  f1-score   support\n",
            "\n",
            "         1.0       0.73      0.90      0.81        21\n",
            "         2.0       0.78      0.78      0.78        23\n",
            "         3.0       0.67      0.40      0.50         5\n",
            "         5.0       0.75      0.75      0.75         4\n",
            "         6.0       1.00      0.33      0.50         3\n",
            "         7.0       1.00      0.89      0.94         9\n",
            "\n",
            "    accuracy                           0.78        65\n",
            "   macro avg       0.82      0.68      0.71        65\n",
            "weighted avg       0.80      0.78      0.78        65\n",
            "\n"
          ]
        }
      ]
    },
    {
      "cell_type": "markdown",
      "source": [
        "2.4"
      ],
      "metadata": {
        "id": "7bizwqRnGZMk"
      }
    },
    {
      "cell_type": "code",
      "source": [
        "input = [[1.51115,17.38,0.00,0.34,75.41,0.00,6.65,0.00,0.00]]\n",
        "predictInput = neigh.predict(input)\n",
        "predictInput"
      ],
      "metadata": {
        "colab": {
          "base_uri": "https://localhost:8080/"
        },
        "id": "hO6fBqHMFGjr",
        "outputId": "dc3ad686-f748-4660-ee0a-9e71bca13fcc"
      },
      "execution_count": null,
      "outputs": [
        {
          "output_type": "execute_result",
          "data": {
            "text/plain": [
              "array([6.])"
            ]
          },
          "metadata": {},
          "execution_count": 292
        }
      ]
    },
    {
      "cell_type": "markdown",
      "source": [
        "2.5"
      ],
      "metadata": {
        "id": "QQJWMQpiGdZC"
      }
    },
    {
      "cell_type": "code",
      "source": [
        "# importiamo il metodo che vogliamo utilizzara (tra i tanti disponibili...)\n",
        "from sklearn import tree\n",
        "\n",
        "# impostiamo i parametri del metodo\n",
        "# https://scikit-learn.org/stable/modules/generated/sklearn.tree.DecisionTreeClassifier.html\n",
        "tree_clf = tree.DecisionTreeClassifier(criterion=\"gini\", # criteri per stabilire come splittare\n",
        "                                       max_depth=4, # profondità dell'albero per evitare l'overfitting\n",
        "                                       min_samples_split=30, # dimensione minima del sottogruppo a cui fermarsi (no more split)\n",
        "                                       max_leaf_nodes=6, # numero dei nodi foglia\n",
        "                                       min_samples_leaf=4 # numero di campioni per essere una foglia\n",
        "                                      )\n",
        "\n",
        "# prima parte: dobbiamo fare in modo che il metodo impari dalle informazioni a disposizione\n",
        "tree_clf.fit(X_train,y_train)\n",
        "\n",
        "# seconda parte: vediamo se il metodo ha imparato bene facendogli prevedere i risultati \n",
        "predict_dt = tree_clf.predict(X_test)\n"
      ],
      "metadata": {
        "id": "xkIRcfXcGajK"
      },
      "execution_count": null,
      "outputs": []
    },
    {
      "cell_type": "code",
      "source": [
        "#plots IMPORTS\n",
        "from mlxtend.plotting import plot_confusion_matrix\n",
        "from matplotlib import pyplot as plt\n",
        "from sklearn.metrics import confusion_matrix, classification_report\n",
        "\n",
        "plot_confusion_matrix(confusion_matrix(y_test, predict_dt), cmap=plt.cm.cool)\n",
        "plt.show() # DecisionTree"
      ],
      "metadata": {
        "colab": {
          "base_uri": "https://localhost:8080/",
          "height": 279
        },
        "id": "0m4ydH8KGpXZ",
        "outputId": "3b54da25-b270-4886-f993-11fa827ff50b"
      },
      "execution_count": null,
      "outputs": [
        {
          "output_type": "display_data",
          "data": {
            "text/plain": [
              "<Figure size 432x288 with 1 Axes>"
            ],
            "image/png": "[encoded data removed]"
          },
          "metadata": {
            "needs_background": "light"
          }
        }
      ]
    },
    {
      "cell_type": "code",
      "source": [
        "# visualizziamo adesso gli indicatori\n",
        "print(classification_report(y_test, predict_dt))"
      ],
      "metadata": {
        "colab": {
          "base_uri": "https://localhost:8080/"
        },
        "id": "WwflgpBpGsgR",
        "outputId": "16ce9a53-7e5f-4370-b6da-c9d46ee80541"
      },
      "execution_count": null,
      "outputs": [
        {
          "output_type": "stream",
          "name": "stdout",
          "text": [
            "              precision    recall  f1-score   support\n",
            "\n",
            "         1.0       0.64      0.86      0.73        21\n",
            "         2.0       0.75      0.78      0.77        23\n",
            "         3.0       0.00      0.00      0.00         5\n",
            "         5.0       1.00      1.00      1.00         4\n",
            "         6.0       1.00      0.33      0.50         3\n",
            "         7.0       1.00      0.89      0.94         9\n",
            "\n",
            "    accuracy                           0.75        65\n",
            "   macro avg       0.73      0.64      0.66        65\n",
            "weighted avg       0.72      0.75      0.72        65\n",
            "\n"
          ]
        },
        {
          "output_type": "stream",
          "name": "stderr",
          "text": [
            "/usr/local/lib/python3.9/dist-packages/sklearn/metrics/_classification.py:1344: UndefinedMetricWarning: Precision and F-score are ill-defined and being set to 0.0 in labels with no predicted samples. Use `zero_division` parameter to control this behavior.\n",
            "  _warn_prf(average, modifier, msg_start, len(result))\n",
            "/usr/local/lib/python3.9/dist-packages/sklearn/metrics/_classification.py:1344: UndefinedMetricWarning: Precision and F-score are ill-defined and being set to 0.0 in labels with no predicted samples. Use `zero_division` parameter to control this behavior.\n",
            "  _warn_prf(average, modifier, msg_start, len(result))\n",
            "/usr/local/lib/python3.9/dist-packages/sklearn/metrics/_classification.py:1344: UndefinedMetricWarning: Precision and F-score are ill-defined and being set to 0.0 in labels with no predicted samples. Use `zero_division` parameter to control this behavior.\n",
            "  _warn_prf(average, modifier, msg_start, len(result))\n"
          ]
        }
      ]
    },
    {
      "cell_type": "code",
      "source": [
        "#save the feature list into a vector (sono i nomi delle colonne del dataset)\n",
        "features=list(df.columns.values)\n",
        "\n",
        "import graphviz\n",
        "dot_data = tree.export_graphviz(tree_clf, out_file=None, \n",
        "                     feature_names=features[:-1],  \n",
        "                     class_names=['0', '1','2', '3','4', '5'],  \n",
        "                     filled=True, rounded=True,  \n",
        "                     special_characters=True)  \n",
        "graph = graphviz.Source(dot_data)\n",
        "graph.render('Glass')\n",
        "graph"
      ],
      "metadata": {
        "colab": {
          "base_uri": "https://localhost:8080/",
          "height": 757
        },
        "id": "seKbWLIhG0WC",
        "outputId": "d86df623-d3ad-4df0-ec3f-ec8df2a19efe"
      },
      "execution_count": null,
      "outputs": [
        {
          "output_type": "execute_result",
          "data": {
            "text/plain": [
              "<graphviz.files.Source at 0x7fe9cf0391f0>"
            ],
            "image/svg+xml": "<?xml version=\"1.0\" encoding=\"UTF-8\" standalone=\"no\"?>\n<!DOCTYPE svg PUBLIC \"-//W3C//DTD SVG 1.1//EN\"\n \"http://www.w3.org/Graphics/SVG/1.1/DTD/svg11.dtd\">\n<!-- Generated by graphviz version 2.43.0 (0)\n -->\n<!-- Title: Tree Pages: 1 -->\n<svg width=\"798pt\" height=\"552pt\"\n viewBox=\"0.00 0.00 798.00 552.00\" xmlns=\"http://www.w3.org/2000/svg\" xmlns:xlink=\"http://www.w3.org/1999/xlink\">\n<g id=\"graph0\" class=\"graph\" transform=\"scale(1 1) rotate(0) translate(4 548)\">\n<title>Tree</title>\n<polygon fill=\"white\" stroke=\"transparent\" points=\"-4,4 -4,-548 794,-548 794,4 -4,4\"/>\n<!-- 0 -->\n<g id=\"node1\" class=\"node\">\n<title>0</title>\n<path fill=\"#fbfef7\" stroke=\"black\" d=\"M529.5,-544C529.5,-544 368.5,-544 368.5,-544 362.5,-544 356.5,-538 356.5,-532 356.5,-532 356.5,-473 356.5,-473 356.5,-467 362.5,-461 368.5,-461 368.5,-461 529.5,-461 529.5,-461 535.5,-461 541.5,-467 541.5,-473 541.5,-473 541.5,-532 541.5,-532 541.5,-538 535.5,-544 529.5,-544\"/>\n<text text-anchor=\"start\" x=\"415.5\" y=\"-528.8\" font-family=\"Helvetica,sans-Serif\" font-size=\"14.00\">BA ≤ 0.335</text>\n<text text-anchor=\"start\" x=\"413.5\" y=\"-513.8\" font-family=\"Helvetica,sans-Serif\" font-size=\"14.00\">gini = 0.736</text>\n<text text-anchor=\"start\" x=\"404\" y=\"-498.8\" font-family=\"Helvetica,sans-Serif\" font-size=\"14.00\">samples = 149</text>\n<text text-anchor=\"start\" x=\"364.5\" y=\"-483.8\" font-family=\"Helvetica,sans-Serif\" font-size=\"14.00\">value = [49, 53, 12, 9, 6, 20]</text>\n<text text-anchor=\"start\" x=\"421.5\" y=\"-468.8\" font-family=\"Helvetica,sans-Serif\" font-size=\"14.00\">class = 1</text>\n</g>\n<!-- 1 -->\n<g id=\"node2\" class=\"node\">\n<title>1</title>\n<path fill=\"#fafef5\" stroke=\"black\" d=\"M431.5,-425C431.5,-425 278.5,-425 278.5,-425 272.5,-425 266.5,-419 266.5,-413 266.5,-413 266.5,-354 266.5,-354 266.5,-348 272.5,-342 278.5,-342 278.5,-342 431.5,-342 431.5,-342 437.5,-342 443.5,-348 443.5,-354 443.5,-354 443.5,-413 443.5,-413 443.5,-419 437.5,-425 431.5,-425\"/>\n<text text-anchor=\"start\" x=\"326\" y=\"-409.8\" font-family=\"Helvetica,sans-Serif\" font-size=\"14.00\">AL ≤ 1.42</text>\n<text text-anchor=\"start\" x=\"319.5\" y=\"-394.8\" font-family=\"Helvetica,sans-Serif\" font-size=\"14.00\">gini = 0.679</text>\n<text text-anchor=\"start\" x=\"310\" y=\"-379.8\" font-family=\"Helvetica,sans-Serif\" font-size=\"14.00\">samples = 128</text>\n<text text-anchor=\"start\" x=\"274.5\" y=\"-364.8\" font-family=\"Helvetica,sans-Serif\" font-size=\"14.00\">value = [48, 52, 12, 8, 6, 2]</text>\n<text text-anchor=\"start\" x=\"327.5\" y=\"-349.8\" font-family=\"Helvetica,sans-Serif\" font-size=\"14.00\">class = 1</text>\n</g>\n<!-- 0&#45;&gt;1 -->\n<g id=\"edge1\" class=\"edge\">\n<title>0&#45;&gt;1</title>\n<path fill=\"none\" stroke=\"black\" d=\"M416.39,-460.91C409.17,-451.92 401.45,-442.32 394.01,-433.05\"/>\n<polygon fill=\"black\" stroke=\"black\" points=\"396.55,-430.62 387.56,-425.02 391.09,-435.01 396.55,-430.62\"/>\n<text text-anchor=\"middle\" x=\"384.85\" y=\"-446.17\" font-family=\"Helvetica,sans-Serif\" font-size=\"14.00\">True</text>\n</g>\n<!-- 2 -->\n<g id=\"node11\" class=\"node\">\n<title>2</title>\n<path fill=\"#e957ac\" stroke=\"black\" d=\"M612,-417.5C612,-417.5 474,-417.5 474,-417.5 468,-417.5 462,-411.5 462,-405.5 462,-405.5 462,-361.5 462,-361.5 462,-355.5 468,-349.5 474,-349.5 474,-349.5 612,-349.5 612,-349.5 618,-349.5 624,-355.5 624,-361.5 624,-361.5 624,-405.5 624,-405.5 624,-411.5 618,-417.5 612,-417.5\"/>\n<text text-anchor=\"start\" x=\"507.5\" y=\"-402.3\" font-family=\"Helvetica,sans-Serif\" font-size=\"14.00\">gini = 0.259</text>\n<text text-anchor=\"start\" x=\"502\" y=\"-387.3\" font-family=\"Helvetica,sans-Serif\" font-size=\"14.00\">samples = 21</text>\n<text text-anchor=\"start\" x=\"470\" y=\"-372.3\" font-family=\"Helvetica,sans-Serif\" font-size=\"14.00\">value = [1, 1, 0, 1, 0, 18]</text>\n<text text-anchor=\"start\" x=\"515.5\" y=\"-357.3\" font-family=\"Helvetica,sans-Serif\" font-size=\"14.00\">class = 5</text>\n</g>\n<!-- 0&#45;&gt;2 -->\n<g id=\"edge10\" class=\"edge\">\n<title>0&#45;&gt;2</title>\n<path fill=\"none\" stroke=\"black\" d=\"M481.61,-460.91C490.74,-449.54 500.68,-437.18 509.84,-425.77\"/>\n<polygon fill=\"black\" stroke=\"black\" points=\"512.82,-427.65 516.35,-417.67 507.36,-423.27 512.82,-427.65\"/>\n<text text-anchor=\"middle\" x=\"519.06\" y=\"-438.82\" font-family=\"Helvetica,sans-Serif\" font-size=\"14.00\">False</text>\n</g>\n<!-- 3 -->\n<g id=\"node3\" class=\"node\">\n<title>3</title>\n<path fill=\"#f6d4bb\" stroke=\"black\" d=\"M336,-306C336,-306 190,-306 190,-306 184,-306 178,-300 178,-294 178,-294 178,-235 178,-235 178,-229 184,-223 190,-223 190,-223 336,-223 336,-223 342,-223 348,-229 348,-235 348,-235 348,-294 348,-294 348,-300 342,-306 336,-306\"/>\n<text text-anchor=\"start\" x=\"225.5\" y=\"-290.8\" font-family=\"Helvetica,sans-Serif\" font-size=\"14.00\">CA ≤ 10.425</text>\n<text text-anchor=\"start\" x=\"227.5\" y=\"-275.8\" font-family=\"Helvetica,sans-Serif\" font-size=\"14.00\">gini = 0.603</text>\n<text text-anchor=\"start\" x=\"222\" y=\"-260.8\" font-family=\"Helvetica,sans-Serif\" font-size=\"14.00\">samples = 83</text>\n<text text-anchor=\"start\" x=\"186\" y=\"-245.8\" font-family=\"Helvetica,sans-Serif\" font-size=\"14.00\">value = [45, 25, 9, 1, 1, 2]</text>\n<text text-anchor=\"start\" x=\"235.5\" y=\"-230.8\" font-family=\"Helvetica,sans-Serif\" font-size=\"14.00\">class = 0</text>\n</g>\n<!-- 1&#45;&gt;3 -->\n<g id=\"edge2\" class=\"edge\">\n<title>1&#45;&gt;3</title>\n<path fill=\"none\" stroke=\"black\" d=\"M323.08,-341.91C316.02,-332.92 308.46,-323.32 301.18,-314.05\"/>\n<polygon fill=\"black\" stroke=\"black\" points=\"303.8,-311.72 294.86,-306.02 298.29,-316.05 303.8,-311.72\"/>\n</g>\n<!-- 4 -->\n<g id=\"node6\" class=\"node\">\n<title>4</title>\n<path fill=\"#cbf197\" stroke=\"black\" d=\"M516,-306C516,-306 378,-306 378,-306 372,-306 366,-300 366,-294 366,-294 366,-235 366,-235 366,-229 372,-223 378,-223 378,-223 516,-223 516,-223 522,-223 528,-229 528,-235 528,-235 528,-294 528,-294 528,-300 522,-306 516,-306\"/>\n<text text-anchor=\"start\" x=\"418\" y=\"-290.8\" font-family=\"Helvetica,sans-Serif\" font-size=\"14.00\">K ≤ 0.035</text>\n<text text-anchor=\"start\" x=\"411.5\" y=\"-275.8\" font-family=\"Helvetica,sans-Serif\" font-size=\"14.00\">gini = 0.595</text>\n<text text-anchor=\"start\" x=\"406\" y=\"-260.8\" font-family=\"Helvetica,sans-Serif\" font-size=\"14.00\">samples = 45</text>\n<text text-anchor=\"start\" x=\"374\" y=\"-245.8\" font-family=\"Helvetica,sans-Serif\" font-size=\"14.00\">value = [3, 27, 3, 7, 5, 0]</text>\n<text text-anchor=\"start\" x=\"419.5\" y=\"-230.8\" font-family=\"Helvetica,sans-Serif\" font-size=\"14.00\">class = 1</text>\n</g>\n<!-- 1&#45;&gt;4 -->\n<g id=\"edge5\" class=\"edge\">\n<title>1&#45;&gt;4</title>\n<path fill=\"none\" stroke=\"black\" d=\"M386.92,-341.91C393.98,-332.92 401.54,-323.32 408.82,-314.05\"/>\n<polygon fill=\"black\" stroke=\"black\" points=\"411.71,-316.05 415.14,-306.02 406.2,-311.72 411.71,-316.05\"/>\n</g>\n<!-- 5 -->\n<g id=\"node4\" class=\"node\">\n<title>5</title>\n<path fill=\"#f2bf9a\" stroke=\"black\" d=\"M158,-179.5C158,-179.5 12,-179.5 12,-179.5 6,-179.5 0,-173.5 0,-167.5 0,-167.5 0,-123.5 0,-123.5 0,-117.5 6,-111.5 12,-111.5 12,-111.5 158,-111.5 158,-111.5 164,-111.5 170,-117.5 170,-123.5 170,-123.5 170,-167.5 170,-167.5 170,-173.5 164,-179.5 158,-179.5\"/>\n<text text-anchor=\"start\" x=\"49.5\" y=\"-164.3\" font-family=\"Helvetica,sans-Serif\" font-size=\"14.00\">gini = 0.556</text>\n<text text-anchor=\"start\" x=\"44\" y=\"-149.3\" font-family=\"Helvetica,sans-Serif\" font-size=\"14.00\">samples = 73</text>\n<text text-anchor=\"start\" x=\"8\" y=\"-134.3\" font-family=\"Helvetica,sans-Serif\" font-size=\"14.00\">value = [45, 16, 9, 0, 1, 2]</text>\n<text text-anchor=\"start\" x=\"57.5\" y=\"-119.3\" font-family=\"Helvetica,sans-Serif\" font-size=\"14.00\">class = 0</text>\n</g>\n<!-- 3&#45;&gt;5 -->\n<g id=\"edge3\" class=\"edge\">\n<title>3&#45;&gt;5</title>\n<path fill=\"none\" stroke=\"black\" d=\"M201.24,-222.91C182.78,-210.77 162.58,-197.49 144.28,-185.46\"/>\n<polygon fill=\"black\" stroke=\"black\" points=\"145.74,-182.23 135.46,-179.67 141.89,-188.08 145.74,-182.23\"/>\n</g>\n<!-- 6 -->\n<g id=\"node5\" class=\"node\">\n<title>6</title>\n<path fill=\"#a8e84f\" stroke=\"black\" d=\"M331.5,-179.5C331.5,-179.5 200.5,-179.5 200.5,-179.5 194.5,-179.5 188.5,-173.5 188.5,-167.5 188.5,-167.5 188.5,-123.5 188.5,-123.5 188.5,-117.5 194.5,-111.5 200.5,-111.5 200.5,-111.5 331.5,-111.5 331.5,-111.5 337.5,-111.5 343.5,-117.5 343.5,-123.5 343.5,-123.5 343.5,-167.5 343.5,-167.5 343.5,-173.5 337.5,-179.5 331.5,-179.5\"/>\n<text text-anchor=\"start\" x=\"234\" y=\"-164.3\" font-family=\"Helvetica,sans-Serif\" font-size=\"14.00\">gini = 0.18</text>\n<text text-anchor=\"start\" x=\"225\" y=\"-149.3\" font-family=\"Helvetica,sans-Serif\" font-size=\"14.00\">samples = 10</text>\n<text text-anchor=\"start\" x=\"196.5\" y=\"-134.3\" font-family=\"Helvetica,sans-Serif\" font-size=\"14.00\">value = [0, 9, 0, 1, 0, 0]</text>\n<text text-anchor=\"start\" x=\"238.5\" y=\"-119.3\" font-family=\"Helvetica,sans-Serif\" font-size=\"14.00\">class = 1</text>\n</g>\n<!-- 3&#45;&gt;6 -->\n<g id=\"edge4\" class=\"edge\">\n<title>3&#45;&gt;6</title>\n<path fill=\"none\" stroke=\"black\" d=\"M264.04,-222.91C264.32,-212.2 264.61,-200.62 264.89,-189.78\"/>\n<polygon fill=\"black\" stroke=\"black\" points=\"268.39,-189.75 265.15,-179.67 261.39,-189.57 268.39,-189.75\"/>\n</g>\n<!-- 7 -->\n<g id=\"node7\" class=\"node\">\n<title>7</title>\n<path fill=\"#8139e5\" stroke=\"black\" d=\"M509.5,-179.5C509.5,-179.5 378.5,-179.5 378.5,-179.5 372.5,-179.5 366.5,-173.5 366.5,-167.5 366.5,-167.5 366.5,-123.5 366.5,-123.5 366.5,-117.5 372.5,-111.5 378.5,-111.5 378.5,-111.5 509.5,-111.5 509.5,-111.5 515.5,-111.5 521.5,-117.5 521.5,-123.5 521.5,-123.5 521.5,-167.5 521.5,-167.5 521.5,-173.5 515.5,-179.5 509.5,-179.5\"/>\n<text text-anchor=\"start\" x=\"416\" y=\"-164.3\" font-family=\"Helvetica,sans-Serif\" font-size=\"14.00\">gini = 0.0</text>\n<text text-anchor=\"start\" x=\"406.5\" y=\"-149.3\" font-family=\"Helvetica,sans-Serif\" font-size=\"14.00\">samples = 5</text>\n<text text-anchor=\"start\" x=\"374.5\" y=\"-134.3\" font-family=\"Helvetica,sans-Serif\" font-size=\"14.00\">value = [0, 0, 0, 0, 5, 0]</text>\n<text text-anchor=\"start\" x=\"416.5\" y=\"-119.3\" font-family=\"Helvetica,sans-Serif\" font-size=\"14.00\">class = 4</text>\n</g>\n<!-- 4&#45;&gt;7 -->\n<g id=\"edge6\" class=\"edge\">\n<title>4&#45;&gt;7</title>\n<path fill=\"none\" stroke=\"black\" d=\"M445.96,-222.91C445.68,-212.2 445.39,-200.62 445.11,-189.78\"/>\n<polygon fill=\"black\" stroke=\"black\" points=\"448.61,-189.57 444.85,-179.67 441.61,-189.75 448.61,-189.57\"/>\n</g>\n<!-- 8 -->\n<g id=\"node8\" class=\"node\">\n<title>8</title>\n<path fill=\"#c4ef87\" stroke=\"black\" d=\"M690,-187C690,-187 552,-187 552,-187 546,-187 540,-181 540,-175 540,-175 540,-116 540,-116 540,-110 546,-104 552,-104 552,-104 690,-104 690,-104 696,-104 702,-110 702,-116 702,-116 702,-175 702,-175 702,-181 696,-187 690,-187\"/>\n<text text-anchor=\"start\" x=\"592\" y=\"-171.8\" font-family=\"Helvetica,sans-Serif\" font-size=\"14.00\">MG ≤ 1.9</text>\n<text text-anchor=\"start\" x=\"585.5\" y=\"-156.8\" font-family=\"Helvetica,sans-Serif\" font-size=\"14.00\">gini = 0.502</text>\n<text text-anchor=\"start\" x=\"580\" y=\"-141.8\" font-family=\"Helvetica,sans-Serif\" font-size=\"14.00\">samples = 40</text>\n<text text-anchor=\"start\" x=\"548\" y=\"-126.8\" font-family=\"Helvetica,sans-Serif\" font-size=\"14.00\">value = [3, 27, 3, 7, 0, 0]</text>\n<text text-anchor=\"start\" x=\"593.5\" y=\"-111.8\" font-family=\"Helvetica,sans-Serif\" font-size=\"14.00\">class = 1</text>\n</g>\n<!-- 4&#45;&gt;8 -->\n<g id=\"edge7\" class=\"edge\">\n<title>4&#45;&gt;8</title>\n<path fill=\"none\" stroke=\"black\" d=\"M507.37,-222.91C521.81,-213.2 537.33,-202.76 552.13,-192.81\"/>\n<polygon fill=\"black\" stroke=\"black\" points=\"554.39,-195.51 560.74,-187.02 550.49,-189.7 554.39,-195.51\"/>\n</g>\n<!-- 9 -->\n<g id=\"node9\" class=\"node\">\n<title>9</title>\n<path fill=\"#72b9ec\" stroke=\"black\" d=\"M597.5,-68C597.5,-68 466.5,-68 466.5,-68 460.5,-68 454.5,-62 454.5,-56 454.5,-56 454.5,-12 454.5,-12 454.5,-6 460.5,0 466.5,0 466.5,0 597.5,0 597.5,0 603.5,0 609.5,-6 609.5,-12 609.5,-12 609.5,-56 609.5,-56 609.5,-62 603.5,-68 597.5,-68\"/>\n<text text-anchor=\"start\" x=\"496.5\" y=\"-52.8\" font-family=\"Helvetica,sans-Serif\" font-size=\"14.00\">gini = 0.346</text>\n<text text-anchor=\"start\" x=\"494.5\" y=\"-37.8\" font-family=\"Helvetica,sans-Serif\" font-size=\"14.00\">samples = 9</text>\n<text text-anchor=\"start\" x=\"462.5\" y=\"-22.8\" font-family=\"Helvetica,sans-Serif\" font-size=\"14.00\">value = [0, 2, 0, 7, 0, 0]</text>\n<text text-anchor=\"start\" x=\"504.5\" y=\"-7.8\" font-family=\"Helvetica,sans-Serif\" font-size=\"14.00\">class = 3</text>\n</g>\n<!-- 8&#45;&gt;9 -->\n<g id=\"edge8\" class=\"edge\">\n<title>8&#45;&gt;9</title>\n<path fill=\"none\" stroke=\"black\" d=\"M587.86,-103.73C580.52,-94.7 572.74,-85.12 565.39,-76.08\"/>\n<polygon fill=\"black\" stroke=\"black\" points=\"568.09,-73.85 559.07,-68.3 562.66,-78.27 568.09,-73.85\"/>\n</g>\n<!-- 10 -->\n<g id=\"node10\" class=\"node\">\n<title>10</title>\n<path fill=\"#b2eb63\" stroke=\"black\" d=\"M778,-68C778,-68 640,-68 640,-68 634,-68 628,-62 628,-56 628,-56 628,-12 628,-12 628,-6 634,0 640,0 640,0 778,0 778,0 784,0 790,-6 790,-12 790,-12 790,-56 790,-56 790,-62 784,-68 778,-68\"/>\n<text text-anchor=\"start\" x=\"673.5\" y=\"-52.8\" font-family=\"Helvetica,sans-Serif\" font-size=\"14.00\">gini = 0.331</text>\n<text text-anchor=\"start\" x=\"668\" y=\"-37.8\" font-family=\"Helvetica,sans-Serif\" font-size=\"14.00\">samples = 31</text>\n<text text-anchor=\"start\" x=\"636\" y=\"-22.8\" font-family=\"Helvetica,sans-Serif\" font-size=\"14.00\">value = [3, 25, 3, 0, 0, 0]</text>\n<text text-anchor=\"start\" x=\"681.5\" y=\"-7.8\" font-family=\"Helvetica,sans-Serif\" font-size=\"14.00\">class = 1</text>\n</g>\n<!-- 8&#45;&gt;10 -->\n<g id=\"edge9\" class=\"edge\">\n<title>8&#45;&gt;10</title>\n<path fill=\"none\" stroke=\"black\" d=\"M653.77,-103.73C660.95,-94.79 668.56,-85.32 675.76,-76.36\"/>\n<polygon fill=\"black\" stroke=\"black\" points=\"678.7,-78.29 682.24,-68.3 673.25,-73.9 678.7,-78.29\"/>\n</g>\n</g>\n</svg>\n"
          },
          "metadata": {},
          "execution_count": 296
        }
      ]
    },
    {
      "cell_type": "markdown",
      "source": [
        "2.6"
      ],
      "metadata": {
        "id": "nIzv-GQ7HEfV"
      }
    },
    {
      "cell_type": "code",
      "source": [
        "input = [[10,10,10,10,5,10,10,10,7]]\n",
        "predictInput = tree_clf.predict(input)\n",
        "predictInput"
      ],
      "metadata": {
        "colab": {
          "base_uri": "https://localhost:8080/"
        },
        "id": "B2rqUsuYHTtK",
        "outputId": "c9440fcc-2a3e-4d62-b583-895811ef430c"
      },
      "execution_count": null,
      "outputs": [
        {
          "output_type": "execute_result",
          "data": {
            "text/plain": [
              "array([7.])"
            ]
          },
          "metadata": {},
          "execution_count": 297
        }
      ]
    },
    {
      "cell_type": "markdown",
      "source": [
        "2.7"
      ],
      "metadata": {
        "id": "npVmX4a2H7Ou"
      }
    },
    {
      "cell_type": "markdown",
      "source": [
        "K-NN ![image.png](data:image/png;base64,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)\n",
        "![image.png](data:image/png;base64,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) Decision Tree"
      ],
      "metadata": {
        "id": "h58qANLqH8GD"
      }
    },
    {
      "cell_type": "code",
      "source": [
        "# K-NN\n",
        "print(classification_report(y_test, predict_knn))"
      ],
      "metadata": {
        "colab": {
          "base_uri": "https://localhost:8080/"
        },
        "outputId": "7d0a6ba4-b1fc-4dad-c3ee-d9792ffeb7ff",
        "id": "9JruxJbHIUlX"
      },
      "execution_count": null,
      "outputs": [
        {
          "output_type": "stream",
          "name": "stdout",
          "text": [
            "              precision    recall  f1-score   support\n",
            "\n",
            "         1.0       0.73      0.90      0.81        21\n",
            "         2.0       0.78      0.78      0.78        23\n",
            "         3.0       0.67      0.40      0.50         5\n",
            "         5.0       0.75      0.75      0.75         4\n",
            "         6.0       1.00      0.33      0.50         3\n",
            "         7.0       1.00      0.89      0.94         9\n",
            "\n",
            "    accuracy                           0.78        65\n",
            "   macro avg       0.82      0.68      0.71        65\n",
            "weighted avg       0.80      0.78      0.78        65\n",
            "\n"
          ]
        }
      ]
    },
    {
      "cell_type": "code",
      "source": [
        "# Decision Tree\n",
        "print(classification_report(y_test, predict_dt))"
      ],
      "metadata": {
        "colab": {
          "base_uri": "https://localhost:8080/"
        },
        "outputId": "e5d064ce-e822-4f8c-9f12-bc732dd52943",
        "id": "YpgbWpFjIcFd"
      },
      "execution_count": null,
      "outputs": [
        {
          "output_type": "stream",
          "name": "stdout",
          "text": [
            "              precision    recall  f1-score   support\n",
            "\n",
            "         1.0       0.64      0.86      0.73        21\n",
            "         2.0       0.75      0.78      0.77        23\n",
            "         3.0       0.00      0.00      0.00         5\n",
            "         5.0       1.00      1.00      1.00         4\n",
            "         6.0       1.00      0.33      0.50         3\n",
            "         7.0       1.00      0.89      0.94         9\n",
            "\n",
            "    accuracy                           0.75        65\n",
            "   macro avg       0.73      0.64      0.66        65\n",
            "weighted avg       0.72      0.75      0.72        65\n",
            "\n"
          ]
        },
        {
          "output_type": "stream",
          "name": "stderr",
          "text": [
            "/usr/local/lib/python3.9/dist-packages/sklearn/metrics/_classification.py:1344: UndefinedMetricWarning: Precision and F-score are ill-defined and being set to 0.0 in labels with no predicted samples. Use `zero_division` parameter to control this behavior.\n",
            "  _warn_prf(average, modifier, msg_start, len(result))\n",
            "/usr/local/lib/python3.9/dist-packages/sklearn/metrics/_classification.py:1344: UndefinedMetricWarning: Precision and F-score are ill-defined and being set to 0.0 in labels with no predicted samples. Use `zero_division` parameter to control this behavior.\n",
            "  _warn_prf(average, modifier, msg_start, len(result))\n",
            "/usr/local/lib/python3.9/dist-packages/sklearn/metrics/_classification.py:1344: UndefinedMetricWarning: Precision and F-score are ill-defined and being set to 0.0 in labels with no predicted samples. Use `zero_division` parameter to control this behavior.\n",
            "  _warn_prf(average, modifier, msg_start, len(result))\n"
          ]
        }
      ]
    },
    {
      "cell_type": "markdown",
      "source": [
        "Il metodo K-NN ha avuto risultati leggermente migliori "
      ],
      "metadata": {
        "id": "907K7M9tSQnp"
      }
    },
    {
      "cell_type": "markdown",
      "source": [
        "2.8"
      ],
      "metadata": {
        "id": "vY3ZZH5LSWTs"
      }
    },
    {
      "cell_type": "code",
      "source": [
        "df[(df[\"RI\"] == 1.51115) & (df[\"NA\"] == 17.38) & (df[\"MG\"] == 0.00) & (df[\"AL\"] == 0.34) & (df[\"SI\"] == 75.41) & (df[\"K\"] == 0.00) & (df[\"CA\"] == 6.65) & (df[\"BA\"] == 0.00) & (df[\"FE\"] == 0.00)]"
      ],
      "metadata": {
        "colab": {
          "base_uri": "https://localhost:8080/",
          "height": 81
        },
        "id": "tUv0h5cOSlVt",
        "outputId": "02c3d41d-ad0c-4812-f9ae-1d946e11bd50"
      },
      "execution_count": null,
      "outputs": [
        {
          "output_type": "execute_result",
          "data": {
            "text/plain": [
              "          RI     NA   MG    AL     SI    K    CA   BA   FE  Type\n",
              "184  1.51115  17.38  0.0  0.34  75.41  0.0  6.65  0.0  0.0     6"
            ],
            "text/html": [
              "\n",
              "  <div id=\"df-d1d57430-c1f2-46d5-ba31-2ae2926cd5c0\">\n",
              "    <div class=\"colab-df-container\">\n",
              "      <div>\n",
              "<style scoped>\n",
              "    .dataframe tbody tr th:only-of-type {\n",
              "        vertical-align: middle;\n",
              "    }\n",
              "\n",
              "    .dataframe tbody tr th {\n",
              "        vertical-align: top;\n",
              "    }\n",
              "\n",
              "    .dataframe thead th {\n",
              "        text-align: right;\n",
              "    }\n",
              "</style>\n",
              "<table border=\"1\" class=\"dataframe\">\n",
              "  <thead>\n",
              "    <tr style=\"text-align: right;\">\n",
              "      <th></th>\n",
              "      <th>RI</th>\n",
              "      <th>NA</th>\n",
              "      <th>MG</th>\n",
              "      <th>AL</th>\n",
              "      <th>SI</th>\n",
              "      <th>K</th>\n",
              "      <th>CA</th>\n",
              "      <th>BA</th>\n",
              "      <th>FE</th>\n",
              "      <th>Type</th>\n",
              "    </tr>\n",
              "  </thead>\n",
              "  <tbody>\n",
              "    <tr>\n",
              "      <th>184</th>\n",
              "      <td>1.51115</td>\n",
              "      <td>17.38</td>\n",
              "      <td>0.0</td>\n",
              "      <td>0.34</td>\n",
              "      <td>75.41</td>\n",
              "      <td>0.0</td>\n",
              "      <td>6.65</td>\n",
              "      <td>0.0</td>\n",
              "      <td>0.0</td>\n",
              "      <td>6</td>\n",
              "    </tr>\n",
              "  </tbody>\n",
              "</table>\n",
              "</div>\n",
              "      <button class=\"colab-df-convert\" onclick=\"convertToInteractive('df-d1d57430-c1f2-46d5-ba31-2ae2926cd5c0')\"\n",
              "              title=\"Convert this dataframe to an interactive table.\"\n",
              "              style=\"display:none;\">\n",
              "        \n",
              "  <svg xmlns=\"http://www.w3.org/2000/svg\" height=\"24px\"viewBox=\"0 0 24 24\"\n",
              "       width=\"24px\">\n",
              "    <path d=\"M0 0h24v24H0V0z\" fill=\"none\"/>\n",
              "    <path d=\"M18.56 5.44l.94 2.06.94-2.06 2.06-.94-2.06-.94-.94-2.06-.94 2.06-2.06.94zm-11 1L8.5 8.5l.94-2.06 2.06-.94-2.06-.94L8.5 2.5l-.94 2.06-2.06.94zm10 10l.94 2.06.94-2.06 2.06-.94-2.06-.94-.94-2.06-.94 2.06-2.06.94z\"/><path d=\"M17.41 7.96l-1.37-1.37c-.4-.4-.92-.59-1.43-.59-.52 0-1.04.2-1.43.59L10.3 9.45l-7.72 7.72c-.78.78-.78 2.05 0 2.83L4 21.41c.39.39.9.59 1.41.59.51 0 1.02-.2 1.41-.59l7.78-7.78 2.81-2.81c.8-.78.8-2.07 0-2.86zM5.41 20L4 18.59l7.72-7.72 1.47 1.35L5.41 20z\"/>\n",
              "  </svg>\n",
              "      </button>\n",
              "      \n",
              "  <style>\n",
              "    .colab-df-container {\n",
              "      display:flex;\n",
              "      flex-wrap:wrap;\n",
              "      gap: 12px;\n",
              "    }\n",
              "\n",
              "    .colab-df-convert {\n",
              "      background-color: #E8F0FE;\n",
              "      border: none;\n",
              "      border-radius: 50%;\n",
              "      cursor: pointer;\n",
              "      display: none;\n",
              "      fill: #1967D2;\n",
              "      height: 32px;\n",
              "      padding: 0 0 0 0;\n",
              "      width: 32px;\n",
              "    }\n",
              "\n",
              "    .colab-df-convert:hover {\n",
              "      background-color: #E2EBFA;\n",
              "      box-shadow: 0px 1px 2px rgba(60, 64, 67, 0.3), 0px 1px 3px 1px rgba(60, 64, 67, 0.15);\n",
              "      fill: #174EA6;\n",
              "    }\n",
              "\n",
              "    [theme=dark] .colab-df-convert {\n",
              "      background-color: #3B4455;\n",
              "      fill: #D2E3FC;\n",
              "    }\n",
              "\n",
              "    [theme=dark] .colab-df-convert:hover {\n",
              "      background-color: #434B5C;\n",
              "      box-shadow: 0px 1px 3px 1px rgba(0, 0, 0, 0.15);\n",
              "      filter: drop-shadow(0px 1px 2px rgba(0, 0, 0, 0.3));\n",
              "      fill: #FFFFFF;\n",
              "    }\n",
              "  </style>\n",
              "\n",
              "      <script>\n",
              "        const buttonEl =\n",
              "          document.querySelector('#df-d1d57430-c1f2-46d5-ba31-2ae2926cd5c0 button.colab-df-convert');\n",
              "        buttonEl.style.display =\n",
              "          google.colab.kernel.accessAllowed ? 'block' : 'none';\n",
              "\n",
              "        async function convertToInteractive(key) {\n",
              "          const element = document.querySelector('#df-d1d57430-c1f2-46d5-ba31-2ae2926cd5c0');\n",
              "          const dataTable =\n",
              "            await google.colab.kernel.invokeFunction('convertToInteractive',\n",
              "                                                     [key], {});\n",
              "          if (!dataTable) return;\n",
              "\n",
              "          const docLinkHtml = 'Like what you see? Visit the ' +\n",
              "            '<a target=\"_blank\" href=https://colab.research.google.com/notebooks/data_table.ipynb>data table notebook</a>'\n",
              "            + ' to learn more about interactive tables.';\n",
              "          element.innerHTML = '';\n",
              "          dataTable['output_type'] = 'display_data';\n",
              "          await google.colab.output.renderOutput(dataTable, element);\n",
              "          const docLink = document.createElement('div');\n",
              "          docLink.innerHTML = docLinkHtml;\n",
              "          element.appendChild(docLink);\n",
              "        }\n",
              "      </script>\n",
              "    </div>\n",
              "  </div>\n",
              "  "
            ]
          },
          "metadata": {},
          "execution_count": 300
        }
      ]
    },
    {
      "cell_type": "markdown",
      "source": [
        "La classe corrisponde a quella predetta dal metodo K-NN"
      ],
      "metadata": {
        "id": "cOOTvr6DTbd5"
      }
    },
    {
      "cell_type": "code",
      "source": [
        "X_train[(X_train[:,0] == 1.51115) & (X_train[:,1] == 17.38) & (X_train[:,2] == 0.00) & (X_train[:,3] == 0.34) & (X_train[:,4] == 75.41) & (X_train[:,5] == 0.00) & (X_train[:,6] == 6.65) & (X_train[:,7] == 0.00) & (X_train[:,8] == 0.00)]"
      ],
      "metadata": {
        "colab": {
          "base_uri": "https://localhost:8080/"
        },
        "id": "xIOL_sexSZnq",
        "outputId": "d20b611e-1c76-45e3-8025-1fbe552681a0"
      },
      "execution_count": null,
      "outputs": [
        {
          "output_type": "execute_result",
          "data": {
            "text/plain": [
              "array([[ 1.51115, 17.38   ,  0.     ,  0.34   , 75.41   ,  0.     ,\n",
              "         6.65   ,  0.     ,  0.     ]])"
            ]
          },
          "metadata": {},
          "execution_count": 301
        }
      ]
    },
    {
      "cell_type": "markdown",
      "source": [
        "I dati sono presenti in X_train "
      ],
      "metadata": {
        "id": "vgQsgl2gT8iC"
      }
    },
    {
      "cell_type": "markdown",
      "source": [
        "# Verifica 3"
      ],
      "metadata": {
        "id": "uHHJm-XcUBtd"
      }
    },
    {
      "cell_type": "code",
      "source": [
        "import pandas as pd\n",
        "df = pd.read_csv('/content/drive/MyDrive/Colab Notebooks/ML 101.1/data/accent-mfcc-data-1.csv')\n",
        "df"
      ],
      "metadata": {
        "colab": {
          "base_uri": "https://localhost:8080/",
          "height": 424
        },
        "id": "5qr1NlZiUtin",
        "outputId": "1ef7995a-ed69-489a-b87e-25f8d3e5d36f"
      },
      "execution_count": null,
      "outputs": [
        {
          "output_type": "execute_result",
          "data": {
            "text/plain": [
              "    language         X1        X2        X3         X4        X5         X6  \\\n",
              "0         ES   7.071476 -6.512900  7.650800  11.150783 -7.657312  12.484021   \n",
              "1         ES  10.982967 -5.157445  3.952060  11.529381 -7.638047  12.136098   \n",
              "2         ES   7.827108 -5.477472  7.816257   9.187592 -7.172511  11.715299   \n",
              "3         ES   6.744083 -5.688920  6.546789   9.000183 -6.924963  11.710766   \n",
              "4         ES   5.836843 -5.326557  7.472265   8.847440 -6.773244  12.677218   \n",
              "..       ...        ...       ...       ...        ...       ...        ...   \n",
              "324       US  -0.525273 -3.868338  3.548304   1.496249  3.490753   5.849887   \n",
              "325       US  -2.094001 -1.073113  1.217397  -0.550790  2.666547   7.449942   \n",
              "326       US   2.116909 -4.441482  5.350392   3.675396  2.715876   3.682670   \n",
              "327       US   0.299616  0.324844  3.299919   2.044040  3.634828   6.693840   \n",
              "328       US   3.214254 -3.135152  1.122691   4.712444  5.926518   6.915566   \n",
              "\n",
              "            X7         X8         X9        X10       X11       X12  \n",
              "0   -11.709772   3.426596   1.462715  -2.812753  0.866538 -5.244274  \n",
              "1   -12.036247   3.491943   0.595441  -4.508811  2.332147 -6.221857  \n",
              "2   -13.847214   4.574075  -1.687559  -7.204041 -0.011847 -6.463144  \n",
              "3   -12.374388   6.169879  -0.544747  -6.019237  1.358559 -6.356441  \n",
              "4   -12.315061   4.416344   0.193500  -3.644812  2.151239 -6.816310  \n",
              "..         ...        ...        ...        ...       ...       ...  \n",
              "324  -7.747027   9.738836 -11.754543   7.129909  0.209947 -1.946914  \n",
              "325  -6.418064  10.907098 -11.134323   6.728373  2.461446 -0.026113  \n",
              "326  -4.500850  11.798565 -12.031005   7.566142 -0.606010 -2.245129  \n",
              "327  -5.676224  12.000518 -11.912901   4.664406  1.197789 -2.230275  \n",
              "328  -5.799727  10.858532 -11.659845  10.605734  0.349482 -5.983281  \n",
              "\n",
              "[329 rows x 13 columns]"
            ],
            "text/html": [
              "\n",
              "  <div id=\"df-793c8be8-0742-49da-a30e-b0bdd93ae66c\">\n",
              "    <div class=\"colab-df-container\">\n",
              "      <div>\n",
              "<style scoped>\n",
              "    .dataframe tbody tr th:only-of-type {\n",
              "        vertical-align: middle;\n",
              "    }\n",
              "\n",
              "    .dataframe tbody tr th {\n",
              "        vertical-align: top;\n",
              "    }\n",
              "\n",
              "    .dataframe thead th {\n",
              "        text-align: right;\n",
              "    }\n",
              "</style>\n",
              "<table border=\"1\" class=\"dataframe\">\n",
              "  <thead>\n",
              "    <tr style=\"text-align: right;\">\n",
              "      <th></th>\n",
              "      <th>language</th>\n",
              "      <th>X1</th>\n",
              "      <th>X2</th>\n",
              "      <th>X3</th>\n",
              "      <th>X4</th>\n",
              "      <th>X5</th>\n",
              "      <th>X6</th>\n",
              "      <th>X7</th>\n",
              "      <th>X8</th>\n",
              "      <th>X9</th>\n",
              "      <th>X10</th>\n",
              "      <th>X11</th>\n",
              "      <th>X12</th>\n",
              "    </tr>\n",
              "  </thead>\n",
              "  <tbody>\n",
              "    <tr>\n",
              "      <th>0</th>\n",
              "      <td>ES</td>\n",
              "      <td>7.071476</td>\n",
              "      <td>-6.512900</td>\n",
              "      <td>7.650800</td>\n",
              "      <td>11.150783</td>\n",
              "      <td>-7.657312</td>\n",
              "      <td>12.484021</td>\n",
              "      <td>-11.709772</td>\n",
              "      <td>3.426596</td>\n",
              "      <td>1.462715</td>\n",
              "      <td>-2.812753</td>\n",
              "      <td>0.866538</td>\n",
              "      <td>-5.244274</td>\n",
              "    </tr>\n",
              "    <tr>\n",
              "      <th>1</th>\n",
              "      <td>ES</td>\n",
              "      <td>10.982967</td>\n",
              "      <td>-5.157445</td>\n",
              "      <td>3.952060</td>\n",
              "      <td>11.529381</td>\n",
              "      <td>-7.638047</td>\n",
              "      <td>12.136098</td>\n",
              "      <td>-12.036247</td>\n",
              "      <td>3.491943</td>\n",
              "      <td>0.595441</td>\n",
              "      <td>-4.508811</td>\n",
              "      <td>2.332147</td>\n",
              "      <td>-6.221857</td>\n",
              "    </tr>\n",
              "    <tr>\n",
              "      <th>2</th>\n",
              "      <td>ES</td>\n",
              "      <td>7.827108</td>\n",
              "      <td>-5.477472</td>\n",
              "      <td>7.816257</td>\n",
              "      <td>9.187592</td>\n",
              "      <td>-7.172511</td>\n",
              "      <td>11.715299</td>\n",
              "      <td>-13.847214</td>\n",
              "      <td>4.574075</td>\n",
              "      <td>-1.687559</td>\n",
              "      <td>-7.204041</td>\n",
              "      <td>-0.011847</td>\n",
              "      <td>-6.463144</td>\n",
              "    </tr>\n",
              "    <tr>\n",
              "      <th>3</th>\n",
              "      <td>ES</td>\n",
              "      <td>6.744083</td>\n",
              "      <td>-5.688920</td>\n",
              "      <td>6.546789</td>\n",
              "      <td>9.000183</td>\n",
              "      <td>-6.924963</td>\n",
              "      <td>11.710766</td>\n",
              "      <td>-12.374388</td>\n",
              "      <td>6.169879</td>\n",
              "      <td>-0.544747</td>\n",
              "      <td>-6.019237</td>\n",
              "      <td>1.358559</td>\n",
              "      <td>-6.356441</td>\n",
              "    </tr>\n",
              "    <tr>\n",
              "      <th>4</th>\n",
              "      <td>ES</td>\n",
              "      <td>5.836843</td>\n",
              "      <td>-5.326557</td>\n",
              "      <td>7.472265</td>\n",
              "      <td>8.847440</td>\n",
              "      <td>-6.773244</td>\n",
              "      <td>12.677218</td>\n",
              "      <td>-12.315061</td>\n",
              "      <td>4.416344</td>\n",
              "      <td>0.193500</td>\n",
              "      <td>-3.644812</td>\n",
              "      <td>2.151239</td>\n",
              "      <td>-6.816310</td>\n",
              "    </tr>\n",
              "    <tr>\n",
              "      <th>...</th>\n",
              "      <td>...</td>\n",
              "      <td>...</td>\n",
              "      <td>...</td>\n",
              "      <td>...</td>\n",
              "      <td>...</td>\n",
              "      <td>...</td>\n",
              "      <td>...</td>\n",
              "      <td>...</td>\n",
              "      <td>...</td>\n",
              "      <td>...</td>\n",
              "      <td>...</td>\n",
              "      <td>...</td>\n",
              "      <td>...</td>\n",
              "    </tr>\n",
              "    <tr>\n",
              "      <th>324</th>\n",
              "      <td>US</td>\n",
              "      <td>-0.525273</td>\n",
              "      <td>-3.868338</td>\n",
              "      <td>3.548304</td>\n",
              "      <td>1.496249</td>\n",
              "      <td>3.490753</td>\n",
              "      <td>5.849887</td>\n",
              "      <td>-7.747027</td>\n",
              "      <td>9.738836</td>\n",
              "      <td>-11.754543</td>\n",
              "      <td>7.129909</td>\n",
              "      <td>0.209947</td>\n",
              "      <td>-1.946914</td>\n",
              "    </tr>\n",
              "    <tr>\n",
              "      <th>325</th>\n",
              "      <td>US</td>\n",
              "      <td>-2.094001</td>\n",
              "      <td>-1.073113</td>\n",
              "      <td>1.217397</td>\n",
              "      <td>-0.550790</td>\n",
              "      <td>2.666547</td>\n",
              "      <td>7.449942</td>\n",
              "      <td>-6.418064</td>\n",
              "      <td>10.907098</td>\n",
              "      <td>-11.134323</td>\n",
              "      <td>6.728373</td>\n",
              "      <td>2.461446</td>\n",
              "      <td>-0.026113</td>\n",
              "    </tr>\n",
              "    <tr>\n",
              "      <th>326</th>\n",
              "      <td>US</td>\n",
              "      <td>2.116909</td>\n",
              "      <td>-4.441482</td>\n",
              "      <td>5.350392</td>\n",
              "      <td>3.675396</td>\n",
              "      <td>2.715876</td>\n",
              "      <td>3.682670</td>\n",
              "      <td>-4.500850</td>\n",
              "      <td>11.798565</td>\n",
              "      <td>-12.031005</td>\n",
              "      <td>7.566142</td>\n",
              "      <td>-0.606010</td>\n",
              "      <td>-2.245129</td>\n",
              "    </tr>\n",
              "    <tr>\n",
              "      <th>327</th>\n",
              "      <td>US</td>\n",
              "      <td>0.299616</td>\n",
              "      <td>0.324844</td>\n",
              "      <td>3.299919</td>\n",
              "      <td>2.044040</td>\n",
              "      <td>3.634828</td>\n",
              "      <td>6.693840</td>\n",
              "      <td>-5.676224</td>\n",
              "      <td>12.000518</td>\n",
              "      <td>-11.912901</td>\n",
              "      <td>4.664406</td>\n",
              "      <td>1.197789</td>\n",
              "      <td>-2.230275</td>\n",
              "    </tr>\n",
              "    <tr>\n",
              "      <th>328</th>\n",
              "      <td>US</td>\n",
              "      <td>3.214254</td>\n",
              "      <td>-3.135152</td>\n",
              "      <td>1.122691</td>\n",
              "      <td>4.712444</td>\n",
              "      <td>5.926518</td>\n",
              "      <td>6.915566</td>\n",
              "      <td>-5.799727</td>\n",
              "      <td>10.858532</td>\n",
              "      <td>-11.659845</td>\n",
              "      <td>10.605734</td>\n",
              "      <td>0.349482</td>\n",
              "      <td>-5.983281</td>\n",
              "    </tr>\n",
              "  </tbody>\n",
              "</table>\n",
              "<p>329 rows × 13 columns</p>\n",
              "</div>\n",
              "      <button class=\"colab-df-convert\" onclick=\"convertToInteractive('df-793c8be8-0742-49da-a30e-b0bdd93ae66c')\"\n",
              "              title=\"Convert this dataframe to an interactive table.\"\n",
              "              style=\"display:none;\">\n",
              "        \n",
              "  <svg xmlns=\"http://www.w3.org/2000/svg\" height=\"24px\"viewBox=\"0 0 24 24\"\n",
              "       width=\"24px\">\n",
              "    <path d=\"M0 0h24v24H0V0z\" fill=\"none\"/>\n",
              "    <path d=\"M18.56 5.44l.94 2.06.94-2.06 2.06-.94-2.06-.94-.94-2.06-.94 2.06-2.06.94zm-11 1L8.5 8.5l.94-2.06 2.06-.94-2.06-.94L8.5 2.5l-.94 2.06-2.06.94zm10 10l.94 2.06.94-2.06 2.06-.94-2.06-.94-.94-2.06-.94 2.06-2.06.94z\"/><path d=\"M17.41 7.96l-1.37-1.37c-.4-.4-.92-.59-1.43-.59-.52 0-1.04.2-1.43.59L10.3 9.45l-7.72 7.72c-.78.78-.78 2.05 0 2.83L4 21.41c.39.39.9.59 1.41.59.51 0 1.02-.2 1.41-.59l7.78-7.78 2.81-2.81c.8-.78.8-2.07 0-2.86zM5.41 20L4 18.59l7.72-7.72 1.47 1.35L5.41 20z\"/>\n",
              "  </svg>\n",
              "      </button>\n",
              "      \n",
              "  <style>\n",
              "    .colab-df-container {\n",
              "      display:flex;\n",
              "      flex-wrap:wrap;\n",
              "      gap: 12px;\n",
              "    }\n",
              "\n",
              "    .colab-df-convert {\n",
              "      background-color: #E8F0FE;\n",
              "      border: none;\n",
              "      border-radius: 50%;\n",
              "      cursor: pointer;\n",
              "      display: none;\n",
              "      fill: #1967D2;\n",
              "      height: 32px;\n",
              "      padding: 0 0 0 0;\n",
              "      width: 32px;\n",
              "    }\n",
              "\n",
              "    .colab-df-convert:hover {\n",
              "      background-color: #E2EBFA;\n",
              "      box-shadow: 0px 1px 2px rgba(60, 64, 67, 0.3), 0px 1px 3px 1px rgba(60, 64, 67, 0.15);\n",
              "      fill: #174EA6;\n",
              "    }\n",
              "\n",
              "    [theme=dark] .colab-df-convert {\n",
              "      background-color: #3B4455;\n",
              "      fill: #D2E3FC;\n",
              "    }\n",
              "\n",
              "    [theme=dark] .colab-df-convert:hover {\n",
              "      background-color: #434B5C;\n",
              "      box-shadow: 0px 1px 3px 1px rgba(0, 0, 0, 0.15);\n",
              "      filter: drop-shadow(0px 1px 2px rgba(0, 0, 0, 0.3));\n",
              "      fill: #FFFFFF;\n",
              "    }\n",
              "  </style>\n",
              "\n",
              "      <script>\n",
              "        const buttonEl =\n",
              "          document.querySelector('#df-793c8be8-0742-49da-a30e-b0bdd93ae66c button.colab-df-convert');\n",
              "        buttonEl.style.display =\n",
              "          google.colab.kernel.accessAllowed ? 'block' : 'none';\n",
              "\n",
              "        async function convertToInteractive(key) {\n",
              "          const element = document.querySelector('#df-793c8be8-0742-49da-a30e-b0bdd93ae66c');\n",
              "          const dataTable =\n",
              "            await google.colab.kernel.invokeFunction('convertToInteractive',\n",
              "                                                     [key], {});\n",
              "          if (!dataTable) return;\n",
              "\n",
              "          const docLinkHtml = 'Like what you see? Visit the ' +\n",
              "            '<a target=\"_blank\" href=https://colab.research.google.com/notebooks/data_table.ipynb>data table notebook</a>'\n",
              "            + ' to learn more about interactive tables.';\n",
              "          element.innerHTML = '';\n",
              "          dataTable['output_type'] = 'display_data';\n",
              "          await google.colab.output.renderOutput(dataTable, element);\n",
              "          const docLink = document.createElement('div');\n",
              "          docLink.innerHTML = docLinkHtml;\n",
              "          element.appendChild(docLink);\n",
              "        }\n",
              "      </script>\n",
              "    </div>\n",
              "  </div>\n",
              "  "
            ]
          },
          "metadata": {},
          "execution_count": 302
        }
      ]
    },
    {
      "cell_type": "code",
      "source": [
        "df = df.dropna()\n",
        "df"
      ],
      "metadata": {
        "colab": {
          "base_uri": "https://localhost:8080/",
          "height": 424
        },
        "id": "vU6Odm8CVXWE",
        "outputId": "7cc01466-e1aa-4a20-afb3-58039c4aac2e"
      },
      "execution_count": null,
      "outputs": [
        {
          "output_type": "execute_result",
          "data": {
            "text/plain": [
              "    language         X1        X2        X3         X4        X5         X6  \\\n",
              "0         ES   7.071476 -6.512900  7.650800  11.150783 -7.657312  12.484021   \n",
              "1         ES  10.982967 -5.157445  3.952060  11.529381 -7.638047  12.136098   \n",
              "2         ES   7.827108 -5.477472  7.816257   9.187592 -7.172511  11.715299   \n",
              "3         ES   6.744083 -5.688920  6.546789   9.000183 -6.924963  11.710766   \n",
              "4         ES   5.836843 -5.326557  7.472265   8.847440 -6.773244  12.677218   \n",
              "..       ...        ...       ...       ...        ...       ...        ...   \n",
              "324       US  -0.525273 -3.868338  3.548304   1.496249  3.490753   5.849887   \n",
              "325       US  -2.094001 -1.073113  1.217397  -0.550790  2.666547   7.449942   \n",
              "326       US   2.116909 -4.441482  5.350392   3.675396  2.715876   3.682670   \n",
              "327       US   0.299616  0.324844  3.299919   2.044040  3.634828   6.693840   \n",
              "328       US   3.214254 -3.135152  1.122691   4.712444  5.926518   6.915566   \n",
              "\n",
              "            X7         X8         X9        X10       X11       X12  \n",
              "0   -11.709772   3.426596   1.462715  -2.812753  0.866538 -5.244274  \n",
              "1   -12.036247   3.491943   0.595441  -4.508811  2.332147 -6.221857  \n",
              "2   -13.847214   4.574075  -1.687559  -7.204041 -0.011847 -6.463144  \n",
              "3   -12.374388   6.169879  -0.544747  -6.019237  1.358559 -6.356441  \n",
              "4   -12.315061   4.416344   0.193500  -3.644812  2.151239 -6.816310  \n",
              "..         ...        ...        ...        ...       ...       ...  \n",
              "324  -7.747027   9.738836 -11.754543   7.129909  0.209947 -1.946914  \n",
              "325  -6.418064  10.907098 -11.134323   6.728373  2.461446 -0.026113  \n",
              "326  -4.500850  11.798565 -12.031005   7.566142 -0.606010 -2.245129  \n",
              "327  -5.676224  12.000518 -11.912901   4.664406  1.197789 -2.230275  \n",
              "328  -5.799727  10.858532 -11.659845  10.605734  0.349482 -5.983281  \n",
              "\n",
              "[329 rows x 13 columns]"
            ],
            "text/html": [
              "\n",
              "  <div id=\"df-696bb60d-5580-443a-94d6-3fd5046e1cdd\">\n",
              "    <div class=\"colab-df-container\">\n",
              "      <div>\n",
              "<style scoped>\n",
              "    .dataframe tbody tr th:only-of-type {\n",
              "        vertical-align: middle;\n",
              "    }\n",
              "\n",
              "    .dataframe tbody tr th {\n",
              "        vertical-align: top;\n",
              "    }\n",
              "\n",
              "    .dataframe thead th {\n",
              "        text-align: right;\n",
              "    }\n",
              "</style>\n",
              "<table border=\"1\" class=\"dataframe\">\n",
              "  <thead>\n",
              "    <tr style=\"text-align: right;\">\n",
              "      <th></th>\n",
              "      <th>language</th>\n",
              "      <th>X1</th>\n",
              "      <th>X2</th>\n",
              "      <th>X3</th>\n",
              "      <th>X4</th>\n",
              "      <th>X5</th>\n",
              "      <th>X6</th>\n",
              "      <th>X7</th>\n",
              "      <th>X8</th>\n",
              "      <th>X9</th>\n",
              "      <th>X10</th>\n",
              "      <th>X11</th>\n",
              "      <th>X12</th>\n",
              "    </tr>\n",
              "  </thead>\n",
              "  <tbody>\n",
              "    <tr>\n",
              "      <th>0</th>\n",
              "      <td>ES</td>\n",
              "      <td>7.071476</td>\n",
              "      <td>-6.512900</td>\n",
              "      <td>7.650800</td>\n",
              "      <td>11.150783</td>\n",
              "      <td>-7.657312</td>\n",
              "      <td>12.484021</td>\n",
              "      <td>-11.709772</td>\n",
              "      <td>3.426596</td>\n",
              "      <td>1.462715</td>\n",
              "      <td>-2.812753</td>\n",
              "      <td>0.866538</td>\n",
              "      <td>-5.244274</td>\n",
              "    </tr>\n",
              "    <tr>\n",
              "      <th>1</th>\n",
              "      <td>ES</td>\n",
              "      <td>10.982967</td>\n",
              "      <td>-5.157445</td>\n",
              "      <td>3.952060</td>\n",
              "      <td>11.529381</td>\n",
              "      <td>-7.638047</td>\n",
              "      <td>12.136098</td>\n",
              "      <td>-12.036247</td>\n",
              "      <td>3.491943</td>\n",
              "      <td>0.595441</td>\n",
              "      <td>-4.508811</td>\n",
              "      <td>2.332147</td>\n",
              "      <td>-6.221857</td>\n",
              "    </tr>\n",
              "    <tr>\n",
              "      <th>2</th>\n",
              "      <td>ES</td>\n",
              "      <td>7.827108</td>\n",
              "      <td>-5.477472</td>\n",
              "      <td>7.816257</td>\n",
              "      <td>9.187592</td>\n",
              "      <td>-7.172511</td>\n",
              "      <td>11.715299</td>\n",
              "      <td>-13.847214</td>\n",
              "      <td>4.574075</td>\n",
              "      <td>-1.687559</td>\n",
              "      <td>-7.204041</td>\n",
              "      <td>-0.011847</td>\n",
              "      <td>-6.463144</td>\n",
              "    </tr>\n",
              "    <tr>\n",
              "      <th>3</th>\n",
              "      <td>ES</td>\n",
              "      <td>6.744083</td>\n",
              "      <td>-5.688920</td>\n",
              "      <td>6.546789</td>\n",
              "      <td>9.000183</td>\n",
              "      <td>-6.924963</td>\n",
              "      <td>11.710766</td>\n",
              "      <td>-12.374388</td>\n",
              "      <td>6.169879</td>\n",
              "      <td>-0.544747</td>\n",
              "      <td>-6.019237</td>\n",
              "      <td>1.358559</td>\n",
              "      <td>-6.356441</td>\n",
              "    </tr>\n",
              "    <tr>\n",
              "      <th>4</th>\n",
              "      <td>ES</td>\n",
              "      <td>5.836843</td>\n",
              "      <td>-5.326557</td>\n",
              "      <td>7.472265</td>\n",
              "      <td>8.847440</td>\n",
              "      <td>-6.773244</td>\n",
              "      <td>12.677218</td>\n",
              "      <td>-12.315061</td>\n",
              "      <td>4.416344</td>\n",
              "      <td>0.193500</td>\n",
              "      <td>-3.644812</td>\n",
              "      <td>2.151239</td>\n",
              "      <td>-6.816310</td>\n",
              "    </tr>\n",
              "    <tr>\n",
              "      <th>...</th>\n",
              "      <td>...</td>\n",
              "      <td>...</td>\n",
              "      <td>...</td>\n",
              "      <td>...</td>\n",
              "      <td>...</td>\n",
              "      <td>...</td>\n",
              "      <td>...</td>\n",
              "      <td>...</td>\n",
              "      <td>...</td>\n",
              "      <td>...</td>\n",
              "      <td>...</td>\n",
              "      <td>...</td>\n",
              "      <td>...</td>\n",
              "    </tr>\n",
              "    <tr>\n",
              "      <th>324</th>\n",
              "      <td>US</td>\n",
              "      <td>-0.525273</td>\n",
              "      <td>-3.868338</td>\n",
              "      <td>3.548304</td>\n",
              "      <td>1.496249</td>\n",
              "      <td>3.490753</td>\n",
              "      <td>5.849887</td>\n",
              "      <td>-7.747027</td>\n",
              "      <td>9.738836</td>\n",
              "      <td>-11.754543</td>\n",
              "      <td>7.129909</td>\n",
              "      <td>0.209947</td>\n",
              "      <td>-1.946914</td>\n",
              "    </tr>\n",
              "    <tr>\n",
              "      <th>325</th>\n",
              "      <td>US</td>\n",
              "      <td>-2.094001</td>\n",
              "      <td>-1.073113</td>\n",
              "      <td>1.217397</td>\n",
              "      <td>-0.550790</td>\n",
              "      <td>2.666547</td>\n",
              "      <td>7.449942</td>\n",
              "      <td>-6.418064</td>\n",
              "      <td>10.907098</td>\n",
              "      <td>-11.134323</td>\n",
              "      <td>6.728373</td>\n",
              "      <td>2.461446</td>\n",
              "      <td>-0.026113</td>\n",
              "    </tr>\n",
              "    <tr>\n",
              "      <th>326</th>\n",
              "      <td>US</td>\n",
              "      <td>2.116909</td>\n",
              "      <td>-4.441482</td>\n",
              "      <td>5.350392</td>\n",
              "      <td>3.675396</td>\n",
              "      <td>2.715876</td>\n",
              "      <td>3.682670</td>\n",
              "      <td>-4.500850</td>\n",
              "      <td>11.798565</td>\n",
              "      <td>-12.031005</td>\n",
              "      <td>7.566142</td>\n",
              "      <td>-0.606010</td>\n",
              "      <td>-2.245129</td>\n",
              "    </tr>\n",
              "    <tr>\n",
              "      <th>327</th>\n",
              "      <td>US</td>\n",
              "      <td>0.299616</td>\n",
              "      <td>0.324844</td>\n",
              "      <td>3.299919</td>\n",
              "      <td>2.044040</td>\n",
              "      <td>3.634828</td>\n",
              "      <td>6.693840</td>\n",
              "      <td>-5.676224</td>\n",
              "      <td>12.000518</td>\n",
              "      <td>-11.912901</td>\n",
              "      <td>4.664406</td>\n",
              "      <td>1.197789</td>\n",
              "      <td>-2.230275</td>\n",
              "    </tr>\n",
              "    <tr>\n",
              "      <th>328</th>\n",
              "      <td>US</td>\n",
              "      <td>3.214254</td>\n",
              "      <td>-3.135152</td>\n",
              "      <td>1.122691</td>\n",
              "      <td>4.712444</td>\n",
              "      <td>5.926518</td>\n",
              "      <td>6.915566</td>\n",
              "      <td>-5.799727</td>\n",
              "      <td>10.858532</td>\n",
              "      <td>-11.659845</td>\n",
              "      <td>10.605734</td>\n",
              "      <td>0.349482</td>\n",
              "      <td>-5.983281</td>\n",
              "    </tr>\n",
              "  </tbody>\n",
              "</table>\n",
              "<p>329 rows × 13 columns</p>\n",
              "</div>\n",
              "      <button class=\"colab-df-convert\" onclick=\"convertToInteractive('df-696bb60d-5580-443a-94d6-3fd5046e1cdd')\"\n",
              "              title=\"Convert this dataframe to an interactive table.\"\n",
              "              style=\"display:none;\">\n",
              "        \n",
              "  <svg xmlns=\"http://www.w3.org/2000/svg\" height=\"24px\"viewBox=\"0 0 24 24\"\n",
              "       width=\"24px\">\n",
              "    <path d=\"M0 0h24v24H0V0z\" fill=\"none\"/>\n",
              "    <path d=\"M18.56 5.44l.94 2.06.94-2.06 2.06-.94-2.06-.94-.94-2.06-.94 2.06-2.06.94zm-11 1L8.5 8.5l.94-2.06 2.06-.94-2.06-.94L8.5 2.5l-.94 2.06-2.06.94zm10 10l.94 2.06.94-2.06 2.06-.94-2.06-.94-.94-2.06-.94 2.06-2.06.94z\"/><path d=\"M17.41 7.96l-1.37-1.37c-.4-.4-.92-.59-1.43-.59-.52 0-1.04.2-1.43.59L10.3 9.45l-7.72 7.72c-.78.78-.78 2.05 0 2.83L4 21.41c.39.39.9.59 1.41.59.51 0 1.02-.2 1.41-.59l7.78-7.78 2.81-2.81c.8-.78.8-2.07 0-2.86zM5.41 20L4 18.59l7.72-7.72 1.47 1.35L5.41 20z\"/>\n",
              "  </svg>\n",
              "      </button>\n",
              "      \n",
              "  <style>\n",
              "    .colab-df-container {\n",
              "      display:flex;\n",
              "      flex-wrap:wrap;\n",
              "      gap: 12px;\n",
              "    }\n",
              "\n",
              "    .colab-df-convert {\n",
              "      background-color: #E8F0FE;\n",
              "      border: none;\n",
              "      border-radius: 50%;\n",
              "      cursor: pointer;\n",
              "      display: none;\n",
              "      fill: #1967D2;\n",
              "      height: 32px;\n",
              "      padding: 0 0 0 0;\n",
              "      width: 32px;\n",
              "    }\n",
              "\n",
              "    .colab-df-convert:hover {\n",
              "      background-color: #E2EBFA;\n",
              "      box-shadow: 0px 1px 2px rgba(60, 64, 67, 0.3), 0px 1px 3px 1px rgba(60, 64, 67, 0.15);\n",
              "      fill: #174EA6;\n",
              "    }\n",
              "\n",
              "    [theme=dark] .colab-df-convert {\n",
              "      background-color: #3B4455;\n",
              "      fill: #D2E3FC;\n",
              "    }\n",
              "\n",
              "    [theme=dark] .colab-df-convert:hover {\n",
              "      background-color: #434B5C;\n",
              "      box-shadow: 0px 1px 3px 1px rgba(0, 0, 0, 0.15);\n",
              "      filter: drop-shadow(0px 1px 2px rgba(0, 0, 0, 0.3));\n",
              "      fill: #FFFFFF;\n",
              "    }\n",
              "  </style>\n",
              "\n",
              "      <script>\n",
              "        const buttonEl =\n",
              "          document.querySelector('#df-696bb60d-5580-443a-94d6-3fd5046e1cdd button.colab-df-convert');\n",
              "        buttonEl.style.display =\n",
              "          google.colab.kernel.accessAllowed ? 'block' : 'none';\n",
              "\n",
              "        async function convertToInteractive(key) {\n",
              "          const element = document.querySelector('#df-696bb60d-5580-443a-94d6-3fd5046e1cdd');\n",
              "          const dataTable =\n",
              "            await google.colab.kernel.invokeFunction('convertToInteractive',\n",
              "                                                     [key], {});\n",
              "          if (!dataTable) return;\n",
              "\n",
              "          const docLinkHtml = 'Like what you see? Visit the ' +\n",
              "            '<a target=\"_blank\" href=https://colab.research.google.com/notebooks/data_table.ipynb>data table notebook</a>'\n",
              "            + ' to learn more about interactive tables.';\n",
              "          element.innerHTML = '';\n",
              "          dataTable['output_type'] = 'display_data';\n",
              "          await google.colab.output.renderOutput(dataTable, element);\n",
              "          const docLink = document.createElement('div');\n",
              "          docLink.innerHTML = docLinkHtml;\n",
              "          element.appendChild(docLink);\n",
              "        }\n",
              "      </script>\n",
              "    </div>\n",
              "  </div>\n",
              "  "
            ]
          },
          "metadata": {},
          "execution_count": 303
        }
      ]
    },
    {
      "cell_type": "code",
      "source": [
        "df[\"language\"] = df[\"language\"].replace(\"ES\", 0)\n",
        "df[\"language\"] = df[\"language\"].replace(\"FR\", 1)\n",
        "df[\"language\"] = df[\"language\"].replace(\"GE\", 2)\n",
        "df[\"language\"] = df[\"language\"].replace(\"IT\", 3)\n",
        "df[\"language\"] = df[\"language\"].replace(\"UK\", 4)\n",
        "df[\"language\"] = df[\"language\"].replace(\"US\", 5)"
      ],
      "metadata": {
        "id": "bFC_7d_gVbkA"
      },
      "execution_count": null,
      "outputs": []
    },
    {
      "cell_type": "code",
      "source": [
        "df"
      ],
      "metadata": {
        "colab": {
          "base_uri": "https://localhost:8080/",
          "height": 424
        },
        "id": "Yn5iY5M-VdYa",
        "outputId": "1e6bf549-7fb8-4904-9347-37643f25b20a"
      },
      "execution_count": null,
      "outputs": [
        {
          "output_type": "execute_result",
          "data": {
            "text/plain": [
              "     language         X1        X2        X3         X4        X5         X6  \\\n",
              "0           0   7.071476 -6.512900  7.650800  11.150783 -7.657312  12.484021   \n",
              "1           0  10.982967 -5.157445  3.952060  11.529381 -7.638047  12.136098   \n",
              "2           0   7.827108 -5.477472  7.816257   9.187592 -7.172511  11.715299   \n",
              "3           0   6.744083 -5.688920  6.546789   9.000183 -6.924963  11.710766   \n",
              "4           0   5.836843 -5.326557  7.472265   8.847440 -6.773244  12.677218   \n",
              "..        ...        ...       ...       ...        ...       ...        ...   \n",
              "324         5  -0.525273 -3.868338  3.548304   1.496249  3.490753   5.849887   \n",
              "325         5  -2.094001 -1.073113  1.217397  -0.550790  2.666547   7.449942   \n",
              "326         5   2.116909 -4.441482  5.350392   3.675396  2.715876   3.682670   \n",
              "327         5   0.299616  0.324844  3.299919   2.044040  3.634828   6.693840   \n",
              "328         5   3.214254 -3.135152  1.122691   4.712444  5.926518   6.915566   \n",
              "\n",
              "            X7         X8         X9        X10       X11       X12  \n",
              "0   -11.709772   3.426596   1.462715  -2.812753  0.866538 -5.244274  \n",
              "1   -12.036247   3.491943   0.595441  -4.508811  2.332147 -6.221857  \n",
              "2   -13.847214   4.574075  -1.687559  -7.204041 -0.011847 -6.463144  \n",
              "3   -12.374388   6.169879  -0.544747  -6.019237  1.358559 -6.356441  \n",
              "4   -12.315061   4.416344   0.193500  -3.644812  2.151239 -6.816310  \n",
              "..         ...        ...        ...        ...       ...       ...  \n",
              "324  -7.747027   9.738836 -11.754543   7.129909  0.209947 -1.946914  \n",
              "325  -6.418064  10.907098 -11.134323   6.728373  2.461446 -0.026113  \n",
              "326  -4.500850  11.798565 -12.031005   7.566142 -0.606010 -2.245129  \n",
              "327  -5.676224  12.000518 -11.912901   4.664406  1.197789 -2.230275  \n",
              "328  -5.799727  10.858532 -11.659845  10.605734  0.349482 -5.983281  \n",
              "\n",
              "[329 rows x 13 columns]"
            ],
            "text/html": [
              "\n",
              "  <div id=\"df-5bd9899b-7d2b-4860-8396-3c9180043ebe\">\n",
              "    <div class=\"colab-df-container\">\n",
              "      <div>\n",
              "<style scoped>\n",
              "    .dataframe tbody tr th:only-of-type {\n",
              "        vertical-align: middle;\n",
              "    }\n",
              "\n",
              "    .dataframe tbody tr th {\n",
              "        vertical-align: top;\n",
              "    }\n",
              "\n",
              "    .dataframe thead th {\n",
              "        text-align: right;\n",
              "    }\n",
              "</style>\n",
              "<table border=\"1\" class=\"dataframe\">\n",
              "  <thead>\n",
              "    <tr style=\"text-align: right;\">\n",
              "      <th></th>\n",
              "      <th>language</th>\n",
              "      <th>X1</th>\n",
              "      <th>X2</th>\n",
              "      <th>X3</th>\n",
              "      <th>X4</th>\n",
              "      <th>X5</th>\n",
              "      <th>X6</th>\n",
              "      <th>X7</th>\n",
              "      <th>X8</th>\n",
              "      <th>X9</th>\n",
              "      <th>X10</th>\n",
              "      <th>X11</th>\n",
              "      <th>X12</th>\n",
              "    </tr>\n",
              "  </thead>\n",
              "  <tbody>\n",
              "    <tr>\n",
              "      <th>0</th>\n",
              "      <td>0</td>\n",
              "      <td>7.071476</td>\n",
              "      <td>-6.512900</td>\n",
              "      <td>7.650800</td>\n",
              "      <td>11.150783</td>\n",
              "      <td>-7.657312</td>\n",
              "      <td>12.484021</td>\n",
              "      <td>-11.709772</td>\n",
              "      <td>3.426596</td>\n",
              "      <td>1.462715</td>\n",
              "      <td>-2.812753</td>\n",
              "      <td>0.866538</td>\n",
              "      <td>-5.244274</td>\n",
              "    </tr>\n",
              "    <tr>\n",
              "      <th>1</th>\n",
              "      <td>0</td>\n",
              "      <td>10.982967</td>\n",
              "      <td>-5.157445</td>\n",
              "      <td>3.952060</td>\n",
              "      <td>11.529381</td>\n",
              "      <td>-7.638047</td>\n",
              "      <td>12.136098</td>\n",
              "      <td>-12.036247</td>\n",
              "      <td>3.491943</td>\n",
              "      <td>0.595441</td>\n",
              "      <td>-4.508811</td>\n",
              "      <td>2.332147</td>\n",
              "      <td>-6.221857</td>\n",
              "    </tr>\n",
              "    <tr>\n",
              "      <th>2</th>\n",
              "      <td>0</td>\n",
              "      <td>7.827108</td>\n",
              "      <td>-5.477472</td>\n",
              "      <td>7.816257</td>\n",
              "      <td>9.187592</td>\n",
              "      <td>-7.172511</td>\n",
              "      <td>11.715299</td>\n",
              "      <td>-13.847214</td>\n",
              "      <td>4.574075</td>\n",
              "      <td>-1.687559</td>\n",
              "      <td>-7.204041</td>\n",
              "      <td>-0.011847</td>\n",
              "      <td>-6.463144</td>\n",
              "    </tr>\n",
              "    <tr>\n",
              "      <th>3</th>\n",
              "      <td>0</td>\n",
              "      <td>6.744083</td>\n",
              "      <td>-5.688920</td>\n",
              "      <td>6.546789</td>\n",
              "      <td>9.000183</td>\n",
              "      <td>-6.924963</td>\n",
              "      <td>11.710766</td>\n",
              "      <td>-12.374388</td>\n",
              "      <td>6.169879</td>\n",
              "      <td>-0.544747</td>\n",
              "      <td>-6.019237</td>\n",
              "      <td>1.358559</td>\n",
              "      <td>-6.356441</td>\n",
              "    </tr>\n",
              "    <tr>\n",
              "      <th>4</th>\n",
              "      <td>0</td>\n",
              "      <td>5.836843</td>\n",
              "      <td>-5.326557</td>\n",
              "      <td>7.472265</td>\n",
              "      <td>8.847440</td>\n",
              "      <td>-6.773244</td>\n",
              "      <td>12.677218</td>\n",
              "      <td>-12.315061</td>\n",
              "      <td>4.416344</td>\n",
              "      <td>0.193500</td>\n",
              "      <td>-3.644812</td>\n",
              "      <td>2.151239</td>\n",
              "      <td>-6.816310</td>\n",
              "    </tr>\n",
              "    <tr>\n",
              "      <th>...</th>\n",
              "      <td>...</td>\n",
              "      <td>...</td>\n",
              "      <td>...</td>\n",
              "      <td>...</td>\n",
              "      <td>...</td>\n",
              "      <td>...</td>\n",
              "      <td>...</td>\n",
              "      <td>...</td>\n",
              "      <td>...</td>\n",
              "      <td>...</td>\n",
              "      <td>...</td>\n",
              "      <td>...</td>\n",
              "      <td>...</td>\n",
              "    </tr>\n",
              "    <tr>\n",
              "      <th>324</th>\n",
              "      <td>5</td>\n",
              "      <td>-0.525273</td>\n",
              "      <td>-3.868338</td>\n",
              "      <td>3.548304</td>\n",
              "      <td>1.496249</td>\n",
              "      <td>3.490753</td>\n",
              "      <td>5.849887</td>\n",
              "      <td>-7.747027</td>\n",
              "      <td>9.738836</td>\n",
              "      <td>-11.754543</td>\n",
              "      <td>7.129909</td>\n",
              "      <td>0.209947</td>\n",
              "      <td>-1.946914</td>\n",
              "    </tr>\n",
              "    <tr>\n",
              "      <th>325</th>\n",
              "      <td>5</td>\n",
              "      <td>-2.094001</td>\n",
              "      <td>-1.073113</td>\n",
              "      <td>1.217397</td>\n",
              "      <td>-0.550790</td>\n",
              "      <td>2.666547</td>\n",
              "      <td>7.449942</td>\n",
              "      <td>-6.418064</td>\n",
              "      <td>10.907098</td>\n",
              "      <td>-11.134323</td>\n",
              "      <td>6.728373</td>\n",
              "      <td>2.461446</td>\n",
              "      <td>-0.026113</td>\n",
              "    </tr>\n",
              "    <tr>\n",
              "      <th>326</th>\n",
              "      <td>5</td>\n",
              "      <td>2.116909</td>\n",
              "      <td>-4.441482</td>\n",
              "      <td>5.350392</td>\n",
              "      <td>3.675396</td>\n",
              "      <td>2.715876</td>\n",
              "      <td>3.682670</td>\n",
              "      <td>-4.500850</td>\n",
              "      <td>11.798565</td>\n",
              "      <td>-12.031005</td>\n",
              "      <td>7.566142</td>\n",
              "      <td>-0.606010</td>\n",
              "      <td>-2.245129</td>\n",
              "    </tr>\n",
              "    <tr>\n",
              "      <th>327</th>\n",
              "      <td>5</td>\n",
              "      <td>0.299616</td>\n",
              "      <td>0.324844</td>\n",
              "      <td>3.299919</td>\n",
              "      <td>2.044040</td>\n",
              "      <td>3.634828</td>\n",
              "      <td>6.693840</td>\n",
              "      <td>-5.676224</td>\n",
              "      <td>12.000518</td>\n",
              "      <td>-11.912901</td>\n",
              "      <td>4.664406</td>\n",
              "      <td>1.197789</td>\n",
              "      <td>-2.230275</td>\n",
              "    </tr>\n",
              "    <tr>\n",
              "      <th>328</th>\n",
              "      <td>5</td>\n",
              "      <td>3.214254</td>\n",
              "      <td>-3.135152</td>\n",
              "      <td>1.122691</td>\n",
              "      <td>4.712444</td>\n",
              "      <td>5.926518</td>\n",
              "      <td>6.915566</td>\n",
              "      <td>-5.799727</td>\n",
              "      <td>10.858532</td>\n",
              "      <td>-11.659845</td>\n",
              "      <td>10.605734</td>\n",
              "      <td>0.349482</td>\n",
              "      <td>-5.983281</td>\n",
              "    </tr>\n",
              "  </tbody>\n",
              "</table>\n",
              "<p>329 rows × 13 columns</p>\n",
              "</div>\n",
              "      <button class=\"colab-df-convert\" onclick=\"convertToInteractive('df-5bd9899b-7d2b-4860-8396-3c9180043ebe')\"\n",
              "              title=\"Convert this dataframe to an interactive table.\"\n",
              "              style=\"display:none;\">\n",
              "        \n",
              "  <svg xmlns=\"http://www.w3.org/2000/svg\" height=\"24px\"viewBox=\"0 0 24 24\"\n",
              "       width=\"24px\">\n",
              "    <path d=\"M0 0h24v24H0V0z\" fill=\"none\"/>\n",
              "    <path d=\"M18.56 5.44l.94 2.06.94-2.06 2.06-.94-2.06-.94-.94-2.06-.94 2.06-2.06.94zm-11 1L8.5 8.5l.94-2.06 2.06-.94-2.06-.94L8.5 2.5l-.94 2.06-2.06.94zm10 10l.94 2.06.94-2.06 2.06-.94-2.06-.94-.94-2.06-.94 2.06-2.06.94z\"/><path d=\"M17.41 7.96l-1.37-1.37c-.4-.4-.92-.59-1.43-.59-.52 0-1.04.2-1.43.59L10.3 9.45l-7.72 7.72c-.78.78-.78 2.05 0 2.83L4 21.41c.39.39.9.59 1.41.59.51 0 1.02-.2 1.41-.59l7.78-7.78 2.81-2.81c.8-.78.8-2.07 0-2.86zM5.41 20L4 18.59l7.72-7.72 1.47 1.35L5.41 20z\"/>\n",
              "  </svg>\n",
              "      </button>\n",
              "      \n",
              "  <style>\n",
              "    .colab-df-container {\n",
              "      display:flex;\n",
              "      flex-wrap:wrap;\n",
              "      gap: 12px;\n",
              "    }\n",
              "\n",
              "    .colab-df-convert {\n",
              "      background-color: #E8F0FE;\n",
              "      border: none;\n",
              "      border-radius: 50%;\n",
              "      cursor: pointer;\n",
              "      display: none;\n",
              "      fill: #1967D2;\n",
              "      height: 32px;\n",
              "      padding: 0 0 0 0;\n",
              "      width: 32px;\n",
              "    }\n",
              "\n",
              "    .colab-df-convert:hover {\n",
              "      background-color: #E2EBFA;\n",
              "      box-shadow: 0px 1px 2px rgba(60, 64, 67, 0.3), 0px 1px 3px 1px rgba(60, 64, 67, 0.15);\n",
              "      fill: #174EA6;\n",
              "    }\n",
              "\n",
              "    [theme=dark] .colab-df-convert {\n",
              "      background-color: #3B4455;\n",
              "      fill: #D2E3FC;\n",
              "    }\n",
              "\n",
              "    [theme=dark] .colab-df-convert:hover {\n",
              "      background-color: #434B5C;\n",
              "      box-shadow: 0px 1px 3px 1px rgba(0, 0, 0, 0.15);\n",
              "      filter: drop-shadow(0px 1px 2px rgba(0, 0, 0, 0.3));\n",
              "      fill: #FFFFFF;\n",
              "    }\n",
              "  </style>\n",
              "\n",
              "      <script>\n",
              "        const buttonEl =\n",
              "          document.querySelector('#df-5bd9899b-7d2b-4860-8396-3c9180043ebe button.colab-df-convert');\n",
              "        buttonEl.style.display =\n",
              "          google.colab.kernel.accessAllowed ? 'block' : 'none';\n",
              "\n",
              "        async function convertToInteractive(key) {\n",
              "          const element = document.querySelector('#df-5bd9899b-7d2b-4860-8396-3c9180043ebe');\n",
              "          const dataTable =\n",
              "            await google.colab.kernel.invokeFunction('convertToInteractive',\n",
              "                                                     [key], {});\n",
              "          if (!dataTable) return;\n",
              "\n",
              "          const docLinkHtml = 'Like what you see? Visit the ' +\n",
              "            '<a target=\"_blank\" href=https://colab.research.google.com/notebooks/data_table.ipynb>data table notebook</a>'\n",
              "            + ' to learn more about interactive tables.';\n",
              "          element.innerHTML = '';\n",
              "          dataTable['output_type'] = 'display_data';\n",
              "          await google.colab.output.renderOutput(dataTable, element);\n",
              "          const docLink = document.createElement('div');\n",
              "          docLink.innerHTML = docLinkHtml;\n",
              "          element.appendChild(docLink);\n",
              "        }\n",
              "      </script>\n",
              "    </div>\n",
              "  </div>\n",
              "  "
            ]
          },
          "metadata": {},
          "execution_count": 305
        }
      ]
    },
    {
      "cell_type": "code",
      "source": [
        "df.dtypes"
      ],
      "metadata": {
        "colab": {
          "base_uri": "https://localhost:8080/"
        },
        "id": "IibtuzAzVf0J",
        "outputId": "d7633a8e-ee63-480b-aeb5-45d853758a72"
      },
      "execution_count": null,
      "outputs": [
        {
          "output_type": "execute_result",
          "data": {
            "text/plain": [
              "language      int64\n",
              "X1          float64\n",
              "X2          float64\n",
              "X3          float64\n",
              "X4          float64\n",
              "X5          float64\n",
              "X6          float64\n",
              "X7          float64\n",
              "X8          float64\n",
              "X9          float64\n",
              "X10         float64\n",
              "X11         float64\n",
              "X12         float64\n",
              "dtype: object"
            ]
          },
          "metadata": {},
          "execution_count": 306
        }
      ]
    },
    {
      "cell_type": "code",
      "source": [
        "import numpy as np\n",
        "dfNp = df.to_numpy()\n",
        "x=dfNp[:,1:] # prendiamo tutti i dati tranne l'ultima colonna -> variabili indipendenti, osservazioni\n",
        "y=dfNp[:,0] # prendiamo solo l'ultima colonna -> variabile dipendente, target\n",
        "\n",
        "#Print class frequencies through collections counter\n",
        "import collections\n",
        "collections.Counter(y)"
      ],
      "metadata": {
        "colab": {
          "base_uri": "https://localhost:8080/"
        },
        "id": "c-AexxSrVkiK",
        "outputId": "3aaa0861-8aa1-4471-ffa4-cdf3974f5c82"
      },
      "execution_count": null,
      "outputs": [
        {
          "output_type": "execute_result",
          "data": {
            "text/plain": [
              "Counter({0.0: 29, 1.0: 30, 2.0: 30, 3.0: 30, 4.0: 45, 5.0: 165})"
            ]
          },
          "metadata": {},
          "execution_count": 307
        }
      ]
    },
    {
      "cell_type": "code",
      "source": [
        "from sklearn.model_selection import train_test_split # suddivide le osservazioni nei due insiemi\n",
        "\n",
        "X_train, X_test, y_train, y_test = train_test_split(x, y, \n",
        "                                                    test_size = 0.30, # by default is 75%-25%\n",
        "                                                    # shuffle is set True by default,\n",
        "                                                    stratify = y, # per mantenere le proporzioni che ci sono nei dati di partenza\n",
        "                                                    random_state = 123) # fix random seed for replicability"
      ],
      "metadata": {
        "id": "WHYrkrcqVnmU"
      },
      "execution_count": null,
      "outputs": []
    },
    {
      "cell_type": "code",
      "source": [
        "from matplotlib import pyplot as plt\n",
        "acc = []\n",
        "# Will take some time\n",
        "from sklearn import metrics\n",
        "for k in range(1,40):\n",
        "    neigh = KNeighborsClassifier(n_neighbors = k).fit(X_train,y_train)\n",
        "    yhat = neigh.predict(X_test)\n",
        "    acc.append(metrics.accuracy_score(y_test, yhat))\n",
        "    \n",
        "plt.figure(figsize=(10,6))\n",
        "plt.plot(range(1,40),acc,color = 'blue',linestyle='dashed', \n",
        "         marker='o',markerfacecolor='red', markersize=10)\n",
        "plt.title('accuracy vs. K Value')\n",
        "plt.xlabel('K')\n",
        "plt.ylabel('Accuracy')\n",
        "print(\"Maximum accuracy:-\",max(acc),\"at K =\",acc.index(max(acc)) + 1 )"
      ],
      "metadata": {
        "colab": {
          "base_uri": "https://localhost:8080/",
          "height": 421
        },
        "id": "574nuhRXVp7i",
        "outputId": "92240837-7865-40dc-a92c-ab19a12a7677"
      },
      "execution_count": null,
      "outputs": [
        {
          "output_type": "stream",
          "name": "stdout",
          "text": [
            "Maximum accuracy:- 0.8282828282828283 at K = 6\n"
          ]
        },
        {
          "output_type": "display_data",
          "data": {
            "text/plain": [
              "<Figure size 720x432 with 1 Axes>"
            ],
            "image/png": "[encoded data removed]"
          },
          "metadata": {
            "needs_background": "light"
          }
        }
      ]
    },
    {
      "cell_type": "code",
      "source": [
        "from sklearn.neighbors import KNeighborsClassifier\n",
        "\n",
        "neigh = KNeighborsClassifier(n_neighbors=6) # impostiamo l'unico parametro (il numero di vicini)\n",
        "\n",
        "# prima parte: dobbiamo fare in modo che il metodo impari dalle informazioni a disposizione\n",
        "# NB: notare che il metodo utilizza sia X_train che y_train, perché deve capire se sta predicendo correttamente\n",
        "neigh.fit(X_train, y_train) # \"alleniamo\" il metodo con i dati del training set\n",
        "\n",
        "# seconda parte: vediamo se il metodo ha imparato bene facendogli prevedere i risultati \n",
        "# NB: notare che c'è solo X perché le y devono essere previste dal metodo\n",
        "predict = neigh.predict(X_test) # proviamo a fare una previsione sui dati del test set\n",
        "\n",
        "# visualizziamo il risultato (solo i primi dieci pazienti)\n",
        "print(f'dati predetti dal metodo =                {predict[:10]}') # dati predetti dal metodo\n",
        "print(f'dati reali presenti nel dataset di test = {y_test[:10]}') # dati effettivi presenti nel test set"
      ],
      "metadata": {
        "colab": {
          "base_uri": "https://localhost:8080/"
        },
        "id": "7JwcwR4IVp4R",
        "outputId": "baf91ce1-2adb-482b-b3d2-c4e64d35f98e"
      },
      "execution_count": null,
      "outputs": [
        {
          "output_type": "stream",
          "name": "stdout",
          "text": [
            "dati predetti dal metodo =                [5. 5. 2. 2. 1. 5. 5. 3. 0. 5.]\n",
            "dati reali presenti nel dataset di test = [5. 5. 5. 2. 1. 5. 5. 3. 0. 5.]\n"
          ]
        }
      ]
    },
    {
      "cell_type": "code",
      "source": [
        "# valutiamo il nostro metodo:\n",
        "\n",
        "# visualizziamo la confusion matrix\n",
        "from mlxtend.plotting import plot_confusion_matrix\n",
        "from matplotlib import pyplot as plt\n",
        "from sklearn.metrics import confusion_matrix, classification_report\n",
        "\n",
        "plot_confusion_matrix(confusion_matrix(y_test, predict), cmap=plt.cm.Dark2)\n",
        "plt.show()"
      ],
      "metadata": {
        "colab": {
          "base_uri": "https://localhost:8080/",
          "height": 279
        },
        "id": "xPbOyAP0Vpxp",
        "outputId": "0395a09f-a171-4b75-9e9f-7c04e94c86ec"
      },
      "execution_count": null,
      "outputs": [
        {
          "output_type": "display_data",
          "data": {
            "text/plain": [
              "<Figure size 432x288 with 1 Axes>"
            ],
            "image/png": "[encoded data removed]"
          },
          "metadata": {
            "needs_background": "light"
          }
        }
      ]
    },
    {
      "cell_type": "code",
      "source": [
        "print(classification_report(y_test, predict))"
      ],
      "metadata": {
        "colab": {
          "base_uri": "https://localhost:8080/"
        },
        "id": "PL51Y-8TVpkj",
        "outputId": "62b62d8d-b887-40c0-d7be-5e17287ab6b7"
      },
      "execution_count": null,
      "outputs": [
        {
          "output_type": "stream",
          "name": "stdout",
          "text": [
            "              precision    recall  f1-score   support\n",
            "\n",
            "         0.0       0.67      0.89      0.76         9\n",
            "         1.0       0.80      0.89      0.84         9\n",
            "         2.0       0.70      0.78      0.74         9\n",
            "         3.0       1.00      0.56      0.71         9\n",
            "         4.0       0.85      0.85      0.85        13\n",
            "         5.0       0.88      0.86      0.87        50\n",
            "\n",
            "    accuracy                           0.83        99\n",
            "   macro avg       0.82      0.80      0.79        99\n",
            "weighted avg       0.84      0.83      0.83        99\n",
            "\n"
          ]
        }
      ]
    },
    {
      "cell_type": "code",
      "source": [
        "input = [[1.58748169850998,0.00546117248979446,-1.37370216119175,2.16798060689537,-11.6280417992599,11.4742541860579,-7.9980890019126,5.75985089368138,-0.733238227803793,-3.07585758755774,3.09265899141867,-1.52261836853813]]\n",
        "predictInput = neigh.predict(input)\n",
        "predictInput"
      ],
      "metadata": {
        "colab": {
          "base_uri": "https://localhost:8080/"
        },
        "id": "4CYDiUE-WN9-",
        "outputId": "a896b841-f72e-47b5-8970-8faa35cb1e0e"
      },
      "execution_count": null,
      "outputs": [
        {
          "output_type": "execute_result",
          "data": {
            "text/plain": [
              "array([1.])"
            ]
          },
          "metadata": {},
          "execution_count": 314
        }
      ]
    },
    {
      "cell_type": "code",
      "source": [
        "# importiamo il metodo che vogliamo utilizzara (tra i tanti disponibili...)\n",
        "from sklearn import tree\n",
        "\n",
        "# impostiamo i parametri del metodo\n",
        "# https://scikit-learn.org/stable/modules/generated/sklearn.tree.DecisionTreeClassifier.html\n",
        "tree_clf = tree.DecisionTreeClassifier(criterion=\"gini\", # criteri per stabilire come splittare\n",
        "                                       max_depth=4, # profondità dell'albero per evitare l'overfitting\n",
        "                                       min_samples_split=30, # dimensione minima del sottogruppo a cui fermarsi (no more split)\n",
        "                                       max_leaf_nodes=6, # numero dei nodi foglia\n",
        "                                       min_samples_leaf=4 # numero di campioni per essere una foglia\n",
        "                                      )\n",
        "\n",
        "# prima parte: dobbiamo fare in modo che il metodo impari dalle informazioni a disposizione\n",
        "tree_clf.fit(X_train,y_train)\n",
        "\n",
        "# seconda parte: vediamo se il metodo ha imparato bene facendogli prevedere i risultati \n",
        "predict = tree_clf.predict(X_test)\n",
        "\n",
        "# visualizziamo il risultato (solo i primi dieci pazienti)\n",
        "print(f'dati predetti dal metodo =                {predict[:10]}') # dati predetti dal metodo\n",
        "print(f'dati reali presenti nel dataset di test = {y_test[:10]}') # dati effettivi presenti nel test set"
      ],
      "metadata": {
        "colab": {
          "base_uri": "https://localhost:8080/"
        },
        "id": "b8FJXFXYWN7X",
        "outputId": "2191d8ac-dd7a-494d-ea20-368c19735e93"
      },
      "execution_count": null,
      "outputs": [
        {
          "output_type": "stream",
          "name": "stdout",
          "text": [
            "dati predetti dal metodo =                [5. 2. 5. 2. 1. 5. 5. 2. 0. 5.]\n",
            "dati reali presenti nel dataset di test = [5. 5. 5. 2. 1. 5. 5. 3. 0. 5.]\n"
          ]
        }
      ]
    },
    {
      "cell_type": "code",
      "source": [
        "#plots IMPORTS\n",
        "from mlxtend.plotting import plot_confusion_matrix\n",
        "from matplotlib import pyplot as plt\n",
        "from sklearn.metrics import confusion_matrix, classification_report\n",
        "\n",
        "plot_confusion_matrix(confusion_matrix(y_test, predict))\n",
        "plt.show()"
      ],
      "metadata": {
        "colab": {
          "base_uri": "https://localhost:8080/",
          "height": 279
        },
        "id": "dtTjsbAmWN4y",
        "outputId": "a591dd10-90ed-4d35-82e2-c4d18f00cf33"
      },
      "execution_count": null,
      "outputs": [
        {
          "output_type": "display_data",
          "data": {
            "text/plain": [
              "<Figure size 432x288 with 1 Axes>"
            ],
            "image/png": "[encoded data removed]"
          },
          "metadata": {
            "needs_background": "light"
          }
        }
      ]
    },
    {
      "cell_type": "code",
      "source": [
        "print(classification_report(y_test, predict))"
      ],
      "metadata": {
        "colab": {
          "base_uri": "https://localhost:8080/"
        },
        "id": "yLNYxUQpWN0d",
        "outputId": "1eda6372-f687-4f5e-9d63-a61dec1774fb"
      },
      "execution_count": null,
      "outputs": [
        {
          "output_type": "stream",
          "name": "stdout",
          "text": [
            "              precision    recall  f1-score   support\n",
            "\n",
            "         0.0       0.50      0.67      0.57         9\n",
            "         1.0       0.40      0.22      0.29         9\n",
            "         2.0       0.27      0.67      0.39         9\n",
            "         3.0       0.00      0.00      0.00         9\n",
            "         4.0       0.00      0.00      0.00        13\n",
            "         5.0       0.72      0.86      0.78        50\n",
            "\n",
            "    accuracy                           0.58        99\n",
            "   macro avg       0.31      0.40      0.34        99\n",
            "weighted avg       0.47      0.58      0.51        99\n",
            "\n"
          ]
        },
        {
          "output_type": "stream",
          "name": "stderr",
          "text": [
            "/usr/local/lib/python3.9/dist-packages/sklearn/metrics/_classification.py:1344: UndefinedMetricWarning: Precision and F-score are ill-defined and being set to 0.0 in labels with no predicted samples. Use `zero_division` parameter to control this behavior.\n",
            "  _warn_prf(average, modifier, msg_start, len(result))\n",
            "/usr/local/lib/python3.9/dist-packages/sklearn/metrics/_classification.py:1344: UndefinedMetricWarning: Precision and F-score are ill-defined and being set to 0.0 in labels with no predicted samples. Use `zero_division` parameter to control this behavior.\n",
            "  _warn_prf(average, modifier, msg_start, len(result))\n",
            "/usr/local/lib/python3.9/dist-packages/sklearn/metrics/_classification.py:1344: UndefinedMetricWarning: Precision and F-score are ill-defined and being set to 0.0 in labels with no predicted samples. Use `zero_division` parameter to control this behavior.\n",
            "  _warn_prf(average, modifier, msg_start, len(result))\n"
          ]
        }
      ]
    },
    {
      "cell_type": "code",
      "source": [
        "input = [[1.58748169850998,0.00546117248979446,-1.37370216119175,2.16798060689537,-11.6280417992599,11.4742541860579,-7.9980890019126,5.75985089368138,-0.733238227803793,-3.07585758755774,3.09265899141867,-1.52261836853813]]\n",
        "predictInput = tree_clf.predict(input)\n",
        "predictInput"
      ],
      "metadata": {
        "colab": {
          "base_uri": "https://localhost:8080/"
        },
        "id": "GgUbkHbYWwyk",
        "outputId": "4263a0a6-e151-4d8d-be84-697777901d97"
      },
      "execution_count": null,
      "outputs": [
        {
          "output_type": "execute_result",
          "data": {
            "text/plain": [
              "array([5.])"
            ]
          },
          "metadata": {},
          "execution_count": 318
        }
      ]
    },
    {
      "cell_type": "code",
      "source": [
        "#save the feature list into a vector (sono i nomi delle colonne del dataset)\n",
        "features=list(df.columns.values)\n",
        "\n",
        "import graphviz\n",
        "dot_data = tree.export_graphviz(tree_clf, out_file=None, \n",
        "                     feature_names=features[0:-1],  \n",
        "                     class_names=['0','1', '2', '3', '4', '5'],  \n",
        "                     filled=True, rounded=True,  \n",
        "                     special_characters=True)  \n",
        "graph = graphviz.Source(dot_data)\n",
        "graph.render('diabetes')\n",
        "graph"
      ],
      "metadata": {
        "colab": {
          "base_uri": "https://localhost:8080/",
          "height": 757
        },
        "id": "2tQBlbT8Wwrp",
        "outputId": "0fc70167-925d-4f73-c7f7-e7bbc3c5ebdb"
      },
      "execution_count": null,
      "outputs": [
        {
          "output_type": "execute_result",
          "data": {
            "text/plain": [
              "<graphviz.files.Source at 0x7fe9cf17e5e0>"
            ],
            "image/svg+xml": "<?xml version=\"1.0\" encoding=\"UTF-8\" standalone=\"no\"?>\n<!DOCTYPE svg PUBLIC \"-//W3C//DTD SVG 1.1//EN\"\n \"http://www.w3.org/Graphics/SVG/1.1/DTD/svg11.dtd\">\n<!-- Generated by graphviz version 2.43.0 (0)\n -->\n<!-- Title: Tree Pages: 1 -->\n<svg width=\"733pt\" height=\"552pt\"\n viewBox=\"0.00 0.00 732.50 552.00\" xmlns=\"http://www.w3.org/2000/svg\" xmlns:xlink=\"http://www.w3.org/1999/xlink\">\n<g id=\"graph0\" class=\"graph\" transform=\"scale(1 1) rotate(0) translate(4 548)\">\n<title>Tree</title>\n<polygon fill=\"white\" stroke=\"transparent\" points=\"-4,4 -4,-548 728.5,-548 728.5,4 -4,4\"/>\n<!-- 0 -->\n<g id=\"node1\" class=\"node\">\n<title>0</title>\n<path fill=\"#f4acd6\" stroke=\"black\" d=\"M461.5,-544C461.5,-544 278.5,-544 278.5,-544 272.5,-544 266.5,-538 266.5,-532 266.5,-532 266.5,-473 266.5,-473 266.5,-467 272.5,-461 278.5,-461 278.5,-461 461.5,-461 461.5,-461 467.5,-461 473.5,-467 473.5,-473 473.5,-473 473.5,-532 473.5,-532 473.5,-538 467.5,-544 461.5,-544\"/>\n<text text-anchor=\"start\" x=\"335\" y=\"-528.8\" font-family=\"Helvetica,sans-Serif\" font-size=\"14.00\">X9 ≤ &#45;7.356</text>\n<text text-anchor=\"start\" x=\"334.5\" y=\"-513.8\" font-family=\"Helvetica,sans-Serif\" font-size=\"14.00\">gini = 0.698</text>\n<text text-anchor=\"start\" x=\"325\" y=\"-498.8\" font-family=\"Helvetica,sans-Serif\" font-size=\"14.00\">samples = 230</text>\n<text text-anchor=\"start\" x=\"274.5\" y=\"-483.8\" font-family=\"Helvetica,sans-Serif\" font-size=\"14.00\">value = [20, 21, 21, 21, 32, 115]</text>\n<text text-anchor=\"start\" x=\"342.5\" y=\"-468.8\" font-family=\"Helvetica,sans-Serif\" font-size=\"14.00\">class = 5</text>\n</g>\n<!-- 1 -->\n<g id=\"node2\" class=\"node\">\n<title>1</title>\n<path fill=\"#f1bb94\" stroke=\"black\" d=\"M340,-417.5C340,-417.5 202,-417.5 202,-417.5 196,-417.5 190,-411.5 190,-405.5 190,-405.5 190,-361.5 190,-361.5 190,-355.5 196,-349.5 202,-349.5 202,-349.5 340,-349.5 340,-349.5 346,-349.5 352,-355.5 352,-361.5 352,-361.5 352,-405.5 352,-405.5 352,-411.5 346,-417.5 340,-417.5\"/>\n<text text-anchor=\"start\" x=\"235.5\" y=\"-402.3\" font-family=\"Helvetica,sans-Serif\" font-size=\"14.00\">gini = 0.432</text>\n<text text-anchor=\"start\" x=\"230\" y=\"-387.3\" font-family=\"Helvetica,sans-Serif\" font-size=\"14.00\">samples = 19</text>\n<text text-anchor=\"start\" x=\"198\" y=\"-372.3\" font-family=\"Helvetica,sans-Serif\" font-size=\"14.00\">value = [13, 0, 0, 0, 6, 0]</text>\n<text text-anchor=\"start\" x=\"243.5\" y=\"-357.3\" font-family=\"Helvetica,sans-Serif\" font-size=\"14.00\">class = 0</text>\n</g>\n<!-- 0&#45;&gt;1 -->\n<g id=\"edge1\" class=\"edge\">\n<title>0&#45;&gt;1</title>\n<path fill=\"none\" stroke=\"black\" d=\"M335.65,-460.91C325.94,-449.43 315.37,-436.94 305.64,-425.44\"/>\n<polygon fill=\"black\" stroke=\"black\" points=\"308.2,-423.04 299.06,-417.67 302.85,-427.56 308.2,-423.04\"/>\n<text text-anchor=\"middle\" x=\"296.99\" y=\"-438.88\" font-family=\"Helvetica,sans-Serif\" font-size=\"14.00\">True</text>\n</g>\n<!-- 2 -->\n<g id=\"node3\" class=\"node\">\n<title>2</title>\n<path fill=\"#f2a0d0\" stroke=\"black\" d=\"M558,-425C558,-425 382,-425 382,-425 376,-425 370,-419 370,-413 370,-413 370,-354 370,-354 370,-348 376,-342 382,-342 382,-342 558,-342 558,-342 564,-342 570,-348 570,-354 570,-354 570,-413 570,-413 570,-419 564,-425 558,-425\"/>\n<text text-anchor=\"start\" x=\"431\" y=\"-409.8\" font-family=\"Helvetica,sans-Serif\" font-size=\"14.00\">X11 ≤ &#45;2.521</text>\n<text text-anchor=\"start\" x=\"434.5\" y=\"-394.8\" font-family=\"Helvetica,sans-Serif\" font-size=\"14.00\">gini = 0.657</text>\n<text text-anchor=\"start\" x=\"425\" y=\"-379.8\" font-family=\"Helvetica,sans-Serif\" font-size=\"14.00\">samples = 211</text>\n<text text-anchor=\"start\" x=\"378\" y=\"-364.8\" font-family=\"Helvetica,sans-Serif\" font-size=\"14.00\">value = [7, 21, 21, 21, 26, 115]</text>\n<text text-anchor=\"start\" x=\"442.5\" y=\"-349.8\" font-family=\"Helvetica,sans-Serif\" font-size=\"14.00\">class = 5</text>\n</g>\n<!-- 0&#45;&gt;2 -->\n<g id=\"edge2\" class=\"edge\">\n<title>0&#45;&gt;2</title>\n<path fill=\"none\" stroke=\"black\" d=\"M404.69,-460.91C412.45,-451.83 420.75,-442.12 428.74,-432.77\"/>\n<polygon fill=\"black\" stroke=\"black\" points=\"431.53,-434.9 435.37,-425.02 426.21,-430.35 431.53,-434.9\"/>\n<text text-anchor=\"middle\" x=\"437.32\" y=\"-446.24\" font-family=\"Helvetica,sans-Serif\" font-size=\"14.00\">False</text>\n</g>\n<!-- 3 -->\n<g id=\"node4\" class=\"node\">\n<title>3</title>\n<path fill=\"#f7c2e1\" stroke=\"black\" d=\"M457,-306C457,-306 289,-306 289,-306 283,-306 277,-300 277,-294 277,-294 277,-235 277,-235 277,-229 283,-223 289,-223 289,-223 457,-223 457,-223 463,-223 469,-229 469,-235 469,-235 469,-294 469,-294 469,-300 463,-306 457,-306\"/>\n<text text-anchor=\"start\" x=\"320.5\" y=\"-290.8\" font-family=\"Helvetica,sans-Serif\" font-size=\"14.00\">language ≤ 7.641</text>\n<text text-anchor=\"start\" x=\"337.5\" y=\"-275.8\" font-family=\"Helvetica,sans-Serif\" font-size=\"14.00\">gini = 0.745</text>\n<text text-anchor=\"start\" x=\"328\" y=\"-260.8\" font-family=\"Helvetica,sans-Serif\" font-size=\"14.00\">samples = 155</text>\n<text text-anchor=\"start\" x=\"285\" y=\"-245.8\" font-family=\"Helvetica,sans-Serif\" font-size=\"14.00\">value = [7, 20, 20, 16, 26, 66]</text>\n<text text-anchor=\"start\" x=\"345.5\" y=\"-230.8\" font-family=\"Helvetica,sans-Serif\" font-size=\"14.00\">class = 5</text>\n</g>\n<!-- 2&#45;&gt;3 -->\n<g id=\"edge3\" class=\"edge\">\n<title>2&#45;&gt;3</title>\n<path fill=\"none\" stroke=\"black\" d=\"M436.35,-341.91C428.82,-332.83 420.77,-323.12 413.02,-313.77\"/>\n<polygon fill=\"black\" stroke=\"black\" points=\"415.67,-311.49 406.59,-306.02 410.28,-315.95 415.67,-311.49\"/>\n</g>\n<!-- 4 -->\n<g id=\"node11\" class=\"node\">\n<title>4</title>\n<path fill=\"#e954aa\" stroke=\"black\" d=\"M637,-298.5C637,-298.5 499,-298.5 499,-298.5 493,-298.5 487,-292.5 487,-286.5 487,-286.5 487,-242.5 487,-242.5 487,-236.5 493,-230.5 499,-230.5 499,-230.5 637,-230.5 637,-230.5 643,-230.5 649,-236.5 649,-242.5 649,-242.5 649,-286.5 649,-286.5 649,-292.5 643,-298.5 637,-298.5\"/>\n<text text-anchor=\"start\" x=\"532.5\" y=\"-283.3\" font-family=\"Helvetica,sans-Serif\" font-size=\"14.00\">gini = 0.226</text>\n<text text-anchor=\"start\" x=\"527\" y=\"-268.3\" font-family=\"Helvetica,sans-Serif\" font-size=\"14.00\">samples = 56</text>\n<text text-anchor=\"start\" x=\"495\" y=\"-253.3\" font-family=\"Helvetica,sans-Serif\" font-size=\"14.00\">value = [0, 1, 1, 5, 0, 49]</text>\n<text text-anchor=\"start\" x=\"540.5\" y=\"-238.3\" font-family=\"Helvetica,sans-Serif\" font-size=\"14.00\">class = 5</text>\n</g>\n<!-- 2&#45;&gt;4 -->\n<g id=\"edge10\" class=\"edge\">\n<title>2&#45;&gt;4</title>\n<path fill=\"none\" stroke=\"black\" d=\"M504,-341.91C513.61,-330.43 524.08,-317.94 533.71,-306.44\"/>\n<polygon fill=\"black\" stroke=\"black\" points=\"536.48,-308.58 540.22,-298.67 531.11,-304.09 536.48,-308.58\"/>\n</g>\n<!-- 5 -->\n<g id=\"node5\" class=\"node\">\n<title>5</title>\n<path fill=\"#fceaf5\" stroke=\"black\" d=\"M358,-187C358,-187 190,-187 190,-187 184,-187 178,-181 178,-175 178,-175 178,-116 178,-116 178,-110 184,-104 190,-104 190,-104 358,-104 358,-104 364,-104 370,-110 370,-116 370,-116 370,-175 370,-175 370,-181 364,-187 358,-187\"/>\n<text text-anchor=\"start\" x=\"245\" y=\"-171.8\" font-family=\"Helvetica,sans-Serif\" font-size=\"14.00\">X3 ≤ 7.19</text>\n<text text-anchor=\"start\" x=\"238.5\" y=\"-156.8\" font-family=\"Helvetica,sans-Serif\" font-size=\"14.00\">gini = 0.785</text>\n<text text-anchor=\"start\" x=\"229\" y=\"-141.8\" font-family=\"Helvetica,sans-Serif\" font-size=\"14.00\">samples = 111</text>\n<text text-anchor=\"start\" x=\"186\" y=\"-126.8\" font-family=\"Helvetica,sans-Serif\" font-size=\"14.00\">value = [5, 10, 20, 15, 26, 35]</text>\n<text text-anchor=\"start\" x=\"246.5\" y=\"-111.8\" font-family=\"Helvetica,sans-Serif\" font-size=\"14.00\">class = 5</text>\n</g>\n<!-- 3&#45;&gt;5 -->\n<g id=\"edge4\" class=\"edge\">\n<title>3&#45;&gt;5</title>\n<path fill=\"none\" stroke=\"black\" d=\"M338.65,-222.91C330.97,-213.83 322.76,-204.12 314.84,-194.77\"/>\n<polygon fill=\"black\" stroke=\"black\" points=\"317.42,-192.39 308.29,-187.02 312.07,-196.92 317.42,-192.39\"/>\n</g>\n<!-- 6 -->\n<g id=\"node8\" class=\"node\">\n<title>6</title>\n<path fill=\"#ef85c2\" stroke=\"black\" d=\"M546,-187C546,-187 400,-187 400,-187 394,-187 388,-181 388,-175 388,-175 388,-116 388,-116 388,-110 394,-104 400,-104 400,-104 546,-104 546,-104 552,-104 558,-110 558,-116 558,-116 558,-175 558,-175 558,-181 552,-187 546,-187\"/>\n<text text-anchor=\"start\" x=\"440\" y=\"-171.8\" font-family=\"Helvetica,sans-Serif\" font-size=\"14.00\">X7 ≤ 5.494</text>\n<text text-anchor=\"start\" x=\"437.5\" y=\"-156.8\" font-family=\"Helvetica,sans-Serif\" font-size=\"14.00\">gini = 0.449</text>\n<text text-anchor=\"start\" x=\"432\" y=\"-141.8\" font-family=\"Helvetica,sans-Serif\" font-size=\"14.00\">samples = 44</text>\n<text text-anchor=\"start\" x=\"396\" y=\"-126.8\" font-family=\"Helvetica,sans-Serif\" font-size=\"14.00\">value = [2, 10, 0, 1, 0, 31]</text>\n<text text-anchor=\"start\" x=\"445.5\" y=\"-111.8\" font-family=\"Helvetica,sans-Serif\" font-size=\"14.00\">class = 5</text>\n</g>\n<!-- 3&#45;&gt;6 -->\n<g id=\"edge7\" class=\"edge\">\n<title>3&#45;&gt;6</title>\n<path fill=\"none\" stroke=\"black\" d=\"M407.69,-222.91C415.45,-213.83 423.75,-204.12 431.74,-194.77\"/>\n<polygon fill=\"black\" stroke=\"black\" points=\"434.53,-196.9 438.37,-187.02 429.21,-192.35 434.53,-196.9\"/>\n</g>\n<!-- 9 -->\n<g id=\"node6\" class=\"node\">\n<title>9</title>\n<path fill=\"#d5fae4\" stroke=\"black\" d=\"M158,-68C158,-68 12,-68 12,-68 6,-68 0,-62 0,-56 0,-56 0,-12 0,-12 0,-6 6,0 12,0 12,0 158,0 158,0 164,0 170,-6 170,-12 170,-12 170,-56 170,-56 170,-62 164,-68 158,-68\"/>\n<text text-anchor=\"start\" x=\"49.5\" y=\"-52.8\" font-family=\"Helvetica,sans-Serif\" font-size=\"14.00\">gini = 0.747</text>\n<text text-anchor=\"start\" x=\"44\" y=\"-37.8\" font-family=\"Helvetica,sans-Serif\" font-size=\"14.00\">samples = 49</text>\n<text text-anchor=\"start\" x=\"8\" y=\"-22.8\" font-family=\"Helvetica,sans-Serif\" font-size=\"14.00\">value = [0, 8, 19, 5, 6, 11]</text>\n<text text-anchor=\"start\" x=\"57.5\" y=\"-7.8\" font-family=\"Helvetica,sans-Serif\" font-size=\"14.00\">class = 2</text>\n</g>\n<!-- 5&#45;&gt;9 -->\n<g id=\"edge5\" class=\"edge\">\n<title>5&#45;&gt;9</title>\n<path fill=\"none\" stroke=\"black\" d=\"M203.89,-103.88C186.54,-93.83 168,-83.09 150.86,-73.16\"/>\n<polygon fill=\"black\" stroke=\"black\" points=\"152.44,-70.03 142.03,-68.04 148.93,-76.08 152.44,-70.03\"/>\n</g>\n<!-- 10 -->\n<g id=\"node7\" class=\"node\">\n<title>10</title>\n<path fill=\"#fdecf6\" stroke=\"black\" d=\"M353.5,-68C353.5,-68 200.5,-68 200.5,-68 194.5,-68 188.5,-62 188.5,-56 188.5,-56 188.5,-12 188.5,-12 188.5,-6 194.5,0 200.5,0 200.5,0 353.5,0 353.5,0 359.5,0 365.5,-6 365.5,-12 365.5,-12 365.5,-56 365.5,-56 365.5,-62 359.5,-68 353.5,-68\"/>\n<text text-anchor=\"start\" x=\"241.5\" y=\"-52.8\" font-family=\"Helvetica,sans-Serif\" font-size=\"14.00\">gini = 0.712</text>\n<text text-anchor=\"start\" x=\"236\" y=\"-37.8\" font-family=\"Helvetica,sans-Serif\" font-size=\"14.00\">samples = 62</text>\n<text text-anchor=\"start\" x=\"196.5\" y=\"-22.8\" font-family=\"Helvetica,sans-Serif\" font-size=\"14.00\">value = [5, 2, 1, 10, 20, 24]</text>\n<text text-anchor=\"start\" x=\"249.5\" y=\"-7.8\" font-family=\"Helvetica,sans-Serif\" font-size=\"14.00\">class = 5</text>\n</g>\n<!-- 5&#45;&gt;10 -->\n<g id=\"edge6\" class=\"edge\">\n<title>5&#45;&gt;10</title>\n<path fill=\"none\" stroke=\"black\" d=\"M275.12,-103.73C275.34,-95.52 275.58,-86.86 275.81,-78.56\"/>\n<polygon fill=\"black\" stroke=\"black\" points=\"279.31,-78.39 276.09,-68.3 272.32,-78.2 279.31,-78.39\"/>\n</g>\n<!-- 7 -->\n<g id=\"node9\" class=\"node\">\n<title>7</title>\n<path fill=\"#e748a4\" stroke=\"black\" d=\"M539,-68C539,-68 401,-68 401,-68 395,-68 389,-62 389,-56 389,-56 389,-12 389,-12 389,-6 395,0 401,0 401,0 539,0 539,0 545,0 551,-6 551,-12 551,-12 551,-56 551,-56 551,-62 545,-68 539,-68\"/>\n<text text-anchor=\"start\" x=\"434.5\" y=\"-52.8\" font-family=\"Helvetica,sans-Serif\" font-size=\"14.00\">gini = 0.135</text>\n<text text-anchor=\"start\" x=\"429\" y=\"-37.8\" font-family=\"Helvetica,sans-Serif\" font-size=\"14.00\">samples = 28</text>\n<text text-anchor=\"start\" x=\"397\" y=\"-22.8\" font-family=\"Helvetica,sans-Serif\" font-size=\"14.00\">value = [0, 1, 0, 1, 0, 26]</text>\n<text text-anchor=\"start\" x=\"442.5\" y=\"-7.8\" font-family=\"Helvetica,sans-Serif\" font-size=\"14.00\">class = 5</text>\n</g>\n<!-- 6&#45;&gt;7 -->\n<g id=\"edge8\" class=\"edge\">\n<title>6&#45;&gt;7</title>\n<path fill=\"none\" stroke=\"black\" d=\"M471.88,-103.73C471.66,-95.52 471.42,-86.86 471.19,-78.56\"/>\n<polygon fill=\"black\" stroke=\"black\" points=\"474.68,-78.2 470.91,-68.3 467.69,-78.39 474.68,-78.2\"/>\n</g>\n<!-- 8 -->\n<g id=\"node10\" class=\"node\">\n<title>8</title>\n<path fill=\"#dbf6b7\" stroke=\"black\" d=\"M712.5,-68C712.5,-68 581.5,-68 581.5,-68 575.5,-68 569.5,-62 569.5,-56 569.5,-56 569.5,-12 569.5,-12 569.5,-6 575.5,0 581.5,0 581.5,0 712.5,0 712.5,0 718.5,0 724.5,-6 724.5,-12 724.5,-12 724.5,-56 724.5,-56 724.5,-62 718.5,-68 712.5,-68\"/>\n<text text-anchor=\"start\" x=\"615\" y=\"-52.8\" font-family=\"Helvetica,sans-Serif\" font-size=\"14.00\">gini = 0.57</text>\n<text text-anchor=\"start\" x=\"606\" y=\"-37.8\" font-family=\"Helvetica,sans-Serif\" font-size=\"14.00\">samples = 16</text>\n<text text-anchor=\"start\" x=\"577.5\" y=\"-22.8\" font-family=\"Helvetica,sans-Serif\" font-size=\"14.00\">value = [2, 9, 0, 0, 0, 5]</text>\n<text text-anchor=\"start\" x=\"619.5\" y=\"-7.8\" font-family=\"Helvetica,sans-Serif\" font-size=\"14.00\">class = 1</text>\n</g>\n<!-- 6&#45;&gt;8 -->\n<g id=\"edge9\" class=\"edge\">\n<title>6&#45;&gt;8</title>\n<path fill=\"none\" stroke=\"black\" d=\"M537.79,-103.73C553.53,-93.82 570.3,-83.27 585.86,-73.48\"/>\n<polygon fill=\"black\" stroke=\"black\" points=\"587.76,-76.41 594.36,-68.13 584.03,-70.49 587.76,-76.41\"/>\n</g>\n</g>\n</svg>\n"
          },
          "metadata": {},
          "execution_count": 319
        }
      ]
    },
    {
      "cell_type": "markdown",
      "source": [
        "mettendo a confronto i due classification report e i due confusion matrix, il metodo migliroe risulta essere il Knn"
      ],
      "metadata": {
        "id": "tltmv7SbXAqX"
      }
    }
  ]
}