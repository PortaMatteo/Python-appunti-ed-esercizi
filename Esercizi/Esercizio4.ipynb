{
  "nbformat": 4,
  "nbformat_minor": 0,
  "metadata": {
    "colab": {
      "name": "Esercizio4.ipynb",
      "provenance": []
    },
    "kernelspec": {
      "name": "python3",
      "display_name": "Python 3"
    },
    "language_info": {
      "name": "python"
    }
  },
  "cells": [
    {
      "cell_type": "markdown",
      "metadata": {
        "id": "m_e_y0MwrvOZ"
      },
      "source": [
        "1. scrivere una funzione chiamata media che dati due numeri restituisca la media. Utilizzare poi la funzione in un programma che acquisisca dall'utente due numeri e calcoli la media"
      ]
    },
    {
      "cell_type": "code",
      "metadata": {
        "colab": {
          "base_uri": "https://localhost:8080/"
        },
        "id": "dSy8l70_rzxh",
        "outputId": "976c6b47-01d0-4dd2-9d7e-7dab13b7b69a"
      },
      "source": [
        "def media(x,y):\n",
        "  \n",
        "   return (x + y)/2\n",
        "\n",
        "media(int(input('Scrivi il primo numero ')),int(input('Scrivi il secondo numero ')))\n"
      ],
      "execution_count": 146,
      "outputs": [
        {
          "name": "stdout",
          "output_type": "stream",
          "text": [
            "Scrivi il primo numero 5\n",
            "Scrivi il secondo numero 6\n"
          ]
        },
        {
          "output_type": "execute_result",
          "data": {
            "text/plain": [
              "5.5"
            ]
          },
          "metadata": {},
          "execution_count": 146
        }
      ]
    },
    {
      "cell_type": "markdown",
      "metadata": {
        "id": "6fiVAbzRvVJy"
      },
      "source": [
        "2. scrivere una funzione chiamata piuCorta che date due liste restituisca la lista con meno elementi. Utilizzare poi la funzione in un programma che acquisisca dall'utente due liste e visualizzi gli elementi della lista più corta."
      ]
    },
    {
      "cell_type": "code",
      "metadata": {
        "colab": {
          "base_uri": "https://localhost:8080/"
        },
        "id": "FtH2o2b8vX6S",
        "outputId": "1f0b0b22-931e-47bc-f6cf-a4b2d7da7c31"
      },
      "source": [
        "def piuCorta(list1,list2):\n",
        "  piuCorta = min(list1,list2)\n",
        "  return piuCorta\n",
        "\n",
        "\n",
        "n = int(input('Inserisci il numero di elementi '))\n",
        "\n",
        "lst = [ int(input('Scrivi il numero ')) for i in range(0,n)]\n",
        "print(lst)\n",
        "\n",
        "n2 = int(input('Inserisci il numero di elementi '))\n",
        "lst2 = [ int(input('Scrivi il numero ')) for i in range(0,n2)]\n",
        "print(lst2)\n",
        "\n",
        "piuCorta(lst,lst2)\n",
        "\n",
        "\n"
      ],
      "execution_count": 145,
      "outputs": [
        {
          "output_type": "stream",
          "name": "stdout",
          "text": [
            "Inserisci il numero di elementi 3\n",
            "Scrivi il numero 1\n",
            "Scrivi il numero 2\n",
            "Scrivi il numero 3\n",
            "[1, 2, 3]\n",
            "Inserisci il numero di elementi 5\n",
            "Scrivi il numero 1\n",
            "Scrivi il numero 2\n",
            "Scrivi il numero 3\n",
            "Scrivi il numero 4\n",
            "Scrivi il numero 5\n",
            "[1, 2, 3, 4, 5]\n"
          ]
        },
        {
          "output_type": "execute_result",
          "data": {
            "text/plain": [
              "[1, 2, 3]"
            ]
          },
          "metadata": {},
          "execution_count": 145
        }
      ]
    },
    {
      "cell_type": "markdown",
      "metadata": {
        "id": "297m9IY_zCyb"
      },
      "source": [
        "3. scrivere una funzione chiamata costruisciLista che dati due numeri interi restituisca la lista formata da tutti i numeri interi compresi tra i due numeri dati. Utilizzare poi la funzione in un programma che acquisisca dall'utente due numeri e visualizzi la lista formata da tutti i numeri interi compresi tra i due numeri dati ma a partire dal più grande fino al più piccolo."
      ]
    },
    {
      "cell_type": "code",
      "metadata": {
        "colab": {
          "base_uri": "https://localhost:8080/"
        },
        "id": "-sJRqsHjzDo8",
        "outputId": "0b2c026c-46ee-4cff-d163-02cadf6d797a"
      },
      "source": [
        "def costruisciLista(x,y):\n",
        "  z = [i  for i in range(x+1,y)]\n",
        "  z.reverse()\n",
        "  return z \n",
        " \n",
        "\n",
        "costruisciLista(int(input('Scrivi il primo numero ')),int(input('Scrivi il secondo numero ')))"
      ],
      "execution_count": 138,
      "outputs": [
        {
          "name": "stdout",
          "output_type": "stream",
          "text": [
            "Scrivi il primo numero 3\n",
            "Scrivi il secondo numero 7\n"
          ]
        },
        {
          "output_type": "execute_result",
          "data": {
            "text/plain": [
              "[6, 5, 4]"
            ]
          },
          "metadata": {},
          "execution_count": 138
        }
      ]
    },
    {
      "cell_type": "markdown",
      "metadata": {
        "id": "oqEzrQ4363XV"
      },
      "source": [
        "4. scrivere una funzione chiamata valoreAssoluto che dato un numero restituisca il suo valore assoluto. Utilizzare poi questa funzione per determinare il valore assoluto degli elementi di una lista inserita dall'utente."
      ]
    },
    {
      "cell_type": "code",
      "metadata": {
        "colab": {
          "base_uri": "https://localhost:8080/"
        },
        "id": "pTvRdbjE_JDE",
        "outputId": "94a7b0a2-7d3f-4b24-9d99-f677d0423ab1"
      },
      "source": [
        "def valoreAssoluto(n):\n",
        "  z = [ abs(int(input('Scrivi il numero '))) for i in range(0,n)]\n",
        "  \n",
        "  return z \n",
        "\n",
        "valoreAssoluto(int(input('Scrivi la lunghezza della lista ')))\n",
        "\n"
      ],
      "execution_count": 18,
      "outputs": [
        {
          "name": "stdout",
          "output_type": "stream",
          "text": [
            "Scrivi la lunghezza della lista 3\n",
            "Scrivi il numero -4\n",
            "Scrivi il numero -2\n",
            "Scrivi il numero 4\n"
          ]
        },
        {
          "output_type": "execute_result",
          "data": {
            "text/plain": [
              "[4, 2, 4]"
            ]
          },
          "metadata": {},
          "execution_count": 18
        }
      ]
    },
    {
      "cell_type": "markdown",
      "metadata": {
        "id": "w0uw7QMTsApT"
      },
      "source": [
        "5. scrivere una funzione chiamata scambia che data una lista scambi il primo elemento con l'ultimo, il secondo con il penultimo e così via. Utilizzare poi la funzione in un programma che acquisisca dall'utente una lista di 10 elementi e li visualizzi scambiati.\n"
      ]
    },
    {
      "cell_type": "code",
      "metadata": {
        "colab": {
          "base_uri": "https://localhost:8080/"
        },
        "id": "1RVyjHTXsF-P",
        "outputId": "a1aa7f72-8af1-456e-96d9-3966ec37824b"
      },
      "source": [
        "def scambia(lst):\n",
        "  lst.reverse()\n",
        "  return lst\n",
        "\n",
        "scambia([ (input('Scrivi elemento ')) for i in range(0,10)])"
      ],
      "execution_count": 137,
      "outputs": [
        {
          "name": "stdout",
          "output_type": "stream",
          "text": [
            "Scrivi elemento 1\n",
            "Scrivi elemento 2\n",
            "Scrivi elemento 3\n",
            "Scrivi elemento 4\n",
            "Scrivi elemento 5\n",
            "Scrivi elemento 6\n",
            "Scrivi elemento 7\n",
            "Scrivi elemento 8\n",
            "Scrivi elemento 9\n",
            "Scrivi elemento 10\n"
          ]
        },
        {
          "output_type": "execute_result",
          "data": {
            "text/plain": [
              "['10', '9', '8', '7', '6', '5', '4', '3', '2', '1']"
            ]
          },
          "metadata": {},
          "execution_count": 137
        }
      ]
    },
    {
      "cell_type": "markdown",
      "metadata": {
        "id": "C2X8ZmYxwmEL"
      },
      "source": [
        "6. scrivere una funzione lambda che dati due numeri calcoli la loro somma. Utilizzare la funzione in un programma che chieda all'utente due numeri interi e visualizzi la loro somma.\n"
      ]
    },
    {
      "cell_type": "code",
      "metadata": {
        "colab": {
          "base_uri": "https://localhost:8080/"
        },
        "id": "GyuA-wj5woQb",
        "outputId": "44947484-04df-467f-e3e1-eab8c7fb0d58"
      },
      "source": [
        "z = lambda x,y: x + y\n",
        "\n",
        "z(int(input('Scrivi il primo numero ')), int(input('Scrivi il secondo numero ')))"
      ],
      "execution_count": 39,
      "outputs": [
        {
          "name": "stdout",
          "output_type": "stream",
          "text": [
            "Scrivi il primo numero 3\n",
            "Scrivi il secondo numero 6\n"
          ]
        },
        {
          "output_type": "execute_result",
          "data": {
            "text/plain": [
              "9"
            ]
          },
          "metadata": {},
          "execution_count": 39
        }
      ]
    },
    {
      "cell_type": "markdown",
      "metadata": {
        "id": "DYlvnG1bxirW"
      },
      "source": [
        "7. scrivere un programma che utilizzi una lambda function per aumentare di 10 unità tutti gli elementi di una lista di interi inserita dall'utente."
      ]
    },
    {
      "cell_type": "code",
      "metadata": {
        "colab": {
          "base_uri": "https://localhost:8080/"
        },
        "id": "GeedIrH-xmCd",
        "outputId": "447040d1-4202-4dea-d7ae-e066dbc47551"
      },
      "source": [
        "lst = [ int(input('Scrivi il numero ')) for i in range(0,10)]\n",
        "\n",
        "list(map(lambda x: x + 10, lst))\n",
        "\n",
        "\n"
      ],
      "execution_count": 73,
      "outputs": [
        {
          "name": "stdout",
          "output_type": "stream",
          "text": [
            "Scrivi il numero 1\n",
            "Scrivi il numero 2\n",
            "Scrivi il numero 3\n",
            "Scrivi il numero 4\n",
            "Scrivi il numero 5\n",
            "Scrivi il numero 6\n",
            "Scrivi il numero 7\n",
            "Scrivi il numero 8\n",
            "Scrivi il numero 9\n",
            "Scrivi il numero 10\n"
          ]
        },
        {
          "output_type": "execute_result",
          "data": {
            "text/plain": [
              "[11, 12, 13, 14, 15, 16, 17, 18, 19, 20]"
            ]
          },
          "metadata": {},
          "execution_count": 73
        }
      ]
    },
    {
      "cell_type": "markdown",
      "metadata": {
        "id": "3rTryOSX2JVx"
      },
      "source": [
        "8. scrivere una funzione lambda che sostituisca il valore 0 se il parametro è negativo, il valore del parametro se è positivo. Utilizzare poi la funzione in un programma che chieda all'utente i 10 elementi di una lista e visualizzi la lista con il valore 0 al posto dei numeri negativi."
      ]
    },
    {
      "cell_type": "code",
      "metadata": {
        "colab": {
          "base_uri": "https://localhost:8080/"
        },
        "id": "4bCK6weD2NLo",
        "outputId": "eb478932-c6a3-485e-8df8-f30b3fe9dd96"
      },
      "source": [
        "lst = [ int(input('Scrivi il numero ')) for i in range(0,4)]\n",
        "\n",
        "for i in range(0,4):\n",
        "  if lst[i] < 0:\n",
        "    lst[i] = 0\n",
        "print(lst)\n"
      ],
      "execution_count": 136,
      "outputs": [
        {
          "output_type": "stream",
          "name": "stdout",
          "text": [
            "Scrivi il numero -3\n",
            "Scrivi il numero 4\n",
            "Scrivi il numero -35\n",
            "Scrivi il numero 7\n",
            "[0, 4, 0, 7]\n"
          ]
        }
      ]
    },
    {
      "cell_type": "markdown",
      "metadata": {
        "id": "wWC5zb9M5cI5"
      },
      "source": [
        "9. scrivere un programma che calcoli il fattoriale di un numero utilizzando una lambda function. Provare a realizzare una lambda function ricorsiva (per la ricorsione, google it...)"
      ]
    },
    {
      "cell_type": "code",
      "metadata": {
        "colab": {
          "base_uri": "https://localhost:8080/"
        },
        "id": "EN6yKe2W5epP",
        "outputId": "31b278a8-a9fc-4953-bc80-551750842bd0"
      },
      "source": [
        "fattoriale = lambda n: 1 if n == 0 else n * fattoriale(n-1)\n",
        "\n",
        "fattoriale(10)\n"
      ],
      "execution_count": 133,
      "outputs": [
        {
          "output_type": "execute_result",
          "data": {
            "text/plain": [
              "3628800"
            ]
          },
          "metadata": {},
          "execution_count": 133
        }
      ]
    }
  ]
}
