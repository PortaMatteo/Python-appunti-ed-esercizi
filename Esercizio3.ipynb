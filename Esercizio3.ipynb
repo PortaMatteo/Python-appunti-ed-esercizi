{
  "nbformat": 4,
  "nbformat_minor": 0,
  "metadata": {
    "colab": {
      "name": "Untitled3.ipynb",
      "provenance": []
    },
    "kernelspec": {
      "display_name": "Python 3",
      "name": "python3"
    },
    "language_info": {
      "name": "python"
    }
  },
  "cells": [
    {
      "cell_type": "markdown",
      "metadata": {
        "id": "N642sJwe-pZV"
      },
      "source": [
        "1. Scrivere un programma che crei un dizionario contenente i nomi delle regioni e i nomi dei loro\n",
        "capoluoghi. Il nome della regione deve essere il campo chiave. Chiamare il dizionario\n",
        "capoluoghiRegione"
      ]
    },
    {
      "cell_type": "code",
      "metadata": {
        "id": "50Xs4zKr-spm"
      },
      "source": [
        "capoluoghiRegione = {'Lombardia': 'Milano', 'Campania':'Napoli','Lazio':'Roma','Basilicata':'Potenza','Abruzzo':'Aquila','Liguria':'Genova','Marche':'Ancona','Molise':'Campobasso','Piemonte':'Torino','Puglia':'Bari','Sardegna':'Cagliari','Toscana':'Firenze','Veneto':'Venezia', 'Trentino-Alto Adige':'Trento','Umbria':'Perugia','Valle d Aosta': 'Aosta','Emilia-Romagna':'Bologna','Friuli-Venezia Giulia':'Trieste','calabria':'Catanzaro','Sicilia':'Palermo'}"
      ],
      "execution_count": 37,
      "outputs": []
    },
    {
      "cell_type": "markdown",
      "metadata": {
        "id": "eWAZbh6fCLcm"
      },
      "source": [
        "2. Scrivere un programma che visualizzi tutti i nomi delle regioni presenti in capoluoghiRegione"
      ]
    },
    {
      "cell_type": "code",
      "metadata": {
        "colab": {
          "base_uri": "https://localhost:8080/"
        },
        "id": "zOJjQF7dCOIN",
        "outputId": "48039be0-5d2c-4d9f-cfb7-9f9c51d1aaa4"
      },
      "source": [
        "nomeRegioni = { k for k in capoluoghiRegione.keys() }\n",
        "print(nomeRegioni)"
      ],
      "execution_count": 38,
      "outputs": [
        {
          "output_type": "stream",
          "name": "stdout",
          "text": [
            "{'Marche', 'calabria', 'Trentino-Alto Adige', 'Umbria', 'Molise', 'Liguria', 'Valle d Aosta', 'Emilia-Romagna', 'Sicilia', 'Basilicata', 'Abruzzo', 'Campania', 'Friuli-Venezia Giulia', 'Lazio', 'Veneto', 'Piemonte', 'Puglia', 'Toscana', 'Lombardia', 'Sardegna'}\n"
          ]
        }
      ]
    },
    {
      "cell_type": "markdown",
      "metadata": {
        "id": "qM6EsoK1DiVm"
      },
      "source": [
        "3. Scrivere un programma che visualizzi tutti i nomi dei capoluoghi di regione presenti in\n",
        "capoluoghiRegione"
      ]
    },
    {
      "cell_type": "code",
      "metadata": {
        "colab": {
          "base_uri": "https://localhost:8080/"
        },
        "id": "d1RWVzNyDp_c",
        "outputId": "5d662b6d-a92f-4aa0-f226-48033bc8e9be"
      },
      "source": [
        "nomeCapoluoghi =  [ v for v in capoluoghiRegione.values() ]\n",
        "print(nomeCapoluoghi)"
      ],
      "execution_count": 39,
      "outputs": [
        {
          "output_type": "stream",
          "name": "stdout",
          "text": [
            "['Milano', 'Napoli', 'Roma', 'Potenza', 'Aquila', 'Genova', 'Ancona', 'Campobasso', 'Torino', 'Bari', 'Cagliari', 'Firenze', 'Venezia', 'Trento', 'Perugia', 'Aosta', 'Bologna', 'Trieste', 'Catanzaro', 'Palermo']\n"
          ]
        }
      ]
    },
    {
      "cell_type": "markdown",
      "metadata": {
        "id": "TvSs8EoyD7cN"
      },
      "source": [
        "4. Scrivere un programma che acquisisca dall’utente il nome di una regione e fornisca il nome del suo\n",
        "capoluogo."
      ]
    },
    {
      "cell_type": "code",
      "metadata": {
        "colab": {
          "base_uri": "https://localhost:8080/"
        },
        "id": "FFxu0hoND_bF",
        "outputId": "d72ece36-c847-4526-93be-e3ff108c5bf0"
      },
      "source": [
        "nomeRegione = (input('Inserire il nome della regione '))\n",
        "print(capoluoghiRegione[nomeRegione])"
      ],
      "execution_count": 40,
      "outputs": [
        {
          "output_type": "stream",
          "name": "stdout",
          "text": [
            "Inserire il nome della regione Abruzzo\n",
            "Aquila\n"
          ]
        }
      ]
    },
    {
      "cell_type": "markdown",
      "metadata": {
        "id": "GpfvzmeYFMcc"
      },
      "source": [
        "5. Scrivere un programma che acquisisca dall’utente il nome di un capoluogo e fornisca il nome della\n",
        "regione a cui appartiene.\n"
      ]
    },
    {
      "cell_type": "code",
      "metadata": {
        "id": "sYzhr5o1FUAz",
        "colab": {
          "base_uri": "https://localhost:8080/",
          "height": 200
        },
        "outputId": "88b13847-7c70-4033-8dab-077965e1b7a1"
      },
      "source": [
        "nomeCapoluogo = (input('Inserire il nome del capoluogo '))\n",
        "print(capoluoghiRegione[nomeCapoluogo])"
      ],
      "execution_count": 117,
      "outputs": [
        {
          "name": "stdout",
          "output_type": "stream",
          "text": [
            "Inserire il nome del capoluogo Milano\n"
          ]
        },
        {
          "output_type": "error",
          "ename": "KeyError",
          "evalue": "ignored",
          "traceback": [
            "\u001b[0;31m---------------------------------------------------------------------------\u001b[0m",
            "\u001b[0;31mKeyError\u001b[0m                                  Traceback (most recent call last)",
            "\u001b[0;32m<ipython-input-117-8553922347f8>\u001b[0m in \u001b[0;36m<module>\u001b[0;34m()\u001b[0m\n\u001b[1;32m      1\u001b[0m \u001b[0mnomeCapoluogo\u001b[0m \u001b[0;34m=\u001b[0m \u001b[0;34m(\u001b[0m\u001b[0minput\u001b[0m\u001b[0;34m(\u001b[0m\u001b[0;34m'Inserire il nome del capoluogo '\u001b[0m\u001b[0;34m)\u001b[0m\u001b[0;34m)\u001b[0m\u001b[0;34m\u001b[0m\u001b[0;34m\u001b[0m\u001b[0m\n\u001b[0;32m----> 2\u001b[0;31m \u001b[0mprint\u001b[0m\u001b[0;34m(\u001b[0m\u001b[0mcapoluoghiRegione\u001b[0m\u001b[0;34m[\u001b[0m\u001b[0mnomeCapoluogo\u001b[0m\u001b[0;34m]\u001b[0m\u001b[0;34m)\u001b[0m\u001b[0;34m\u001b[0m\u001b[0;34m\u001b[0m\u001b[0m\n\u001b[0m",
            "\u001b[0;31mKeyError\u001b[0m: 'Milano'"
          ]
        }
      ]
    },
    {
      "cell_type": "markdown",
      "metadata": {
        "id": "_ar7_PHLHPyD"
      },
      "source": [
        "6. Scrivere un programma che visualizzi tutte le regioni con i rispettivi capoluoghi"
      ]
    },
    {
      "cell_type": "code",
      "metadata": {
        "colab": {
          "base_uri": "https://localhost:8080/"
        },
        "id": "Ufdm5B1_HWSk",
        "outputId": "5300623c-6b56-4afb-ad78-03d232278e8a"
      },
      "source": [
        "print(capoluoghiRegione)"
      ],
      "execution_count": 71,
      "outputs": [
        {
          "output_type": "stream",
          "name": "stdout",
          "text": [
            "{'Abruzzo': 'L Aquila', 'Basilicata': 'Potenza', 'Calabria': 'Catanzaro', 'Campania': 'Napoli', 'Emilia-Romagna': 'Bologna', 'Friuli-Venezia Giulia': 'Trieste', 'Lazio': 'Roma', 'Liguria': 'Genova', 'Lombardia': 'Milano', 'Marche': 'Ancona', 'Molise': 'Campobasso', 'Piemonte': 'Torino', 'Puglia': 'Bari', 'Sardegna': 'Cagliari', 'Sicilia': 'Palermo', 'Toscana': 'Firenze', 'Trentino-Alto Adige': 'Trento', 'Umbria': 'Perugia', 'Valle d Aosta': 'Aosta', 'Veneto': 'Venezia'}\n"
          ]
        }
      ]
    },
    {
      "cell_type": "markdown",
      "metadata": {
        "id": "zyYZXVlzH0Dr"
      },
      "source": [
        "7. Scrivere un programma che visualizzi tutte le regioni con i rispettivi capoluoghi. Ordinare le regioni\n",
        "in ordine alfabetico"
      ]
    },
    {
      "cell_type": "code",
      "metadata": {
        "colab": {
          "base_uri": "https://localhost:8080/"
        },
        "id": "GuUbmpkHEH63",
        "outputId": "987e4dd3-efc9-423e-af73-ee8b118a530d"
      },
      "source": [
        "for regioni in sorted(capoluoghiRegione):\n",
        "    print(regioni, capoluoghiRegione[regioni])"
      ],
      "execution_count": 91,
      "outputs": [
        {
          "output_type": "stream",
          "name": "stdout",
          "text": [
            "Abruzzo L Aquila\n",
            "Basilicata Potenza\n",
            "Calabria Catanzaro\n",
            "Campania Napoli\n",
            "Emilia-Romagna Bologna\n",
            "Friuli-Venezia Giulia Trieste\n",
            "Lazio Roma\n",
            "Liguria Genova\n",
            "Lombardia Milano\n",
            "Marche Ancona\n",
            "Molise Campobasso\n",
            "Piemonte Torino\n",
            "Puglia Bari\n",
            "Sardegna Cagliari\n",
            "Sicilia Palermo\n",
            "Toscana Firenze\n",
            "Trentino-Alto Adige Trento\n",
            "Umbria Perugia\n",
            "Valle d Aosta Aosta\n",
            "Veneto Venezia\n"
          ]
        }
      ]
    },
    {
      "cell_type": "markdown",
      "metadata": {
        "id": "dlG9V-gOBD2Y"
      },
      "source": [
        "8. Scrivere un programma che visualizzi tutte le regioni con i rispettivi capoluoghi. Ordinare i\n",
        "capoluoghi in ordine alfabetico"
      ]
    },
    {
      "cell_type": "code",
      "metadata": {
        "colab": {
          "base_uri": "https://localhost:8080/",
          "height": 235
        },
        "id": "zxKLbfuvFkbf",
        "outputId": "808ec76a-0340-47e3-e5be-c2fdec2b6739"
      },
      "source": [
        "regioni =  list(capoluoghiRegione.keys())\n",
        "capoluoghi =  list(capoluoghiRegione.values())\n",
        "capoluoghi_sorted = sorted(capoluoghiRegioni.values)\n",
        "regioni_sorted = sorted(regioni)\n",
        "\n",
        "for i in range(len(capoluoghiRegione)):\n",
        "  print(regioni[i],capoluoghi_sorted[i])\n"
      ],
      "execution_count": 110,
      "outputs": [
        {
          "output_type": "error",
          "ename": "NameError",
          "evalue": "ignored",
          "traceback": [
            "\u001b[0;31m---------------------------------------------------------------------------\u001b[0m",
            "\u001b[0;31mNameError\u001b[0m                                 Traceback (most recent call last)",
            "\u001b[0;32m<ipython-input-110-5ff54f0b483a>\u001b[0m in \u001b[0;36m<module>\u001b[0;34m()\u001b[0m\n\u001b[1;32m      1\u001b[0m \u001b[0mregioni\u001b[0m \u001b[0;34m=\u001b[0m  \u001b[0mlist\u001b[0m\u001b[0;34m(\u001b[0m\u001b[0mcapoluoghiRegione\u001b[0m\u001b[0;34m.\u001b[0m\u001b[0mkeys\u001b[0m\u001b[0;34m(\u001b[0m\u001b[0;34m)\u001b[0m\u001b[0;34m)\u001b[0m\u001b[0;34m\u001b[0m\u001b[0;34m\u001b[0m\u001b[0m\n\u001b[1;32m      2\u001b[0m \u001b[0mcapoluoghi\u001b[0m \u001b[0;34m=\u001b[0m  \u001b[0mlist\u001b[0m\u001b[0;34m(\u001b[0m\u001b[0mcapoluoghiRegione\u001b[0m\u001b[0;34m.\u001b[0m\u001b[0mvalues\u001b[0m\u001b[0;34m(\u001b[0m\u001b[0;34m)\u001b[0m\u001b[0;34m)\u001b[0m\u001b[0;34m\u001b[0m\u001b[0;34m\u001b[0m\u001b[0m\n\u001b[0;32m----> 3\u001b[0;31m \u001b[0mcapoluoghi_sorted\u001b[0m \u001b[0;34m=\u001b[0m \u001b[0msorted\u001b[0m\u001b[0;34m(\u001b[0m\u001b[0mcapoluoghiRegioni\u001b[0m\u001b[0;34m.\u001b[0m\u001b[0mvalues\u001b[0m\u001b[0;34m)\u001b[0m\u001b[0;34m\u001b[0m\u001b[0;34m\u001b[0m\u001b[0m\n\u001b[0m\u001b[1;32m      4\u001b[0m \u001b[0mregioni_sorted\u001b[0m \u001b[0;34m=\u001b[0m \u001b[0msorted\u001b[0m\u001b[0;34m(\u001b[0m\u001b[0mregioni\u001b[0m\u001b[0;34m)\u001b[0m\u001b[0;34m\u001b[0m\u001b[0;34m\u001b[0m\u001b[0m\n\u001b[1;32m      5\u001b[0m \u001b[0;34m\u001b[0m\u001b[0m\n",
            "\u001b[0;31mNameError\u001b[0m: name 'capoluoghiRegioni' is not defined"
          ]
        }
      ]
    },
    {
      "cell_type": "markdown",
      "metadata": {
        "id": "hOPoh5Ab5pgO"
      },
      "source": [
        "9. Scrivere un programma che carichi in una lista i nomi delle regioni e in un’altra lista i nomi dei\n",
        "rispettivi capoluoghi. Scrivere poi l’istruzione che permette di costruire il dizionario a partire dalle\n",
        "due liste."
      ]
    },
    {
      "cell_type": "code",
      "metadata": {
        "colab": {
          "base_uri": "https://localhost:8080/"
        },
        "id": "ZYx-GNc6Afn3",
        "outputId": "b0e8c09c-09b7-46c7-e27b-a459919f2977"
      },
      "source": [
        "regioni = ['Lombardia', 'Campania','Lazio','Basilicata','Abruzzo','Liguria','Marche','Molise','Piemonte','Puglia','Sardegna','Toscana','Veneto', 'Trentino-Alto Adige','Umbria','Valle d Aosta','Emilia-Romagna','Friuli-Venezia Giulia','calabria','Sicilia']\n",
        "capoluoghi = [ 'Milano', 'Napoli','Roma','Potenza','Aquila','Genova','Ancona','Campobasso','Torino','Bari','Cagliari','Firenze','Venezia', 'Trento','Perugia', 'Aosta','Bologna','Trieste','Catanzaro','Palermo']\n",
        "capoluoghiRegione = dict((regioni,capoluoghi) for regioni,capoluoghi in zip(regioni,capoluoghi))\n",
        "print(capoluoghiRegione)"
      ],
      "execution_count": 57,
      "outputs": [
        {
          "output_type": "stream",
          "name": "stdout",
          "text": [
            "{'Lombardia': 'Milano', 'Campania': 'Napoli', 'Lazio': 'Roma', 'Basilicata': 'Potenza', 'Abruzzo': 'Aquila', 'Liguria': 'Genova', 'Marche': 'Ancona', 'Molise': 'Campobasso', 'Piemonte': 'Torino', 'Puglia': 'Bari', 'Sardegna': 'Cagliari', 'Toscana': 'Firenze', 'Veneto': 'Venezia', 'Trentino-Alto Adige': 'Trento', 'Umbria': 'Perugia', 'Valle d Aosta': 'Aosta', 'Emilia-Romagna': 'Bologna', 'Friuli-Venezia Giulia': 'Trieste', 'calabria': 'Catanzaro', 'Sicilia': 'Palermo'}\n"
          ]
        }
      ]
    }
  ]
}